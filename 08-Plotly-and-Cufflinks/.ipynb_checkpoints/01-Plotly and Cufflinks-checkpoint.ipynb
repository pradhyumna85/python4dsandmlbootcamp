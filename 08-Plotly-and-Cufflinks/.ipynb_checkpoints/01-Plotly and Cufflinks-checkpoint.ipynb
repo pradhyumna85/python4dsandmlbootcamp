{
 "cells": [
  {
   "cell_type": "markdown",
   "metadata": {},
   "source": [
    "___\n",
    "\n",
    "<a href='http://www.pieriandata.com'> <img src='../Pierian_Data_Logo.png' /></a>\n",
    "___\n",
    "# Plotly and Cufflinks"
   ]
  },
  {
   "cell_type": "markdown",
   "metadata": {},
   "source": [
    "Plotly is a library that allows you to create interactive plots that you can use in dashboards or websites (you can save them as html files or static images).\n",
    "\n",
    "## Installation\n",
    "\n",
    "In order for this all to work, you'll need to install plotly and cufflinks to call plots directly off of a pandas dataframe. These libraries are not currently available through **conda** but are available through **pip**. Install the libraries at your command line/terminal using:\n",
    "\n",
    "    pip install plotly\n",
    "    pip install cufflinks\n",
    "\n",
    "** NOTE: Make sure you only have one installation of Python on your computer when you do this, otherwise the installation may not work. **\n",
    "\n",
    "## Imports and Set-up"
   ]
  },
  {
   "cell_type": "code",
   "execution_count": 1,
   "metadata": {},
   "outputs": [],
   "source": [
    "import pandas as pd\n",
    "import numpy as np\n",
    "%matplotlib inline"
   ]
  },
  {
   "cell_type": "code",
   "execution_count": 2,
   "metadata": {},
   "outputs": [
    {
     "name": "stdout",
     "output_type": "stream",
     "text": [
      "4.7.1\n"
     ]
    }
   ],
   "source": [
    "from plotly import __version__\n",
    "from plotly.offline import download_plotlyjs, init_notebook_mode, plot, iplot\n",
    "\n",
    "print(__version__) # requires version >= 1.9.0"
   ]
  },
  {
   "cell_type": "code",
   "execution_count": 5,
   "metadata": {},
   "outputs": [],
   "source": [
    "import chart_studio.plotly as py"
   ]
  },
  {
   "cell_type": "code",
   "execution_count": 17,
   "metadata": {},
   "outputs": [],
   "source": [
    "import cufflinks as cf"
   ]
  },
  {
   "cell_type": "code",
   "execution_count": 18,
   "metadata": {},
   "outputs": [
    {
     "data": {
      "text/html": [
       "        <script type=\"text/javascript\">\n",
       "        window.PlotlyConfig = {MathJaxConfig: 'local'};\n",
       "        if (window.MathJax) {MathJax.Hub.Config({SVG: {font: \"STIX-Web\"}});}\n",
       "        if (typeof require !== 'undefined') {\n",
       "        require.undef(\"plotly\");\n",
       "        requirejs.config({\n",
       "            paths: {\n",
       "                'plotly': ['https://cdn.plot.ly/plotly-latest.min']\n",
       "            }\n",
       "        });\n",
       "        require(['plotly'], function(Plotly) {\n",
       "            window._Plotly = Plotly;\n",
       "        });\n",
       "        }\n",
       "        </script>\n",
       "        "
      ]
     },
     "metadata": {},
     "output_type": "display_data"
    }
   ],
   "source": [
    "# For Notebooks\n",
    "init_notebook_mode(connected=True)"
   ]
  },
  {
   "cell_type": "code",
   "execution_count": 19,
   "metadata": {},
   "outputs": [
    {
     "data": {
      "text/html": [
       "        <script type=\"text/javascript\">\n",
       "        window.PlotlyConfig = {MathJaxConfig: 'local'};\n",
       "        if (window.MathJax) {MathJax.Hub.Config({SVG: {font: \"STIX-Web\"}});}\n",
       "        if (typeof require !== 'undefined') {\n",
       "        require.undef(\"plotly\");\n",
       "        requirejs.config({\n",
       "            paths: {\n",
       "                'plotly': ['https://cdn.plot.ly/plotly-latest.min']\n",
       "            }\n",
       "        });\n",
       "        require(['plotly'], function(Plotly) {\n",
       "            window._Plotly = Plotly;\n",
       "        });\n",
       "        }\n",
       "        </script>\n",
       "        "
      ]
     },
     "metadata": {},
     "output_type": "display_data"
    }
   ],
   "source": [
    "# For offline use\n",
    "cf.go_offline()"
   ]
  },
  {
   "cell_type": "markdown",
   "metadata": {},
   "source": [
    "### Fake Data"
   ]
  },
  {
   "cell_type": "code",
   "execution_count": 20,
   "metadata": {},
   "outputs": [],
   "source": [
    "df = pd.DataFrame(np.random.randn(100,4),columns='A B C D'.split())"
   ]
  },
  {
   "cell_type": "code",
   "execution_count": 21,
   "metadata": {},
   "outputs": [
    {
     "data": {
      "text/html": [
       "<div>\n",
       "<style scoped>\n",
       "    .dataframe tbody tr th:only-of-type {\n",
       "        vertical-align: middle;\n",
       "    }\n",
       "\n",
       "    .dataframe tbody tr th {\n",
       "        vertical-align: top;\n",
       "    }\n",
       "\n",
       "    .dataframe thead th {\n",
       "        text-align: right;\n",
       "    }\n",
       "</style>\n",
       "<table border=\"1\" class=\"dataframe\">\n",
       "  <thead>\n",
       "    <tr style=\"text-align: right;\">\n",
       "      <th></th>\n",
       "      <th>A</th>\n",
       "      <th>B</th>\n",
       "      <th>C</th>\n",
       "      <th>D</th>\n",
       "    </tr>\n",
       "  </thead>\n",
       "  <tbody>\n",
       "    <tr>\n",
       "      <th>0</th>\n",
       "      <td>1.573329</td>\n",
       "      <td>-0.239465</td>\n",
       "      <td>-1.804636</td>\n",
       "      <td>0.137939</td>\n",
       "    </tr>\n",
       "    <tr>\n",
       "      <th>1</th>\n",
       "      <td>-0.378526</td>\n",
       "      <td>0.851235</td>\n",
       "      <td>-1.701608</td>\n",
       "      <td>-1.068511</td>\n",
       "    </tr>\n",
       "    <tr>\n",
       "      <th>2</th>\n",
       "      <td>0.176815</td>\n",
       "      <td>0.414848</td>\n",
       "      <td>0.085889</td>\n",
       "      <td>-0.997019</td>\n",
       "    </tr>\n",
       "    <tr>\n",
       "      <th>3</th>\n",
       "      <td>-0.599128</td>\n",
       "      <td>1.537096</td>\n",
       "      <td>1.441525</td>\n",
       "      <td>1.390946</td>\n",
       "    </tr>\n",
       "    <tr>\n",
       "      <th>4</th>\n",
       "      <td>1.175506</td>\n",
       "      <td>-0.492741</td>\n",
       "      <td>0.237073</td>\n",
       "      <td>-0.383482</td>\n",
       "    </tr>\n",
       "  </tbody>\n",
       "</table>\n",
       "</div>"
      ],
      "text/plain": [
       "          A         B         C         D\n",
       "0  1.573329 -0.239465 -1.804636  0.137939\n",
       "1 -0.378526  0.851235 -1.701608 -1.068511\n",
       "2  0.176815  0.414848  0.085889 -0.997019\n",
       "3 -0.599128  1.537096  1.441525  1.390946\n",
       "4  1.175506 -0.492741  0.237073 -0.383482"
      ]
     },
     "execution_count": 21,
     "metadata": {},
     "output_type": "execute_result"
    }
   ],
   "source": [
    "df.head()"
   ]
  },
  {
   "cell_type": "code",
   "execution_count": 22,
   "metadata": {},
   "outputs": [],
   "source": [
    "df2 = pd.DataFrame({'Category':['A','B','C'],'Values':[32,43,50]})"
   ]
  },
  {
   "cell_type": "code",
   "execution_count": 23,
   "metadata": {},
   "outputs": [
    {
     "data": {
      "text/html": [
       "<div>\n",
       "<style scoped>\n",
       "    .dataframe tbody tr th:only-of-type {\n",
       "        vertical-align: middle;\n",
       "    }\n",
       "\n",
       "    .dataframe tbody tr th {\n",
       "        vertical-align: top;\n",
       "    }\n",
       "\n",
       "    .dataframe thead th {\n",
       "        text-align: right;\n",
       "    }\n",
       "</style>\n",
       "<table border=\"1\" class=\"dataframe\">\n",
       "  <thead>\n",
       "    <tr style=\"text-align: right;\">\n",
       "      <th></th>\n",
       "      <th>Category</th>\n",
       "      <th>Values</th>\n",
       "    </tr>\n",
       "  </thead>\n",
       "  <tbody>\n",
       "    <tr>\n",
       "      <th>0</th>\n",
       "      <td>A</td>\n",
       "      <td>32</td>\n",
       "    </tr>\n",
       "    <tr>\n",
       "      <th>1</th>\n",
       "      <td>B</td>\n",
       "      <td>43</td>\n",
       "    </tr>\n",
       "    <tr>\n",
       "      <th>2</th>\n",
       "      <td>C</td>\n",
       "      <td>50</td>\n",
       "    </tr>\n",
       "  </tbody>\n",
       "</table>\n",
       "</div>"
      ],
      "text/plain": [
       "  Category  Values\n",
       "0        A      32\n",
       "1        B      43\n",
       "2        C      50"
      ]
     },
     "execution_count": 23,
     "metadata": {},
     "output_type": "execute_result"
    }
   ],
   "source": [
    "df2.head()"
   ]
  },
  {
   "cell_type": "markdown",
   "metadata": {},
   "source": [
    "## Using Cufflinks and iplot()\n",
    "\n",
    "* scatter\n",
    "* bar\n",
    "* box\n",
    "* spread\n",
    "* ratio\n",
    "* heatmap\n",
    "* surface\n",
    "* histogram\n",
    "* bubble"
   ]
  },
  {
   "cell_type": "markdown",
   "metadata": {},
   "source": [
    "## Scatter"
   ]
  },
  {
   "cell_type": "code",
   "execution_count": 24,
   "metadata": {},
   "outputs": [
    {
     "data": {
      "application/vnd.plotly.v1+json": {
       "config": {
        "linkText": "Export to plot.ly",
        "plotlyServerURL": "https://plot.ly",
        "showLink": true
       },
       "data": [
        {
         "line": {
          "color": "rgba(255, 153, 51, 1.0)",
          "dash": "solid",
          "shape": "linear",
          "width": 1.3
         },
         "marker": {
          "size": 10,
          "symbol": "circle"
         },
         "mode": "markers",
         "name": "B",
         "text": "",
         "type": "scatter",
         "x": [
          1.573328711227588,
          -0.37852617950749295,
          0.1768154975319591,
          -0.5991281059388813,
          1.1755060314126213,
          0.24964246226697667,
          0.5956165871109731,
          0.5612011071792405,
          0.9180885799809175,
          0.7571694210998187,
          0.24715045119972137,
          -1.5270465043997787,
          -0.875374507933993,
          1.2025748375755545,
          0.6337638775037999,
          1.4678420619686383,
          0.45673265663204543,
          -0.26569229827179003,
          1.1244514300144637,
          -0.3169066781827368,
          2.3326670259694984,
          1.1805682968753102,
          -0.41405314324567183,
          0.3122201777837888,
          -1.4052653628429845,
          0.31430633602741875,
          -0.20578869630339477,
          -0.60390031944842,
          1.96339494742064,
          1.6693550129021753,
          -1.334598303785486,
          -0.37781853819873823,
          -0.8894928657177164,
          -0.7543929174901841,
          -0.23210840072281078,
          -1.6901960833990382,
          0.4512098555532659,
          -1.6840584805291572,
          1.0458784516037567,
          1.6664676824073386,
          -1.4401332275578733,
          1.7114714420535877,
          -0.45865548617687163,
          0.9505872085183176,
          -1.9421953084933026,
          0.042733014352603314,
          -0.15414531364007927,
          0.32915907886279877,
          -2.194460922754973,
          0.015125890780444818,
          0.2845835884595226,
          -0.3754901070103968,
          0.2844539210618317,
          -0.12817785900037726,
          0.2260420020459213,
          0.10436446169541978,
          -1.945586652139439,
          -0.36503865639939936,
          -0.22404622351044057,
          -0.2153410058721476,
          0.06278284613069145,
          0.8788465708891683,
          -0.7227927973318916,
          0.3973910025307887,
          -0.23934321011928952,
          0.7710770602966287,
          1.2068887478696722,
          0.21170919633969837,
          0.059892170735103015,
          -1.612452124677236,
          -0.8112259655549127,
          -1.370414490272464,
          -1.653881269326432,
          1.4336987722728656,
          0.3424580647461767,
          -0.47227829298318325,
          -1.6371862002778288,
          0.1178252873274814,
          0.6555856265155513,
          0.5430554758356879,
          -0.10956656996215498,
          1.0202118759670051,
          -0.24457257437156738,
          0.6398275256663398,
          0.35899461667070703,
          0.9615922999069186,
          -1.8575346554006276,
          -0.8698442370442436,
          0.6613226554534137,
          -1.9610775745970301,
          -1.7518253054808146,
          -0.4180919006194288,
          0.7778364527179996,
          -0.44990921899945696,
          0.9931689954464562,
          1.297712985928407,
          -0.5451756655006744,
          -0.1959375376838416,
          0.6051166858612246,
          -0.8677354795742439
         ],
         "y": [
          -0.2394652779549122,
          0.8512345364937773,
          0.41484812193021964,
          1.5370959350367674,
          -0.4927408965374319,
          -0.22100901165166023,
          -0.43193040335765653,
          -0.49336201857205314,
          0.5555084384448081,
          -0.5107093147117601,
          -0.3526308817252644,
          0.007489800734434926,
          -0.6003649263215223,
          -0.01278324946277747,
          0.2274406995260329,
          -1.0187156546487115,
          -0.4433447642506894,
          -0.3060049886332904,
          -0.11377838153924977,
          -0.08407790197866014,
          1.0464551062117906,
          -0.9799341186049836,
          -1.8537395580117801,
          0.6617221210672103,
          -0.683415999037852,
          -0.39479143980500403,
          -2.196804691822171,
          0.9829199829668247,
          -2.179151330999028,
          1.1392018545116072,
          -1.8420019494800435,
          -0.30038149675268744,
          0.008963551020868049,
          -0.06618101867302661,
          1.0674281027274761,
          0.7173822431325227,
          -1.9086449146501494,
          1.0205583203650004,
          2.23498872747899,
          -0.45259495728000726,
          0.574969471677332,
          0.6944603816242416,
          -0.12498725051976357,
          -1.8958418732899174,
          -0.6421631673722423,
          -0.38673076375729404,
          -0.3357083832660241,
          0.8998219397665486,
          -0.015392086889089685,
          -0.5026542206416671,
          -1.6951761221844877,
          1.6796828066716862,
          0.36604466437520533,
          -1.9183417290547082,
          0.4701078450355624,
          -0.19291943661795397,
          -0.7593893664030056,
          -0.6749441066899211,
          0.7479337658901685,
          1.1274218457436842,
          -0.43875091042622516,
          -1.8105231808183324,
          0.48444909587401636,
          -0.5055844310124634,
          -0.46194253142129044,
          0.52721385333185,
          0.33716747766588245,
          0.01697510334850516,
          -1.4034883679745767,
          0.29498065138194346,
          -1.641260866859968,
          -0.3542296235869637,
          -0.19241761771803673,
          -0.7587260159600041,
          0.37451144525510227,
          -1.2258116079566619,
          0.2842602520008746,
          -1.908327868761162,
          -0.8557696298768518,
          1.118002270580774,
          -1.4701377021951572,
          1.2765397042431867,
          0.3253134283901319,
          -0.6814381081251094,
          1.2397551256542891,
          0.5926331740445077,
          1.7231767023146967,
          0.18409964154272745,
          -0.5450931058141981,
          -0.17358078103870087,
          0.6888684372015913,
          1.281410412125775,
          0.49575937971724,
          0.0975145793536695,
          0.9673828187279973,
          2.168738376862383,
          -1.5611560382058942,
          3.352263014883978,
          -0.3147424815649832,
          1.0391922023113067
         ]
        }
       ],
       "layout": {
        "legend": {
         "bgcolor": "#F5F6F9",
         "font": {
          "color": "#4D5663"
         }
        },
        "paper_bgcolor": "#F5F6F9",
        "plot_bgcolor": "#F5F6F9",
        "template": {
         "data": {
          "bar": [
           {
            "error_x": {
             "color": "#2a3f5f"
            },
            "error_y": {
             "color": "#2a3f5f"
            },
            "marker": {
             "line": {
              "color": "#E5ECF6",
              "width": 0.5
             }
            },
            "type": "bar"
           }
          ],
          "barpolar": [
           {
            "marker": {
             "line": {
              "color": "#E5ECF6",
              "width": 0.5
             }
            },
            "type": "barpolar"
           }
          ],
          "carpet": [
           {
            "aaxis": {
             "endlinecolor": "#2a3f5f",
             "gridcolor": "white",
             "linecolor": "white",
             "minorgridcolor": "white",
             "startlinecolor": "#2a3f5f"
            },
            "baxis": {
             "endlinecolor": "#2a3f5f",
             "gridcolor": "white",
             "linecolor": "white",
             "minorgridcolor": "white",
             "startlinecolor": "#2a3f5f"
            },
            "type": "carpet"
           }
          ],
          "choropleth": [
           {
            "colorbar": {
             "outlinewidth": 0,
             "ticks": ""
            },
            "type": "choropleth"
           }
          ],
          "contour": [
           {
            "colorbar": {
             "outlinewidth": 0,
             "ticks": ""
            },
            "colorscale": [
             [
              0,
              "#0d0887"
             ],
             [
              0.1111111111111111,
              "#46039f"
             ],
             [
              0.2222222222222222,
              "#7201a8"
             ],
             [
              0.3333333333333333,
              "#9c179e"
             ],
             [
              0.4444444444444444,
              "#bd3786"
             ],
             [
              0.5555555555555556,
              "#d8576b"
             ],
             [
              0.6666666666666666,
              "#ed7953"
             ],
             [
              0.7777777777777778,
              "#fb9f3a"
             ],
             [
              0.8888888888888888,
              "#fdca26"
             ],
             [
              1,
              "#f0f921"
             ]
            ],
            "type": "contour"
           }
          ],
          "contourcarpet": [
           {
            "colorbar": {
             "outlinewidth": 0,
             "ticks": ""
            },
            "type": "contourcarpet"
           }
          ],
          "heatmap": [
           {
            "colorbar": {
             "outlinewidth": 0,
             "ticks": ""
            },
            "colorscale": [
             [
              0,
              "#0d0887"
             ],
             [
              0.1111111111111111,
              "#46039f"
             ],
             [
              0.2222222222222222,
              "#7201a8"
             ],
             [
              0.3333333333333333,
              "#9c179e"
             ],
             [
              0.4444444444444444,
              "#bd3786"
             ],
             [
              0.5555555555555556,
              "#d8576b"
             ],
             [
              0.6666666666666666,
              "#ed7953"
             ],
             [
              0.7777777777777778,
              "#fb9f3a"
             ],
             [
              0.8888888888888888,
              "#fdca26"
             ],
             [
              1,
              "#f0f921"
             ]
            ],
            "type": "heatmap"
           }
          ],
          "heatmapgl": [
           {
            "colorbar": {
             "outlinewidth": 0,
             "ticks": ""
            },
            "colorscale": [
             [
              0,
              "#0d0887"
             ],
             [
              0.1111111111111111,
              "#46039f"
             ],
             [
              0.2222222222222222,
              "#7201a8"
             ],
             [
              0.3333333333333333,
              "#9c179e"
             ],
             [
              0.4444444444444444,
              "#bd3786"
             ],
             [
              0.5555555555555556,
              "#d8576b"
             ],
             [
              0.6666666666666666,
              "#ed7953"
             ],
             [
              0.7777777777777778,
              "#fb9f3a"
             ],
             [
              0.8888888888888888,
              "#fdca26"
             ],
             [
              1,
              "#f0f921"
             ]
            ],
            "type": "heatmapgl"
           }
          ],
          "histogram": [
           {
            "marker": {
             "colorbar": {
              "outlinewidth": 0,
              "ticks": ""
             }
            },
            "type": "histogram"
           }
          ],
          "histogram2d": [
           {
            "colorbar": {
             "outlinewidth": 0,
             "ticks": ""
            },
            "colorscale": [
             [
              0,
              "#0d0887"
             ],
             [
              0.1111111111111111,
              "#46039f"
             ],
             [
              0.2222222222222222,
              "#7201a8"
             ],
             [
              0.3333333333333333,
              "#9c179e"
             ],
             [
              0.4444444444444444,
              "#bd3786"
             ],
             [
              0.5555555555555556,
              "#d8576b"
             ],
             [
              0.6666666666666666,
              "#ed7953"
             ],
             [
              0.7777777777777778,
              "#fb9f3a"
             ],
             [
              0.8888888888888888,
              "#fdca26"
             ],
             [
              1,
              "#f0f921"
             ]
            ],
            "type": "histogram2d"
           }
          ],
          "histogram2dcontour": [
           {
            "colorbar": {
             "outlinewidth": 0,
             "ticks": ""
            },
            "colorscale": [
             [
              0,
              "#0d0887"
             ],
             [
              0.1111111111111111,
              "#46039f"
             ],
             [
              0.2222222222222222,
              "#7201a8"
             ],
             [
              0.3333333333333333,
              "#9c179e"
             ],
             [
              0.4444444444444444,
              "#bd3786"
             ],
             [
              0.5555555555555556,
              "#d8576b"
             ],
             [
              0.6666666666666666,
              "#ed7953"
             ],
             [
              0.7777777777777778,
              "#fb9f3a"
             ],
             [
              0.8888888888888888,
              "#fdca26"
             ],
             [
              1,
              "#f0f921"
             ]
            ],
            "type": "histogram2dcontour"
           }
          ],
          "mesh3d": [
           {
            "colorbar": {
             "outlinewidth": 0,
             "ticks": ""
            },
            "type": "mesh3d"
           }
          ],
          "parcoords": [
           {
            "line": {
             "colorbar": {
              "outlinewidth": 0,
              "ticks": ""
             }
            },
            "type": "parcoords"
           }
          ],
          "pie": [
           {
            "automargin": true,
            "type": "pie"
           }
          ],
          "scatter": [
           {
            "marker": {
             "colorbar": {
              "outlinewidth": 0,
              "ticks": ""
             }
            },
            "type": "scatter"
           }
          ],
          "scatter3d": [
           {
            "line": {
             "colorbar": {
              "outlinewidth": 0,
              "ticks": ""
             }
            },
            "marker": {
             "colorbar": {
              "outlinewidth": 0,
              "ticks": ""
             }
            },
            "type": "scatter3d"
           }
          ],
          "scattercarpet": [
           {
            "marker": {
             "colorbar": {
              "outlinewidth": 0,
              "ticks": ""
             }
            },
            "type": "scattercarpet"
           }
          ],
          "scattergeo": [
           {
            "marker": {
             "colorbar": {
              "outlinewidth": 0,
              "ticks": ""
             }
            },
            "type": "scattergeo"
           }
          ],
          "scattergl": [
           {
            "marker": {
             "colorbar": {
              "outlinewidth": 0,
              "ticks": ""
             }
            },
            "type": "scattergl"
           }
          ],
          "scattermapbox": [
           {
            "marker": {
             "colorbar": {
              "outlinewidth": 0,
              "ticks": ""
             }
            },
            "type": "scattermapbox"
           }
          ],
          "scatterpolar": [
           {
            "marker": {
             "colorbar": {
              "outlinewidth": 0,
              "ticks": ""
             }
            },
            "type": "scatterpolar"
           }
          ],
          "scatterpolargl": [
           {
            "marker": {
             "colorbar": {
              "outlinewidth": 0,
              "ticks": ""
             }
            },
            "type": "scatterpolargl"
           }
          ],
          "scatterternary": [
           {
            "marker": {
             "colorbar": {
              "outlinewidth": 0,
              "ticks": ""
             }
            },
            "type": "scatterternary"
           }
          ],
          "surface": [
           {
            "colorbar": {
             "outlinewidth": 0,
             "ticks": ""
            },
            "colorscale": [
             [
              0,
              "#0d0887"
             ],
             [
              0.1111111111111111,
              "#46039f"
             ],
             [
              0.2222222222222222,
              "#7201a8"
             ],
             [
              0.3333333333333333,
              "#9c179e"
             ],
             [
              0.4444444444444444,
              "#bd3786"
             ],
             [
              0.5555555555555556,
              "#d8576b"
             ],
             [
              0.6666666666666666,
              "#ed7953"
             ],
             [
              0.7777777777777778,
              "#fb9f3a"
             ],
             [
              0.8888888888888888,
              "#fdca26"
             ],
             [
              1,
              "#f0f921"
             ]
            ],
            "type": "surface"
           }
          ],
          "table": [
           {
            "cells": {
             "fill": {
              "color": "#EBF0F8"
             },
             "line": {
              "color": "white"
             }
            },
            "header": {
             "fill": {
              "color": "#C8D4E3"
             },
             "line": {
              "color": "white"
             }
            },
            "type": "table"
           }
          ]
         },
         "layout": {
          "annotationdefaults": {
           "arrowcolor": "#2a3f5f",
           "arrowhead": 0,
           "arrowwidth": 1
          },
          "coloraxis": {
           "colorbar": {
            "outlinewidth": 0,
            "ticks": ""
           }
          },
          "colorscale": {
           "diverging": [
            [
             0,
             "#8e0152"
            ],
            [
             0.1,
             "#c51b7d"
            ],
            [
             0.2,
             "#de77ae"
            ],
            [
             0.3,
             "#f1b6da"
            ],
            [
             0.4,
             "#fde0ef"
            ],
            [
             0.5,
             "#f7f7f7"
            ],
            [
             0.6,
             "#e6f5d0"
            ],
            [
             0.7,
             "#b8e186"
            ],
            [
             0.8,
             "#7fbc41"
            ],
            [
             0.9,
             "#4d9221"
            ],
            [
             1,
             "#276419"
            ]
           ],
           "sequential": [
            [
             0,
             "#0d0887"
            ],
            [
             0.1111111111111111,
             "#46039f"
            ],
            [
             0.2222222222222222,
             "#7201a8"
            ],
            [
             0.3333333333333333,
             "#9c179e"
            ],
            [
             0.4444444444444444,
             "#bd3786"
            ],
            [
             0.5555555555555556,
             "#d8576b"
            ],
            [
             0.6666666666666666,
             "#ed7953"
            ],
            [
             0.7777777777777778,
             "#fb9f3a"
            ],
            [
             0.8888888888888888,
             "#fdca26"
            ],
            [
             1,
             "#f0f921"
            ]
           ],
           "sequentialminus": [
            [
             0,
             "#0d0887"
            ],
            [
             0.1111111111111111,
             "#46039f"
            ],
            [
             0.2222222222222222,
             "#7201a8"
            ],
            [
             0.3333333333333333,
             "#9c179e"
            ],
            [
             0.4444444444444444,
             "#bd3786"
            ],
            [
             0.5555555555555556,
             "#d8576b"
            ],
            [
             0.6666666666666666,
             "#ed7953"
            ],
            [
             0.7777777777777778,
             "#fb9f3a"
            ],
            [
             0.8888888888888888,
             "#fdca26"
            ],
            [
             1,
             "#f0f921"
            ]
           ]
          },
          "colorway": [
           "#636efa",
           "#EF553B",
           "#00cc96",
           "#ab63fa",
           "#FFA15A",
           "#19d3f3",
           "#FF6692",
           "#B6E880",
           "#FF97FF",
           "#FECB52"
          ],
          "font": {
           "color": "#2a3f5f"
          },
          "geo": {
           "bgcolor": "white",
           "lakecolor": "white",
           "landcolor": "#E5ECF6",
           "showlakes": true,
           "showland": true,
           "subunitcolor": "white"
          },
          "hoverlabel": {
           "align": "left"
          },
          "hovermode": "closest",
          "mapbox": {
           "style": "light"
          },
          "paper_bgcolor": "white",
          "plot_bgcolor": "#E5ECF6",
          "polar": {
           "angularaxis": {
            "gridcolor": "white",
            "linecolor": "white",
            "ticks": ""
           },
           "bgcolor": "#E5ECF6",
           "radialaxis": {
            "gridcolor": "white",
            "linecolor": "white",
            "ticks": ""
           }
          },
          "scene": {
           "xaxis": {
            "backgroundcolor": "#E5ECF6",
            "gridcolor": "white",
            "gridwidth": 2,
            "linecolor": "white",
            "showbackground": true,
            "ticks": "",
            "zerolinecolor": "white"
           },
           "yaxis": {
            "backgroundcolor": "#E5ECF6",
            "gridcolor": "white",
            "gridwidth": 2,
            "linecolor": "white",
            "showbackground": true,
            "ticks": "",
            "zerolinecolor": "white"
           },
           "zaxis": {
            "backgroundcolor": "#E5ECF6",
            "gridcolor": "white",
            "gridwidth": 2,
            "linecolor": "white",
            "showbackground": true,
            "ticks": "",
            "zerolinecolor": "white"
           }
          },
          "shapedefaults": {
           "line": {
            "color": "#2a3f5f"
           }
          },
          "ternary": {
           "aaxis": {
            "gridcolor": "white",
            "linecolor": "white",
            "ticks": ""
           },
           "baxis": {
            "gridcolor": "white",
            "linecolor": "white",
            "ticks": ""
           },
           "bgcolor": "#E5ECF6",
           "caxis": {
            "gridcolor": "white",
            "linecolor": "white",
            "ticks": ""
           }
          },
          "title": {
           "x": 0.05
          },
          "xaxis": {
           "automargin": true,
           "gridcolor": "white",
           "linecolor": "white",
           "ticks": "",
           "title": {
            "standoff": 15
           },
           "zerolinecolor": "white",
           "zerolinewidth": 2
          },
          "yaxis": {
           "automargin": true,
           "gridcolor": "white",
           "linecolor": "white",
           "ticks": "",
           "title": {
            "standoff": 15
           },
           "zerolinecolor": "white",
           "zerolinewidth": 2
          }
         }
        },
        "title": {
         "font": {
          "color": "#4D5663"
         }
        },
        "xaxis": {
         "gridcolor": "#E1E5ED",
         "showgrid": true,
         "tickfont": {
          "color": "#4D5663"
         },
         "title": {
          "font": {
           "color": "#4D5663"
          },
          "text": ""
         },
         "zerolinecolor": "#E1E5ED"
        },
        "yaxis": {
         "gridcolor": "#E1E5ED",
         "showgrid": true,
         "tickfont": {
          "color": "#4D5663"
         },
         "title": {
          "font": {
           "color": "#4D5663"
          },
          "text": ""
         },
         "zerolinecolor": "#E1E5ED"
        }
       }
      },
      "text/html": [
       "<div>\n",
       "        \n",
       "        \n",
       "            <div id=\"62233a6f-662c-4a4a-9c06-60f240707f1d\" class=\"plotly-graph-div\" style=\"height:525px; width:100%;\"></div>\n",
       "            <script type=\"text/javascript\">\n",
       "                require([\"plotly\"], function(Plotly) {\n",
       "                    window.PLOTLYENV=window.PLOTLYENV || {};\n",
       "                    window.PLOTLYENV.BASE_URL='https://plot.ly';\n",
       "                    \n",
       "                if (document.getElementById(\"62233a6f-662c-4a4a-9c06-60f240707f1d\")) {\n",
       "                    Plotly.newPlot(\n",
       "                        '62233a6f-662c-4a4a-9c06-60f240707f1d',\n",
       "                        [{\"line\": {\"color\": \"rgba(255, 153, 51, 1.0)\", \"dash\": \"solid\", \"shape\": \"linear\", \"width\": 1.3}, \"marker\": {\"size\": 10, \"symbol\": \"circle\"}, \"mode\": \"markers\", \"name\": \"B\", \"text\": \"\", \"type\": \"scatter\", \"x\": [1.573328711227588, -0.37852617950749295, 0.1768154975319591, -0.5991281059388813, 1.1755060314126213, 0.24964246226697667, 0.5956165871109731, 0.5612011071792405, 0.9180885799809175, 0.7571694210998187, 0.24715045119972137, -1.5270465043997787, -0.875374507933993, 1.2025748375755545, 0.6337638775037999, 1.4678420619686383, 0.45673265663204543, -0.26569229827179003, 1.1244514300144637, -0.3169066781827368, 2.3326670259694984, 1.1805682968753102, -0.41405314324567183, 0.3122201777837888, -1.4052653628429845, 0.31430633602741875, -0.20578869630339477, -0.60390031944842, 1.96339494742064, 1.6693550129021753, -1.334598303785486, -0.37781853819873823, -0.8894928657177164, -0.7543929174901841, -0.23210840072281078, -1.6901960833990382, 0.4512098555532659, -1.6840584805291572, 1.0458784516037567, 1.6664676824073386, -1.4401332275578733, 1.7114714420535877, -0.45865548617687163, 0.9505872085183176, -1.9421953084933026, 0.042733014352603314, -0.15414531364007927, 0.32915907886279877, -2.194460922754973, 0.015125890780444818, 0.2845835884595226, -0.3754901070103968, 0.2844539210618317, -0.12817785900037726, 0.2260420020459213, 0.10436446169541978, -1.945586652139439, -0.36503865639939936, -0.22404622351044057, -0.2153410058721476, 0.06278284613069145, 0.8788465708891683, -0.7227927973318916, 0.3973910025307887, -0.23934321011928952, 0.7710770602966287, 1.2068887478696722, 0.21170919633969837, 0.059892170735103015, -1.612452124677236, -0.8112259655549127, -1.370414490272464, -1.653881269326432, 1.4336987722728656, 0.3424580647461767, -0.47227829298318325, -1.6371862002778288, 0.1178252873274814, 0.6555856265155513, 0.5430554758356879, -0.10956656996215498, 1.0202118759670051, -0.24457257437156738, 0.6398275256663398, 0.35899461667070703, 0.9615922999069186, -1.8575346554006276, -0.8698442370442436, 0.6613226554534137, -1.9610775745970301, -1.7518253054808146, -0.4180919006194288, 0.7778364527179996, -0.44990921899945696, 0.9931689954464562, 1.297712985928407, -0.5451756655006744, -0.1959375376838416, 0.6051166858612246, -0.8677354795742439], \"y\": [-0.2394652779549122, 0.8512345364937773, 0.41484812193021964, 1.5370959350367674, -0.4927408965374319, -0.22100901165166023, -0.43193040335765653, -0.49336201857205314, 0.5555084384448081, -0.5107093147117601, -0.3526308817252644, 0.007489800734434926, -0.6003649263215223, -0.01278324946277747, 0.2274406995260329, -1.0187156546487115, -0.4433447642506894, -0.3060049886332904, -0.11377838153924977, -0.08407790197866014, 1.0464551062117906, -0.9799341186049836, -1.8537395580117801, 0.6617221210672103, -0.683415999037852, -0.39479143980500403, -2.196804691822171, 0.9829199829668247, -2.179151330999028, 1.1392018545116072, -1.8420019494800435, -0.30038149675268744, 0.008963551020868049, -0.06618101867302661, 1.0674281027274761, 0.7173822431325227, -1.9086449146501494, 1.0205583203650004, 2.23498872747899, -0.45259495728000726, 0.574969471677332, 0.6944603816242416, -0.12498725051976357, -1.8958418732899174, -0.6421631673722423, -0.38673076375729404, -0.3357083832660241, 0.8998219397665486, -0.015392086889089685, -0.5026542206416671, -1.6951761221844877, 1.6796828066716862, 0.36604466437520533, -1.9183417290547082, 0.4701078450355624, -0.19291943661795397, -0.7593893664030056, -0.6749441066899211, 0.7479337658901685, 1.1274218457436842, -0.43875091042622516, -1.8105231808183324, 0.48444909587401636, -0.5055844310124634, -0.46194253142129044, 0.52721385333185, 0.33716747766588245, 0.01697510334850516, -1.4034883679745767, 0.29498065138194346, -1.641260866859968, -0.3542296235869637, -0.19241761771803673, -0.7587260159600041, 0.37451144525510227, -1.2258116079566619, 0.2842602520008746, -1.908327868761162, -0.8557696298768518, 1.118002270580774, -1.4701377021951572, 1.2765397042431867, 0.3253134283901319, -0.6814381081251094, 1.2397551256542891, 0.5926331740445077, 1.7231767023146967, 0.18409964154272745, -0.5450931058141981, -0.17358078103870087, 0.6888684372015913, 1.281410412125775, 0.49575937971724, 0.0975145793536695, 0.9673828187279973, 2.168738376862383, -1.5611560382058942, 3.352263014883978, -0.3147424815649832, 1.0391922023113067]}],\n",
       "                        {\"legend\": {\"bgcolor\": \"#F5F6F9\", \"font\": {\"color\": \"#4D5663\"}}, \"paper_bgcolor\": \"#F5F6F9\", \"plot_bgcolor\": \"#F5F6F9\", \"template\": {\"data\": {\"bar\": [{\"error_x\": {\"color\": \"#2a3f5f\"}, \"error_y\": {\"color\": \"#2a3f5f\"}, \"marker\": {\"line\": {\"color\": \"#E5ECF6\", \"width\": 0.5}}, \"type\": \"bar\"}], \"barpolar\": [{\"marker\": {\"line\": {\"color\": \"#E5ECF6\", \"width\": 0.5}}, \"type\": \"barpolar\"}], \"carpet\": [{\"aaxis\": {\"endlinecolor\": \"#2a3f5f\", \"gridcolor\": \"white\", \"linecolor\": \"white\", \"minorgridcolor\": \"white\", \"startlinecolor\": \"#2a3f5f\"}, \"baxis\": {\"endlinecolor\": \"#2a3f5f\", \"gridcolor\": \"white\", \"linecolor\": \"white\", \"minorgridcolor\": \"white\", \"startlinecolor\": \"#2a3f5f\"}, \"type\": \"carpet\"}], \"choropleth\": [{\"colorbar\": {\"outlinewidth\": 0, \"ticks\": \"\"}, \"type\": \"choropleth\"}], \"contour\": [{\"colorbar\": {\"outlinewidth\": 0, \"ticks\": \"\"}, \"colorscale\": [[0.0, \"#0d0887\"], [0.1111111111111111, \"#46039f\"], [0.2222222222222222, \"#7201a8\"], [0.3333333333333333, \"#9c179e\"], [0.4444444444444444, \"#bd3786\"], [0.5555555555555556, \"#d8576b\"], [0.6666666666666666, \"#ed7953\"], [0.7777777777777778, \"#fb9f3a\"], [0.8888888888888888, \"#fdca26\"], [1.0, \"#f0f921\"]], \"type\": \"contour\"}], \"contourcarpet\": [{\"colorbar\": {\"outlinewidth\": 0, \"ticks\": \"\"}, \"type\": \"contourcarpet\"}], \"heatmap\": [{\"colorbar\": {\"outlinewidth\": 0, \"ticks\": \"\"}, \"colorscale\": [[0.0, \"#0d0887\"], [0.1111111111111111, \"#46039f\"], [0.2222222222222222, \"#7201a8\"], [0.3333333333333333, \"#9c179e\"], [0.4444444444444444, \"#bd3786\"], [0.5555555555555556, \"#d8576b\"], [0.6666666666666666, \"#ed7953\"], [0.7777777777777778, \"#fb9f3a\"], [0.8888888888888888, \"#fdca26\"], [1.0, \"#f0f921\"]], \"type\": \"heatmap\"}], \"heatmapgl\": [{\"colorbar\": {\"outlinewidth\": 0, \"ticks\": \"\"}, \"colorscale\": [[0.0, \"#0d0887\"], [0.1111111111111111, \"#46039f\"], [0.2222222222222222, \"#7201a8\"], [0.3333333333333333, \"#9c179e\"], [0.4444444444444444, \"#bd3786\"], [0.5555555555555556, \"#d8576b\"], [0.6666666666666666, \"#ed7953\"], [0.7777777777777778, \"#fb9f3a\"], [0.8888888888888888, \"#fdca26\"], [1.0, \"#f0f921\"]], \"type\": \"heatmapgl\"}], \"histogram\": [{\"marker\": {\"colorbar\": {\"outlinewidth\": 0, \"ticks\": \"\"}}, \"type\": \"histogram\"}], \"histogram2d\": [{\"colorbar\": {\"outlinewidth\": 0, \"ticks\": \"\"}, \"colorscale\": [[0.0, \"#0d0887\"], [0.1111111111111111, \"#46039f\"], [0.2222222222222222, \"#7201a8\"], [0.3333333333333333, \"#9c179e\"], [0.4444444444444444, \"#bd3786\"], [0.5555555555555556, \"#d8576b\"], [0.6666666666666666, \"#ed7953\"], [0.7777777777777778, \"#fb9f3a\"], [0.8888888888888888, \"#fdca26\"], [1.0, \"#f0f921\"]], \"type\": \"histogram2d\"}], \"histogram2dcontour\": [{\"colorbar\": {\"outlinewidth\": 0, \"ticks\": \"\"}, \"colorscale\": [[0.0, \"#0d0887\"], [0.1111111111111111, \"#46039f\"], [0.2222222222222222, \"#7201a8\"], [0.3333333333333333, \"#9c179e\"], [0.4444444444444444, \"#bd3786\"], [0.5555555555555556, \"#d8576b\"], [0.6666666666666666, \"#ed7953\"], [0.7777777777777778, \"#fb9f3a\"], [0.8888888888888888, \"#fdca26\"], [1.0, \"#f0f921\"]], \"type\": \"histogram2dcontour\"}], \"mesh3d\": [{\"colorbar\": {\"outlinewidth\": 0, \"ticks\": \"\"}, \"type\": \"mesh3d\"}], \"parcoords\": [{\"line\": {\"colorbar\": {\"outlinewidth\": 0, \"ticks\": \"\"}}, \"type\": \"parcoords\"}], \"pie\": [{\"automargin\": true, \"type\": \"pie\"}], \"scatter\": [{\"marker\": {\"colorbar\": {\"outlinewidth\": 0, \"ticks\": \"\"}}, \"type\": \"scatter\"}], \"scatter3d\": [{\"line\": {\"colorbar\": {\"outlinewidth\": 0, \"ticks\": \"\"}}, \"marker\": {\"colorbar\": {\"outlinewidth\": 0, \"ticks\": \"\"}}, \"type\": \"scatter3d\"}], \"scattercarpet\": [{\"marker\": {\"colorbar\": {\"outlinewidth\": 0, \"ticks\": \"\"}}, \"type\": \"scattercarpet\"}], \"scattergeo\": [{\"marker\": {\"colorbar\": {\"outlinewidth\": 0, \"ticks\": \"\"}}, \"type\": \"scattergeo\"}], \"scattergl\": [{\"marker\": {\"colorbar\": {\"outlinewidth\": 0, \"ticks\": \"\"}}, \"type\": \"scattergl\"}], \"scattermapbox\": [{\"marker\": {\"colorbar\": {\"outlinewidth\": 0, \"ticks\": \"\"}}, \"type\": \"scattermapbox\"}], \"scatterpolar\": [{\"marker\": {\"colorbar\": {\"outlinewidth\": 0, \"ticks\": \"\"}}, \"type\": \"scatterpolar\"}], \"scatterpolargl\": [{\"marker\": {\"colorbar\": {\"outlinewidth\": 0, \"ticks\": \"\"}}, \"type\": \"scatterpolargl\"}], \"scatterternary\": [{\"marker\": {\"colorbar\": {\"outlinewidth\": 0, \"ticks\": \"\"}}, \"type\": \"scatterternary\"}], \"surface\": [{\"colorbar\": {\"outlinewidth\": 0, \"ticks\": \"\"}, \"colorscale\": [[0.0, \"#0d0887\"], [0.1111111111111111, \"#46039f\"], [0.2222222222222222, \"#7201a8\"], [0.3333333333333333, \"#9c179e\"], [0.4444444444444444, \"#bd3786\"], [0.5555555555555556, \"#d8576b\"], [0.6666666666666666, \"#ed7953\"], [0.7777777777777778, \"#fb9f3a\"], [0.8888888888888888, \"#fdca26\"], [1.0, \"#f0f921\"]], \"type\": \"surface\"}], \"table\": [{\"cells\": {\"fill\": {\"color\": \"#EBF0F8\"}, \"line\": {\"color\": \"white\"}}, \"header\": {\"fill\": {\"color\": \"#C8D4E3\"}, \"line\": {\"color\": \"white\"}}, \"type\": \"table\"}]}, \"layout\": {\"annotationdefaults\": {\"arrowcolor\": \"#2a3f5f\", \"arrowhead\": 0, \"arrowwidth\": 1}, \"coloraxis\": {\"colorbar\": {\"outlinewidth\": 0, \"ticks\": \"\"}}, \"colorscale\": {\"diverging\": [[0, \"#8e0152\"], [0.1, \"#c51b7d\"], [0.2, \"#de77ae\"], [0.3, \"#f1b6da\"], [0.4, \"#fde0ef\"], [0.5, \"#f7f7f7\"], [0.6, \"#e6f5d0\"], [0.7, \"#b8e186\"], [0.8, \"#7fbc41\"], [0.9, \"#4d9221\"], [1, \"#276419\"]], \"sequential\": [[0.0, \"#0d0887\"], [0.1111111111111111, \"#46039f\"], [0.2222222222222222, \"#7201a8\"], [0.3333333333333333, \"#9c179e\"], [0.4444444444444444, \"#bd3786\"], [0.5555555555555556, \"#d8576b\"], [0.6666666666666666, \"#ed7953\"], [0.7777777777777778, \"#fb9f3a\"], [0.8888888888888888, \"#fdca26\"], [1.0, \"#f0f921\"]], \"sequentialminus\": [[0.0, \"#0d0887\"], [0.1111111111111111, \"#46039f\"], [0.2222222222222222, \"#7201a8\"], [0.3333333333333333, \"#9c179e\"], [0.4444444444444444, \"#bd3786\"], [0.5555555555555556, \"#d8576b\"], [0.6666666666666666, \"#ed7953\"], [0.7777777777777778, \"#fb9f3a\"], [0.8888888888888888, \"#fdca26\"], [1.0, \"#f0f921\"]]}, \"colorway\": [\"#636efa\", \"#EF553B\", \"#00cc96\", \"#ab63fa\", \"#FFA15A\", \"#19d3f3\", \"#FF6692\", \"#B6E880\", \"#FF97FF\", \"#FECB52\"], \"font\": {\"color\": \"#2a3f5f\"}, \"geo\": {\"bgcolor\": \"white\", \"lakecolor\": \"white\", \"landcolor\": \"#E5ECF6\", \"showlakes\": true, \"showland\": true, \"subunitcolor\": \"white\"}, \"hoverlabel\": {\"align\": \"left\"}, \"hovermode\": \"closest\", \"mapbox\": {\"style\": \"light\"}, \"paper_bgcolor\": \"white\", \"plot_bgcolor\": \"#E5ECF6\", \"polar\": {\"angularaxis\": {\"gridcolor\": \"white\", \"linecolor\": \"white\", \"ticks\": \"\"}, \"bgcolor\": \"#E5ECF6\", \"radialaxis\": {\"gridcolor\": \"white\", \"linecolor\": \"white\", \"ticks\": \"\"}}, \"scene\": {\"xaxis\": {\"backgroundcolor\": \"#E5ECF6\", \"gridcolor\": \"white\", \"gridwidth\": 2, \"linecolor\": \"white\", \"showbackground\": true, \"ticks\": \"\", \"zerolinecolor\": \"white\"}, \"yaxis\": {\"backgroundcolor\": \"#E5ECF6\", \"gridcolor\": \"white\", \"gridwidth\": 2, \"linecolor\": \"white\", \"showbackground\": true, \"ticks\": \"\", \"zerolinecolor\": \"white\"}, \"zaxis\": {\"backgroundcolor\": \"#E5ECF6\", \"gridcolor\": \"white\", \"gridwidth\": 2, \"linecolor\": \"white\", \"showbackground\": true, \"ticks\": \"\", \"zerolinecolor\": \"white\"}}, \"shapedefaults\": {\"line\": {\"color\": \"#2a3f5f\"}}, \"ternary\": {\"aaxis\": {\"gridcolor\": \"white\", \"linecolor\": \"white\", \"ticks\": \"\"}, \"baxis\": {\"gridcolor\": \"white\", \"linecolor\": \"white\", \"ticks\": \"\"}, \"bgcolor\": \"#E5ECF6\", \"caxis\": {\"gridcolor\": \"white\", \"linecolor\": \"white\", \"ticks\": \"\"}}, \"title\": {\"x\": 0.05}, \"xaxis\": {\"automargin\": true, \"gridcolor\": \"white\", \"linecolor\": \"white\", \"ticks\": \"\", \"title\": {\"standoff\": 15}, \"zerolinecolor\": \"white\", \"zerolinewidth\": 2}, \"yaxis\": {\"automargin\": true, \"gridcolor\": \"white\", \"linecolor\": \"white\", \"ticks\": \"\", \"title\": {\"standoff\": 15}, \"zerolinecolor\": \"white\", \"zerolinewidth\": 2}}}, \"title\": {\"font\": {\"color\": \"#4D5663\"}}, \"xaxis\": {\"gridcolor\": \"#E1E5ED\", \"showgrid\": true, \"tickfont\": {\"color\": \"#4D5663\"}, \"title\": {\"font\": {\"color\": \"#4D5663\"}, \"text\": \"\"}, \"zerolinecolor\": \"#E1E5ED\"}, \"yaxis\": {\"gridcolor\": \"#E1E5ED\", \"showgrid\": true, \"tickfont\": {\"color\": \"#4D5663\"}, \"title\": {\"font\": {\"color\": \"#4D5663\"}, \"text\": \"\"}, \"zerolinecolor\": \"#E1E5ED\"}},\n",
       "                        {\"showLink\": true, \"linkText\": \"Export to plot.ly\", \"plotlyServerURL\": \"https://plot.ly\", \"responsive\": true}\n",
       "                    ).then(function(){\n",
       "                            \n",
       "var gd = document.getElementById('62233a6f-662c-4a4a-9c06-60f240707f1d');\n",
       "var x = new MutationObserver(function (mutations, observer) {{\n",
       "        var display = window.getComputedStyle(gd).display;\n",
       "        if (!display || display === 'none') {{\n",
       "            console.log([gd, 'removed!']);\n",
       "            Plotly.purge(gd);\n",
       "            observer.disconnect();\n",
       "        }}\n",
       "}});\n",
       "\n",
       "// Listen for the removal of the full notebook cells\n",
       "var notebookContainer = gd.closest('#notebook-container');\n",
       "if (notebookContainer) {{\n",
       "    x.observe(notebookContainer, {childList: true});\n",
       "}}\n",
       "\n",
       "// Listen for the clearing of the current output cell\n",
       "var outputEl = gd.closest('.output');\n",
       "if (outputEl) {{\n",
       "    x.observe(outputEl, {childList: true});\n",
       "}}\n",
       "\n",
       "                        })\n",
       "                };\n",
       "                });\n",
       "            </script>\n",
       "        </div>"
      ]
     },
     "metadata": {},
     "output_type": "display_data"
    }
   ],
   "source": [
    "df.iplot(kind='scatter',x='A',y='B',mode='markers',size=10)"
   ]
  },
  {
   "cell_type": "markdown",
   "metadata": {},
   "source": [
    "## Bar Plots"
   ]
  },
  {
   "cell_type": "code",
   "execution_count": 25,
   "metadata": {},
   "outputs": [
    {
     "data": {
      "application/vnd.plotly.v1+json": {
       "config": {
        "linkText": "Export to plot.ly",
        "plotlyServerURL": "https://plot.ly",
        "showLink": true
       },
       "data": [
        {
         "marker": {
          "color": "rgba(255, 153, 51, 0.6)",
          "line": {
           "color": "rgba(255, 153, 51, 1.0)",
           "width": 1
          }
         },
         "name": "Values",
         "orientation": "v",
         "text": "",
         "type": "bar",
         "x": [
          "A",
          "B",
          "C"
         ],
         "y": [
          32,
          43,
          50
         ]
        }
       ],
       "layout": {
        "legend": {
         "bgcolor": "#F5F6F9",
         "font": {
          "color": "#4D5663"
         }
        },
        "paper_bgcolor": "#F5F6F9",
        "plot_bgcolor": "#F5F6F9",
        "template": {
         "data": {
          "bar": [
           {
            "error_x": {
             "color": "#2a3f5f"
            },
            "error_y": {
             "color": "#2a3f5f"
            },
            "marker": {
             "line": {
              "color": "#E5ECF6",
              "width": 0.5
             }
            },
            "type": "bar"
           }
          ],
          "barpolar": [
           {
            "marker": {
             "line": {
              "color": "#E5ECF6",
              "width": 0.5
             }
            },
            "type": "barpolar"
           }
          ],
          "carpet": [
           {
            "aaxis": {
             "endlinecolor": "#2a3f5f",
             "gridcolor": "white",
             "linecolor": "white",
             "minorgridcolor": "white",
             "startlinecolor": "#2a3f5f"
            },
            "baxis": {
             "endlinecolor": "#2a3f5f",
             "gridcolor": "white",
             "linecolor": "white",
             "minorgridcolor": "white",
             "startlinecolor": "#2a3f5f"
            },
            "type": "carpet"
           }
          ],
          "choropleth": [
           {
            "colorbar": {
             "outlinewidth": 0,
             "ticks": ""
            },
            "type": "choropleth"
           }
          ],
          "contour": [
           {
            "colorbar": {
             "outlinewidth": 0,
             "ticks": ""
            },
            "colorscale": [
             [
              0,
              "#0d0887"
             ],
             [
              0.1111111111111111,
              "#46039f"
             ],
             [
              0.2222222222222222,
              "#7201a8"
             ],
             [
              0.3333333333333333,
              "#9c179e"
             ],
             [
              0.4444444444444444,
              "#bd3786"
             ],
             [
              0.5555555555555556,
              "#d8576b"
             ],
             [
              0.6666666666666666,
              "#ed7953"
             ],
             [
              0.7777777777777778,
              "#fb9f3a"
             ],
             [
              0.8888888888888888,
              "#fdca26"
             ],
             [
              1,
              "#f0f921"
             ]
            ],
            "type": "contour"
           }
          ],
          "contourcarpet": [
           {
            "colorbar": {
             "outlinewidth": 0,
             "ticks": ""
            },
            "type": "contourcarpet"
           }
          ],
          "heatmap": [
           {
            "colorbar": {
             "outlinewidth": 0,
             "ticks": ""
            },
            "colorscale": [
             [
              0,
              "#0d0887"
             ],
             [
              0.1111111111111111,
              "#46039f"
             ],
             [
              0.2222222222222222,
              "#7201a8"
             ],
             [
              0.3333333333333333,
              "#9c179e"
             ],
             [
              0.4444444444444444,
              "#bd3786"
             ],
             [
              0.5555555555555556,
              "#d8576b"
             ],
             [
              0.6666666666666666,
              "#ed7953"
             ],
             [
              0.7777777777777778,
              "#fb9f3a"
             ],
             [
              0.8888888888888888,
              "#fdca26"
             ],
             [
              1,
              "#f0f921"
             ]
            ],
            "type": "heatmap"
           }
          ],
          "heatmapgl": [
           {
            "colorbar": {
             "outlinewidth": 0,
             "ticks": ""
            },
            "colorscale": [
             [
              0,
              "#0d0887"
             ],
             [
              0.1111111111111111,
              "#46039f"
             ],
             [
              0.2222222222222222,
              "#7201a8"
             ],
             [
              0.3333333333333333,
              "#9c179e"
             ],
             [
              0.4444444444444444,
              "#bd3786"
             ],
             [
              0.5555555555555556,
              "#d8576b"
             ],
             [
              0.6666666666666666,
              "#ed7953"
             ],
             [
              0.7777777777777778,
              "#fb9f3a"
             ],
             [
              0.8888888888888888,
              "#fdca26"
             ],
             [
              1,
              "#f0f921"
             ]
            ],
            "type": "heatmapgl"
           }
          ],
          "histogram": [
           {
            "marker": {
             "colorbar": {
              "outlinewidth": 0,
              "ticks": ""
             }
            },
            "type": "histogram"
           }
          ],
          "histogram2d": [
           {
            "colorbar": {
             "outlinewidth": 0,
             "ticks": ""
            },
            "colorscale": [
             [
              0,
              "#0d0887"
             ],
             [
              0.1111111111111111,
              "#46039f"
             ],
             [
              0.2222222222222222,
              "#7201a8"
             ],
             [
              0.3333333333333333,
              "#9c179e"
             ],
             [
              0.4444444444444444,
              "#bd3786"
             ],
             [
              0.5555555555555556,
              "#d8576b"
             ],
             [
              0.6666666666666666,
              "#ed7953"
             ],
             [
              0.7777777777777778,
              "#fb9f3a"
             ],
             [
              0.8888888888888888,
              "#fdca26"
             ],
             [
              1,
              "#f0f921"
             ]
            ],
            "type": "histogram2d"
           }
          ],
          "histogram2dcontour": [
           {
            "colorbar": {
             "outlinewidth": 0,
             "ticks": ""
            },
            "colorscale": [
             [
              0,
              "#0d0887"
             ],
             [
              0.1111111111111111,
              "#46039f"
             ],
             [
              0.2222222222222222,
              "#7201a8"
             ],
             [
              0.3333333333333333,
              "#9c179e"
             ],
             [
              0.4444444444444444,
              "#bd3786"
             ],
             [
              0.5555555555555556,
              "#d8576b"
             ],
             [
              0.6666666666666666,
              "#ed7953"
             ],
             [
              0.7777777777777778,
              "#fb9f3a"
             ],
             [
              0.8888888888888888,
              "#fdca26"
             ],
             [
              1,
              "#f0f921"
             ]
            ],
            "type": "histogram2dcontour"
           }
          ],
          "mesh3d": [
           {
            "colorbar": {
             "outlinewidth": 0,
             "ticks": ""
            },
            "type": "mesh3d"
           }
          ],
          "parcoords": [
           {
            "line": {
             "colorbar": {
              "outlinewidth": 0,
              "ticks": ""
             }
            },
            "type": "parcoords"
           }
          ],
          "pie": [
           {
            "automargin": true,
            "type": "pie"
           }
          ],
          "scatter": [
           {
            "marker": {
             "colorbar": {
              "outlinewidth": 0,
              "ticks": ""
             }
            },
            "type": "scatter"
           }
          ],
          "scatter3d": [
           {
            "line": {
             "colorbar": {
              "outlinewidth": 0,
              "ticks": ""
             }
            },
            "marker": {
             "colorbar": {
              "outlinewidth": 0,
              "ticks": ""
             }
            },
            "type": "scatter3d"
           }
          ],
          "scattercarpet": [
           {
            "marker": {
             "colorbar": {
              "outlinewidth": 0,
              "ticks": ""
             }
            },
            "type": "scattercarpet"
           }
          ],
          "scattergeo": [
           {
            "marker": {
             "colorbar": {
              "outlinewidth": 0,
              "ticks": ""
             }
            },
            "type": "scattergeo"
           }
          ],
          "scattergl": [
           {
            "marker": {
             "colorbar": {
              "outlinewidth": 0,
              "ticks": ""
             }
            },
            "type": "scattergl"
           }
          ],
          "scattermapbox": [
           {
            "marker": {
             "colorbar": {
              "outlinewidth": 0,
              "ticks": ""
             }
            },
            "type": "scattermapbox"
           }
          ],
          "scatterpolar": [
           {
            "marker": {
             "colorbar": {
              "outlinewidth": 0,
              "ticks": ""
             }
            },
            "type": "scatterpolar"
           }
          ],
          "scatterpolargl": [
           {
            "marker": {
             "colorbar": {
              "outlinewidth": 0,
              "ticks": ""
             }
            },
            "type": "scatterpolargl"
           }
          ],
          "scatterternary": [
           {
            "marker": {
             "colorbar": {
              "outlinewidth": 0,
              "ticks": ""
             }
            },
            "type": "scatterternary"
           }
          ],
          "surface": [
           {
            "colorbar": {
             "outlinewidth": 0,
             "ticks": ""
            },
            "colorscale": [
             [
              0,
              "#0d0887"
             ],
             [
              0.1111111111111111,
              "#46039f"
             ],
             [
              0.2222222222222222,
              "#7201a8"
             ],
             [
              0.3333333333333333,
              "#9c179e"
             ],
             [
              0.4444444444444444,
              "#bd3786"
             ],
             [
              0.5555555555555556,
              "#d8576b"
             ],
             [
              0.6666666666666666,
              "#ed7953"
             ],
             [
              0.7777777777777778,
              "#fb9f3a"
             ],
             [
              0.8888888888888888,
              "#fdca26"
             ],
             [
              1,
              "#f0f921"
             ]
            ],
            "type": "surface"
           }
          ],
          "table": [
           {
            "cells": {
             "fill": {
              "color": "#EBF0F8"
             },
             "line": {
              "color": "white"
             }
            },
            "header": {
             "fill": {
              "color": "#C8D4E3"
             },
             "line": {
              "color": "white"
             }
            },
            "type": "table"
           }
          ]
         },
         "layout": {
          "annotationdefaults": {
           "arrowcolor": "#2a3f5f",
           "arrowhead": 0,
           "arrowwidth": 1
          },
          "coloraxis": {
           "colorbar": {
            "outlinewidth": 0,
            "ticks": ""
           }
          },
          "colorscale": {
           "diverging": [
            [
             0,
             "#8e0152"
            ],
            [
             0.1,
             "#c51b7d"
            ],
            [
             0.2,
             "#de77ae"
            ],
            [
             0.3,
             "#f1b6da"
            ],
            [
             0.4,
             "#fde0ef"
            ],
            [
             0.5,
             "#f7f7f7"
            ],
            [
             0.6,
             "#e6f5d0"
            ],
            [
             0.7,
             "#b8e186"
            ],
            [
             0.8,
             "#7fbc41"
            ],
            [
             0.9,
             "#4d9221"
            ],
            [
             1,
             "#276419"
            ]
           ],
           "sequential": [
            [
             0,
             "#0d0887"
            ],
            [
             0.1111111111111111,
             "#46039f"
            ],
            [
             0.2222222222222222,
             "#7201a8"
            ],
            [
             0.3333333333333333,
             "#9c179e"
            ],
            [
             0.4444444444444444,
             "#bd3786"
            ],
            [
             0.5555555555555556,
             "#d8576b"
            ],
            [
             0.6666666666666666,
             "#ed7953"
            ],
            [
             0.7777777777777778,
             "#fb9f3a"
            ],
            [
             0.8888888888888888,
             "#fdca26"
            ],
            [
             1,
             "#f0f921"
            ]
           ],
           "sequentialminus": [
            [
             0,
             "#0d0887"
            ],
            [
             0.1111111111111111,
             "#46039f"
            ],
            [
             0.2222222222222222,
             "#7201a8"
            ],
            [
             0.3333333333333333,
             "#9c179e"
            ],
            [
             0.4444444444444444,
             "#bd3786"
            ],
            [
             0.5555555555555556,
             "#d8576b"
            ],
            [
             0.6666666666666666,
             "#ed7953"
            ],
            [
             0.7777777777777778,
             "#fb9f3a"
            ],
            [
             0.8888888888888888,
             "#fdca26"
            ],
            [
             1,
             "#f0f921"
            ]
           ]
          },
          "colorway": [
           "#636efa",
           "#EF553B",
           "#00cc96",
           "#ab63fa",
           "#FFA15A",
           "#19d3f3",
           "#FF6692",
           "#B6E880",
           "#FF97FF",
           "#FECB52"
          ],
          "font": {
           "color": "#2a3f5f"
          },
          "geo": {
           "bgcolor": "white",
           "lakecolor": "white",
           "landcolor": "#E5ECF6",
           "showlakes": true,
           "showland": true,
           "subunitcolor": "white"
          },
          "hoverlabel": {
           "align": "left"
          },
          "hovermode": "closest",
          "mapbox": {
           "style": "light"
          },
          "paper_bgcolor": "white",
          "plot_bgcolor": "#E5ECF6",
          "polar": {
           "angularaxis": {
            "gridcolor": "white",
            "linecolor": "white",
            "ticks": ""
           },
           "bgcolor": "#E5ECF6",
           "radialaxis": {
            "gridcolor": "white",
            "linecolor": "white",
            "ticks": ""
           }
          },
          "scene": {
           "xaxis": {
            "backgroundcolor": "#E5ECF6",
            "gridcolor": "white",
            "gridwidth": 2,
            "linecolor": "white",
            "showbackground": true,
            "ticks": "",
            "zerolinecolor": "white"
           },
           "yaxis": {
            "backgroundcolor": "#E5ECF6",
            "gridcolor": "white",
            "gridwidth": 2,
            "linecolor": "white",
            "showbackground": true,
            "ticks": "",
            "zerolinecolor": "white"
           },
           "zaxis": {
            "backgroundcolor": "#E5ECF6",
            "gridcolor": "white",
            "gridwidth": 2,
            "linecolor": "white",
            "showbackground": true,
            "ticks": "",
            "zerolinecolor": "white"
           }
          },
          "shapedefaults": {
           "line": {
            "color": "#2a3f5f"
           }
          },
          "ternary": {
           "aaxis": {
            "gridcolor": "white",
            "linecolor": "white",
            "ticks": ""
           },
           "baxis": {
            "gridcolor": "white",
            "linecolor": "white",
            "ticks": ""
           },
           "bgcolor": "#E5ECF6",
           "caxis": {
            "gridcolor": "white",
            "linecolor": "white",
            "ticks": ""
           }
          },
          "title": {
           "x": 0.05
          },
          "xaxis": {
           "automargin": true,
           "gridcolor": "white",
           "linecolor": "white",
           "ticks": "",
           "title": {
            "standoff": 15
           },
           "zerolinecolor": "white",
           "zerolinewidth": 2
          },
          "yaxis": {
           "automargin": true,
           "gridcolor": "white",
           "linecolor": "white",
           "ticks": "",
           "title": {
            "standoff": 15
           },
           "zerolinecolor": "white",
           "zerolinewidth": 2
          }
         }
        },
        "title": {
         "font": {
          "color": "#4D5663"
         }
        },
        "xaxis": {
         "gridcolor": "#E1E5ED",
         "showgrid": true,
         "tickfont": {
          "color": "#4D5663"
         },
         "title": {
          "font": {
           "color": "#4D5663"
          },
          "text": ""
         },
         "zerolinecolor": "#E1E5ED"
        },
        "yaxis": {
         "gridcolor": "#E1E5ED",
         "showgrid": true,
         "tickfont": {
          "color": "#4D5663"
         },
         "title": {
          "font": {
           "color": "#4D5663"
          },
          "text": ""
         },
         "zerolinecolor": "#E1E5ED"
        }
       }
      },
      "text/html": [
       "<div>\n",
       "        \n",
       "        \n",
       "            <div id=\"667773e8-fd0d-4060-a2bb-c3e7fdfddd11\" class=\"plotly-graph-div\" style=\"height:525px; width:100%;\"></div>\n",
       "            <script type=\"text/javascript\">\n",
       "                require([\"plotly\"], function(Plotly) {\n",
       "                    window.PLOTLYENV=window.PLOTLYENV || {};\n",
       "                    window.PLOTLYENV.BASE_URL='https://plot.ly';\n",
       "                    \n",
       "                if (document.getElementById(\"667773e8-fd0d-4060-a2bb-c3e7fdfddd11\")) {\n",
       "                    Plotly.newPlot(\n",
       "                        '667773e8-fd0d-4060-a2bb-c3e7fdfddd11',\n",
       "                        [{\"marker\": {\"color\": \"rgba(255, 153, 51, 0.6)\", \"line\": {\"color\": \"rgba(255, 153, 51, 1.0)\", \"width\": 1}}, \"name\": \"Values\", \"orientation\": \"v\", \"text\": \"\", \"type\": \"bar\", \"x\": [\"A\", \"B\", \"C\"], \"y\": [32, 43, 50]}],\n",
       "                        {\"legend\": {\"bgcolor\": \"#F5F6F9\", \"font\": {\"color\": \"#4D5663\"}}, \"paper_bgcolor\": \"#F5F6F9\", \"plot_bgcolor\": \"#F5F6F9\", \"template\": {\"data\": {\"bar\": [{\"error_x\": {\"color\": \"#2a3f5f\"}, \"error_y\": {\"color\": \"#2a3f5f\"}, \"marker\": {\"line\": {\"color\": \"#E5ECF6\", \"width\": 0.5}}, \"type\": \"bar\"}], \"barpolar\": [{\"marker\": {\"line\": {\"color\": \"#E5ECF6\", \"width\": 0.5}}, \"type\": \"barpolar\"}], \"carpet\": [{\"aaxis\": {\"endlinecolor\": \"#2a3f5f\", \"gridcolor\": \"white\", \"linecolor\": \"white\", \"minorgridcolor\": \"white\", \"startlinecolor\": \"#2a3f5f\"}, \"baxis\": {\"endlinecolor\": \"#2a3f5f\", \"gridcolor\": \"white\", \"linecolor\": \"white\", \"minorgridcolor\": \"white\", \"startlinecolor\": \"#2a3f5f\"}, \"type\": \"carpet\"}], \"choropleth\": [{\"colorbar\": {\"outlinewidth\": 0, \"ticks\": \"\"}, \"type\": \"choropleth\"}], \"contour\": [{\"colorbar\": {\"outlinewidth\": 0, \"ticks\": \"\"}, \"colorscale\": [[0.0, \"#0d0887\"], [0.1111111111111111, \"#46039f\"], [0.2222222222222222, \"#7201a8\"], [0.3333333333333333, \"#9c179e\"], [0.4444444444444444, \"#bd3786\"], [0.5555555555555556, \"#d8576b\"], [0.6666666666666666, \"#ed7953\"], [0.7777777777777778, \"#fb9f3a\"], [0.8888888888888888, \"#fdca26\"], [1.0, \"#f0f921\"]], \"type\": \"contour\"}], \"contourcarpet\": [{\"colorbar\": {\"outlinewidth\": 0, \"ticks\": \"\"}, \"type\": \"contourcarpet\"}], \"heatmap\": [{\"colorbar\": {\"outlinewidth\": 0, \"ticks\": \"\"}, \"colorscale\": [[0.0, \"#0d0887\"], [0.1111111111111111, \"#46039f\"], [0.2222222222222222, \"#7201a8\"], [0.3333333333333333, \"#9c179e\"], [0.4444444444444444, \"#bd3786\"], [0.5555555555555556, \"#d8576b\"], [0.6666666666666666, \"#ed7953\"], [0.7777777777777778, \"#fb9f3a\"], [0.8888888888888888, \"#fdca26\"], [1.0, \"#f0f921\"]], \"type\": \"heatmap\"}], \"heatmapgl\": [{\"colorbar\": {\"outlinewidth\": 0, \"ticks\": \"\"}, \"colorscale\": [[0.0, \"#0d0887\"], [0.1111111111111111, \"#46039f\"], [0.2222222222222222, \"#7201a8\"], [0.3333333333333333, \"#9c179e\"], [0.4444444444444444, \"#bd3786\"], [0.5555555555555556, \"#d8576b\"], [0.6666666666666666, \"#ed7953\"], [0.7777777777777778, \"#fb9f3a\"], [0.8888888888888888, \"#fdca26\"], [1.0, \"#f0f921\"]], \"type\": \"heatmapgl\"}], \"histogram\": [{\"marker\": {\"colorbar\": {\"outlinewidth\": 0, \"ticks\": \"\"}}, \"type\": \"histogram\"}], \"histogram2d\": [{\"colorbar\": {\"outlinewidth\": 0, \"ticks\": \"\"}, \"colorscale\": [[0.0, \"#0d0887\"], [0.1111111111111111, \"#46039f\"], [0.2222222222222222, \"#7201a8\"], [0.3333333333333333, \"#9c179e\"], [0.4444444444444444, \"#bd3786\"], [0.5555555555555556, \"#d8576b\"], [0.6666666666666666, \"#ed7953\"], [0.7777777777777778, \"#fb9f3a\"], [0.8888888888888888, \"#fdca26\"], [1.0, \"#f0f921\"]], \"type\": \"histogram2d\"}], \"histogram2dcontour\": [{\"colorbar\": {\"outlinewidth\": 0, \"ticks\": \"\"}, \"colorscale\": [[0.0, \"#0d0887\"], [0.1111111111111111, \"#46039f\"], [0.2222222222222222, \"#7201a8\"], [0.3333333333333333, \"#9c179e\"], [0.4444444444444444, \"#bd3786\"], [0.5555555555555556, \"#d8576b\"], [0.6666666666666666, \"#ed7953\"], [0.7777777777777778, \"#fb9f3a\"], [0.8888888888888888, \"#fdca26\"], [1.0, \"#f0f921\"]], \"type\": \"histogram2dcontour\"}], \"mesh3d\": [{\"colorbar\": {\"outlinewidth\": 0, \"ticks\": \"\"}, \"type\": \"mesh3d\"}], \"parcoords\": [{\"line\": {\"colorbar\": {\"outlinewidth\": 0, \"ticks\": \"\"}}, \"type\": \"parcoords\"}], \"pie\": [{\"automargin\": true, \"type\": \"pie\"}], \"scatter\": [{\"marker\": {\"colorbar\": {\"outlinewidth\": 0, \"ticks\": \"\"}}, \"type\": \"scatter\"}], \"scatter3d\": [{\"line\": {\"colorbar\": {\"outlinewidth\": 0, \"ticks\": \"\"}}, \"marker\": {\"colorbar\": {\"outlinewidth\": 0, \"ticks\": \"\"}}, \"type\": \"scatter3d\"}], \"scattercarpet\": [{\"marker\": {\"colorbar\": {\"outlinewidth\": 0, \"ticks\": \"\"}}, \"type\": \"scattercarpet\"}], \"scattergeo\": [{\"marker\": {\"colorbar\": {\"outlinewidth\": 0, \"ticks\": \"\"}}, \"type\": \"scattergeo\"}], \"scattergl\": [{\"marker\": {\"colorbar\": {\"outlinewidth\": 0, \"ticks\": \"\"}}, \"type\": \"scattergl\"}], \"scattermapbox\": [{\"marker\": {\"colorbar\": {\"outlinewidth\": 0, \"ticks\": \"\"}}, \"type\": \"scattermapbox\"}], \"scatterpolar\": [{\"marker\": {\"colorbar\": {\"outlinewidth\": 0, \"ticks\": \"\"}}, \"type\": \"scatterpolar\"}], \"scatterpolargl\": [{\"marker\": {\"colorbar\": {\"outlinewidth\": 0, \"ticks\": \"\"}}, \"type\": \"scatterpolargl\"}], \"scatterternary\": [{\"marker\": {\"colorbar\": {\"outlinewidth\": 0, \"ticks\": \"\"}}, \"type\": \"scatterternary\"}], \"surface\": [{\"colorbar\": {\"outlinewidth\": 0, \"ticks\": \"\"}, \"colorscale\": [[0.0, \"#0d0887\"], [0.1111111111111111, \"#46039f\"], [0.2222222222222222, \"#7201a8\"], [0.3333333333333333, \"#9c179e\"], [0.4444444444444444, \"#bd3786\"], [0.5555555555555556, \"#d8576b\"], [0.6666666666666666, \"#ed7953\"], [0.7777777777777778, \"#fb9f3a\"], [0.8888888888888888, \"#fdca26\"], [1.0, \"#f0f921\"]], \"type\": \"surface\"}], \"table\": [{\"cells\": {\"fill\": {\"color\": \"#EBF0F8\"}, \"line\": {\"color\": \"white\"}}, \"header\": {\"fill\": {\"color\": \"#C8D4E3\"}, \"line\": {\"color\": \"white\"}}, \"type\": \"table\"}]}, \"layout\": {\"annotationdefaults\": {\"arrowcolor\": \"#2a3f5f\", \"arrowhead\": 0, \"arrowwidth\": 1}, \"coloraxis\": {\"colorbar\": {\"outlinewidth\": 0, \"ticks\": \"\"}}, \"colorscale\": {\"diverging\": [[0, \"#8e0152\"], [0.1, \"#c51b7d\"], [0.2, \"#de77ae\"], [0.3, \"#f1b6da\"], [0.4, \"#fde0ef\"], [0.5, \"#f7f7f7\"], [0.6, \"#e6f5d0\"], [0.7, \"#b8e186\"], [0.8, \"#7fbc41\"], [0.9, \"#4d9221\"], [1, \"#276419\"]], \"sequential\": [[0.0, \"#0d0887\"], [0.1111111111111111, \"#46039f\"], [0.2222222222222222, \"#7201a8\"], [0.3333333333333333, \"#9c179e\"], [0.4444444444444444, \"#bd3786\"], [0.5555555555555556, \"#d8576b\"], [0.6666666666666666, \"#ed7953\"], [0.7777777777777778, \"#fb9f3a\"], [0.8888888888888888, \"#fdca26\"], [1.0, \"#f0f921\"]], \"sequentialminus\": [[0.0, \"#0d0887\"], [0.1111111111111111, \"#46039f\"], [0.2222222222222222, \"#7201a8\"], [0.3333333333333333, \"#9c179e\"], [0.4444444444444444, \"#bd3786\"], [0.5555555555555556, \"#d8576b\"], [0.6666666666666666, \"#ed7953\"], [0.7777777777777778, \"#fb9f3a\"], [0.8888888888888888, \"#fdca26\"], [1.0, \"#f0f921\"]]}, \"colorway\": [\"#636efa\", \"#EF553B\", \"#00cc96\", \"#ab63fa\", \"#FFA15A\", \"#19d3f3\", \"#FF6692\", \"#B6E880\", \"#FF97FF\", \"#FECB52\"], \"font\": {\"color\": \"#2a3f5f\"}, \"geo\": {\"bgcolor\": \"white\", \"lakecolor\": \"white\", \"landcolor\": \"#E5ECF6\", \"showlakes\": true, \"showland\": true, \"subunitcolor\": \"white\"}, \"hoverlabel\": {\"align\": \"left\"}, \"hovermode\": \"closest\", \"mapbox\": {\"style\": \"light\"}, \"paper_bgcolor\": \"white\", \"plot_bgcolor\": \"#E5ECF6\", \"polar\": {\"angularaxis\": {\"gridcolor\": \"white\", \"linecolor\": \"white\", \"ticks\": \"\"}, \"bgcolor\": \"#E5ECF6\", \"radialaxis\": {\"gridcolor\": \"white\", \"linecolor\": \"white\", \"ticks\": \"\"}}, \"scene\": {\"xaxis\": {\"backgroundcolor\": \"#E5ECF6\", \"gridcolor\": \"white\", \"gridwidth\": 2, \"linecolor\": \"white\", \"showbackground\": true, \"ticks\": \"\", \"zerolinecolor\": \"white\"}, \"yaxis\": {\"backgroundcolor\": \"#E5ECF6\", \"gridcolor\": \"white\", \"gridwidth\": 2, \"linecolor\": \"white\", \"showbackground\": true, \"ticks\": \"\", \"zerolinecolor\": \"white\"}, \"zaxis\": {\"backgroundcolor\": \"#E5ECF6\", \"gridcolor\": \"white\", \"gridwidth\": 2, \"linecolor\": \"white\", \"showbackground\": true, \"ticks\": \"\", \"zerolinecolor\": \"white\"}}, \"shapedefaults\": {\"line\": {\"color\": \"#2a3f5f\"}}, \"ternary\": {\"aaxis\": {\"gridcolor\": \"white\", \"linecolor\": \"white\", \"ticks\": \"\"}, \"baxis\": {\"gridcolor\": \"white\", \"linecolor\": \"white\", \"ticks\": \"\"}, \"bgcolor\": \"#E5ECF6\", \"caxis\": {\"gridcolor\": \"white\", \"linecolor\": \"white\", \"ticks\": \"\"}}, \"title\": {\"x\": 0.05}, \"xaxis\": {\"automargin\": true, \"gridcolor\": \"white\", \"linecolor\": \"white\", \"ticks\": \"\", \"title\": {\"standoff\": 15}, \"zerolinecolor\": \"white\", \"zerolinewidth\": 2}, \"yaxis\": {\"automargin\": true, \"gridcolor\": \"white\", \"linecolor\": \"white\", \"ticks\": \"\", \"title\": {\"standoff\": 15}, \"zerolinecolor\": \"white\", \"zerolinewidth\": 2}}}, \"title\": {\"font\": {\"color\": \"#4D5663\"}}, \"xaxis\": {\"gridcolor\": \"#E1E5ED\", \"showgrid\": true, \"tickfont\": {\"color\": \"#4D5663\"}, \"title\": {\"font\": {\"color\": \"#4D5663\"}, \"text\": \"\"}, \"zerolinecolor\": \"#E1E5ED\"}, \"yaxis\": {\"gridcolor\": \"#E1E5ED\", \"showgrid\": true, \"tickfont\": {\"color\": \"#4D5663\"}, \"title\": {\"font\": {\"color\": \"#4D5663\"}, \"text\": \"\"}, \"zerolinecolor\": \"#E1E5ED\"}},\n",
       "                        {\"showLink\": true, \"linkText\": \"Export to plot.ly\", \"plotlyServerURL\": \"https://plot.ly\", \"responsive\": true}\n",
       "                    ).then(function(){\n",
       "                            \n",
       "var gd = document.getElementById('667773e8-fd0d-4060-a2bb-c3e7fdfddd11');\n",
       "var x = new MutationObserver(function (mutations, observer) {{\n",
       "        var display = window.getComputedStyle(gd).display;\n",
       "        if (!display || display === 'none') {{\n",
       "            console.log([gd, 'removed!']);\n",
       "            Plotly.purge(gd);\n",
       "            observer.disconnect();\n",
       "        }}\n",
       "}});\n",
       "\n",
       "// Listen for the removal of the full notebook cells\n",
       "var notebookContainer = gd.closest('#notebook-container');\n",
       "if (notebookContainer) {{\n",
       "    x.observe(notebookContainer, {childList: true});\n",
       "}}\n",
       "\n",
       "// Listen for the clearing of the current output cell\n",
       "var outputEl = gd.closest('.output');\n",
       "if (outputEl) {{\n",
       "    x.observe(outputEl, {childList: true});\n",
       "}}\n",
       "\n",
       "                        })\n",
       "                };\n",
       "                });\n",
       "            </script>\n",
       "        </div>"
      ]
     },
     "metadata": {},
     "output_type": "display_data"
    }
   ],
   "source": [
    "df2.iplot(kind='bar',x='Category',y='Values')"
   ]
  },
  {
   "cell_type": "code",
   "execution_count": 26,
   "metadata": {},
   "outputs": [
    {
     "data": {
      "application/vnd.plotly.v1+json": {
       "config": {
        "linkText": "Export to plot.ly",
        "plotlyServerURL": "https://plot.ly",
        "showLink": true
       },
       "data": [
        {
         "marker": {
          "color": "rgba(255, 153, 51, 0.6)",
          "line": {
           "color": "rgba(255, 153, 51, 1.0)",
           "width": 1
          }
         },
         "name": "None",
         "orientation": "v",
         "text": "",
         "type": "bar",
         "x": [
          "A",
          "B",
          "C",
          "D"
         ],
         "y": [
          100,
          100,
          100,
          100
         ]
        }
       ],
       "layout": {
        "legend": {
         "bgcolor": "#F5F6F9",
         "font": {
          "color": "#4D5663"
         }
        },
        "paper_bgcolor": "#F5F6F9",
        "plot_bgcolor": "#F5F6F9",
        "template": {
         "data": {
          "bar": [
           {
            "error_x": {
             "color": "#2a3f5f"
            },
            "error_y": {
             "color": "#2a3f5f"
            },
            "marker": {
             "line": {
              "color": "#E5ECF6",
              "width": 0.5
             }
            },
            "type": "bar"
           }
          ],
          "barpolar": [
           {
            "marker": {
             "line": {
              "color": "#E5ECF6",
              "width": 0.5
             }
            },
            "type": "barpolar"
           }
          ],
          "carpet": [
           {
            "aaxis": {
             "endlinecolor": "#2a3f5f",
             "gridcolor": "white",
             "linecolor": "white",
             "minorgridcolor": "white",
             "startlinecolor": "#2a3f5f"
            },
            "baxis": {
             "endlinecolor": "#2a3f5f",
             "gridcolor": "white",
             "linecolor": "white",
             "minorgridcolor": "white",
             "startlinecolor": "#2a3f5f"
            },
            "type": "carpet"
           }
          ],
          "choropleth": [
           {
            "colorbar": {
             "outlinewidth": 0,
             "ticks": ""
            },
            "type": "choropleth"
           }
          ],
          "contour": [
           {
            "colorbar": {
             "outlinewidth": 0,
             "ticks": ""
            },
            "colorscale": [
             [
              0,
              "#0d0887"
             ],
             [
              0.1111111111111111,
              "#46039f"
             ],
             [
              0.2222222222222222,
              "#7201a8"
             ],
             [
              0.3333333333333333,
              "#9c179e"
             ],
             [
              0.4444444444444444,
              "#bd3786"
             ],
             [
              0.5555555555555556,
              "#d8576b"
             ],
             [
              0.6666666666666666,
              "#ed7953"
             ],
             [
              0.7777777777777778,
              "#fb9f3a"
             ],
             [
              0.8888888888888888,
              "#fdca26"
             ],
             [
              1,
              "#f0f921"
             ]
            ],
            "type": "contour"
           }
          ],
          "contourcarpet": [
           {
            "colorbar": {
             "outlinewidth": 0,
             "ticks": ""
            },
            "type": "contourcarpet"
           }
          ],
          "heatmap": [
           {
            "colorbar": {
             "outlinewidth": 0,
             "ticks": ""
            },
            "colorscale": [
             [
              0,
              "#0d0887"
             ],
             [
              0.1111111111111111,
              "#46039f"
             ],
             [
              0.2222222222222222,
              "#7201a8"
             ],
             [
              0.3333333333333333,
              "#9c179e"
             ],
             [
              0.4444444444444444,
              "#bd3786"
             ],
             [
              0.5555555555555556,
              "#d8576b"
             ],
             [
              0.6666666666666666,
              "#ed7953"
             ],
             [
              0.7777777777777778,
              "#fb9f3a"
             ],
             [
              0.8888888888888888,
              "#fdca26"
             ],
             [
              1,
              "#f0f921"
             ]
            ],
            "type": "heatmap"
           }
          ],
          "heatmapgl": [
           {
            "colorbar": {
             "outlinewidth": 0,
             "ticks": ""
            },
            "colorscale": [
             [
              0,
              "#0d0887"
             ],
             [
              0.1111111111111111,
              "#46039f"
             ],
             [
              0.2222222222222222,
              "#7201a8"
             ],
             [
              0.3333333333333333,
              "#9c179e"
             ],
             [
              0.4444444444444444,
              "#bd3786"
             ],
             [
              0.5555555555555556,
              "#d8576b"
             ],
             [
              0.6666666666666666,
              "#ed7953"
             ],
             [
              0.7777777777777778,
              "#fb9f3a"
             ],
             [
              0.8888888888888888,
              "#fdca26"
             ],
             [
              1,
              "#f0f921"
             ]
            ],
            "type": "heatmapgl"
           }
          ],
          "histogram": [
           {
            "marker": {
             "colorbar": {
              "outlinewidth": 0,
              "ticks": ""
             }
            },
            "type": "histogram"
           }
          ],
          "histogram2d": [
           {
            "colorbar": {
             "outlinewidth": 0,
             "ticks": ""
            },
            "colorscale": [
             [
              0,
              "#0d0887"
             ],
             [
              0.1111111111111111,
              "#46039f"
             ],
             [
              0.2222222222222222,
              "#7201a8"
             ],
             [
              0.3333333333333333,
              "#9c179e"
             ],
             [
              0.4444444444444444,
              "#bd3786"
             ],
             [
              0.5555555555555556,
              "#d8576b"
             ],
             [
              0.6666666666666666,
              "#ed7953"
             ],
             [
              0.7777777777777778,
              "#fb9f3a"
             ],
             [
              0.8888888888888888,
              "#fdca26"
             ],
             [
              1,
              "#f0f921"
             ]
            ],
            "type": "histogram2d"
           }
          ],
          "histogram2dcontour": [
           {
            "colorbar": {
             "outlinewidth": 0,
             "ticks": ""
            },
            "colorscale": [
             [
              0,
              "#0d0887"
             ],
             [
              0.1111111111111111,
              "#46039f"
             ],
             [
              0.2222222222222222,
              "#7201a8"
             ],
             [
              0.3333333333333333,
              "#9c179e"
             ],
             [
              0.4444444444444444,
              "#bd3786"
             ],
             [
              0.5555555555555556,
              "#d8576b"
             ],
             [
              0.6666666666666666,
              "#ed7953"
             ],
             [
              0.7777777777777778,
              "#fb9f3a"
             ],
             [
              0.8888888888888888,
              "#fdca26"
             ],
             [
              1,
              "#f0f921"
             ]
            ],
            "type": "histogram2dcontour"
           }
          ],
          "mesh3d": [
           {
            "colorbar": {
             "outlinewidth": 0,
             "ticks": ""
            },
            "type": "mesh3d"
           }
          ],
          "parcoords": [
           {
            "line": {
             "colorbar": {
              "outlinewidth": 0,
              "ticks": ""
             }
            },
            "type": "parcoords"
           }
          ],
          "pie": [
           {
            "automargin": true,
            "type": "pie"
           }
          ],
          "scatter": [
           {
            "marker": {
             "colorbar": {
              "outlinewidth": 0,
              "ticks": ""
             }
            },
            "type": "scatter"
           }
          ],
          "scatter3d": [
           {
            "line": {
             "colorbar": {
              "outlinewidth": 0,
              "ticks": ""
             }
            },
            "marker": {
             "colorbar": {
              "outlinewidth": 0,
              "ticks": ""
             }
            },
            "type": "scatter3d"
           }
          ],
          "scattercarpet": [
           {
            "marker": {
             "colorbar": {
              "outlinewidth": 0,
              "ticks": ""
             }
            },
            "type": "scattercarpet"
           }
          ],
          "scattergeo": [
           {
            "marker": {
             "colorbar": {
              "outlinewidth": 0,
              "ticks": ""
             }
            },
            "type": "scattergeo"
           }
          ],
          "scattergl": [
           {
            "marker": {
             "colorbar": {
              "outlinewidth": 0,
              "ticks": ""
             }
            },
            "type": "scattergl"
           }
          ],
          "scattermapbox": [
           {
            "marker": {
             "colorbar": {
              "outlinewidth": 0,
              "ticks": ""
             }
            },
            "type": "scattermapbox"
           }
          ],
          "scatterpolar": [
           {
            "marker": {
             "colorbar": {
              "outlinewidth": 0,
              "ticks": ""
             }
            },
            "type": "scatterpolar"
           }
          ],
          "scatterpolargl": [
           {
            "marker": {
             "colorbar": {
              "outlinewidth": 0,
              "ticks": ""
             }
            },
            "type": "scatterpolargl"
           }
          ],
          "scatterternary": [
           {
            "marker": {
             "colorbar": {
              "outlinewidth": 0,
              "ticks": ""
             }
            },
            "type": "scatterternary"
           }
          ],
          "surface": [
           {
            "colorbar": {
             "outlinewidth": 0,
             "ticks": ""
            },
            "colorscale": [
             [
              0,
              "#0d0887"
             ],
             [
              0.1111111111111111,
              "#46039f"
             ],
             [
              0.2222222222222222,
              "#7201a8"
             ],
             [
              0.3333333333333333,
              "#9c179e"
             ],
             [
              0.4444444444444444,
              "#bd3786"
             ],
             [
              0.5555555555555556,
              "#d8576b"
             ],
             [
              0.6666666666666666,
              "#ed7953"
             ],
             [
              0.7777777777777778,
              "#fb9f3a"
             ],
             [
              0.8888888888888888,
              "#fdca26"
             ],
             [
              1,
              "#f0f921"
             ]
            ],
            "type": "surface"
           }
          ],
          "table": [
           {
            "cells": {
             "fill": {
              "color": "#EBF0F8"
             },
             "line": {
              "color": "white"
             }
            },
            "header": {
             "fill": {
              "color": "#C8D4E3"
             },
             "line": {
              "color": "white"
             }
            },
            "type": "table"
           }
          ]
         },
         "layout": {
          "annotationdefaults": {
           "arrowcolor": "#2a3f5f",
           "arrowhead": 0,
           "arrowwidth": 1
          },
          "coloraxis": {
           "colorbar": {
            "outlinewidth": 0,
            "ticks": ""
           }
          },
          "colorscale": {
           "diverging": [
            [
             0,
             "#8e0152"
            ],
            [
             0.1,
             "#c51b7d"
            ],
            [
             0.2,
             "#de77ae"
            ],
            [
             0.3,
             "#f1b6da"
            ],
            [
             0.4,
             "#fde0ef"
            ],
            [
             0.5,
             "#f7f7f7"
            ],
            [
             0.6,
             "#e6f5d0"
            ],
            [
             0.7,
             "#b8e186"
            ],
            [
             0.8,
             "#7fbc41"
            ],
            [
             0.9,
             "#4d9221"
            ],
            [
             1,
             "#276419"
            ]
           ],
           "sequential": [
            [
             0,
             "#0d0887"
            ],
            [
             0.1111111111111111,
             "#46039f"
            ],
            [
             0.2222222222222222,
             "#7201a8"
            ],
            [
             0.3333333333333333,
             "#9c179e"
            ],
            [
             0.4444444444444444,
             "#bd3786"
            ],
            [
             0.5555555555555556,
             "#d8576b"
            ],
            [
             0.6666666666666666,
             "#ed7953"
            ],
            [
             0.7777777777777778,
             "#fb9f3a"
            ],
            [
             0.8888888888888888,
             "#fdca26"
            ],
            [
             1,
             "#f0f921"
            ]
           ],
           "sequentialminus": [
            [
             0,
             "#0d0887"
            ],
            [
             0.1111111111111111,
             "#46039f"
            ],
            [
             0.2222222222222222,
             "#7201a8"
            ],
            [
             0.3333333333333333,
             "#9c179e"
            ],
            [
             0.4444444444444444,
             "#bd3786"
            ],
            [
             0.5555555555555556,
             "#d8576b"
            ],
            [
             0.6666666666666666,
             "#ed7953"
            ],
            [
             0.7777777777777778,
             "#fb9f3a"
            ],
            [
             0.8888888888888888,
             "#fdca26"
            ],
            [
             1,
             "#f0f921"
            ]
           ]
          },
          "colorway": [
           "#636efa",
           "#EF553B",
           "#00cc96",
           "#ab63fa",
           "#FFA15A",
           "#19d3f3",
           "#FF6692",
           "#B6E880",
           "#FF97FF",
           "#FECB52"
          ],
          "font": {
           "color": "#2a3f5f"
          },
          "geo": {
           "bgcolor": "white",
           "lakecolor": "white",
           "landcolor": "#E5ECF6",
           "showlakes": true,
           "showland": true,
           "subunitcolor": "white"
          },
          "hoverlabel": {
           "align": "left"
          },
          "hovermode": "closest",
          "mapbox": {
           "style": "light"
          },
          "paper_bgcolor": "white",
          "plot_bgcolor": "#E5ECF6",
          "polar": {
           "angularaxis": {
            "gridcolor": "white",
            "linecolor": "white",
            "ticks": ""
           },
           "bgcolor": "#E5ECF6",
           "radialaxis": {
            "gridcolor": "white",
            "linecolor": "white",
            "ticks": ""
           }
          },
          "scene": {
           "xaxis": {
            "backgroundcolor": "#E5ECF6",
            "gridcolor": "white",
            "gridwidth": 2,
            "linecolor": "white",
            "showbackground": true,
            "ticks": "",
            "zerolinecolor": "white"
           },
           "yaxis": {
            "backgroundcolor": "#E5ECF6",
            "gridcolor": "white",
            "gridwidth": 2,
            "linecolor": "white",
            "showbackground": true,
            "ticks": "",
            "zerolinecolor": "white"
           },
           "zaxis": {
            "backgroundcolor": "#E5ECF6",
            "gridcolor": "white",
            "gridwidth": 2,
            "linecolor": "white",
            "showbackground": true,
            "ticks": "",
            "zerolinecolor": "white"
           }
          },
          "shapedefaults": {
           "line": {
            "color": "#2a3f5f"
           }
          },
          "ternary": {
           "aaxis": {
            "gridcolor": "white",
            "linecolor": "white",
            "ticks": ""
           },
           "baxis": {
            "gridcolor": "white",
            "linecolor": "white",
            "ticks": ""
           },
           "bgcolor": "#E5ECF6",
           "caxis": {
            "gridcolor": "white",
            "linecolor": "white",
            "ticks": ""
           }
          },
          "title": {
           "x": 0.05
          },
          "xaxis": {
           "automargin": true,
           "gridcolor": "white",
           "linecolor": "white",
           "ticks": "",
           "title": {
            "standoff": 15
           },
           "zerolinecolor": "white",
           "zerolinewidth": 2
          },
          "yaxis": {
           "automargin": true,
           "gridcolor": "white",
           "linecolor": "white",
           "ticks": "",
           "title": {
            "standoff": 15
           },
           "zerolinecolor": "white",
           "zerolinewidth": 2
          }
         }
        },
        "title": {
         "font": {
          "color": "#4D5663"
         }
        },
        "xaxis": {
         "gridcolor": "#E1E5ED",
         "showgrid": true,
         "tickfont": {
          "color": "#4D5663"
         },
         "title": {
          "font": {
           "color": "#4D5663"
          },
          "text": ""
         },
         "zerolinecolor": "#E1E5ED"
        },
        "yaxis": {
         "gridcolor": "#E1E5ED",
         "showgrid": true,
         "tickfont": {
          "color": "#4D5663"
         },
         "title": {
          "font": {
           "color": "#4D5663"
          },
          "text": ""
         },
         "zerolinecolor": "#E1E5ED"
        }
       }
      },
      "text/html": [
       "<div>\n",
       "        \n",
       "        \n",
       "            <div id=\"ce1263d4-2f2d-4b5b-a2eb-16270102aa55\" class=\"plotly-graph-div\" style=\"height:525px; width:100%;\"></div>\n",
       "            <script type=\"text/javascript\">\n",
       "                require([\"plotly\"], function(Plotly) {\n",
       "                    window.PLOTLYENV=window.PLOTLYENV || {};\n",
       "                    window.PLOTLYENV.BASE_URL='https://plot.ly';\n",
       "                    \n",
       "                if (document.getElementById(\"ce1263d4-2f2d-4b5b-a2eb-16270102aa55\")) {\n",
       "                    Plotly.newPlot(\n",
       "                        'ce1263d4-2f2d-4b5b-a2eb-16270102aa55',\n",
       "                        [{\"marker\": {\"color\": \"rgba(255, 153, 51, 0.6)\", \"line\": {\"color\": \"rgba(255, 153, 51, 1.0)\", \"width\": 1}}, \"name\": \"None\", \"orientation\": \"v\", \"text\": \"\", \"type\": \"bar\", \"x\": [\"A\", \"B\", \"C\", \"D\"], \"y\": [100, 100, 100, 100]}],\n",
       "                        {\"legend\": {\"bgcolor\": \"#F5F6F9\", \"font\": {\"color\": \"#4D5663\"}}, \"paper_bgcolor\": \"#F5F6F9\", \"plot_bgcolor\": \"#F5F6F9\", \"template\": {\"data\": {\"bar\": [{\"error_x\": {\"color\": \"#2a3f5f\"}, \"error_y\": {\"color\": \"#2a3f5f\"}, \"marker\": {\"line\": {\"color\": \"#E5ECF6\", \"width\": 0.5}}, \"type\": \"bar\"}], \"barpolar\": [{\"marker\": {\"line\": {\"color\": \"#E5ECF6\", \"width\": 0.5}}, \"type\": \"barpolar\"}], \"carpet\": [{\"aaxis\": {\"endlinecolor\": \"#2a3f5f\", \"gridcolor\": \"white\", \"linecolor\": \"white\", \"minorgridcolor\": \"white\", \"startlinecolor\": \"#2a3f5f\"}, \"baxis\": {\"endlinecolor\": \"#2a3f5f\", \"gridcolor\": \"white\", \"linecolor\": \"white\", \"minorgridcolor\": \"white\", \"startlinecolor\": \"#2a3f5f\"}, \"type\": \"carpet\"}], \"choropleth\": [{\"colorbar\": {\"outlinewidth\": 0, \"ticks\": \"\"}, \"type\": \"choropleth\"}], \"contour\": [{\"colorbar\": {\"outlinewidth\": 0, \"ticks\": \"\"}, \"colorscale\": [[0.0, \"#0d0887\"], [0.1111111111111111, \"#46039f\"], [0.2222222222222222, \"#7201a8\"], [0.3333333333333333, \"#9c179e\"], [0.4444444444444444, \"#bd3786\"], [0.5555555555555556, \"#d8576b\"], [0.6666666666666666, \"#ed7953\"], [0.7777777777777778, \"#fb9f3a\"], [0.8888888888888888, \"#fdca26\"], [1.0, \"#f0f921\"]], \"type\": \"contour\"}], \"contourcarpet\": [{\"colorbar\": {\"outlinewidth\": 0, \"ticks\": \"\"}, \"type\": \"contourcarpet\"}], \"heatmap\": [{\"colorbar\": {\"outlinewidth\": 0, \"ticks\": \"\"}, \"colorscale\": [[0.0, \"#0d0887\"], [0.1111111111111111, \"#46039f\"], [0.2222222222222222, \"#7201a8\"], [0.3333333333333333, \"#9c179e\"], [0.4444444444444444, \"#bd3786\"], [0.5555555555555556, \"#d8576b\"], [0.6666666666666666, \"#ed7953\"], [0.7777777777777778, \"#fb9f3a\"], [0.8888888888888888, \"#fdca26\"], [1.0, \"#f0f921\"]], \"type\": \"heatmap\"}], \"heatmapgl\": [{\"colorbar\": {\"outlinewidth\": 0, \"ticks\": \"\"}, \"colorscale\": [[0.0, \"#0d0887\"], [0.1111111111111111, \"#46039f\"], [0.2222222222222222, \"#7201a8\"], [0.3333333333333333, \"#9c179e\"], [0.4444444444444444, \"#bd3786\"], [0.5555555555555556, \"#d8576b\"], [0.6666666666666666, \"#ed7953\"], [0.7777777777777778, \"#fb9f3a\"], [0.8888888888888888, \"#fdca26\"], [1.0, \"#f0f921\"]], \"type\": \"heatmapgl\"}], \"histogram\": [{\"marker\": {\"colorbar\": {\"outlinewidth\": 0, \"ticks\": \"\"}}, \"type\": \"histogram\"}], \"histogram2d\": [{\"colorbar\": {\"outlinewidth\": 0, \"ticks\": \"\"}, \"colorscale\": [[0.0, \"#0d0887\"], [0.1111111111111111, \"#46039f\"], [0.2222222222222222, \"#7201a8\"], [0.3333333333333333, \"#9c179e\"], [0.4444444444444444, \"#bd3786\"], [0.5555555555555556, \"#d8576b\"], [0.6666666666666666, \"#ed7953\"], [0.7777777777777778, \"#fb9f3a\"], [0.8888888888888888, \"#fdca26\"], [1.0, \"#f0f921\"]], \"type\": \"histogram2d\"}], \"histogram2dcontour\": [{\"colorbar\": {\"outlinewidth\": 0, \"ticks\": \"\"}, \"colorscale\": [[0.0, \"#0d0887\"], [0.1111111111111111, \"#46039f\"], [0.2222222222222222, \"#7201a8\"], [0.3333333333333333, \"#9c179e\"], [0.4444444444444444, \"#bd3786\"], [0.5555555555555556, \"#d8576b\"], [0.6666666666666666, \"#ed7953\"], [0.7777777777777778, \"#fb9f3a\"], [0.8888888888888888, \"#fdca26\"], [1.0, \"#f0f921\"]], \"type\": \"histogram2dcontour\"}], \"mesh3d\": [{\"colorbar\": {\"outlinewidth\": 0, \"ticks\": \"\"}, \"type\": \"mesh3d\"}], \"parcoords\": [{\"line\": {\"colorbar\": {\"outlinewidth\": 0, \"ticks\": \"\"}}, \"type\": \"parcoords\"}], \"pie\": [{\"automargin\": true, \"type\": \"pie\"}], \"scatter\": [{\"marker\": {\"colorbar\": {\"outlinewidth\": 0, \"ticks\": \"\"}}, \"type\": \"scatter\"}], \"scatter3d\": [{\"line\": {\"colorbar\": {\"outlinewidth\": 0, \"ticks\": \"\"}}, \"marker\": {\"colorbar\": {\"outlinewidth\": 0, \"ticks\": \"\"}}, \"type\": \"scatter3d\"}], \"scattercarpet\": [{\"marker\": {\"colorbar\": {\"outlinewidth\": 0, \"ticks\": \"\"}}, \"type\": \"scattercarpet\"}], \"scattergeo\": [{\"marker\": {\"colorbar\": {\"outlinewidth\": 0, \"ticks\": \"\"}}, \"type\": \"scattergeo\"}], \"scattergl\": [{\"marker\": {\"colorbar\": {\"outlinewidth\": 0, \"ticks\": \"\"}}, \"type\": \"scattergl\"}], \"scattermapbox\": [{\"marker\": {\"colorbar\": {\"outlinewidth\": 0, \"ticks\": \"\"}}, \"type\": \"scattermapbox\"}], \"scatterpolar\": [{\"marker\": {\"colorbar\": {\"outlinewidth\": 0, \"ticks\": \"\"}}, \"type\": \"scatterpolar\"}], \"scatterpolargl\": [{\"marker\": {\"colorbar\": {\"outlinewidth\": 0, \"ticks\": \"\"}}, \"type\": \"scatterpolargl\"}], \"scatterternary\": [{\"marker\": {\"colorbar\": {\"outlinewidth\": 0, \"ticks\": \"\"}}, \"type\": \"scatterternary\"}], \"surface\": [{\"colorbar\": {\"outlinewidth\": 0, \"ticks\": \"\"}, \"colorscale\": [[0.0, \"#0d0887\"], [0.1111111111111111, \"#46039f\"], [0.2222222222222222, \"#7201a8\"], [0.3333333333333333, \"#9c179e\"], [0.4444444444444444, \"#bd3786\"], [0.5555555555555556, \"#d8576b\"], [0.6666666666666666, \"#ed7953\"], [0.7777777777777778, \"#fb9f3a\"], [0.8888888888888888, \"#fdca26\"], [1.0, \"#f0f921\"]], \"type\": \"surface\"}], \"table\": [{\"cells\": {\"fill\": {\"color\": \"#EBF0F8\"}, \"line\": {\"color\": \"white\"}}, \"header\": {\"fill\": {\"color\": \"#C8D4E3\"}, \"line\": {\"color\": \"white\"}}, \"type\": \"table\"}]}, \"layout\": {\"annotationdefaults\": {\"arrowcolor\": \"#2a3f5f\", \"arrowhead\": 0, \"arrowwidth\": 1}, \"coloraxis\": {\"colorbar\": {\"outlinewidth\": 0, \"ticks\": \"\"}}, \"colorscale\": {\"diverging\": [[0, \"#8e0152\"], [0.1, \"#c51b7d\"], [0.2, \"#de77ae\"], [0.3, \"#f1b6da\"], [0.4, \"#fde0ef\"], [0.5, \"#f7f7f7\"], [0.6, \"#e6f5d0\"], [0.7, \"#b8e186\"], [0.8, \"#7fbc41\"], [0.9, \"#4d9221\"], [1, \"#276419\"]], \"sequential\": [[0.0, \"#0d0887\"], [0.1111111111111111, \"#46039f\"], [0.2222222222222222, \"#7201a8\"], [0.3333333333333333, \"#9c179e\"], [0.4444444444444444, \"#bd3786\"], [0.5555555555555556, \"#d8576b\"], [0.6666666666666666, \"#ed7953\"], [0.7777777777777778, \"#fb9f3a\"], [0.8888888888888888, \"#fdca26\"], [1.0, \"#f0f921\"]], \"sequentialminus\": [[0.0, \"#0d0887\"], [0.1111111111111111, \"#46039f\"], [0.2222222222222222, \"#7201a8\"], [0.3333333333333333, \"#9c179e\"], [0.4444444444444444, \"#bd3786\"], [0.5555555555555556, \"#d8576b\"], [0.6666666666666666, \"#ed7953\"], [0.7777777777777778, \"#fb9f3a\"], [0.8888888888888888, \"#fdca26\"], [1.0, \"#f0f921\"]]}, \"colorway\": [\"#636efa\", \"#EF553B\", \"#00cc96\", \"#ab63fa\", \"#FFA15A\", \"#19d3f3\", \"#FF6692\", \"#B6E880\", \"#FF97FF\", \"#FECB52\"], \"font\": {\"color\": \"#2a3f5f\"}, \"geo\": {\"bgcolor\": \"white\", \"lakecolor\": \"white\", \"landcolor\": \"#E5ECF6\", \"showlakes\": true, \"showland\": true, \"subunitcolor\": \"white\"}, \"hoverlabel\": {\"align\": \"left\"}, \"hovermode\": \"closest\", \"mapbox\": {\"style\": \"light\"}, \"paper_bgcolor\": \"white\", \"plot_bgcolor\": \"#E5ECF6\", \"polar\": {\"angularaxis\": {\"gridcolor\": \"white\", \"linecolor\": \"white\", \"ticks\": \"\"}, \"bgcolor\": \"#E5ECF6\", \"radialaxis\": {\"gridcolor\": \"white\", \"linecolor\": \"white\", \"ticks\": \"\"}}, \"scene\": {\"xaxis\": {\"backgroundcolor\": \"#E5ECF6\", \"gridcolor\": \"white\", \"gridwidth\": 2, \"linecolor\": \"white\", \"showbackground\": true, \"ticks\": \"\", \"zerolinecolor\": \"white\"}, \"yaxis\": {\"backgroundcolor\": \"#E5ECF6\", \"gridcolor\": \"white\", \"gridwidth\": 2, \"linecolor\": \"white\", \"showbackground\": true, \"ticks\": \"\", \"zerolinecolor\": \"white\"}, \"zaxis\": {\"backgroundcolor\": \"#E5ECF6\", \"gridcolor\": \"white\", \"gridwidth\": 2, \"linecolor\": \"white\", \"showbackground\": true, \"ticks\": \"\", \"zerolinecolor\": \"white\"}}, \"shapedefaults\": {\"line\": {\"color\": \"#2a3f5f\"}}, \"ternary\": {\"aaxis\": {\"gridcolor\": \"white\", \"linecolor\": \"white\", \"ticks\": \"\"}, \"baxis\": {\"gridcolor\": \"white\", \"linecolor\": \"white\", \"ticks\": \"\"}, \"bgcolor\": \"#E5ECF6\", \"caxis\": {\"gridcolor\": \"white\", \"linecolor\": \"white\", \"ticks\": \"\"}}, \"title\": {\"x\": 0.05}, \"xaxis\": {\"automargin\": true, \"gridcolor\": \"white\", \"linecolor\": \"white\", \"ticks\": \"\", \"title\": {\"standoff\": 15}, \"zerolinecolor\": \"white\", \"zerolinewidth\": 2}, \"yaxis\": {\"automargin\": true, \"gridcolor\": \"white\", \"linecolor\": \"white\", \"ticks\": \"\", \"title\": {\"standoff\": 15}, \"zerolinecolor\": \"white\", \"zerolinewidth\": 2}}}, \"title\": {\"font\": {\"color\": \"#4D5663\"}}, \"xaxis\": {\"gridcolor\": \"#E1E5ED\", \"showgrid\": true, \"tickfont\": {\"color\": \"#4D5663\"}, \"title\": {\"font\": {\"color\": \"#4D5663\"}, \"text\": \"\"}, \"zerolinecolor\": \"#E1E5ED\"}, \"yaxis\": {\"gridcolor\": \"#E1E5ED\", \"showgrid\": true, \"tickfont\": {\"color\": \"#4D5663\"}, \"title\": {\"font\": {\"color\": \"#4D5663\"}, \"text\": \"\"}, \"zerolinecolor\": \"#E1E5ED\"}},\n",
       "                        {\"showLink\": true, \"linkText\": \"Export to plot.ly\", \"plotlyServerURL\": \"https://plot.ly\", \"responsive\": true}\n",
       "                    ).then(function(){\n",
       "                            \n",
       "var gd = document.getElementById('ce1263d4-2f2d-4b5b-a2eb-16270102aa55');\n",
       "var x = new MutationObserver(function (mutations, observer) {{\n",
       "        var display = window.getComputedStyle(gd).display;\n",
       "        if (!display || display === 'none') {{\n",
       "            console.log([gd, 'removed!']);\n",
       "            Plotly.purge(gd);\n",
       "            observer.disconnect();\n",
       "        }}\n",
       "}});\n",
       "\n",
       "// Listen for the removal of the full notebook cells\n",
       "var notebookContainer = gd.closest('#notebook-container');\n",
       "if (notebookContainer) {{\n",
       "    x.observe(notebookContainer, {childList: true});\n",
       "}}\n",
       "\n",
       "// Listen for the clearing of the current output cell\n",
       "var outputEl = gd.closest('.output');\n",
       "if (outputEl) {{\n",
       "    x.observe(outputEl, {childList: true});\n",
       "}}\n",
       "\n",
       "                        })\n",
       "                };\n",
       "                });\n",
       "            </script>\n",
       "        </div>"
      ]
     },
     "metadata": {},
     "output_type": "display_data"
    }
   ],
   "source": [
    "df.count().iplot(kind='bar')"
   ]
  },
  {
   "cell_type": "markdown",
   "metadata": {},
   "source": [
    "## Boxplots"
   ]
  },
  {
   "cell_type": "code",
   "execution_count": 27,
   "metadata": {},
   "outputs": [
    {
     "data": {
      "application/vnd.plotly.v1+json": {
       "config": {
        "linkText": "Export to plot.ly",
        "plotlyServerURL": "https://plot.ly",
        "showLink": true
       },
       "data": [
        {
         "boxpoints": false,
         "line": {
          "width": 1.3
         },
         "marker": {
          "color": "rgba(255, 153, 51, 1.0)"
         },
         "name": "A",
         "orientation": "v",
         "type": "box",
         "y": [
          1.573328711227588,
          -0.37852617950749295,
          0.1768154975319591,
          -0.5991281059388813,
          1.1755060314126213,
          0.24964246226697667,
          0.5956165871109731,
          0.5612011071792405,
          0.9180885799809175,
          0.7571694210998187,
          0.24715045119972137,
          -1.5270465043997787,
          -0.875374507933993,
          1.2025748375755545,
          0.6337638775037999,
          1.4678420619686383,
          0.45673265663204543,
          -0.26569229827179003,
          1.1244514300144637,
          -0.3169066781827368,
          2.3326670259694984,
          1.1805682968753102,
          -0.41405314324567183,
          0.3122201777837888,
          -1.4052653628429845,
          0.31430633602741875,
          -0.20578869630339477,
          -0.60390031944842,
          1.96339494742064,
          1.6693550129021753,
          -1.334598303785486,
          -0.37781853819873823,
          -0.8894928657177164,
          -0.7543929174901841,
          -0.23210840072281078,
          -1.6901960833990382,
          0.4512098555532659,
          -1.6840584805291572,
          1.0458784516037567,
          1.6664676824073386,
          -1.4401332275578733,
          1.7114714420535877,
          -0.45865548617687163,
          0.9505872085183176,
          -1.9421953084933026,
          0.042733014352603314,
          -0.15414531364007927,
          0.32915907886279877,
          -2.194460922754973,
          0.015125890780444818,
          0.2845835884595226,
          -0.3754901070103968,
          0.2844539210618317,
          -0.12817785900037726,
          0.2260420020459213,
          0.10436446169541978,
          -1.945586652139439,
          -0.36503865639939936,
          -0.22404622351044057,
          -0.2153410058721476,
          0.06278284613069145,
          0.8788465708891683,
          -0.7227927973318916,
          0.3973910025307887,
          -0.23934321011928952,
          0.7710770602966287,
          1.2068887478696722,
          0.21170919633969837,
          0.059892170735103015,
          -1.612452124677236,
          -0.8112259655549127,
          -1.370414490272464,
          -1.653881269326432,
          1.4336987722728656,
          0.3424580647461767,
          -0.47227829298318325,
          -1.6371862002778288,
          0.1178252873274814,
          0.6555856265155513,
          0.5430554758356879,
          -0.10956656996215498,
          1.0202118759670051,
          -0.24457257437156738,
          0.6398275256663398,
          0.35899461667070703,
          0.9615922999069186,
          -1.8575346554006276,
          -0.8698442370442436,
          0.6613226554534137,
          -1.9610775745970301,
          -1.7518253054808146,
          -0.4180919006194288,
          0.7778364527179996,
          -0.44990921899945696,
          0.9931689954464562,
          1.297712985928407,
          -0.5451756655006744,
          -0.1959375376838416,
          0.6051166858612246,
          -0.8677354795742439
         ]
        },
        {
         "boxpoints": false,
         "line": {
          "width": 1.3
         },
         "marker": {
          "color": "rgba(55, 128, 191, 1.0)"
         },
         "name": "B",
         "orientation": "v",
         "type": "box",
         "y": [
          -0.2394652779549122,
          0.8512345364937773,
          0.41484812193021964,
          1.5370959350367674,
          -0.4927408965374319,
          -0.22100901165166023,
          -0.43193040335765653,
          -0.49336201857205314,
          0.5555084384448081,
          -0.5107093147117601,
          -0.3526308817252644,
          0.007489800734434926,
          -0.6003649263215223,
          -0.01278324946277747,
          0.2274406995260329,
          -1.0187156546487115,
          -0.4433447642506894,
          -0.3060049886332904,
          -0.11377838153924977,
          -0.08407790197866014,
          1.0464551062117906,
          -0.9799341186049836,
          -1.8537395580117801,
          0.6617221210672103,
          -0.683415999037852,
          -0.39479143980500403,
          -2.196804691822171,
          0.9829199829668247,
          -2.179151330999028,
          1.1392018545116072,
          -1.8420019494800435,
          -0.30038149675268744,
          0.008963551020868049,
          -0.06618101867302661,
          1.0674281027274761,
          0.7173822431325227,
          -1.9086449146501494,
          1.0205583203650004,
          2.23498872747899,
          -0.45259495728000726,
          0.574969471677332,
          0.6944603816242416,
          -0.12498725051976357,
          -1.8958418732899174,
          -0.6421631673722423,
          -0.38673076375729404,
          -0.3357083832660241,
          0.8998219397665486,
          -0.015392086889089685,
          -0.5026542206416671,
          -1.6951761221844877,
          1.6796828066716862,
          0.36604466437520533,
          -1.9183417290547082,
          0.4701078450355624,
          -0.19291943661795397,
          -0.7593893664030056,
          -0.6749441066899211,
          0.7479337658901685,
          1.1274218457436842,
          -0.43875091042622516,
          -1.8105231808183324,
          0.48444909587401636,
          -0.5055844310124634,
          -0.46194253142129044,
          0.52721385333185,
          0.33716747766588245,
          0.01697510334850516,
          -1.4034883679745767,
          0.29498065138194346,
          -1.641260866859968,
          -0.3542296235869637,
          -0.19241761771803673,
          -0.7587260159600041,
          0.37451144525510227,
          -1.2258116079566619,
          0.2842602520008746,
          -1.908327868761162,
          -0.8557696298768518,
          1.118002270580774,
          -1.4701377021951572,
          1.2765397042431867,
          0.3253134283901319,
          -0.6814381081251094,
          1.2397551256542891,
          0.5926331740445077,
          1.7231767023146967,
          0.18409964154272745,
          -0.5450931058141981,
          -0.17358078103870087,
          0.6888684372015913,
          1.281410412125775,
          0.49575937971724,
          0.0975145793536695,
          0.9673828187279973,
          2.168738376862383,
          -1.5611560382058942,
          3.352263014883978,
          -0.3147424815649832,
          1.0391922023113067
         ]
        },
        {
         "boxpoints": false,
         "line": {
          "width": 1.3
         },
         "marker": {
          "color": "rgba(50, 171, 96, 1.0)"
         },
         "name": "C",
         "orientation": "v",
         "type": "box",
         "y": [
          -1.8046358364834871,
          -1.7016081650865085,
          0.08588916010165494,
          1.4415246720834345,
          0.23707338397424654,
          0.04760113564180864,
          1.6494187102451814,
          -0.1335394569238713,
          1.673178815748656,
          0.587716238374656,
          -0.270167317688856,
          1.0108343021498616,
          0.18168666648433796,
          -1.593263523974709,
          -0.44708682377928705,
          0.7347384333261755,
          -0.5206862632044673,
          0.8058201487174185,
          0.33575543870730523,
          0.3998153028522259,
          -0.7779263211845607,
          -0.15069385638055013,
          -0.19814298388031,
          -0.6695039491784086,
          0.18719335143312335,
          0.2432000491944703,
          1.0239835419533434,
          0.17737331616854837,
          -0.31251283114193357,
          0.8092010218572524,
          1.9760784044324962,
          0.4507360550481009,
          0.019859889581720434,
          -1.0308529484770719,
          -0.041523138115277886,
          -2.583024529609364,
          0.8775446742538857,
          1.131147284523329,
          -0.8860862807680845,
          0.13813524507089245,
          0.586975384522734,
          0.612158291548976,
          -2.4357252622049175,
          0.2709088196249994,
          -1.050300287939844,
          -1.3936541807154117,
          -0.522657537256016,
          0.8626800250742529,
          0.1724419225858869,
          0.693836096042868,
          0.09995165969384592,
          1.243447704659744,
          -0.025147101742636787,
          -0.5941152195120954,
          -0.6297810032837157,
          0.3184235114914604,
          -0.7027056834801207,
          -1.0608216030262902,
          -0.05087218332717387,
          0.7616002261982439,
          -0.258033654280085,
          -0.09488984717788189,
          -1.702420208848687,
          -1.345180568981205,
          0.31537539082752286,
          -0.1227927434578786,
          -2.04519880927543,
          1.2326652562905906,
          -0.3260483556791499,
          -0.41078820252553605,
          0.4534573741720663,
          0.6660642909777231,
          0.6096456778055162,
          -1.8843747005349487,
          -0.6280920968701095,
          0.013579573409322563,
          0.58444009796342,
          -0.6402794156561158,
          -0.01005186015976698,
          0.6281954553420765,
          1.1150685521916508,
          -1.2724228866295084,
          0.06763903336292446,
          -0.3385196406335298,
          0.19690377471139772,
          0.6624552723679175,
          -1.634197524361951,
          1.2795673993059826,
          -2.0108289866705764,
          -0.6617508456314672,
          -0.5628128537404228,
          0.4430700127227428,
          -0.10268341417994102,
          -0.7691342517181959,
          1.5871320662099035,
          1.8657131155923175,
          1.4366840526476878,
          -1.012345686468915,
          -0.17099028201472255,
          1.5214133076671315
         ]
        },
        {
         "boxpoints": false,
         "line": {
          "width": 1.3
         },
         "marker": {
          "color": "rgba(128, 0, 128, 1.0)"
         },
         "name": "D",
         "orientation": "v",
         "type": "box",
         "y": [
          0.13793858494096364,
          -1.0685110775796975,
          -0.997019024377318,
          1.3909456165642435,
          -0.38348155778987936,
          0.19761270911578754,
          -0.6127184229944498,
          0.676158383922949,
          0.061230254624065665,
          1.831582295066228,
          0.7531612748304229,
          1.063754260413047,
          2.5423817486925997,
          -2.3389720782980166,
          -0.5719145062360703,
          1.034895910559388,
          -0.04025943500023704,
          -0.622007918365505,
          -1.3832887065960247,
          -0.1464507019555157,
          0.9247804199945364,
          -0.3725322353703732,
          1.9981594602766175,
          0.43981689535317464,
          -0.49277781121389697,
          0.6772854544316099,
          1.486354300327282,
          -0.637420521683839,
          2.0568573753754307,
          -0.8868690056370306,
          1.5858432506726274,
          1.320623104130732,
          0.4563862801805943,
          -0.7102397984248783,
          0.6184619574620405,
          0.7169408325343001,
          -0.8785864374339943,
          1.1008994902518687,
          0.04182201713864145,
          -1.061803767564098,
          0.17636113921243388,
          1.623468332145554,
          -0.5809327701965264,
          -0.9931841950582492,
          0.7437729657637542,
          0.16632066588824268,
          -0.2942612240366475,
          0.29113087525227405,
          -1.5114689808848765,
          0.5879362559074357,
          0.1472628815600322,
          0.4022516961002296,
          0.7318732691465115,
          0.5152549992744864,
          0.6365767015643818,
          0.6482701169564956,
          -1.2754722872090638,
          -1.1955015396021562,
          0.5656886761913047,
          0.03939547434135855,
          0.7249662624343363,
          1.4947618906234466,
          -0.5321267151039222,
          -1.7377902997804684,
          0.7442783246564179,
          2.2184977031906263,
          -0.4614451485401377,
          -1.4993519893677123,
          -0.6785631146633332,
          0.8507169019485555,
          0.5902981111307382,
          0.2648210009946313,
          0.5407071903145758,
          -0.2281290528195115,
          0.7434357784239422,
          0.01143562141734591,
          1.751156917152561,
          1.7942190563021307,
          0.2666915659692473,
          -0.06092297712201784,
          0.19291489162901268,
          -1.1180836083856287,
          -0.025184307538168887,
          1.0610407835427111,
          -0.10003364181806242,
          0.8189558427754416,
          0.18025491882043004,
          0.6241358000901407,
          -0.9920627995444932,
          -0.05724065011843744,
          -1.2295962744218014,
          -0.8067234157458383,
          0.2945242858462882,
          0.8786490866801401,
          -0.09943871929716257,
          -0.17705312959165395,
          0.0024459226340188774,
          0.2961740380115884,
          0.9253350872111563,
          -1.1213105991697025
         ]
        }
       ],
       "layout": {
        "legend": {
         "bgcolor": "#F5F6F9",
         "font": {
          "color": "#4D5663"
         }
        },
        "paper_bgcolor": "#F5F6F9",
        "plot_bgcolor": "#F5F6F9",
        "template": {
         "data": {
          "bar": [
           {
            "error_x": {
             "color": "#2a3f5f"
            },
            "error_y": {
             "color": "#2a3f5f"
            },
            "marker": {
             "line": {
              "color": "#E5ECF6",
              "width": 0.5
             }
            },
            "type": "bar"
           }
          ],
          "barpolar": [
           {
            "marker": {
             "line": {
              "color": "#E5ECF6",
              "width": 0.5
             }
            },
            "type": "barpolar"
           }
          ],
          "carpet": [
           {
            "aaxis": {
             "endlinecolor": "#2a3f5f",
             "gridcolor": "white",
             "linecolor": "white",
             "minorgridcolor": "white",
             "startlinecolor": "#2a3f5f"
            },
            "baxis": {
             "endlinecolor": "#2a3f5f",
             "gridcolor": "white",
             "linecolor": "white",
             "minorgridcolor": "white",
             "startlinecolor": "#2a3f5f"
            },
            "type": "carpet"
           }
          ],
          "choropleth": [
           {
            "colorbar": {
             "outlinewidth": 0,
             "ticks": ""
            },
            "type": "choropleth"
           }
          ],
          "contour": [
           {
            "colorbar": {
             "outlinewidth": 0,
             "ticks": ""
            },
            "colorscale": [
             [
              0,
              "#0d0887"
             ],
             [
              0.1111111111111111,
              "#46039f"
             ],
             [
              0.2222222222222222,
              "#7201a8"
             ],
             [
              0.3333333333333333,
              "#9c179e"
             ],
             [
              0.4444444444444444,
              "#bd3786"
             ],
             [
              0.5555555555555556,
              "#d8576b"
             ],
             [
              0.6666666666666666,
              "#ed7953"
             ],
             [
              0.7777777777777778,
              "#fb9f3a"
             ],
             [
              0.8888888888888888,
              "#fdca26"
             ],
             [
              1,
              "#f0f921"
             ]
            ],
            "type": "contour"
           }
          ],
          "contourcarpet": [
           {
            "colorbar": {
             "outlinewidth": 0,
             "ticks": ""
            },
            "type": "contourcarpet"
           }
          ],
          "heatmap": [
           {
            "colorbar": {
             "outlinewidth": 0,
             "ticks": ""
            },
            "colorscale": [
             [
              0,
              "#0d0887"
             ],
             [
              0.1111111111111111,
              "#46039f"
             ],
             [
              0.2222222222222222,
              "#7201a8"
             ],
             [
              0.3333333333333333,
              "#9c179e"
             ],
             [
              0.4444444444444444,
              "#bd3786"
             ],
             [
              0.5555555555555556,
              "#d8576b"
             ],
             [
              0.6666666666666666,
              "#ed7953"
             ],
             [
              0.7777777777777778,
              "#fb9f3a"
             ],
             [
              0.8888888888888888,
              "#fdca26"
             ],
             [
              1,
              "#f0f921"
             ]
            ],
            "type": "heatmap"
           }
          ],
          "heatmapgl": [
           {
            "colorbar": {
             "outlinewidth": 0,
             "ticks": ""
            },
            "colorscale": [
             [
              0,
              "#0d0887"
             ],
             [
              0.1111111111111111,
              "#46039f"
             ],
             [
              0.2222222222222222,
              "#7201a8"
             ],
             [
              0.3333333333333333,
              "#9c179e"
             ],
             [
              0.4444444444444444,
              "#bd3786"
             ],
             [
              0.5555555555555556,
              "#d8576b"
             ],
             [
              0.6666666666666666,
              "#ed7953"
             ],
             [
              0.7777777777777778,
              "#fb9f3a"
             ],
             [
              0.8888888888888888,
              "#fdca26"
             ],
             [
              1,
              "#f0f921"
             ]
            ],
            "type": "heatmapgl"
           }
          ],
          "histogram": [
           {
            "marker": {
             "colorbar": {
              "outlinewidth": 0,
              "ticks": ""
             }
            },
            "type": "histogram"
           }
          ],
          "histogram2d": [
           {
            "colorbar": {
             "outlinewidth": 0,
             "ticks": ""
            },
            "colorscale": [
             [
              0,
              "#0d0887"
             ],
             [
              0.1111111111111111,
              "#46039f"
             ],
             [
              0.2222222222222222,
              "#7201a8"
             ],
             [
              0.3333333333333333,
              "#9c179e"
             ],
             [
              0.4444444444444444,
              "#bd3786"
             ],
             [
              0.5555555555555556,
              "#d8576b"
             ],
             [
              0.6666666666666666,
              "#ed7953"
             ],
             [
              0.7777777777777778,
              "#fb9f3a"
             ],
             [
              0.8888888888888888,
              "#fdca26"
             ],
             [
              1,
              "#f0f921"
             ]
            ],
            "type": "histogram2d"
           }
          ],
          "histogram2dcontour": [
           {
            "colorbar": {
             "outlinewidth": 0,
             "ticks": ""
            },
            "colorscale": [
             [
              0,
              "#0d0887"
             ],
             [
              0.1111111111111111,
              "#46039f"
             ],
             [
              0.2222222222222222,
              "#7201a8"
             ],
             [
              0.3333333333333333,
              "#9c179e"
             ],
             [
              0.4444444444444444,
              "#bd3786"
             ],
             [
              0.5555555555555556,
              "#d8576b"
             ],
             [
              0.6666666666666666,
              "#ed7953"
             ],
             [
              0.7777777777777778,
              "#fb9f3a"
             ],
             [
              0.8888888888888888,
              "#fdca26"
             ],
             [
              1,
              "#f0f921"
             ]
            ],
            "type": "histogram2dcontour"
           }
          ],
          "mesh3d": [
           {
            "colorbar": {
             "outlinewidth": 0,
             "ticks": ""
            },
            "type": "mesh3d"
           }
          ],
          "parcoords": [
           {
            "line": {
             "colorbar": {
              "outlinewidth": 0,
              "ticks": ""
             }
            },
            "type": "parcoords"
           }
          ],
          "pie": [
           {
            "automargin": true,
            "type": "pie"
           }
          ],
          "scatter": [
           {
            "marker": {
             "colorbar": {
              "outlinewidth": 0,
              "ticks": ""
             }
            },
            "type": "scatter"
           }
          ],
          "scatter3d": [
           {
            "line": {
             "colorbar": {
              "outlinewidth": 0,
              "ticks": ""
             }
            },
            "marker": {
             "colorbar": {
              "outlinewidth": 0,
              "ticks": ""
             }
            },
            "type": "scatter3d"
           }
          ],
          "scattercarpet": [
           {
            "marker": {
             "colorbar": {
              "outlinewidth": 0,
              "ticks": ""
             }
            },
            "type": "scattercarpet"
           }
          ],
          "scattergeo": [
           {
            "marker": {
             "colorbar": {
              "outlinewidth": 0,
              "ticks": ""
             }
            },
            "type": "scattergeo"
           }
          ],
          "scattergl": [
           {
            "marker": {
             "colorbar": {
              "outlinewidth": 0,
              "ticks": ""
             }
            },
            "type": "scattergl"
           }
          ],
          "scattermapbox": [
           {
            "marker": {
             "colorbar": {
              "outlinewidth": 0,
              "ticks": ""
             }
            },
            "type": "scattermapbox"
           }
          ],
          "scatterpolar": [
           {
            "marker": {
             "colorbar": {
              "outlinewidth": 0,
              "ticks": ""
             }
            },
            "type": "scatterpolar"
           }
          ],
          "scatterpolargl": [
           {
            "marker": {
             "colorbar": {
              "outlinewidth": 0,
              "ticks": ""
             }
            },
            "type": "scatterpolargl"
           }
          ],
          "scatterternary": [
           {
            "marker": {
             "colorbar": {
              "outlinewidth": 0,
              "ticks": ""
             }
            },
            "type": "scatterternary"
           }
          ],
          "surface": [
           {
            "colorbar": {
             "outlinewidth": 0,
             "ticks": ""
            },
            "colorscale": [
             [
              0,
              "#0d0887"
             ],
             [
              0.1111111111111111,
              "#46039f"
             ],
             [
              0.2222222222222222,
              "#7201a8"
             ],
             [
              0.3333333333333333,
              "#9c179e"
             ],
             [
              0.4444444444444444,
              "#bd3786"
             ],
             [
              0.5555555555555556,
              "#d8576b"
             ],
             [
              0.6666666666666666,
              "#ed7953"
             ],
             [
              0.7777777777777778,
              "#fb9f3a"
             ],
             [
              0.8888888888888888,
              "#fdca26"
             ],
             [
              1,
              "#f0f921"
             ]
            ],
            "type": "surface"
           }
          ],
          "table": [
           {
            "cells": {
             "fill": {
              "color": "#EBF0F8"
             },
             "line": {
              "color": "white"
             }
            },
            "header": {
             "fill": {
              "color": "#C8D4E3"
             },
             "line": {
              "color": "white"
             }
            },
            "type": "table"
           }
          ]
         },
         "layout": {
          "annotationdefaults": {
           "arrowcolor": "#2a3f5f",
           "arrowhead": 0,
           "arrowwidth": 1
          },
          "coloraxis": {
           "colorbar": {
            "outlinewidth": 0,
            "ticks": ""
           }
          },
          "colorscale": {
           "diverging": [
            [
             0,
             "#8e0152"
            ],
            [
             0.1,
             "#c51b7d"
            ],
            [
             0.2,
             "#de77ae"
            ],
            [
             0.3,
             "#f1b6da"
            ],
            [
             0.4,
             "#fde0ef"
            ],
            [
             0.5,
             "#f7f7f7"
            ],
            [
             0.6,
             "#e6f5d0"
            ],
            [
             0.7,
             "#b8e186"
            ],
            [
             0.8,
             "#7fbc41"
            ],
            [
             0.9,
             "#4d9221"
            ],
            [
             1,
             "#276419"
            ]
           ],
           "sequential": [
            [
             0,
             "#0d0887"
            ],
            [
             0.1111111111111111,
             "#46039f"
            ],
            [
             0.2222222222222222,
             "#7201a8"
            ],
            [
             0.3333333333333333,
             "#9c179e"
            ],
            [
             0.4444444444444444,
             "#bd3786"
            ],
            [
             0.5555555555555556,
             "#d8576b"
            ],
            [
             0.6666666666666666,
             "#ed7953"
            ],
            [
             0.7777777777777778,
             "#fb9f3a"
            ],
            [
             0.8888888888888888,
             "#fdca26"
            ],
            [
             1,
             "#f0f921"
            ]
           ],
           "sequentialminus": [
            [
             0,
             "#0d0887"
            ],
            [
             0.1111111111111111,
             "#46039f"
            ],
            [
             0.2222222222222222,
             "#7201a8"
            ],
            [
             0.3333333333333333,
             "#9c179e"
            ],
            [
             0.4444444444444444,
             "#bd3786"
            ],
            [
             0.5555555555555556,
             "#d8576b"
            ],
            [
             0.6666666666666666,
             "#ed7953"
            ],
            [
             0.7777777777777778,
             "#fb9f3a"
            ],
            [
             0.8888888888888888,
             "#fdca26"
            ],
            [
             1,
             "#f0f921"
            ]
           ]
          },
          "colorway": [
           "#636efa",
           "#EF553B",
           "#00cc96",
           "#ab63fa",
           "#FFA15A",
           "#19d3f3",
           "#FF6692",
           "#B6E880",
           "#FF97FF",
           "#FECB52"
          ],
          "font": {
           "color": "#2a3f5f"
          },
          "geo": {
           "bgcolor": "white",
           "lakecolor": "white",
           "landcolor": "#E5ECF6",
           "showlakes": true,
           "showland": true,
           "subunitcolor": "white"
          },
          "hoverlabel": {
           "align": "left"
          },
          "hovermode": "closest",
          "mapbox": {
           "style": "light"
          },
          "paper_bgcolor": "white",
          "plot_bgcolor": "#E5ECF6",
          "polar": {
           "angularaxis": {
            "gridcolor": "white",
            "linecolor": "white",
            "ticks": ""
           },
           "bgcolor": "#E5ECF6",
           "radialaxis": {
            "gridcolor": "white",
            "linecolor": "white",
            "ticks": ""
           }
          },
          "scene": {
           "xaxis": {
            "backgroundcolor": "#E5ECF6",
            "gridcolor": "white",
            "gridwidth": 2,
            "linecolor": "white",
            "showbackground": true,
            "ticks": "",
            "zerolinecolor": "white"
           },
           "yaxis": {
            "backgroundcolor": "#E5ECF6",
            "gridcolor": "white",
            "gridwidth": 2,
            "linecolor": "white",
            "showbackground": true,
            "ticks": "",
            "zerolinecolor": "white"
           },
           "zaxis": {
            "backgroundcolor": "#E5ECF6",
            "gridcolor": "white",
            "gridwidth": 2,
            "linecolor": "white",
            "showbackground": true,
            "ticks": "",
            "zerolinecolor": "white"
           }
          },
          "shapedefaults": {
           "line": {
            "color": "#2a3f5f"
           }
          },
          "ternary": {
           "aaxis": {
            "gridcolor": "white",
            "linecolor": "white",
            "ticks": ""
           },
           "baxis": {
            "gridcolor": "white",
            "linecolor": "white",
            "ticks": ""
           },
           "bgcolor": "#E5ECF6",
           "caxis": {
            "gridcolor": "white",
            "linecolor": "white",
            "ticks": ""
           }
          },
          "title": {
           "x": 0.05
          },
          "xaxis": {
           "automargin": true,
           "gridcolor": "white",
           "linecolor": "white",
           "ticks": "",
           "title": {
            "standoff": 15
           },
           "zerolinecolor": "white",
           "zerolinewidth": 2
          },
          "yaxis": {
           "automargin": true,
           "gridcolor": "white",
           "linecolor": "white",
           "ticks": "",
           "title": {
            "standoff": 15
           },
           "zerolinecolor": "white",
           "zerolinewidth": 2
          }
         }
        },
        "title": {
         "font": {
          "color": "#4D5663"
         }
        },
        "xaxis": {
         "gridcolor": "#E1E5ED",
         "showgrid": true,
         "tickfont": {
          "color": "#4D5663"
         },
         "title": {
          "font": {
           "color": "#4D5663"
          },
          "text": ""
         },
         "zerolinecolor": "#E1E5ED"
        },
        "yaxis": {
         "gridcolor": "#E1E5ED",
         "showgrid": true,
         "tickfont": {
          "color": "#4D5663"
         },
         "title": {
          "font": {
           "color": "#4D5663"
          },
          "text": ""
         },
         "zerolinecolor": "#E1E5ED"
        }
       }
      },
      "text/html": [
       "<div>\n",
       "        \n",
       "        \n",
       "            <div id=\"35a8ef7e-64b2-4bff-b292-76e0135c6f70\" class=\"plotly-graph-div\" style=\"height:525px; width:100%;\"></div>\n",
       "            <script type=\"text/javascript\">\n",
       "                require([\"plotly\"], function(Plotly) {\n",
       "                    window.PLOTLYENV=window.PLOTLYENV || {};\n",
       "                    window.PLOTLYENV.BASE_URL='https://plot.ly';\n",
       "                    \n",
       "                if (document.getElementById(\"35a8ef7e-64b2-4bff-b292-76e0135c6f70\")) {\n",
       "                    Plotly.newPlot(\n",
       "                        '35a8ef7e-64b2-4bff-b292-76e0135c6f70',\n",
       "                        [{\"boxpoints\": false, \"line\": {\"width\": 1.3}, \"marker\": {\"color\": \"rgba(255, 153, 51, 1.0)\"}, \"name\": \"A\", \"orientation\": \"v\", \"type\": \"box\", \"y\": [1.573328711227588, -0.37852617950749295, 0.1768154975319591, -0.5991281059388813, 1.1755060314126213, 0.24964246226697667, 0.5956165871109731, 0.5612011071792405, 0.9180885799809175, 0.7571694210998187, 0.24715045119972137, -1.5270465043997787, -0.875374507933993, 1.2025748375755545, 0.6337638775037999, 1.4678420619686383, 0.45673265663204543, -0.26569229827179003, 1.1244514300144637, -0.3169066781827368, 2.3326670259694984, 1.1805682968753102, -0.41405314324567183, 0.3122201777837888, -1.4052653628429845, 0.31430633602741875, -0.20578869630339477, -0.60390031944842, 1.96339494742064, 1.6693550129021753, -1.334598303785486, -0.37781853819873823, -0.8894928657177164, -0.7543929174901841, -0.23210840072281078, -1.6901960833990382, 0.4512098555532659, -1.6840584805291572, 1.0458784516037567, 1.6664676824073386, -1.4401332275578733, 1.7114714420535877, -0.45865548617687163, 0.9505872085183176, -1.9421953084933026, 0.042733014352603314, -0.15414531364007927, 0.32915907886279877, -2.194460922754973, 0.015125890780444818, 0.2845835884595226, -0.3754901070103968, 0.2844539210618317, -0.12817785900037726, 0.2260420020459213, 0.10436446169541978, -1.945586652139439, -0.36503865639939936, -0.22404622351044057, -0.2153410058721476, 0.06278284613069145, 0.8788465708891683, -0.7227927973318916, 0.3973910025307887, -0.23934321011928952, 0.7710770602966287, 1.2068887478696722, 0.21170919633969837, 0.059892170735103015, -1.612452124677236, -0.8112259655549127, -1.370414490272464, -1.653881269326432, 1.4336987722728656, 0.3424580647461767, -0.47227829298318325, -1.6371862002778288, 0.1178252873274814, 0.6555856265155513, 0.5430554758356879, -0.10956656996215498, 1.0202118759670051, -0.24457257437156738, 0.6398275256663398, 0.35899461667070703, 0.9615922999069186, -1.8575346554006276, -0.8698442370442436, 0.6613226554534137, -1.9610775745970301, -1.7518253054808146, -0.4180919006194288, 0.7778364527179996, -0.44990921899945696, 0.9931689954464562, 1.297712985928407, -0.5451756655006744, -0.1959375376838416, 0.6051166858612246, -0.8677354795742439]}, {\"boxpoints\": false, \"line\": {\"width\": 1.3}, \"marker\": {\"color\": \"rgba(55, 128, 191, 1.0)\"}, \"name\": \"B\", \"orientation\": \"v\", \"type\": \"box\", \"y\": [-0.2394652779549122, 0.8512345364937773, 0.41484812193021964, 1.5370959350367674, -0.4927408965374319, -0.22100901165166023, -0.43193040335765653, -0.49336201857205314, 0.5555084384448081, -0.5107093147117601, -0.3526308817252644, 0.007489800734434926, -0.6003649263215223, -0.01278324946277747, 0.2274406995260329, -1.0187156546487115, -0.4433447642506894, -0.3060049886332904, -0.11377838153924977, -0.08407790197866014, 1.0464551062117906, -0.9799341186049836, -1.8537395580117801, 0.6617221210672103, -0.683415999037852, -0.39479143980500403, -2.196804691822171, 0.9829199829668247, -2.179151330999028, 1.1392018545116072, -1.8420019494800435, -0.30038149675268744, 0.008963551020868049, -0.06618101867302661, 1.0674281027274761, 0.7173822431325227, -1.9086449146501494, 1.0205583203650004, 2.23498872747899, -0.45259495728000726, 0.574969471677332, 0.6944603816242416, -0.12498725051976357, -1.8958418732899174, -0.6421631673722423, -0.38673076375729404, -0.3357083832660241, 0.8998219397665486, -0.015392086889089685, -0.5026542206416671, -1.6951761221844877, 1.6796828066716862, 0.36604466437520533, -1.9183417290547082, 0.4701078450355624, -0.19291943661795397, -0.7593893664030056, -0.6749441066899211, 0.7479337658901685, 1.1274218457436842, -0.43875091042622516, -1.8105231808183324, 0.48444909587401636, -0.5055844310124634, -0.46194253142129044, 0.52721385333185, 0.33716747766588245, 0.01697510334850516, -1.4034883679745767, 0.29498065138194346, -1.641260866859968, -0.3542296235869637, -0.19241761771803673, -0.7587260159600041, 0.37451144525510227, -1.2258116079566619, 0.2842602520008746, -1.908327868761162, -0.8557696298768518, 1.118002270580774, -1.4701377021951572, 1.2765397042431867, 0.3253134283901319, -0.6814381081251094, 1.2397551256542891, 0.5926331740445077, 1.7231767023146967, 0.18409964154272745, -0.5450931058141981, -0.17358078103870087, 0.6888684372015913, 1.281410412125775, 0.49575937971724, 0.0975145793536695, 0.9673828187279973, 2.168738376862383, -1.5611560382058942, 3.352263014883978, -0.3147424815649832, 1.0391922023113067]}, {\"boxpoints\": false, \"line\": {\"width\": 1.3}, \"marker\": {\"color\": \"rgba(50, 171, 96, 1.0)\"}, \"name\": \"C\", \"orientation\": \"v\", \"type\": \"box\", \"y\": [-1.8046358364834871, -1.7016081650865085, 0.08588916010165494, 1.4415246720834345, 0.23707338397424654, 0.04760113564180864, 1.6494187102451814, -0.1335394569238713, 1.673178815748656, 0.587716238374656, -0.270167317688856, 1.0108343021498616, 0.18168666648433796, -1.593263523974709, -0.44708682377928705, 0.7347384333261755, -0.5206862632044673, 0.8058201487174185, 0.33575543870730523, 0.3998153028522259, -0.7779263211845607, -0.15069385638055013, -0.19814298388031, -0.6695039491784086, 0.18719335143312335, 0.2432000491944703, 1.0239835419533434, 0.17737331616854837, -0.31251283114193357, 0.8092010218572524, 1.9760784044324962, 0.4507360550481009, 0.019859889581720434, -1.0308529484770719, -0.041523138115277886, -2.583024529609364, 0.8775446742538857, 1.131147284523329, -0.8860862807680845, 0.13813524507089245, 0.586975384522734, 0.612158291548976, -2.4357252622049175, 0.2709088196249994, -1.050300287939844, -1.3936541807154117, -0.522657537256016, 0.8626800250742529, 0.1724419225858869, 0.693836096042868, 0.09995165969384592, 1.243447704659744, -0.025147101742636787, -0.5941152195120954, -0.6297810032837157, 0.3184235114914604, -0.7027056834801207, -1.0608216030262902, -0.05087218332717387, 0.7616002261982439, -0.258033654280085, -0.09488984717788189, -1.702420208848687, -1.345180568981205, 0.31537539082752286, -0.1227927434578786, -2.04519880927543, 1.2326652562905906, -0.3260483556791499, -0.41078820252553605, 0.4534573741720663, 0.6660642909777231, 0.6096456778055162, -1.8843747005349487, -0.6280920968701095, 0.013579573409322563, 0.58444009796342, -0.6402794156561158, -0.01005186015976698, 0.6281954553420765, 1.1150685521916508, -1.2724228866295084, 0.06763903336292446, -0.3385196406335298, 0.19690377471139772, 0.6624552723679175, -1.634197524361951, 1.2795673993059826, -2.0108289866705764, -0.6617508456314672, -0.5628128537404228, 0.4430700127227428, -0.10268341417994102, -0.7691342517181959, 1.5871320662099035, 1.8657131155923175, 1.4366840526476878, -1.012345686468915, -0.17099028201472255, 1.5214133076671315]}, {\"boxpoints\": false, \"line\": {\"width\": 1.3}, \"marker\": {\"color\": \"rgba(128, 0, 128, 1.0)\"}, \"name\": \"D\", \"orientation\": \"v\", \"type\": \"box\", \"y\": [0.13793858494096364, -1.0685110775796975, -0.997019024377318, 1.3909456165642435, -0.38348155778987936, 0.19761270911578754, -0.6127184229944498, 0.676158383922949, 0.061230254624065665, 1.831582295066228, 0.7531612748304229, 1.063754260413047, 2.5423817486925997, -2.3389720782980166, -0.5719145062360703, 1.034895910559388, -0.04025943500023704, -0.622007918365505, -1.3832887065960247, -0.1464507019555157, 0.9247804199945364, -0.3725322353703732, 1.9981594602766175, 0.43981689535317464, -0.49277781121389697, 0.6772854544316099, 1.486354300327282, -0.637420521683839, 2.0568573753754307, -0.8868690056370306, 1.5858432506726274, 1.320623104130732, 0.4563862801805943, -0.7102397984248783, 0.6184619574620405, 0.7169408325343001, -0.8785864374339943, 1.1008994902518687, 0.04182201713864145, -1.061803767564098, 0.17636113921243388, 1.623468332145554, -0.5809327701965264, -0.9931841950582492, 0.7437729657637542, 0.16632066588824268, -0.2942612240366475, 0.29113087525227405, -1.5114689808848765, 0.5879362559074357, 0.1472628815600322, 0.4022516961002296, 0.7318732691465115, 0.5152549992744864, 0.6365767015643818, 0.6482701169564956, -1.2754722872090638, -1.1955015396021562, 0.5656886761913047, 0.03939547434135855, 0.7249662624343363, 1.4947618906234466, -0.5321267151039222, -1.7377902997804684, 0.7442783246564179, 2.2184977031906263, -0.4614451485401377, -1.4993519893677123, -0.6785631146633332, 0.8507169019485555, 0.5902981111307382, 0.2648210009946313, 0.5407071903145758, -0.2281290528195115, 0.7434357784239422, 0.01143562141734591, 1.751156917152561, 1.7942190563021307, 0.2666915659692473, -0.06092297712201784, 0.19291489162901268, -1.1180836083856287, -0.025184307538168887, 1.0610407835427111, -0.10003364181806242, 0.8189558427754416, 0.18025491882043004, 0.6241358000901407, -0.9920627995444932, -0.05724065011843744, -1.2295962744218014, -0.8067234157458383, 0.2945242858462882, 0.8786490866801401, -0.09943871929716257, -0.17705312959165395, 0.0024459226340188774, 0.2961740380115884, 0.9253350872111563, -1.1213105991697025]}],\n",
       "                        {\"legend\": {\"bgcolor\": \"#F5F6F9\", \"font\": {\"color\": \"#4D5663\"}}, \"paper_bgcolor\": \"#F5F6F9\", \"plot_bgcolor\": \"#F5F6F9\", \"template\": {\"data\": {\"bar\": [{\"error_x\": {\"color\": \"#2a3f5f\"}, \"error_y\": {\"color\": \"#2a3f5f\"}, \"marker\": {\"line\": {\"color\": \"#E5ECF6\", \"width\": 0.5}}, \"type\": \"bar\"}], \"barpolar\": [{\"marker\": {\"line\": {\"color\": \"#E5ECF6\", \"width\": 0.5}}, \"type\": \"barpolar\"}], \"carpet\": [{\"aaxis\": {\"endlinecolor\": \"#2a3f5f\", \"gridcolor\": \"white\", \"linecolor\": \"white\", \"minorgridcolor\": \"white\", \"startlinecolor\": \"#2a3f5f\"}, \"baxis\": {\"endlinecolor\": \"#2a3f5f\", \"gridcolor\": \"white\", \"linecolor\": \"white\", \"minorgridcolor\": \"white\", \"startlinecolor\": \"#2a3f5f\"}, \"type\": \"carpet\"}], \"choropleth\": [{\"colorbar\": {\"outlinewidth\": 0, \"ticks\": \"\"}, \"type\": \"choropleth\"}], \"contour\": [{\"colorbar\": {\"outlinewidth\": 0, \"ticks\": \"\"}, \"colorscale\": [[0.0, \"#0d0887\"], [0.1111111111111111, \"#46039f\"], [0.2222222222222222, \"#7201a8\"], [0.3333333333333333, \"#9c179e\"], [0.4444444444444444, \"#bd3786\"], [0.5555555555555556, \"#d8576b\"], [0.6666666666666666, \"#ed7953\"], [0.7777777777777778, \"#fb9f3a\"], [0.8888888888888888, \"#fdca26\"], [1.0, \"#f0f921\"]], \"type\": \"contour\"}], \"contourcarpet\": [{\"colorbar\": {\"outlinewidth\": 0, \"ticks\": \"\"}, \"type\": \"contourcarpet\"}], \"heatmap\": [{\"colorbar\": {\"outlinewidth\": 0, \"ticks\": \"\"}, \"colorscale\": [[0.0, \"#0d0887\"], [0.1111111111111111, \"#46039f\"], [0.2222222222222222, \"#7201a8\"], [0.3333333333333333, \"#9c179e\"], [0.4444444444444444, \"#bd3786\"], [0.5555555555555556, \"#d8576b\"], [0.6666666666666666, \"#ed7953\"], [0.7777777777777778, \"#fb9f3a\"], [0.8888888888888888, \"#fdca26\"], [1.0, \"#f0f921\"]], \"type\": \"heatmap\"}], \"heatmapgl\": [{\"colorbar\": {\"outlinewidth\": 0, \"ticks\": \"\"}, \"colorscale\": [[0.0, \"#0d0887\"], [0.1111111111111111, \"#46039f\"], [0.2222222222222222, \"#7201a8\"], [0.3333333333333333, \"#9c179e\"], [0.4444444444444444, \"#bd3786\"], [0.5555555555555556, \"#d8576b\"], [0.6666666666666666, \"#ed7953\"], [0.7777777777777778, \"#fb9f3a\"], [0.8888888888888888, \"#fdca26\"], [1.0, \"#f0f921\"]], \"type\": \"heatmapgl\"}], \"histogram\": [{\"marker\": {\"colorbar\": {\"outlinewidth\": 0, \"ticks\": \"\"}}, \"type\": \"histogram\"}], \"histogram2d\": [{\"colorbar\": {\"outlinewidth\": 0, \"ticks\": \"\"}, \"colorscale\": [[0.0, \"#0d0887\"], [0.1111111111111111, \"#46039f\"], [0.2222222222222222, \"#7201a8\"], [0.3333333333333333, \"#9c179e\"], [0.4444444444444444, \"#bd3786\"], [0.5555555555555556, \"#d8576b\"], [0.6666666666666666, \"#ed7953\"], [0.7777777777777778, \"#fb9f3a\"], [0.8888888888888888, \"#fdca26\"], [1.0, \"#f0f921\"]], \"type\": \"histogram2d\"}], \"histogram2dcontour\": [{\"colorbar\": {\"outlinewidth\": 0, \"ticks\": \"\"}, \"colorscale\": [[0.0, \"#0d0887\"], [0.1111111111111111, \"#46039f\"], [0.2222222222222222, \"#7201a8\"], [0.3333333333333333, \"#9c179e\"], [0.4444444444444444, \"#bd3786\"], [0.5555555555555556, \"#d8576b\"], [0.6666666666666666, \"#ed7953\"], [0.7777777777777778, \"#fb9f3a\"], [0.8888888888888888, \"#fdca26\"], [1.0, \"#f0f921\"]], \"type\": \"histogram2dcontour\"}], \"mesh3d\": [{\"colorbar\": {\"outlinewidth\": 0, \"ticks\": \"\"}, \"type\": \"mesh3d\"}], \"parcoords\": [{\"line\": {\"colorbar\": {\"outlinewidth\": 0, \"ticks\": \"\"}}, \"type\": \"parcoords\"}], \"pie\": [{\"automargin\": true, \"type\": \"pie\"}], \"scatter\": [{\"marker\": {\"colorbar\": {\"outlinewidth\": 0, \"ticks\": \"\"}}, \"type\": \"scatter\"}], \"scatter3d\": [{\"line\": {\"colorbar\": {\"outlinewidth\": 0, \"ticks\": \"\"}}, \"marker\": {\"colorbar\": {\"outlinewidth\": 0, \"ticks\": \"\"}}, \"type\": \"scatter3d\"}], \"scattercarpet\": [{\"marker\": {\"colorbar\": {\"outlinewidth\": 0, \"ticks\": \"\"}}, \"type\": \"scattercarpet\"}], \"scattergeo\": [{\"marker\": {\"colorbar\": {\"outlinewidth\": 0, \"ticks\": \"\"}}, \"type\": \"scattergeo\"}], \"scattergl\": [{\"marker\": {\"colorbar\": {\"outlinewidth\": 0, \"ticks\": \"\"}}, \"type\": \"scattergl\"}], \"scattermapbox\": [{\"marker\": {\"colorbar\": {\"outlinewidth\": 0, \"ticks\": \"\"}}, \"type\": \"scattermapbox\"}], \"scatterpolar\": [{\"marker\": {\"colorbar\": {\"outlinewidth\": 0, \"ticks\": \"\"}}, \"type\": \"scatterpolar\"}], \"scatterpolargl\": [{\"marker\": {\"colorbar\": {\"outlinewidth\": 0, \"ticks\": \"\"}}, \"type\": \"scatterpolargl\"}], \"scatterternary\": [{\"marker\": {\"colorbar\": {\"outlinewidth\": 0, \"ticks\": \"\"}}, \"type\": \"scatterternary\"}], \"surface\": [{\"colorbar\": {\"outlinewidth\": 0, \"ticks\": \"\"}, \"colorscale\": [[0.0, \"#0d0887\"], [0.1111111111111111, \"#46039f\"], [0.2222222222222222, \"#7201a8\"], [0.3333333333333333, \"#9c179e\"], [0.4444444444444444, \"#bd3786\"], [0.5555555555555556, \"#d8576b\"], [0.6666666666666666, \"#ed7953\"], [0.7777777777777778, \"#fb9f3a\"], [0.8888888888888888, \"#fdca26\"], [1.0, \"#f0f921\"]], \"type\": \"surface\"}], \"table\": [{\"cells\": {\"fill\": {\"color\": \"#EBF0F8\"}, \"line\": {\"color\": \"white\"}}, \"header\": {\"fill\": {\"color\": \"#C8D4E3\"}, \"line\": {\"color\": \"white\"}}, \"type\": \"table\"}]}, \"layout\": {\"annotationdefaults\": {\"arrowcolor\": \"#2a3f5f\", \"arrowhead\": 0, \"arrowwidth\": 1}, \"coloraxis\": {\"colorbar\": {\"outlinewidth\": 0, \"ticks\": \"\"}}, \"colorscale\": {\"diverging\": [[0, \"#8e0152\"], [0.1, \"#c51b7d\"], [0.2, \"#de77ae\"], [0.3, \"#f1b6da\"], [0.4, \"#fde0ef\"], [0.5, \"#f7f7f7\"], [0.6, \"#e6f5d0\"], [0.7, \"#b8e186\"], [0.8, \"#7fbc41\"], [0.9, \"#4d9221\"], [1, \"#276419\"]], \"sequential\": [[0.0, \"#0d0887\"], [0.1111111111111111, \"#46039f\"], [0.2222222222222222, \"#7201a8\"], [0.3333333333333333, \"#9c179e\"], [0.4444444444444444, \"#bd3786\"], [0.5555555555555556, \"#d8576b\"], [0.6666666666666666, \"#ed7953\"], [0.7777777777777778, \"#fb9f3a\"], [0.8888888888888888, \"#fdca26\"], [1.0, \"#f0f921\"]], \"sequentialminus\": [[0.0, \"#0d0887\"], [0.1111111111111111, \"#46039f\"], [0.2222222222222222, \"#7201a8\"], [0.3333333333333333, \"#9c179e\"], [0.4444444444444444, \"#bd3786\"], [0.5555555555555556, \"#d8576b\"], [0.6666666666666666, \"#ed7953\"], [0.7777777777777778, \"#fb9f3a\"], [0.8888888888888888, \"#fdca26\"], [1.0, \"#f0f921\"]]}, \"colorway\": [\"#636efa\", \"#EF553B\", \"#00cc96\", \"#ab63fa\", \"#FFA15A\", \"#19d3f3\", \"#FF6692\", \"#B6E880\", \"#FF97FF\", \"#FECB52\"], \"font\": {\"color\": \"#2a3f5f\"}, \"geo\": {\"bgcolor\": \"white\", \"lakecolor\": \"white\", \"landcolor\": \"#E5ECF6\", \"showlakes\": true, \"showland\": true, \"subunitcolor\": \"white\"}, \"hoverlabel\": {\"align\": \"left\"}, \"hovermode\": \"closest\", \"mapbox\": {\"style\": \"light\"}, \"paper_bgcolor\": \"white\", \"plot_bgcolor\": \"#E5ECF6\", \"polar\": {\"angularaxis\": {\"gridcolor\": \"white\", \"linecolor\": \"white\", \"ticks\": \"\"}, \"bgcolor\": \"#E5ECF6\", \"radialaxis\": {\"gridcolor\": \"white\", \"linecolor\": \"white\", \"ticks\": \"\"}}, \"scene\": {\"xaxis\": {\"backgroundcolor\": \"#E5ECF6\", \"gridcolor\": \"white\", \"gridwidth\": 2, \"linecolor\": \"white\", \"showbackground\": true, \"ticks\": \"\", \"zerolinecolor\": \"white\"}, \"yaxis\": {\"backgroundcolor\": \"#E5ECF6\", \"gridcolor\": \"white\", \"gridwidth\": 2, \"linecolor\": \"white\", \"showbackground\": true, \"ticks\": \"\", \"zerolinecolor\": \"white\"}, \"zaxis\": {\"backgroundcolor\": \"#E5ECF6\", \"gridcolor\": \"white\", \"gridwidth\": 2, \"linecolor\": \"white\", \"showbackground\": true, \"ticks\": \"\", \"zerolinecolor\": \"white\"}}, \"shapedefaults\": {\"line\": {\"color\": \"#2a3f5f\"}}, \"ternary\": {\"aaxis\": {\"gridcolor\": \"white\", \"linecolor\": \"white\", \"ticks\": \"\"}, \"baxis\": {\"gridcolor\": \"white\", \"linecolor\": \"white\", \"ticks\": \"\"}, \"bgcolor\": \"#E5ECF6\", \"caxis\": {\"gridcolor\": \"white\", \"linecolor\": \"white\", \"ticks\": \"\"}}, \"title\": {\"x\": 0.05}, \"xaxis\": {\"automargin\": true, \"gridcolor\": \"white\", \"linecolor\": \"white\", \"ticks\": \"\", \"title\": {\"standoff\": 15}, \"zerolinecolor\": \"white\", \"zerolinewidth\": 2}, \"yaxis\": {\"automargin\": true, \"gridcolor\": \"white\", \"linecolor\": \"white\", \"ticks\": \"\", \"title\": {\"standoff\": 15}, \"zerolinecolor\": \"white\", \"zerolinewidth\": 2}}}, \"title\": {\"font\": {\"color\": \"#4D5663\"}}, \"xaxis\": {\"gridcolor\": \"#E1E5ED\", \"showgrid\": true, \"tickfont\": {\"color\": \"#4D5663\"}, \"title\": {\"font\": {\"color\": \"#4D5663\"}, \"text\": \"\"}, \"zerolinecolor\": \"#E1E5ED\"}, \"yaxis\": {\"gridcolor\": \"#E1E5ED\", \"showgrid\": true, \"tickfont\": {\"color\": \"#4D5663\"}, \"title\": {\"font\": {\"color\": \"#4D5663\"}, \"text\": \"\"}, \"zerolinecolor\": \"#E1E5ED\"}},\n",
       "                        {\"showLink\": true, \"linkText\": \"Export to plot.ly\", \"plotlyServerURL\": \"https://plot.ly\", \"responsive\": true}\n",
       "                    ).then(function(){\n",
       "                            \n",
       "var gd = document.getElementById('35a8ef7e-64b2-4bff-b292-76e0135c6f70');\n",
       "var x = new MutationObserver(function (mutations, observer) {{\n",
       "        var display = window.getComputedStyle(gd).display;\n",
       "        if (!display || display === 'none') {{\n",
       "            console.log([gd, 'removed!']);\n",
       "            Plotly.purge(gd);\n",
       "            observer.disconnect();\n",
       "        }}\n",
       "}});\n",
       "\n",
       "// Listen for the removal of the full notebook cells\n",
       "var notebookContainer = gd.closest('#notebook-container');\n",
       "if (notebookContainer) {{\n",
       "    x.observe(notebookContainer, {childList: true});\n",
       "}}\n",
       "\n",
       "// Listen for the clearing of the current output cell\n",
       "var outputEl = gd.closest('.output');\n",
       "if (outputEl) {{\n",
       "    x.observe(outputEl, {childList: true});\n",
       "}}\n",
       "\n",
       "                        })\n",
       "                };\n",
       "                });\n",
       "            </script>\n",
       "        </div>"
      ]
     },
     "metadata": {},
     "output_type": "display_data"
    }
   ],
   "source": [
    "df.iplot(kind='box')"
   ]
  },
  {
   "cell_type": "markdown",
   "metadata": {},
   "source": [
    "## 3d Surface"
   ]
  },
  {
   "cell_type": "code",
   "execution_count": 29,
   "metadata": {},
   "outputs": [
    {
     "data": {
      "application/vnd.plotly.v1+json": {
       "config": {
        "linkText": "Export to plot.ly",
        "plotlyServerURL": "https://plot.ly",
        "showLink": true
       },
       "data": [
        {
         "colorscale": [
          [
           0,
           "rgb(165,0,38)"
          ],
          [
           0.1,
           "rgb(215,48,39)"
          ],
          [
           0.2,
           "rgb(244,109,67)"
          ],
          [
           0.3,
           "rgb(253,174,97)"
          ],
          [
           0.4,
           "rgb(254,224,144)"
          ],
          [
           0.5,
           "rgb(255,255,191)"
          ],
          [
           0.6,
           "rgb(224,243,248)"
          ],
          [
           0.7,
           "rgb(171,217,233)"
          ],
          [
           0.8,
           "rgb(116,173,209)"
          ],
          [
           0.9,
           "rgb(69,117,180)"
          ],
          [
           1,
           "rgb(49,54,149)"
          ]
         ],
         "type": "surface",
         "x": [
          0,
          1,
          2,
          3,
          4
         ],
         "y": [
          "x",
          "y",
          "z"
         ],
         "z": [
          [
           1,
           2,
           3,
           4,
           5
          ],
          [
           10,
           20,
           30,
           20,
           10
          ],
          [
           5,
           4,
           3,
           2,
           1
          ]
         ]
        }
       ],
       "layout": {
        "legend": {
         "bgcolor": "#F5F6F9",
         "font": {
          "color": "#4D5663"
         }
        },
        "paper_bgcolor": "#F5F6F9",
        "plot_bgcolor": "#F5F6F9",
        "template": {
         "data": {
          "bar": [
           {
            "error_x": {
             "color": "#2a3f5f"
            },
            "error_y": {
             "color": "#2a3f5f"
            },
            "marker": {
             "line": {
              "color": "#E5ECF6",
              "width": 0.5
             }
            },
            "type": "bar"
           }
          ],
          "barpolar": [
           {
            "marker": {
             "line": {
              "color": "#E5ECF6",
              "width": 0.5
             }
            },
            "type": "barpolar"
           }
          ],
          "carpet": [
           {
            "aaxis": {
             "endlinecolor": "#2a3f5f",
             "gridcolor": "white",
             "linecolor": "white",
             "minorgridcolor": "white",
             "startlinecolor": "#2a3f5f"
            },
            "baxis": {
             "endlinecolor": "#2a3f5f",
             "gridcolor": "white",
             "linecolor": "white",
             "minorgridcolor": "white",
             "startlinecolor": "#2a3f5f"
            },
            "type": "carpet"
           }
          ],
          "choropleth": [
           {
            "colorbar": {
             "outlinewidth": 0,
             "ticks": ""
            },
            "type": "choropleth"
           }
          ],
          "contour": [
           {
            "colorbar": {
             "outlinewidth": 0,
             "ticks": ""
            },
            "colorscale": [
             [
              0,
              "#0d0887"
             ],
             [
              0.1111111111111111,
              "#46039f"
             ],
             [
              0.2222222222222222,
              "#7201a8"
             ],
             [
              0.3333333333333333,
              "#9c179e"
             ],
             [
              0.4444444444444444,
              "#bd3786"
             ],
             [
              0.5555555555555556,
              "#d8576b"
             ],
             [
              0.6666666666666666,
              "#ed7953"
             ],
             [
              0.7777777777777778,
              "#fb9f3a"
             ],
             [
              0.8888888888888888,
              "#fdca26"
             ],
             [
              1,
              "#f0f921"
             ]
            ],
            "type": "contour"
           }
          ],
          "contourcarpet": [
           {
            "colorbar": {
             "outlinewidth": 0,
             "ticks": ""
            },
            "type": "contourcarpet"
           }
          ],
          "heatmap": [
           {
            "colorbar": {
             "outlinewidth": 0,
             "ticks": ""
            },
            "colorscale": [
             [
              0,
              "#0d0887"
             ],
             [
              0.1111111111111111,
              "#46039f"
             ],
             [
              0.2222222222222222,
              "#7201a8"
             ],
             [
              0.3333333333333333,
              "#9c179e"
             ],
             [
              0.4444444444444444,
              "#bd3786"
             ],
             [
              0.5555555555555556,
              "#d8576b"
             ],
             [
              0.6666666666666666,
              "#ed7953"
             ],
             [
              0.7777777777777778,
              "#fb9f3a"
             ],
             [
              0.8888888888888888,
              "#fdca26"
             ],
             [
              1,
              "#f0f921"
             ]
            ],
            "type": "heatmap"
           }
          ],
          "heatmapgl": [
           {
            "colorbar": {
             "outlinewidth": 0,
             "ticks": ""
            },
            "colorscale": [
             [
              0,
              "#0d0887"
             ],
             [
              0.1111111111111111,
              "#46039f"
             ],
             [
              0.2222222222222222,
              "#7201a8"
             ],
             [
              0.3333333333333333,
              "#9c179e"
             ],
             [
              0.4444444444444444,
              "#bd3786"
             ],
             [
              0.5555555555555556,
              "#d8576b"
             ],
             [
              0.6666666666666666,
              "#ed7953"
             ],
             [
              0.7777777777777778,
              "#fb9f3a"
             ],
             [
              0.8888888888888888,
              "#fdca26"
             ],
             [
              1,
              "#f0f921"
             ]
            ],
            "type": "heatmapgl"
           }
          ],
          "histogram": [
           {
            "marker": {
             "colorbar": {
              "outlinewidth": 0,
              "ticks": ""
             }
            },
            "type": "histogram"
           }
          ],
          "histogram2d": [
           {
            "colorbar": {
             "outlinewidth": 0,
             "ticks": ""
            },
            "colorscale": [
             [
              0,
              "#0d0887"
             ],
             [
              0.1111111111111111,
              "#46039f"
             ],
             [
              0.2222222222222222,
              "#7201a8"
             ],
             [
              0.3333333333333333,
              "#9c179e"
             ],
             [
              0.4444444444444444,
              "#bd3786"
             ],
             [
              0.5555555555555556,
              "#d8576b"
             ],
             [
              0.6666666666666666,
              "#ed7953"
             ],
             [
              0.7777777777777778,
              "#fb9f3a"
             ],
             [
              0.8888888888888888,
              "#fdca26"
             ],
             [
              1,
              "#f0f921"
             ]
            ],
            "type": "histogram2d"
           }
          ],
          "histogram2dcontour": [
           {
            "colorbar": {
             "outlinewidth": 0,
             "ticks": ""
            },
            "colorscale": [
             [
              0,
              "#0d0887"
             ],
             [
              0.1111111111111111,
              "#46039f"
             ],
             [
              0.2222222222222222,
              "#7201a8"
             ],
             [
              0.3333333333333333,
              "#9c179e"
             ],
             [
              0.4444444444444444,
              "#bd3786"
             ],
             [
              0.5555555555555556,
              "#d8576b"
             ],
             [
              0.6666666666666666,
              "#ed7953"
             ],
             [
              0.7777777777777778,
              "#fb9f3a"
             ],
             [
              0.8888888888888888,
              "#fdca26"
             ],
             [
              1,
              "#f0f921"
             ]
            ],
            "type": "histogram2dcontour"
           }
          ],
          "mesh3d": [
           {
            "colorbar": {
             "outlinewidth": 0,
             "ticks": ""
            },
            "type": "mesh3d"
           }
          ],
          "parcoords": [
           {
            "line": {
             "colorbar": {
              "outlinewidth": 0,
              "ticks": ""
             }
            },
            "type": "parcoords"
           }
          ],
          "pie": [
           {
            "automargin": true,
            "type": "pie"
           }
          ],
          "scatter": [
           {
            "marker": {
             "colorbar": {
              "outlinewidth": 0,
              "ticks": ""
             }
            },
            "type": "scatter"
           }
          ],
          "scatter3d": [
           {
            "line": {
             "colorbar": {
              "outlinewidth": 0,
              "ticks": ""
             }
            },
            "marker": {
             "colorbar": {
              "outlinewidth": 0,
              "ticks": ""
             }
            },
            "type": "scatter3d"
           }
          ],
          "scattercarpet": [
           {
            "marker": {
             "colorbar": {
              "outlinewidth": 0,
              "ticks": ""
             }
            },
            "type": "scattercarpet"
           }
          ],
          "scattergeo": [
           {
            "marker": {
             "colorbar": {
              "outlinewidth": 0,
              "ticks": ""
             }
            },
            "type": "scattergeo"
           }
          ],
          "scattergl": [
           {
            "marker": {
             "colorbar": {
              "outlinewidth": 0,
              "ticks": ""
             }
            },
            "type": "scattergl"
           }
          ],
          "scattermapbox": [
           {
            "marker": {
             "colorbar": {
              "outlinewidth": 0,
              "ticks": ""
             }
            },
            "type": "scattermapbox"
           }
          ],
          "scatterpolar": [
           {
            "marker": {
             "colorbar": {
              "outlinewidth": 0,
              "ticks": ""
             }
            },
            "type": "scatterpolar"
           }
          ],
          "scatterpolargl": [
           {
            "marker": {
             "colorbar": {
              "outlinewidth": 0,
              "ticks": ""
             }
            },
            "type": "scatterpolargl"
           }
          ],
          "scatterternary": [
           {
            "marker": {
             "colorbar": {
              "outlinewidth": 0,
              "ticks": ""
             }
            },
            "type": "scatterternary"
           }
          ],
          "surface": [
           {
            "colorbar": {
             "outlinewidth": 0,
             "ticks": ""
            },
            "colorscale": [
             [
              0,
              "#0d0887"
             ],
             [
              0.1111111111111111,
              "#46039f"
             ],
             [
              0.2222222222222222,
              "#7201a8"
             ],
             [
              0.3333333333333333,
              "#9c179e"
             ],
             [
              0.4444444444444444,
              "#bd3786"
             ],
             [
              0.5555555555555556,
              "#d8576b"
             ],
             [
              0.6666666666666666,
              "#ed7953"
             ],
             [
              0.7777777777777778,
              "#fb9f3a"
             ],
             [
              0.8888888888888888,
              "#fdca26"
             ],
             [
              1,
              "#f0f921"
             ]
            ],
            "type": "surface"
           }
          ],
          "table": [
           {
            "cells": {
             "fill": {
              "color": "#EBF0F8"
             },
             "line": {
              "color": "white"
             }
            },
            "header": {
             "fill": {
              "color": "#C8D4E3"
             },
             "line": {
              "color": "white"
             }
            },
            "type": "table"
           }
          ]
         },
         "layout": {
          "annotationdefaults": {
           "arrowcolor": "#2a3f5f",
           "arrowhead": 0,
           "arrowwidth": 1
          },
          "coloraxis": {
           "colorbar": {
            "outlinewidth": 0,
            "ticks": ""
           }
          },
          "colorscale": {
           "diverging": [
            [
             0,
             "#8e0152"
            ],
            [
             0.1,
             "#c51b7d"
            ],
            [
             0.2,
             "#de77ae"
            ],
            [
             0.3,
             "#f1b6da"
            ],
            [
             0.4,
             "#fde0ef"
            ],
            [
             0.5,
             "#f7f7f7"
            ],
            [
             0.6,
             "#e6f5d0"
            ],
            [
             0.7,
             "#b8e186"
            ],
            [
             0.8,
             "#7fbc41"
            ],
            [
             0.9,
             "#4d9221"
            ],
            [
             1,
             "#276419"
            ]
           ],
           "sequential": [
            [
             0,
             "#0d0887"
            ],
            [
             0.1111111111111111,
             "#46039f"
            ],
            [
             0.2222222222222222,
             "#7201a8"
            ],
            [
             0.3333333333333333,
             "#9c179e"
            ],
            [
             0.4444444444444444,
             "#bd3786"
            ],
            [
             0.5555555555555556,
             "#d8576b"
            ],
            [
             0.6666666666666666,
             "#ed7953"
            ],
            [
             0.7777777777777778,
             "#fb9f3a"
            ],
            [
             0.8888888888888888,
             "#fdca26"
            ],
            [
             1,
             "#f0f921"
            ]
           ],
           "sequentialminus": [
            [
             0,
             "#0d0887"
            ],
            [
             0.1111111111111111,
             "#46039f"
            ],
            [
             0.2222222222222222,
             "#7201a8"
            ],
            [
             0.3333333333333333,
             "#9c179e"
            ],
            [
             0.4444444444444444,
             "#bd3786"
            ],
            [
             0.5555555555555556,
             "#d8576b"
            ],
            [
             0.6666666666666666,
             "#ed7953"
            ],
            [
             0.7777777777777778,
             "#fb9f3a"
            ],
            [
             0.8888888888888888,
             "#fdca26"
            ],
            [
             1,
             "#f0f921"
            ]
           ]
          },
          "colorway": [
           "#636efa",
           "#EF553B",
           "#00cc96",
           "#ab63fa",
           "#FFA15A",
           "#19d3f3",
           "#FF6692",
           "#B6E880",
           "#FF97FF",
           "#FECB52"
          ],
          "font": {
           "color": "#2a3f5f"
          },
          "geo": {
           "bgcolor": "white",
           "lakecolor": "white",
           "landcolor": "#E5ECF6",
           "showlakes": true,
           "showland": true,
           "subunitcolor": "white"
          },
          "hoverlabel": {
           "align": "left"
          },
          "hovermode": "closest",
          "mapbox": {
           "style": "light"
          },
          "paper_bgcolor": "white",
          "plot_bgcolor": "#E5ECF6",
          "polar": {
           "angularaxis": {
            "gridcolor": "white",
            "linecolor": "white",
            "ticks": ""
           },
           "bgcolor": "#E5ECF6",
           "radialaxis": {
            "gridcolor": "white",
            "linecolor": "white",
            "ticks": ""
           }
          },
          "scene": {
           "xaxis": {
            "backgroundcolor": "#E5ECF6",
            "gridcolor": "white",
            "gridwidth": 2,
            "linecolor": "white",
            "showbackground": true,
            "ticks": "",
            "zerolinecolor": "white"
           },
           "yaxis": {
            "backgroundcolor": "#E5ECF6",
            "gridcolor": "white",
            "gridwidth": 2,
            "linecolor": "white",
            "showbackground": true,
            "ticks": "",
            "zerolinecolor": "white"
           },
           "zaxis": {
            "backgroundcolor": "#E5ECF6",
            "gridcolor": "white",
            "gridwidth": 2,
            "linecolor": "white",
            "showbackground": true,
            "ticks": "",
            "zerolinecolor": "white"
           }
          },
          "shapedefaults": {
           "line": {
            "color": "#2a3f5f"
           }
          },
          "ternary": {
           "aaxis": {
            "gridcolor": "white",
            "linecolor": "white",
            "ticks": ""
           },
           "baxis": {
            "gridcolor": "white",
            "linecolor": "white",
            "ticks": ""
           },
           "bgcolor": "#E5ECF6",
           "caxis": {
            "gridcolor": "white",
            "linecolor": "white",
            "ticks": ""
           }
          },
          "title": {
           "x": 0.05
          },
          "xaxis": {
           "automargin": true,
           "gridcolor": "white",
           "linecolor": "white",
           "ticks": "",
           "title": {
            "standoff": 15
           },
           "zerolinecolor": "white",
           "zerolinewidth": 2
          },
          "yaxis": {
           "automargin": true,
           "gridcolor": "white",
           "linecolor": "white",
           "ticks": "",
           "title": {
            "standoff": 15
           },
           "zerolinecolor": "white",
           "zerolinewidth": 2
          }
         }
        },
        "title": {
         "font": {
          "color": "#4D5663"
         }
        },
        "xaxis": {
         "gridcolor": "#E1E5ED",
         "showgrid": true,
         "tickfont": {
          "color": "#4D5663"
         },
         "title": {
          "font": {
           "color": "#4D5663"
          },
          "text": ""
         },
         "zerolinecolor": "#E1E5ED"
        },
        "yaxis": {
         "gridcolor": "#E1E5ED",
         "showgrid": true,
         "tickfont": {
          "color": "#4D5663"
         },
         "title": {
          "font": {
           "color": "#4D5663"
          },
          "text": ""
         },
         "zerolinecolor": "#E1E5ED"
        }
       }
      },
      "text/html": [
       "<div>\n",
       "        \n",
       "        \n",
       "            <div id=\"4f00f36d-da35-4ef1-a3b9-37955825a319\" class=\"plotly-graph-div\" style=\"height:525px; width:100%;\"></div>\n",
       "            <script type=\"text/javascript\">\n",
       "                require([\"plotly\"], function(Plotly) {\n",
       "                    window.PLOTLYENV=window.PLOTLYENV || {};\n",
       "                    window.PLOTLYENV.BASE_URL='https://plot.ly';\n",
       "                    \n",
       "                if (document.getElementById(\"4f00f36d-da35-4ef1-a3b9-37955825a319\")) {\n",
       "                    Plotly.newPlot(\n",
       "                        '4f00f36d-da35-4ef1-a3b9-37955825a319',\n",
       "                        [{\"colorscale\": [[0.0, \"rgb(165,0,38)\"], [0.1, \"rgb(215,48,39)\"], [0.2, \"rgb(244,109,67)\"], [0.3, \"rgb(253,174,97)\"], [0.4, \"rgb(254,224,144)\"], [0.5, \"rgb(255,255,191)\"], [0.6, \"rgb(224,243,248)\"], [0.7, \"rgb(171,217,233)\"], [0.8, \"rgb(116,173,209)\"], [0.9, \"rgb(69,117,180)\"], [1.0, \"rgb(49,54,149)\"]], \"type\": \"surface\", \"x\": [0, 1, 2, 3, 4], \"y\": [\"x\", \"y\", \"z\"], \"z\": [[1, 2, 3, 4, 5], [10, 20, 30, 20, 10], [5, 4, 3, 2, 1]]}],\n",
       "                        {\"legend\": {\"bgcolor\": \"#F5F6F9\", \"font\": {\"color\": \"#4D5663\"}}, \"paper_bgcolor\": \"#F5F6F9\", \"plot_bgcolor\": \"#F5F6F9\", \"template\": {\"data\": {\"bar\": [{\"error_x\": {\"color\": \"#2a3f5f\"}, \"error_y\": {\"color\": \"#2a3f5f\"}, \"marker\": {\"line\": {\"color\": \"#E5ECF6\", \"width\": 0.5}}, \"type\": \"bar\"}], \"barpolar\": [{\"marker\": {\"line\": {\"color\": \"#E5ECF6\", \"width\": 0.5}}, \"type\": \"barpolar\"}], \"carpet\": [{\"aaxis\": {\"endlinecolor\": \"#2a3f5f\", \"gridcolor\": \"white\", \"linecolor\": \"white\", \"minorgridcolor\": \"white\", \"startlinecolor\": \"#2a3f5f\"}, \"baxis\": {\"endlinecolor\": \"#2a3f5f\", \"gridcolor\": \"white\", \"linecolor\": \"white\", \"minorgridcolor\": \"white\", \"startlinecolor\": \"#2a3f5f\"}, \"type\": \"carpet\"}], \"choropleth\": [{\"colorbar\": {\"outlinewidth\": 0, \"ticks\": \"\"}, \"type\": \"choropleth\"}], \"contour\": [{\"colorbar\": {\"outlinewidth\": 0, \"ticks\": \"\"}, \"colorscale\": [[0.0, \"#0d0887\"], [0.1111111111111111, \"#46039f\"], [0.2222222222222222, \"#7201a8\"], [0.3333333333333333, \"#9c179e\"], [0.4444444444444444, \"#bd3786\"], [0.5555555555555556, \"#d8576b\"], [0.6666666666666666, \"#ed7953\"], [0.7777777777777778, \"#fb9f3a\"], [0.8888888888888888, \"#fdca26\"], [1.0, \"#f0f921\"]], \"type\": \"contour\"}], \"contourcarpet\": [{\"colorbar\": {\"outlinewidth\": 0, \"ticks\": \"\"}, \"type\": \"contourcarpet\"}], \"heatmap\": [{\"colorbar\": {\"outlinewidth\": 0, \"ticks\": \"\"}, \"colorscale\": [[0.0, \"#0d0887\"], [0.1111111111111111, \"#46039f\"], [0.2222222222222222, \"#7201a8\"], [0.3333333333333333, \"#9c179e\"], [0.4444444444444444, \"#bd3786\"], [0.5555555555555556, \"#d8576b\"], [0.6666666666666666, \"#ed7953\"], [0.7777777777777778, \"#fb9f3a\"], [0.8888888888888888, \"#fdca26\"], [1.0, \"#f0f921\"]], \"type\": \"heatmap\"}], \"heatmapgl\": [{\"colorbar\": {\"outlinewidth\": 0, \"ticks\": \"\"}, \"colorscale\": [[0.0, \"#0d0887\"], [0.1111111111111111, \"#46039f\"], [0.2222222222222222, \"#7201a8\"], [0.3333333333333333, \"#9c179e\"], [0.4444444444444444, \"#bd3786\"], [0.5555555555555556, \"#d8576b\"], [0.6666666666666666, \"#ed7953\"], [0.7777777777777778, \"#fb9f3a\"], [0.8888888888888888, \"#fdca26\"], [1.0, \"#f0f921\"]], \"type\": \"heatmapgl\"}], \"histogram\": [{\"marker\": {\"colorbar\": {\"outlinewidth\": 0, \"ticks\": \"\"}}, \"type\": \"histogram\"}], \"histogram2d\": [{\"colorbar\": {\"outlinewidth\": 0, \"ticks\": \"\"}, \"colorscale\": [[0.0, \"#0d0887\"], [0.1111111111111111, \"#46039f\"], [0.2222222222222222, \"#7201a8\"], [0.3333333333333333, \"#9c179e\"], [0.4444444444444444, \"#bd3786\"], [0.5555555555555556, \"#d8576b\"], [0.6666666666666666, \"#ed7953\"], [0.7777777777777778, \"#fb9f3a\"], [0.8888888888888888, \"#fdca26\"], [1.0, \"#f0f921\"]], \"type\": \"histogram2d\"}], \"histogram2dcontour\": [{\"colorbar\": {\"outlinewidth\": 0, \"ticks\": \"\"}, \"colorscale\": [[0.0, \"#0d0887\"], [0.1111111111111111, \"#46039f\"], [0.2222222222222222, \"#7201a8\"], [0.3333333333333333, \"#9c179e\"], [0.4444444444444444, \"#bd3786\"], [0.5555555555555556, \"#d8576b\"], [0.6666666666666666, \"#ed7953\"], [0.7777777777777778, \"#fb9f3a\"], [0.8888888888888888, \"#fdca26\"], [1.0, \"#f0f921\"]], \"type\": \"histogram2dcontour\"}], \"mesh3d\": [{\"colorbar\": {\"outlinewidth\": 0, \"ticks\": \"\"}, \"type\": \"mesh3d\"}], \"parcoords\": [{\"line\": {\"colorbar\": {\"outlinewidth\": 0, \"ticks\": \"\"}}, \"type\": \"parcoords\"}], \"pie\": [{\"automargin\": true, \"type\": \"pie\"}], \"scatter\": [{\"marker\": {\"colorbar\": {\"outlinewidth\": 0, \"ticks\": \"\"}}, \"type\": \"scatter\"}], \"scatter3d\": [{\"line\": {\"colorbar\": {\"outlinewidth\": 0, \"ticks\": \"\"}}, \"marker\": {\"colorbar\": {\"outlinewidth\": 0, \"ticks\": \"\"}}, \"type\": \"scatter3d\"}], \"scattercarpet\": [{\"marker\": {\"colorbar\": {\"outlinewidth\": 0, \"ticks\": \"\"}}, \"type\": \"scattercarpet\"}], \"scattergeo\": [{\"marker\": {\"colorbar\": {\"outlinewidth\": 0, \"ticks\": \"\"}}, \"type\": \"scattergeo\"}], \"scattergl\": [{\"marker\": {\"colorbar\": {\"outlinewidth\": 0, \"ticks\": \"\"}}, \"type\": \"scattergl\"}], \"scattermapbox\": [{\"marker\": {\"colorbar\": {\"outlinewidth\": 0, \"ticks\": \"\"}}, \"type\": \"scattermapbox\"}], \"scatterpolar\": [{\"marker\": {\"colorbar\": {\"outlinewidth\": 0, \"ticks\": \"\"}}, \"type\": \"scatterpolar\"}], \"scatterpolargl\": [{\"marker\": {\"colorbar\": {\"outlinewidth\": 0, \"ticks\": \"\"}}, \"type\": \"scatterpolargl\"}], \"scatterternary\": [{\"marker\": {\"colorbar\": {\"outlinewidth\": 0, \"ticks\": \"\"}}, \"type\": \"scatterternary\"}], \"surface\": [{\"colorbar\": {\"outlinewidth\": 0, \"ticks\": \"\"}, \"colorscale\": [[0.0, \"#0d0887\"], [0.1111111111111111, \"#46039f\"], [0.2222222222222222, \"#7201a8\"], [0.3333333333333333, \"#9c179e\"], [0.4444444444444444, \"#bd3786\"], [0.5555555555555556, \"#d8576b\"], [0.6666666666666666, \"#ed7953\"], [0.7777777777777778, \"#fb9f3a\"], [0.8888888888888888, \"#fdca26\"], [1.0, \"#f0f921\"]], \"type\": \"surface\"}], \"table\": [{\"cells\": {\"fill\": {\"color\": \"#EBF0F8\"}, \"line\": {\"color\": \"white\"}}, \"header\": {\"fill\": {\"color\": \"#C8D4E3\"}, \"line\": {\"color\": \"white\"}}, \"type\": \"table\"}]}, \"layout\": {\"annotationdefaults\": {\"arrowcolor\": \"#2a3f5f\", \"arrowhead\": 0, \"arrowwidth\": 1}, \"coloraxis\": {\"colorbar\": {\"outlinewidth\": 0, \"ticks\": \"\"}}, \"colorscale\": {\"diverging\": [[0, \"#8e0152\"], [0.1, \"#c51b7d\"], [0.2, \"#de77ae\"], [0.3, \"#f1b6da\"], [0.4, \"#fde0ef\"], [0.5, \"#f7f7f7\"], [0.6, \"#e6f5d0\"], [0.7, \"#b8e186\"], [0.8, \"#7fbc41\"], [0.9, \"#4d9221\"], [1, \"#276419\"]], \"sequential\": [[0.0, \"#0d0887\"], [0.1111111111111111, \"#46039f\"], [0.2222222222222222, \"#7201a8\"], [0.3333333333333333, \"#9c179e\"], [0.4444444444444444, \"#bd3786\"], [0.5555555555555556, \"#d8576b\"], [0.6666666666666666, \"#ed7953\"], [0.7777777777777778, \"#fb9f3a\"], [0.8888888888888888, \"#fdca26\"], [1.0, \"#f0f921\"]], \"sequentialminus\": [[0.0, \"#0d0887\"], [0.1111111111111111, \"#46039f\"], [0.2222222222222222, \"#7201a8\"], [0.3333333333333333, \"#9c179e\"], [0.4444444444444444, \"#bd3786\"], [0.5555555555555556, \"#d8576b\"], [0.6666666666666666, \"#ed7953\"], [0.7777777777777778, \"#fb9f3a\"], [0.8888888888888888, \"#fdca26\"], [1.0, \"#f0f921\"]]}, \"colorway\": [\"#636efa\", \"#EF553B\", \"#00cc96\", \"#ab63fa\", \"#FFA15A\", \"#19d3f3\", \"#FF6692\", \"#B6E880\", \"#FF97FF\", \"#FECB52\"], \"font\": {\"color\": \"#2a3f5f\"}, \"geo\": {\"bgcolor\": \"white\", \"lakecolor\": \"white\", \"landcolor\": \"#E5ECF6\", \"showlakes\": true, \"showland\": true, \"subunitcolor\": \"white\"}, \"hoverlabel\": {\"align\": \"left\"}, \"hovermode\": \"closest\", \"mapbox\": {\"style\": \"light\"}, \"paper_bgcolor\": \"white\", \"plot_bgcolor\": \"#E5ECF6\", \"polar\": {\"angularaxis\": {\"gridcolor\": \"white\", \"linecolor\": \"white\", \"ticks\": \"\"}, \"bgcolor\": \"#E5ECF6\", \"radialaxis\": {\"gridcolor\": \"white\", \"linecolor\": \"white\", \"ticks\": \"\"}}, \"scene\": {\"xaxis\": {\"backgroundcolor\": \"#E5ECF6\", \"gridcolor\": \"white\", \"gridwidth\": 2, \"linecolor\": \"white\", \"showbackground\": true, \"ticks\": \"\", \"zerolinecolor\": \"white\"}, \"yaxis\": {\"backgroundcolor\": \"#E5ECF6\", \"gridcolor\": \"white\", \"gridwidth\": 2, \"linecolor\": \"white\", \"showbackground\": true, \"ticks\": \"\", \"zerolinecolor\": \"white\"}, \"zaxis\": {\"backgroundcolor\": \"#E5ECF6\", \"gridcolor\": \"white\", \"gridwidth\": 2, \"linecolor\": \"white\", \"showbackground\": true, \"ticks\": \"\", \"zerolinecolor\": \"white\"}}, \"shapedefaults\": {\"line\": {\"color\": \"#2a3f5f\"}}, \"ternary\": {\"aaxis\": {\"gridcolor\": \"white\", \"linecolor\": \"white\", \"ticks\": \"\"}, \"baxis\": {\"gridcolor\": \"white\", \"linecolor\": \"white\", \"ticks\": \"\"}, \"bgcolor\": \"#E5ECF6\", \"caxis\": {\"gridcolor\": \"white\", \"linecolor\": \"white\", \"ticks\": \"\"}}, \"title\": {\"x\": 0.05}, \"xaxis\": {\"automargin\": true, \"gridcolor\": \"white\", \"linecolor\": \"white\", \"ticks\": \"\", \"title\": {\"standoff\": 15}, \"zerolinecolor\": \"white\", \"zerolinewidth\": 2}, \"yaxis\": {\"automargin\": true, \"gridcolor\": \"white\", \"linecolor\": \"white\", \"ticks\": \"\", \"title\": {\"standoff\": 15}, \"zerolinecolor\": \"white\", \"zerolinewidth\": 2}}}, \"title\": {\"font\": {\"color\": \"#4D5663\"}}, \"xaxis\": {\"gridcolor\": \"#E1E5ED\", \"showgrid\": true, \"tickfont\": {\"color\": \"#4D5663\"}, \"title\": {\"font\": {\"color\": \"#4D5663\"}, \"text\": \"\"}, \"zerolinecolor\": \"#E1E5ED\"}, \"yaxis\": {\"gridcolor\": \"#E1E5ED\", \"showgrid\": true, \"tickfont\": {\"color\": \"#4D5663\"}, \"title\": {\"font\": {\"color\": \"#4D5663\"}, \"text\": \"\"}, \"zerolinecolor\": \"#E1E5ED\"}},\n",
       "                        {\"showLink\": true, \"linkText\": \"Export to plot.ly\", \"plotlyServerURL\": \"https://plot.ly\", \"responsive\": true}\n",
       "                    ).then(function(){\n",
       "                            \n",
       "var gd = document.getElementById('4f00f36d-da35-4ef1-a3b9-37955825a319');\n",
       "var x = new MutationObserver(function (mutations, observer) {{\n",
       "        var display = window.getComputedStyle(gd).display;\n",
       "        if (!display || display === 'none') {{\n",
       "            console.log([gd, 'removed!']);\n",
       "            Plotly.purge(gd);\n",
       "            observer.disconnect();\n",
       "        }}\n",
       "}});\n",
       "\n",
       "// Listen for the removal of the full notebook cells\n",
       "var notebookContainer = gd.closest('#notebook-container');\n",
       "if (notebookContainer) {{\n",
       "    x.observe(notebookContainer, {childList: true});\n",
       "}}\n",
       "\n",
       "// Listen for the clearing of the current output cell\n",
       "var outputEl = gd.closest('.output');\n",
       "if (outputEl) {{\n",
       "    x.observe(outputEl, {childList: true});\n",
       "}}\n",
       "\n",
       "                        })\n",
       "                };\n",
       "                });\n",
       "            </script>\n",
       "        </div>"
      ]
     },
     "metadata": {},
     "output_type": "display_data"
    }
   ],
   "source": [
    "df3 = pd.DataFrame({'x':[1,2,3,4,5],'y':[10,20,30,20,10],'z':[5,4,3,2,1]})\n",
    "df3.iplot(kind='surface',colorscale='rdylbu')"
   ]
  },
  {
   "cell_type": "markdown",
   "metadata": {},
   "source": [
    "## Spread"
   ]
  },
  {
   "cell_type": "code",
   "execution_count": 32,
   "metadata": {},
   "outputs": [
    {
     "data": {
      "application/vnd.plotly.v1+json": {
       "config": {
        "linkText": "Export to plot.ly",
        "plotlyServerURL": "https://plot.ly",
        "showLink": true
       },
       "data": [
        {
         "line": {
          "color": "rgba(255, 153, 51, 1.0)",
          "dash": "solid",
          "shape": "linear",
          "width": 1.3
         },
         "mode": "lines",
         "name": "A",
         "text": "",
         "type": "scatter",
         "x": [
          0,
          1,
          2,
          3,
          4,
          5,
          6,
          7,
          8,
          9,
          10,
          11,
          12,
          13,
          14,
          15,
          16,
          17,
          18,
          19,
          20,
          21,
          22,
          23,
          24,
          25,
          26,
          27,
          28,
          29,
          30,
          31,
          32,
          33,
          34,
          35,
          36,
          37,
          38,
          39,
          40,
          41,
          42,
          43,
          44,
          45,
          46,
          47,
          48,
          49,
          50,
          51,
          52,
          53,
          54,
          55,
          56,
          57,
          58,
          59,
          60,
          61,
          62,
          63,
          64,
          65,
          66,
          67,
          68,
          69,
          70,
          71,
          72,
          73,
          74,
          75,
          76,
          77,
          78,
          79,
          80,
          81,
          82,
          83,
          84,
          85,
          86,
          87,
          88,
          89,
          90,
          91,
          92,
          93,
          94,
          95,
          96,
          97,
          98,
          99
         ],
         "y": [
          1.573328711227588,
          -0.37852617950749295,
          0.1768154975319591,
          -0.5991281059388813,
          1.1755060314126213,
          0.24964246226697667,
          0.5956165871109731,
          0.5612011071792405,
          0.9180885799809175,
          0.7571694210998187,
          0.24715045119972137,
          -1.5270465043997787,
          -0.875374507933993,
          1.2025748375755545,
          0.6337638775037999,
          1.4678420619686383,
          0.45673265663204543,
          -0.26569229827179003,
          1.1244514300144637,
          -0.3169066781827368,
          2.3326670259694984,
          1.1805682968753102,
          -0.41405314324567183,
          0.3122201777837888,
          -1.4052653628429845,
          0.31430633602741875,
          -0.20578869630339477,
          -0.60390031944842,
          1.96339494742064,
          1.6693550129021753,
          -1.334598303785486,
          -0.37781853819873823,
          -0.8894928657177164,
          -0.7543929174901841,
          -0.23210840072281078,
          -1.6901960833990382,
          0.4512098555532659,
          -1.6840584805291572,
          1.0458784516037567,
          1.6664676824073386,
          -1.4401332275578733,
          1.7114714420535877,
          -0.45865548617687163,
          0.9505872085183176,
          -1.9421953084933026,
          0.042733014352603314,
          -0.15414531364007927,
          0.32915907886279877,
          -2.194460922754973,
          0.015125890780444818,
          0.2845835884595226,
          -0.3754901070103968,
          0.2844539210618317,
          -0.12817785900037726,
          0.2260420020459213,
          0.10436446169541978,
          -1.945586652139439,
          -0.36503865639939936,
          -0.22404622351044057,
          -0.2153410058721476,
          0.06278284613069145,
          0.8788465708891683,
          -0.7227927973318916,
          0.3973910025307887,
          -0.23934321011928952,
          0.7710770602966287,
          1.2068887478696722,
          0.21170919633969837,
          0.059892170735103015,
          -1.612452124677236,
          -0.8112259655549127,
          -1.370414490272464,
          -1.653881269326432,
          1.4336987722728656,
          0.3424580647461767,
          -0.47227829298318325,
          -1.6371862002778288,
          0.1178252873274814,
          0.6555856265155513,
          0.5430554758356879,
          -0.10956656996215498,
          1.0202118759670051,
          -0.24457257437156738,
          0.6398275256663398,
          0.35899461667070703,
          0.9615922999069186,
          -1.8575346554006276,
          -0.8698442370442436,
          0.6613226554534137,
          -1.9610775745970301,
          -1.7518253054808146,
          -0.4180919006194288,
          0.7778364527179996,
          -0.44990921899945696,
          0.9931689954464562,
          1.297712985928407,
          -0.5451756655006744,
          -0.1959375376838416,
          0.6051166858612246,
          -0.8677354795742439
         ]
        },
        {
         "line": {
          "color": "rgba(55, 128, 191, 1.0)",
          "dash": "solid",
          "shape": "linear",
          "width": 1.3
         },
         "mode": "lines",
         "name": "B",
         "text": "",
         "type": "scatter",
         "x": [
          0,
          1,
          2,
          3,
          4,
          5,
          6,
          7,
          8,
          9,
          10,
          11,
          12,
          13,
          14,
          15,
          16,
          17,
          18,
          19,
          20,
          21,
          22,
          23,
          24,
          25,
          26,
          27,
          28,
          29,
          30,
          31,
          32,
          33,
          34,
          35,
          36,
          37,
          38,
          39,
          40,
          41,
          42,
          43,
          44,
          45,
          46,
          47,
          48,
          49,
          50,
          51,
          52,
          53,
          54,
          55,
          56,
          57,
          58,
          59,
          60,
          61,
          62,
          63,
          64,
          65,
          66,
          67,
          68,
          69,
          70,
          71,
          72,
          73,
          74,
          75,
          76,
          77,
          78,
          79,
          80,
          81,
          82,
          83,
          84,
          85,
          86,
          87,
          88,
          89,
          90,
          91,
          92,
          93,
          94,
          95,
          96,
          97,
          98,
          99
         ],
         "y": [
          -0.2394652779549122,
          0.8512345364937773,
          0.41484812193021964,
          1.5370959350367674,
          -0.4927408965374319,
          -0.22100901165166023,
          -0.43193040335765653,
          -0.49336201857205314,
          0.5555084384448081,
          -0.5107093147117601,
          -0.3526308817252644,
          0.007489800734434926,
          -0.6003649263215223,
          -0.01278324946277747,
          0.2274406995260329,
          -1.0187156546487115,
          -0.4433447642506894,
          -0.3060049886332904,
          -0.11377838153924977,
          -0.08407790197866014,
          1.0464551062117906,
          -0.9799341186049836,
          -1.8537395580117801,
          0.6617221210672103,
          -0.683415999037852,
          -0.39479143980500403,
          -2.196804691822171,
          0.9829199829668247,
          -2.179151330999028,
          1.1392018545116072,
          -1.8420019494800435,
          -0.30038149675268744,
          0.008963551020868049,
          -0.06618101867302661,
          1.0674281027274761,
          0.7173822431325227,
          -1.9086449146501494,
          1.0205583203650004,
          2.23498872747899,
          -0.45259495728000726,
          0.574969471677332,
          0.6944603816242416,
          -0.12498725051976357,
          -1.8958418732899174,
          -0.6421631673722423,
          -0.38673076375729404,
          -0.3357083832660241,
          0.8998219397665486,
          -0.015392086889089685,
          -0.5026542206416671,
          -1.6951761221844877,
          1.6796828066716862,
          0.36604466437520533,
          -1.9183417290547082,
          0.4701078450355624,
          -0.19291943661795397,
          -0.7593893664030056,
          -0.6749441066899211,
          0.7479337658901685,
          1.1274218457436842,
          -0.43875091042622516,
          -1.8105231808183324,
          0.48444909587401636,
          -0.5055844310124634,
          -0.46194253142129044,
          0.52721385333185,
          0.33716747766588245,
          0.01697510334850516,
          -1.4034883679745767,
          0.29498065138194346,
          -1.641260866859968,
          -0.3542296235869637,
          -0.19241761771803673,
          -0.7587260159600041,
          0.37451144525510227,
          -1.2258116079566619,
          0.2842602520008746,
          -1.908327868761162,
          -0.8557696298768518,
          1.118002270580774,
          -1.4701377021951572,
          1.2765397042431867,
          0.3253134283901319,
          -0.6814381081251094,
          1.2397551256542891,
          0.5926331740445077,
          1.7231767023146967,
          0.18409964154272745,
          -0.5450931058141981,
          -0.17358078103870087,
          0.6888684372015913,
          1.281410412125775,
          0.49575937971724,
          0.0975145793536695,
          0.9673828187279973,
          2.168738376862383,
          -1.5611560382058942,
          3.352263014883978,
          -0.3147424815649832,
          1.0391922023113067
         ]
        },
        {
         "connectgaps": false,
         "fill": "tozeroy",
         "line": {
          "color": "green",
          "dash": "solid",
          "shape": "linear",
          "width": 0.5
         },
         "mode": "lines",
         "name": "Spread",
         "showlegend": false,
         "type": "scatter",
         "x": [
          0,
          1,
          2,
          3,
          4,
          5,
          6,
          7,
          8,
          9,
          10,
          11,
          12,
          13,
          14,
          15,
          16,
          17,
          18,
          19,
          20,
          21,
          22,
          23,
          24,
          25,
          26,
          27,
          28,
          29,
          30,
          31,
          32,
          33,
          34,
          35,
          36,
          37,
          38,
          39,
          40,
          41,
          42,
          43,
          44,
          45,
          46,
          47,
          48,
          49,
          50,
          51,
          52,
          53,
          54,
          55,
          56,
          57,
          58,
          59,
          60,
          61,
          62,
          63,
          64,
          65,
          66,
          67,
          68,
          69,
          70,
          71,
          72,
          73,
          74,
          75,
          76,
          77,
          78,
          79,
          80,
          81,
          82,
          83,
          84,
          85,
          86,
          87,
          88,
          89,
          90,
          91,
          92,
          93,
          94,
          95,
          96,
          97,
          98,
          99
         ],
         "xaxis": "x2",
         "y": [
          1.8127939891825002,
          "",
          "",
          "",
          1.6682469279500531,
          0.47065147391863693,
          1.0275469904686296,
          1.0545631257512937,
          0.3625801415361094,
          1.2678787358115788,
          0.5997813329249858,
          "",
          "",
          1.215358087038332,
          0.406323177977767,
          2.48655771661735,
          0.9000774208827349,
          0.04031269036150037,
          1.2382298115537134,
          "",
          1.2862119197577078,
          2.160502415480294,
          1.4396864147661084,
          "",
          "",
          0.7090977758324228,
          1.991015995518776,
          "",
          4.142546278419668,
          0.5301531583905681,
          0.5074036456945574,
          "",
          "",
          "",
          "",
          "",
          2.359854770203415,
          "",
          "",
          2.1190626396873458,
          "",
          1.017011060429346,
          "",
          2.846429081808235,
          "",
          0.42946377810989733,
          0.18156306962594482,
          "",
          "",
          0.5177801114221119,
          1.9797597106440104,
          "",
          "",
          1.790163870054331,
          "",
          0.29728389831337376,
          "",
          0.30990545029052174,
          "",
          "",
          0.5015337565569166,
          2.689369751707501,
          "",
          0.902975433543252,
          0.2225993213020009,
          0.2438632069647787,
          0.8697212702037898,
          0.1947340929911932,
          1.4633805387096797,
          "",
          0.8300349013050553,
          "",
          "",
          2.1924247882328696,
          "",
          0.7535333149734786,
          "",
          2.026153156088643,
          1.511355256392403,
          "",
          1.360571132233002,
          "",
          "",
          1.3212656337914492,
          "",
          0.368959125862411,
          "",
          "",
          1.2064157612676119,
          "",
          "",
          "",
          0.2820770730007596,
          "",
          0.025786176718458953,
          "",
          1.01598037270522,
          "",
          0.9198591674262078,
          ""
         ],
         "yaxis": "y2"
        },
        {
         "connectgaps": false,
         "fill": "tozeroy",
         "line": {
          "color": "red",
          "dash": "solid",
          "shape": "linear",
          "width": 0.5
         },
         "mode": "lines",
         "name": "Spread",
         "showlegend": false,
         "type": "scatter",
         "x": [
          0,
          1,
          2,
          3,
          4,
          5,
          6,
          7,
          8,
          9,
          10,
          11,
          12,
          13,
          14,
          15,
          16,
          17,
          18,
          19,
          20,
          21,
          22,
          23,
          24,
          25,
          26,
          27,
          28,
          29,
          30,
          31,
          32,
          33,
          34,
          35,
          36,
          37,
          38,
          39,
          40,
          41,
          42,
          43,
          44,
          45,
          46,
          47,
          48,
          49,
          50,
          51,
          52,
          53,
          54,
          55,
          56,
          57,
          58,
          59,
          60,
          61,
          62,
          63,
          64,
          65,
          66,
          67,
          68,
          69,
          70,
          71,
          72,
          73,
          74,
          75,
          76,
          77,
          78,
          79,
          80,
          81,
          82,
          83,
          84,
          85,
          86,
          87,
          88,
          89,
          90,
          91,
          92,
          93,
          94,
          95,
          96,
          97,
          98,
          99
         ],
         "xaxis": "x2",
         "y": [
          "",
          -1.2297607160012702,
          -0.23803262439826053,
          -2.136224040975649,
          "",
          "",
          "",
          "",
          "",
          "",
          "",
          -1.5345363051342136,
          -0.2750095816124707,
          "",
          "",
          "",
          "",
          "",
          "",
          -0.2328287762040767,
          "",
          "",
          "",
          -0.3495019432834215,
          -0.7218493638051325,
          "",
          "",
          -1.5868203024152447,
          "",
          "",
          "",
          -0.07743704144605079,
          -0.8984564167385845,
          -0.6882118988171575,
          -1.2995365034502868,
          -2.407578326531561,
          "",
          -2.704616800894158,
          -1.1891102758752332,
          "",
          -2.0151026992352055,
          "",
          -0.33366823565710807,
          "",
          -1.3000321411210602,
          "",
          "",
          -0.5706628609037498,
          -2.1790688358658836,
          "",
          "",
          -2.055172913682083,
          -0.08159074331337363,
          "",
          -0.24406584298964112,
          "",
          -1.1861972857364333,
          "",
          -0.971979989400609,
          -1.3427628516158319,
          "",
          "",
          -1.207241893205908,
          "",
          "",
          "",
          "",
          "",
          "",
          -1.9074327760591796,
          "",
          -1.0161848666855002,
          -1.4614636516083952,
          "",
          -0.03205338050892559,
          "",
          -1.9214464522787034,
          "",
          "",
          -0.574946794745086,
          "",
          -0.2563278282761816,
          -0.5698860027616992,
          "",
          -0.8807605089835822,
          "",
          -3.580711357715324,
          -1.053943878586971,
          "",
          -1.7874967935583292,
          -2.440693742682406,
          -1.6995023127452038,
          "",
          -0.5474237983531265,
          "",
          -0.871025390933976,
          "",
          -3.5482005525678195,
          "",
          -1.9069276818855507
         ],
         "yaxis": "y2"
        }
       ],
       "layout": {
        "hovermode": "x",
        "legend": {
         "bgcolor": "#F5F6F9",
         "font": {
          "color": "#4D5663"
         }
        },
        "paper_bgcolor": "#F5F6F9",
        "plot_bgcolor": "#F5F6F9",
        "template": {
         "data": {
          "bar": [
           {
            "error_x": {
             "color": "#2a3f5f"
            },
            "error_y": {
             "color": "#2a3f5f"
            },
            "marker": {
             "line": {
              "color": "#E5ECF6",
              "width": 0.5
             }
            },
            "type": "bar"
           }
          ],
          "barpolar": [
           {
            "marker": {
             "line": {
              "color": "#E5ECF6",
              "width": 0.5
             }
            },
            "type": "barpolar"
           }
          ],
          "carpet": [
           {
            "aaxis": {
             "endlinecolor": "#2a3f5f",
             "gridcolor": "white",
             "linecolor": "white",
             "minorgridcolor": "white",
             "startlinecolor": "#2a3f5f"
            },
            "baxis": {
             "endlinecolor": "#2a3f5f",
             "gridcolor": "white",
             "linecolor": "white",
             "minorgridcolor": "white",
             "startlinecolor": "#2a3f5f"
            },
            "type": "carpet"
           }
          ],
          "choropleth": [
           {
            "colorbar": {
             "outlinewidth": 0,
             "ticks": ""
            },
            "type": "choropleth"
           }
          ],
          "contour": [
           {
            "colorbar": {
             "outlinewidth": 0,
             "ticks": ""
            },
            "colorscale": [
             [
              0,
              "#0d0887"
             ],
             [
              0.1111111111111111,
              "#46039f"
             ],
             [
              0.2222222222222222,
              "#7201a8"
             ],
             [
              0.3333333333333333,
              "#9c179e"
             ],
             [
              0.4444444444444444,
              "#bd3786"
             ],
             [
              0.5555555555555556,
              "#d8576b"
             ],
             [
              0.6666666666666666,
              "#ed7953"
             ],
             [
              0.7777777777777778,
              "#fb9f3a"
             ],
             [
              0.8888888888888888,
              "#fdca26"
             ],
             [
              1,
              "#f0f921"
             ]
            ],
            "type": "contour"
           }
          ],
          "contourcarpet": [
           {
            "colorbar": {
             "outlinewidth": 0,
             "ticks": ""
            },
            "type": "contourcarpet"
           }
          ],
          "heatmap": [
           {
            "colorbar": {
             "outlinewidth": 0,
             "ticks": ""
            },
            "colorscale": [
             [
              0,
              "#0d0887"
             ],
             [
              0.1111111111111111,
              "#46039f"
             ],
             [
              0.2222222222222222,
              "#7201a8"
             ],
             [
              0.3333333333333333,
              "#9c179e"
             ],
             [
              0.4444444444444444,
              "#bd3786"
             ],
             [
              0.5555555555555556,
              "#d8576b"
             ],
             [
              0.6666666666666666,
              "#ed7953"
             ],
             [
              0.7777777777777778,
              "#fb9f3a"
             ],
             [
              0.8888888888888888,
              "#fdca26"
             ],
             [
              1,
              "#f0f921"
             ]
            ],
            "type": "heatmap"
           }
          ],
          "heatmapgl": [
           {
            "colorbar": {
             "outlinewidth": 0,
             "ticks": ""
            },
            "colorscale": [
             [
              0,
              "#0d0887"
             ],
             [
              0.1111111111111111,
              "#46039f"
             ],
             [
              0.2222222222222222,
              "#7201a8"
             ],
             [
              0.3333333333333333,
              "#9c179e"
             ],
             [
              0.4444444444444444,
              "#bd3786"
             ],
             [
              0.5555555555555556,
              "#d8576b"
             ],
             [
              0.6666666666666666,
              "#ed7953"
             ],
             [
              0.7777777777777778,
              "#fb9f3a"
             ],
             [
              0.8888888888888888,
              "#fdca26"
             ],
             [
              1,
              "#f0f921"
             ]
            ],
            "type": "heatmapgl"
           }
          ],
          "histogram": [
           {
            "marker": {
             "colorbar": {
              "outlinewidth": 0,
              "ticks": ""
             }
            },
            "type": "histogram"
           }
          ],
          "histogram2d": [
           {
            "colorbar": {
             "outlinewidth": 0,
             "ticks": ""
            },
            "colorscale": [
             [
              0,
              "#0d0887"
             ],
             [
              0.1111111111111111,
              "#46039f"
             ],
             [
              0.2222222222222222,
              "#7201a8"
             ],
             [
              0.3333333333333333,
              "#9c179e"
             ],
             [
              0.4444444444444444,
              "#bd3786"
             ],
             [
              0.5555555555555556,
              "#d8576b"
             ],
             [
              0.6666666666666666,
              "#ed7953"
             ],
             [
              0.7777777777777778,
              "#fb9f3a"
             ],
             [
              0.8888888888888888,
              "#fdca26"
             ],
             [
              1,
              "#f0f921"
             ]
            ],
            "type": "histogram2d"
           }
          ],
          "histogram2dcontour": [
           {
            "colorbar": {
             "outlinewidth": 0,
             "ticks": ""
            },
            "colorscale": [
             [
              0,
              "#0d0887"
             ],
             [
              0.1111111111111111,
              "#46039f"
             ],
             [
              0.2222222222222222,
              "#7201a8"
             ],
             [
              0.3333333333333333,
              "#9c179e"
             ],
             [
              0.4444444444444444,
              "#bd3786"
             ],
             [
              0.5555555555555556,
              "#d8576b"
             ],
             [
              0.6666666666666666,
              "#ed7953"
             ],
             [
              0.7777777777777778,
              "#fb9f3a"
             ],
             [
              0.8888888888888888,
              "#fdca26"
             ],
             [
              1,
              "#f0f921"
             ]
            ],
            "type": "histogram2dcontour"
           }
          ],
          "mesh3d": [
           {
            "colorbar": {
             "outlinewidth": 0,
             "ticks": ""
            },
            "type": "mesh3d"
           }
          ],
          "parcoords": [
           {
            "line": {
             "colorbar": {
              "outlinewidth": 0,
              "ticks": ""
             }
            },
            "type": "parcoords"
           }
          ],
          "pie": [
           {
            "automargin": true,
            "type": "pie"
           }
          ],
          "scatter": [
           {
            "marker": {
             "colorbar": {
              "outlinewidth": 0,
              "ticks": ""
             }
            },
            "type": "scatter"
           }
          ],
          "scatter3d": [
           {
            "line": {
             "colorbar": {
              "outlinewidth": 0,
              "ticks": ""
             }
            },
            "marker": {
             "colorbar": {
              "outlinewidth": 0,
              "ticks": ""
             }
            },
            "type": "scatter3d"
           }
          ],
          "scattercarpet": [
           {
            "marker": {
             "colorbar": {
              "outlinewidth": 0,
              "ticks": ""
             }
            },
            "type": "scattercarpet"
           }
          ],
          "scattergeo": [
           {
            "marker": {
             "colorbar": {
              "outlinewidth": 0,
              "ticks": ""
             }
            },
            "type": "scattergeo"
           }
          ],
          "scattergl": [
           {
            "marker": {
             "colorbar": {
              "outlinewidth": 0,
              "ticks": ""
             }
            },
            "type": "scattergl"
           }
          ],
          "scattermapbox": [
           {
            "marker": {
             "colorbar": {
              "outlinewidth": 0,
              "ticks": ""
             }
            },
            "type": "scattermapbox"
           }
          ],
          "scatterpolar": [
           {
            "marker": {
             "colorbar": {
              "outlinewidth": 0,
              "ticks": ""
             }
            },
            "type": "scatterpolar"
           }
          ],
          "scatterpolargl": [
           {
            "marker": {
             "colorbar": {
              "outlinewidth": 0,
              "ticks": ""
             }
            },
            "type": "scatterpolargl"
           }
          ],
          "scatterternary": [
           {
            "marker": {
             "colorbar": {
              "outlinewidth": 0,
              "ticks": ""
             }
            },
            "type": "scatterternary"
           }
          ],
          "surface": [
           {
            "colorbar": {
             "outlinewidth": 0,
             "ticks": ""
            },
            "colorscale": [
             [
              0,
              "#0d0887"
             ],
             [
              0.1111111111111111,
              "#46039f"
             ],
             [
              0.2222222222222222,
              "#7201a8"
             ],
             [
              0.3333333333333333,
              "#9c179e"
             ],
             [
              0.4444444444444444,
              "#bd3786"
             ],
             [
              0.5555555555555556,
              "#d8576b"
             ],
             [
              0.6666666666666666,
              "#ed7953"
             ],
             [
              0.7777777777777778,
              "#fb9f3a"
             ],
             [
              0.8888888888888888,
              "#fdca26"
             ],
             [
              1,
              "#f0f921"
             ]
            ],
            "type": "surface"
           }
          ],
          "table": [
           {
            "cells": {
             "fill": {
              "color": "#EBF0F8"
             },
             "line": {
              "color": "white"
             }
            },
            "header": {
             "fill": {
              "color": "#C8D4E3"
             },
             "line": {
              "color": "white"
             }
            },
            "type": "table"
           }
          ]
         },
         "layout": {
          "annotationdefaults": {
           "arrowcolor": "#2a3f5f",
           "arrowhead": 0,
           "arrowwidth": 1
          },
          "coloraxis": {
           "colorbar": {
            "outlinewidth": 0,
            "ticks": ""
           }
          },
          "colorscale": {
           "diverging": [
            [
             0,
             "#8e0152"
            ],
            [
             0.1,
             "#c51b7d"
            ],
            [
             0.2,
             "#de77ae"
            ],
            [
             0.3,
             "#f1b6da"
            ],
            [
             0.4,
             "#fde0ef"
            ],
            [
             0.5,
             "#f7f7f7"
            ],
            [
             0.6,
             "#e6f5d0"
            ],
            [
             0.7,
             "#b8e186"
            ],
            [
             0.8,
             "#7fbc41"
            ],
            [
             0.9,
             "#4d9221"
            ],
            [
             1,
             "#276419"
            ]
           ],
           "sequential": [
            [
             0,
             "#0d0887"
            ],
            [
             0.1111111111111111,
             "#46039f"
            ],
            [
             0.2222222222222222,
             "#7201a8"
            ],
            [
             0.3333333333333333,
             "#9c179e"
            ],
            [
             0.4444444444444444,
             "#bd3786"
            ],
            [
             0.5555555555555556,
             "#d8576b"
            ],
            [
             0.6666666666666666,
             "#ed7953"
            ],
            [
             0.7777777777777778,
             "#fb9f3a"
            ],
            [
             0.8888888888888888,
             "#fdca26"
            ],
            [
             1,
             "#f0f921"
            ]
           ],
           "sequentialminus": [
            [
             0,
             "#0d0887"
            ],
            [
             0.1111111111111111,
             "#46039f"
            ],
            [
             0.2222222222222222,
             "#7201a8"
            ],
            [
             0.3333333333333333,
             "#9c179e"
            ],
            [
             0.4444444444444444,
             "#bd3786"
            ],
            [
             0.5555555555555556,
             "#d8576b"
            ],
            [
             0.6666666666666666,
             "#ed7953"
            ],
            [
             0.7777777777777778,
             "#fb9f3a"
            ],
            [
             0.8888888888888888,
             "#fdca26"
            ],
            [
             1,
             "#f0f921"
            ]
           ]
          },
          "colorway": [
           "#636efa",
           "#EF553B",
           "#00cc96",
           "#ab63fa",
           "#FFA15A",
           "#19d3f3",
           "#FF6692",
           "#B6E880",
           "#FF97FF",
           "#FECB52"
          ],
          "font": {
           "color": "#2a3f5f"
          },
          "geo": {
           "bgcolor": "white",
           "lakecolor": "white",
           "landcolor": "#E5ECF6",
           "showlakes": true,
           "showland": true,
           "subunitcolor": "white"
          },
          "hoverlabel": {
           "align": "left"
          },
          "hovermode": "closest",
          "mapbox": {
           "style": "light"
          },
          "paper_bgcolor": "white",
          "plot_bgcolor": "#E5ECF6",
          "polar": {
           "angularaxis": {
            "gridcolor": "white",
            "linecolor": "white",
            "ticks": ""
           },
           "bgcolor": "#E5ECF6",
           "radialaxis": {
            "gridcolor": "white",
            "linecolor": "white",
            "ticks": ""
           }
          },
          "scene": {
           "xaxis": {
            "backgroundcolor": "#E5ECF6",
            "gridcolor": "white",
            "gridwidth": 2,
            "linecolor": "white",
            "showbackground": true,
            "ticks": "",
            "zerolinecolor": "white"
           },
           "yaxis": {
            "backgroundcolor": "#E5ECF6",
            "gridcolor": "white",
            "gridwidth": 2,
            "linecolor": "white",
            "showbackground": true,
            "ticks": "",
            "zerolinecolor": "white"
           },
           "zaxis": {
            "backgroundcolor": "#E5ECF6",
            "gridcolor": "white",
            "gridwidth": 2,
            "linecolor": "white",
            "showbackground": true,
            "ticks": "",
            "zerolinecolor": "white"
           }
          },
          "shapedefaults": {
           "line": {
            "color": "#2a3f5f"
           }
          },
          "ternary": {
           "aaxis": {
            "gridcolor": "white",
            "linecolor": "white",
            "ticks": ""
           },
           "baxis": {
            "gridcolor": "white",
            "linecolor": "white",
            "ticks": ""
           },
           "bgcolor": "#E5ECF6",
           "caxis": {
            "gridcolor": "white",
            "linecolor": "white",
            "ticks": ""
           }
          },
          "title": {
           "x": 0.05
          },
          "xaxis": {
           "automargin": true,
           "gridcolor": "white",
           "linecolor": "white",
           "ticks": "",
           "title": {
            "standoff": 15
           },
           "zerolinecolor": "white",
           "zerolinewidth": 2
          },
          "yaxis": {
           "automargin": true,
           "gridcolor": "white",
           "linecolor": "white",
           "ticks": "",
           "title": {
            "standoff": 15
           },
           "zerolinecolor": "white",
           "zerolinewidth": 2
          }
         }
        },
        "title": {
         "font": {
          "color": "#4D5663"
         }
        },
        "xaxis": {
         "gridcolor": "#E1E5ED",
         "showgrid": true,
         "tickfont": {
          "color": "#4D5663"
         },
         "title": {
          "font": {
           "color": "#4D5663"
          },
          "text": ""
         },
         "zerolinecolor": "#E1E5ED"
        },
        "xaxis2": {
         "anchor": "y2",
         "gridcolor": "#E1E5ED",
         "showgrid": true,
         "showticklabels": false,
         "tickfont": {
          "color": "#4D5663"
         },
         "title": {
          "font": {
           "color": "#4D5663"
          },
          "text": ""
         },
         "zerolinecolor": "#E1E5ED"
        },
        "yaxis": {
         "domain": [
          0.3,
          1
         ],
         "gridcolor": "#E1E5ED",
         "showgrid": true,
         "tickfont": {
          "color": "#4D5663"
         },
         "title": {
          "font": {
           "color": "#4D5663"
          },
          "text": ""
         },
         "zerolinecolor": "#E1E5ED"
        },
        "yaxis2": {
         "domain": [
          0,
          0.25
         ],
         "gridcolor": "#E1E5ED",
         "showgrid": true,
         "tickfont": {
          "color": "#4D5663"
         },
         "title": {
          "font": {
           "color": "#4D5663"
          },
          "text": "Spread"
         },
         "zerolinecolor": "#E1E5ED"
        }
       }
      },
      "text/html": [
       "<div>\n",
       "        \n",
       "        \n",
       "            <div id=\"3c7ad515-2ee8-4f60-84f4-71d1ad57a588\" class=\"plotly-graph-div\" style=\"height:525px; width:100%;\"></div>\n",
       "            <script type=\"text/javascript\">\n",
       "                require([\"plotly\"], function(Plotly) {\n",
       "                    window.PLOTLYENV=window.PLOTLYENV || {};\n",
       "                    window.PLOTLYENV.BASE_URL='https://plot.ly';\n",
       "                    \n",
       "                if (document.getElementById(\"3c7ad515-2ee8-4f60-84f4-71d1ad57a588\")) {\n",
       "                    Plotly.newPlot(\n",
       "                        '3c7ad515-2ee8-4f60-84f4-71d1ad57a588',\n",
       "                        [{\"line\": {\"color\": \"rgba(255, 153, 51, 1.0)\", \"dash\": \"solid\", \"shape\": \"linear\", \"width\": 1.3}, \"mode\": \"lines\", \"name\": \"A\", \"text\": \"\", \"type\": \"scatter\", \"x\": [0, 1, 2, 3, 4, 5, 6, 7, 8, 9, 10, 11, 12, 13, 14, 15, 16, 17, 18, 19, 20, 21, 22, 23, 24, 25, 26, 27, 28, 29, 30, 31, 32, 33, 34, 35, 36, 37, 38, 39, 40, 41, 42, 43, 44, 45, 46, 47, 48, 49, 50, 51, 52, 53, 54, 55, 56, 57, 58, 59, 60, 61, 62, 63, 64, 65, 66, 67, 68, 69, 70, 71, 72, 73, 74, 75, 76, 77, 78, 79, 80, 81, 82, 83, 84, 85, 86, 87, 88, 89, 90, 91, 92, 93, 94, 95, 96, 97, 98, 99], \"y\": [1.573328711227588, -0.37852617950749295, 0.1768154975319591, -0.5991281059388813, 1.1755060314126213, 0.24964246226697667, 0.5956165871109731, 0.5612011071792405, 0.9180885799809175, 0.7571694210998187, 0.24715045119972137, -1.5270465043997787, -0.875374507933993, 1.2025748375755545, 0.6337638775037999, 1.4678420619686383, 0.45673265663204543, -0.26569229827179003, 1.1244514300144637, -0.3169066781827368, 2.3326670259694984, 1.1805682968753102, -0.41405314324567183, 0.3122201777837888, -1.4052653628429845, 0.31430633602741875, -0.20578869630339477, -0.60390031944842, 1.96339494742064, 1.6693550129021753, -1.334598303785486, -0.37781853819873823, -0.8894928657177164, -0.7543929174901841, -0.23210840072281078, -1.6901960833990382, 0.4512098555532659, -1.6840584805291572, 1.0458784516037567, 1.6664676824073386, -1.4401332275578733, 1.7114714420535877, -0.45865548617687163, 0.9505872085183176, -1.9421953084933026, 0.042733014352603314, -0.15414531364007927, 0.32915907886279877, -2.194460922754973, 0.015125890780444818, 0.2845835884595226, -0.3754901070103968, 0.2844539210618317, -0.12817785900037726, 0.2260420020459213, 0.10436446169541978, -1.945586652139439, -0.36503865639939936, -0.22404622351044057, -0.2153410058721476, 0.06278284613069145, 0.8788465708891683, -0.7227927973318916, 0.3973910025307887, -0.23934321011928952, 0.7710770602966287, 1.2068887478696722, 0.21170919633969837, 0.059892170735103015, -1.612452124677236, -0.8112259655549127, -1.370414490272464, -1.653881269326432, 1.4336987722728656, 0.3424580647461767, -0.47227829298318325, -1.6371862002778288, 0.1178252873274814, 0.6555856265155513, 0.5430554758356879, -0.10956656996215498, 1.0202118759670051, -0.24457257437156738, 0.6398275256663398, 0.35899461667070703, 0.9615922999069186, -1.8575346554006276, -0.8698442370442436, 0.6613226554534137, -1.9610775745970301, -1.7518253054808146, -0.4180919006194288, 0.7778364527179996, -0.44990921899945696, 0.9931689954464562, 1.297712985928407, -0.5451756655006744, -0.1959375376838416, 0.6051166858612246, -0.8677354795742439]}, {\"line\": {\"color\": \"rgba(55, 128, 191, 1.0)\", \"dash\": \"solid\", \"shape\": \"linear\", \"width\": 1.3}, \"mode\": \"lines\", \"name\": \"B\", \"text\": \"\", \"type\": \"scatter\", \"x\": [0, 1, 2, 3, 4, 5, 6, 7, 8, 9, 10, 11, 12, 13, 14, 15, 16, 17, 18, 19, 20, 21, 22, 23, 24, 25, 26, 27, 28, 29, 30, 31, 32, 33, 34, 35, 36, 37, 38, 39, 40, 41, 42, 43, 44, 45, 46, 47, 48, 49, 50, 51, 52, 53, 54, 55, 56, 57, 58, 59, 60, 61, 62, 63, 64, 65, 66, 67, 68, 69, 70, 71, 72, 73, 74, 75, 76, 77, 78, 79, 80, 81, 82, 83, 84, 85, 86, 87, 88, 89, 90, 91, 92, 93, 94, 95, 96, 97, 98, 99], \"y\": [-0.2394652779549122, 0.8512345364937773, 0.41484812193021964, 1.5370959350367674, -0.4927408965374319, -0.22100901165166023, -0.43193040335765653, -0.49336201857205314, 0.5555084384448081, -0.5107093147117601, -0.3526308817252644, 0.007489800734434926, -0.6003649263215223, -0.01278324946277747, 0.2274406995260329, -1.0187156546487115, -0.4433447642506894, -0.3060049886332904, -0.11377838153924977, -0.08407790197866014, 1.0464551062117906, -0.9799341186049836, -1.8537395580117801, 0.6617221210672103, -0.683415999037852, -0.39479143980500403, -2.196804691822171, 0.9829199829668247, -2.179151330999028, 1.1392018545116072, -1.8420019494800435, -0.30038149675268744, 0.008963551020868049, -0.06618101867302661, 1.0674281027274761, 0.7173822431325227, -1.9086449146501494, 1.0205583203650004, 2.23498872747899, -0.45259495728000726, 0.574969471677332, 0.6944603816242416, -0.12498725051976357, -1.8958418732899174, -0.6421631673722423, -0.38673076375729404, -0.3357083832660241, 0.8998219397665486, -0.015392086889089685, -0.5026542206416671, -1.6951761221844877, 1.6796828066716862, 0.36604466437520533, -1.9183417290547082, 0.4701078450355624, -0.19291943661795397, -0.7593893664030056, -0.6749441066899211, 0.7479337658901685, 1.1274218457436842, -0.43875091042622516, -1.8105231808183324, 0.48444909587401636, -0.5055844310124634, -0.46194253142129044, 0.52721385333185, 0.33716747766588245, 0.01697510334850516, -1.4034883679745767, 0.29498065138194346, -1.641260866859968, -0.3542296235869637, -0.19241761771803673, -0.7587260159600041, 0.37451144525510227, -1.2258116079566619, 0.2842602520008746, -1.908327868761162, -0.8557696298768518, 1.118002270580774, -1.4701377021951572, 1.2765397042431867, 0.3253134283901319, -0.6814381081251094, 1.2397551256542891, 0.5926331740445077, 1.7231767023146967, 0.18409964154272745, -0.5450931058141981, -0.17358078103870087, 0.6888684372015913, 1.281410412125775, 0.49575937971724, 0.0975145793536695, 0.9673828187279973, 2.168738376862383, -1.5611560382058942, 3.352263014883978, -0.3147424815649832, 1.0391922023113067]}, {\"connectgaps\": false, \"fill\": \"tozeroy\", \"line\": {\"color\": \"green\", \"dash\": \"solid\", \"shape\": \"linear\", \"width\": 0.5}, \"mode\": \"lines\", \"name\": \"Spread\", \"showlegend\": false, \"type\": \"scatter\", \"x\": [0, 1, 2, 3, 4, 5, 6, 7, 8, 9, 10, 11, 12, 13, 14, 15, 16, 17, 18, 19, 20, 21, 22, 23, 24, 25, 26, 27, 28, 29, 30, 31, 32, 33, 34, 35, 36, 37, 38, 39, 40, 41, 42, 43, 44, 45, 46, 47, 48, 49, 50, 51, 52, 53, 54, 55, 56, 57, 58, 59, 60, 61, 62, 63, 64, 65, 66, 67, 68, 69, 70, 71, 72, 73, 74, 75, 76, 77, 78, 79, 80, 81, 82, 83, 84, 85, 86, 87, 88, 89, 90, 91, 92, 93, 94, 95, 96, 97, 98, 99], \"xaxis\": \"x2\", \"y\": [1.8127939891825002, \"\", \"\", \"\", 1.6682469279500531, 0.47065147391863693, 1.0275469904686296, 1.0545631257512937, 0.3625801415361094, 1.2678787358115788, 0.5997813329249858, \"\", \"\", 1.215358087038332, 0.406323177977767, 2.48655771661735, 0.9000774208827349, 0.04031269036150037, 1.2382298115537134, \"\", 1.2862119197577078, 2.160502415480294, 1.4396864147661084, \"\", \"\", 0.7090977758324228, 1.991015995518776, \"\", 4.142546278419668, 0.5301531583905681, 0.5074036456945574, \"\", \"\", \"\", \"\", \"\", 2.359854770203415, \"\", \"\", 2.1190626396873458, \"\", 1.017011060429346, \"\", 2.846429081808235, \"\", 0.42946377810989733, 0.18156306962594482, \"\", \"\", 0.5177801114221119, 1.9797597106440104, \"\", \"\", 1.790163870054331, \"\", 0.29728389831337376, \"\", 0.30990545029052174, \"\", \"\", 0.5015337565569166, 2.689369751707501, \"\", 0.902975433543252, 0.2225993213020009, 0.2438632069647787, 0.8697212702037898, 0.1947340929911932, 1.4633805387096797, \"\", 0.8300349013050553, \"\", \"\", 2.1924247882328696, \"\", 0.7535333149734786, \"\", 2.026153156088643, 1.511355256392403, \"\", 1.360571132233002, \"\", \"\", 1.3212656337914492, \"\", 0.368959125862411, \"\", \"\", 1.2064157612676119, \"\", \"\", \"\", 0.2820770730007596, \"\", 0.025786176718458953, \"\", 1.01598037270522, \"\", 0.9198591674262078, \"\"], \"yaxis\": \"y2\"}, {\"connectgaps\": false, \"fill\": \"tozeroy\", \"line\": {\"color\": \"red\", \"dash\": \"solid\", \"shape\": \"linear\", \"width\": 0.5}, \"mode\": \"lines\", \"name\": \"Spread\", \"showlegend\": false, \"type\": \"scatter\", \"x\": [0, 1, 2, 3, 4, 5, 6, 7, 8, 9, 10, 11, 12, 13, 14, 15, 16, 17, 18, 19, 20, 21, 22, 23, 24, 25, 26, 27, 28, 29, 30, 31, 32, 33, 34, 35, 36, 37, 38, 39, 40, 41, 42, 43, 44, 45, 46, 47, 48, 49, 50, 51, 52, 53, 54, 55, 56, 57, 58, 59, 60, 61, 62, 63, 64, 65, 66, 67, 68, 69, 70, 71, 72, 73, 74, 75, 76, 77, 78, 79, 80, 81, 82, 83, 84, 85, 86, 87, 88, 89, 90, 91, 92, 93, 94, 95, 96, 97, 98, 99], \"xaxis\": \"x2\", \"y\": [\"\", -1.2297607160012702, -0.23803262439826053, -2.136224040975649, \"\", \"\", \"\", \"\", \"\", \"\", \"\", -1.5345363051342136, -0.2750095816124707, \"\", \"\", \"\", \"\", \"\", \"\", -0.2328287762040767, \"\", \"\", \"\", -0.3495019432834215, -0.7218493638051325, \"\", \"\", -1.5868203024152447, \"\", \"\", \"\", -0.07743704144605079, -0.8984564167385845, -0.6882118988171575, -1.2995365034502868, -2.407578326531561, \"\", -2.704616800894158, -1.1891102758752332, \"\", -2.0151026992352055, \"\", -0.33366823565710807, \"\", -1.3000321411210602, \"\", \"\", -0.5706628609037498, -2.1790688358658836, \"\", \"\", -2.055172913682083, -0.08159074331337363, \"\", -0.24406584298964112, \"\", -1.1861972857364333, \"\", -0.971979989400609, -1.3427628516158319, \"\", \"\", -1.207241893205908, \"\", \"\", \"\", \"\", \"\", \"\", -1.9074327760591796, \"\", -1.0161848666855002, -1.4614636516083952, \"\", -0.03205338050892559, \"\", -1.9214464522787034, \"\", \"\", -0.574946794745086, \"\", -0.2563278282761816, -0.5698860027616992, \"\", -0.8807605089835822, \"\", -3.580711357715324, -1.053943878586971, \"\", -1.7874967935583292, -2.440693742682406, -1.6995023127452038, \"\", -0.5474237983531265, \"\", -0.871025390933976, \"\", -3.5482005525678195, \"\", -1.9069276818855507], \"yaxis\": \"y2\"}],\n",
       "                        {\"hovermode\": \"x\", \"legend\": {\"bgcolor\": \"#F5F6F9\", \"font\": {\"color\": \"#4D5663\"}}, \"paper_bgcolor\": \"#F5F6F9\", \"plot_bgcolor\": \"#F5F6F9\", \"template\": {\"data\": {\"bar\": [{\"error_x\": {\"color\": \"#2a3f5f\"}, \"error_y\": {\"color\": \"#2a3f5f\"}, \"marker\": {\"line\": {\"color\": \"#E5ECF6\", \"width\": 0.5}}, \"type\": \"bar\"}], \"barpolar\": [{\"marker\": {\"line\": {\"color\": \"#E5ECF6\", \"width\": 0.5}}, \"type\": \"barpolar\"}], \"carpet\": [{\"aaxis\": {\"endlinecolor\": \"#2a3f5f\", \"gridcolor\": \"white\", \"linecolor\": \"white\", \"minorgridcolor\": \"white\", \"startlinecolor\": \"#2a3f5f\"}, \"baxis\": {\"endlinecolor\": \"#2a3f5f\", \"gridcolor\": \"white\", \"linecolor\": \"white\", \"minorgridcolor\": \"white\", \"startlinecolor\": \"#2a3f5f\"}, \"type\": \"carpet\"}], \"choropleth\": [{\"colorbar\": {\"outlinewidth\": 0, \"ticks\": \"\"}, \"type\": \"choropleth\"}], \"contour\": [{\"colorbar\": {\"outlinewidth\": 0, \"ticks\": \"\"}, \"colorscale\": [[0.0, \"#0d0887\"], [0.1111111111111111, \"#46039f\"], [0.2222222222222222, \"#7201a8\"], [0.3333333333333333, \"#9c179e\"], [0.4444444444444444, \"#bd3786\"], [0.5555555555555556, \"#d8576b\"], [0.6666666666666666, \"#ed7953\"], [0.7777777777777778, \"#fb9f3a\"], [0.8888888888888888, \"#fdca26\"], [1.0, \"#f0f921\"]], \"type\": \"contour\"}], \"contourcarpet\": [{\"colorbar\": {\"outlinewidth\": 0, \"ticks\": \"\"}, \"type\": \"contourcarpet\"}], \"heatmap\": [{\"colorbar\": {\"outlinewidth\": 0, \"ticks\": \"\"}, \"colorscale\": [[0.0, \"#0d0887\"], [0.1111111111111111, \"#46039f\"], [0.2222222222222222, \"#7201a8\"], [0.3333333333333333, \"#9c179e\"], [0.4444444444444444, \"#bd3786\"], [0.5555555555555556, \"#d8576b\"], [0.6666666666666666, \"#ed7953\"], [0.7777777777777778, \"#fb9f3a\"], [0.8888888888888888, \"#fdca26\"], [1.0, \"#f0f921\"]], \"type\": \"heatmap\"}], \"heatmapgl\": [{\"colorbar\": {\"outlinewidth\": 0, \"ticks\": \"\"}, \"colorscale\": [[0.0, \"#0d0887\"], [0.1111111111111111, \"#46039f\"], [0.2222222222222222, \"#7201a8\"], [0.3333333333333333, \"#9c179e\"], [0.4444444444444444, \"#bd3786\"], [0.5555555555555556, \"#d8576b\"], [0.6666666666666666, \"#ed7953\"], [0.7777777777777778, \"#fb9f3a\"], [0.8888888888888888, \"#fdca26\"], [1.0, \"#f0f921\"]], \"type\": \"heatmapgl\"}], \"histogram\": [{\"marker\": {\"colorbar\": {\"outlinewidth\": 0, \"ticks\": \"\"}}, \"type\": \"histogram\"}], \"histogram2d\": [{\"colorbar\": {\"outlinewidth\": 0, \"ticks\": \"\"}, \"colorscale\": [[0.0, \"#0d0887\"], [0.1111111111111111, \"#46039f\"], [0.2222222222222222, \"#7201a8\"], [0.3333333333333333, \"#9c179e\"], [0.4444444444444444, \"#bd3786\"], [0.5555555555555556, \"#d8576b\"], [0.6666666666666666, \"#ed7953\"], [0.7777777777777778, \"#fb9f3a\"], [0.8888888888888888, \"#fdca26\"], [1.0, \"#f0f921\"]], \"type\": \"histogram2d\"}], \"histogram2dcontour\": [{\"colorbar\": {\"outlinewidth\": 0, \"ticks\": \"\"}, \"colorscale\": [[0.0, \"#0d0887\"], [0.1111111111111111, \"#46039f\"], [0.2222222222222222, \"#7201a8\"], [0.3333333333333333, \"#9c179e\"], [0.4444444444444444, \"#bd3786\"], [0.5555555555555556, \"#d8576b\"], [0.6666666666666666, \"#ed7953\"], [0.7777777777777778, \"#fb9f3a\"], [0.8888888888888888, \"#fdca26\"], [1.0, \"#f0f921\"]], \"type\": \"histogram2dcontour\"}], \"mesh3d\": [{\"colorbar\": {\"outlinewidth\": 0, \"ticks\": \"\"}, \"type\": \"mesh3d\"}], \"parcoords\": [{\"line\": {\"colorbar\": {\"outlinewidth\": 0, \"ticks\": \"\"}}, \"type\": \"parcoords\"}], \"pie\": [{\"automargin\": true, \"type\": \"pie\"}], \"scatter\": [{\"marker\": {\"colorbar\": {\"outlinewidth\": 0, \"ticks\": \"\"}}, \"type\": \"scatter\"}], \"scatter3d\": [{\"line\": {\"colorbar\": {\"outlinewidth\": 0, \"ticks\": \"\"}}, \"marker\": {\"colorbar\": {\"outlinewidth\": 0, \"ticks\": \"\"}}, \"type\": \"scatter3d\"}], \"scattercarpet\": [{\"marker\": {\"colorbar\": {\"outlinewidth\": 0, \"ticks\": \"\"}}, \"type\": \"scattercarpet\"}], \"scattergeo\": [{\"marker\": {\"colorbar\": {\"outlinewidth\": 0, \"ticks\": \"\"}}, \"type\": \"scattergeo\"}], \"scattergl\": [{\"marker\": {\"colorbar\": {\"outlinewidth\": 0, \"ticks\": \"\"}}, \"type\": \"scattergl\"}], \"scattermapbox\": [{\"marker\": {\"colorbar\": {\"outlinewidth\": 0, \"ticks\": \"\"}}, \"type\": \"scattermapbox\"}], \"scatterpolar\": [{\"marker\": {\"colorbar\": {\"outlinewidth\": 0, \"ticks\": \"\"}}, \"type\": \"scatterpolar\"}], \"scatterpolargl\": [{\"marker\": {\"colorbar\": {\"outlinewidth\": 0, \"ticks\": \"\"}}, \"type\": \"scatterpolargl\"}], \"scatterternary\": [{\"marker\": {\"colorbar\": {\"outlinewidth\": 0, \"ticks\": \"\"}}, \"type\": \"scatterternary\"}], \"surface\": [{\"colorbar\": {\"outlinewidth\": 0, \"ticks\": \"\"}, \"colorscale\": [[0.0, \"#0d0887\"], [0.1111111111111111, \"#46039f\"], [0.2222222222222222, \"#7201a8\"], [0.3333333333333333, \"#9c179e\"], [0.4444444444444444, \"#bd3786\"], [0.5555555555555556, \"#d8576b\"], [0.6666666666666666, \"#ed7953\"], [0.7777777777777778, \"#fb9f3a\"], [0.8888888888888888, \"#fdca26\"], [1.0, \"#f0f921\"]], \"type\": \"surface\"}], \"table\": [{\"cells\": {\"fill\": {\"color\": \"#EBF0F8\"}, \"line\": {\"color\": \"white\"}}, \"header\": {\"fill\": {\"color\": \"#C8D4E3\"}, \"line\": {\"color\": \"white\"}}, \"type\": \"table\"}]}, \"layout\": {\"annotationdefaults\": {\"arrowcolor\": \"#2a3f5f\", \"arrowhead\": 0, \"arrowwidth\": 1}, \"coloraxis\": {\"colorbar\": {\"outlinewidth\": 0, \"ticks\": \"\"}}, \"colorscale\": {\"diverging\": [[0, \"#8e0152\"], [0.1, \"#c51b7d\"], [0.2, \"#de77ae\"], [0.3, \"#f1b6da\"], [0.4, \"#fde0ef\"], [0.5, \"#f7f7f7\"], [0.6, \"#e6f5d0\"], [0.7, \"#b8e186\"], [0.8, \"#7fbc41\"], [0.9, \"#4d9221\"], [1, \"#276419\"]], \"sequential\": [[0.0, \"#0d0887\"], [0.1111111111111111, \"#46039f\"], [0.2222222222222222, \"#7201a8\"], [0.3333333333333333, \"#9c179e\"], [0.4444444444444444, \"#bd3786\"], [0.5555555555555556, \"#d8576b\"], [0.6666666666666666, \"#ed7953\"], [0.7777777777777778, \"#fb9f3a\"], [0.8888888888888888, \"#fdca26\"], [1.0, \"#f0f921\"]], \"sequentialminus\": [[0.0, \"#0d0887\"], [0.1111111111111111, \"#46039f\"], [0.2222222222222222, \"#7201a8\"], [0.3333333333333333, \"#9c179e\"], [0.4444444444444444, \"#bd3786\"], [0.5555555555555556, \"#d8576b\"], [0.6666666666666666, \"#ed7953\"], [0.7777777777777778, \"#fb9f3a\"], [0.8888888888888888, \"#fdca26\"], [1.0, \"#f0f921\"]]}, \"colorway\": [\"#636efa\", \"#EF553B\", \"#00cc96\", \"#ab63fa\", \"#FFA15A\", \"#19d3f3\", \"#FF6692\", \"#B6E880\", \"#FF97FF\", \"#FECB52\"], \"font\": {\"color\": \"#2a3f5f\"}, \"geo\": {\"bgcolor\": \"white\", \"lakecolor\": \"white\", \"landcolor\": \"#E5ECF6\", \"showlakes\": true, \"showland\": true, \"subunitcolor\": \"white\"}, \"hoverlabel\": {\"align\": \"left\"}, \"hovermode\": \"closest\", \"mapbox\": {\"style\": \"light\"}, \"paper_bgcolor\": \"white\", \"plot_bgcolor\": \"#E5ECF6\", \"polar\": {\"angularaxis\": {\"gridcolor\": \"white\", \"linecolor\": \"white\", \"ticks\": \"\"}, \"bgcolor\": \"#E5ECF6\", \"radialaxis\": {\"gridcolor\": \"white\", \"linecolor\": \"white\", \"ticks\": \"\"}}, \"scene\": {\"xaxis\": {\"backgroundcolor\": \"#E5ECF6\", \"gridcolor\": \"white\", \"gridwidth\": 2, \"linecolor\": \"white\", \"showbackground\": true, \"ticks\": \"\", \"zerolinecolor\": \"white\"}, \"yaxis\": {\"backgroundcolor\": \"#E5ECF6\", \"gridcolor\": \"white\", \"gridwidth\": 2, \"linecolor\": \"white\", \"showbackground\": true, \"ticks\": \"\", \"zerolinecolor\": \"white\"}, \"zaxis\": {\"backgroundcolor\": \"#E5ECF6\", \"gridcolor\": \"white\", \"gridwidth\": 2, \"linecolor\": \"white\", \"showbackground\": true, \"ticks\": \"\", \"zerolinecolor\": \"white\"}}, \"shapedefaults\": {\"line\": {\"color\": \"#2a3f5f\"}}, \"ternary\": {\"aaxis\": {\"gridcolor\": \"white\", \"linecolor\": \"white\", \"ticks\": \"\"}, \"baxis\": {\"gridcolor\": \"white\", \"linecolor\": \"white\", \"ticks\": \"\"}, \"bgcolor\": \"#E5ECF6\", \"caxis\": {\"gridcolor\": \"white\", \"linecolor\": \"white\", \"ticks\": \"\"}}, \"title\": {\"x\": 0.05}, \"xaxis\": {\"automargin\": true, \"gridcolor\": \"white\", \"linecolor\": \"white\", \"ticks\": \"\", \"title\": {\"standoff\": 15}, \"zerolinecolor\": \"white\", \"zerolinewidth\": 2}, \"yaxis\": {\"automargin\": true, \"gridcolor\": \"white\", \"linecolor\": \"white\", \"ticks\": \"\", \"title\": {\"standoff\": 15}, \"zerolinecolor\": \"white\", \"zerolinewidth\": 2}}}, \"title\": {\"font\": {\"color\": \"#4D5663\"}}, \"xaxis\": {\"gridcolor\": \"#E1E5ED\", \"showgrid\": true, \"tickfont\": {\"color\": \"#4D5663\"}, \"title\": {\"font\": {\"color\": \"#4D5663\"}, \"text\": \"\"}, \"zerolinecolor\": \"#E1E5ED\"}, \"xaxis2\": {\"anchor\": \"y2\", \"gridcolor\": \"#E1E5ED\", \"showgrid\": true, \"showticklabels\": false, \"tickfont\": {\"color\": \"#4D5663\"}, \"title\": {\"font\": {\"color\": \"#4D5663\"}, \"text\": \"\"}, \"zerolinecolor\": \"#E1E5ED\"}, \"yaxis\": {\"domain\": [0.3, 1], \"gridcolor\": \"#E1E5ED\", \"showgrid\": true, \"tickfont\": {\"color\": \"#4D5663\"}, \"title\": {\"font\": {\"color\": \"#4D5663\"}, \"text\": \"\"}, \"zerolinecolor\": \"#E1E5ED\"}, \"yaxis2\": {\"domain\": [0, 0.25], \"gridcolor\": \"#E1E5ED\", \"showgrid\": true, \"tickfont\": {\"color\": \"#4D5663\"}, \"title\": {\"font\": {\"color\": \"#4D5663\"}, \"text\": \"Spread\"}, \"zerolinecolor\": \"#E1E5ED\"}},\n",
       "                        {\"showLink\": true, \"linkText\": \"Export to plot.ly\", \"plotlyServerURL\": \"https://plot.ly\", \"responsive\": true}\n",
       "                    ).then(function(){\n",
       "                            \n",
       "var gd = document.getElementById('3c7ad515-2ee8-4f60-84f4-71d1ad57a588');\n",
       "var x = new MutationObserver(function (mutations, observer) {{\n",
       "        var display = window.getComputedStyle(gd).display;\n",
       "        if (!display || display === 'none') {{\n",
       "            console.log([gd, 'removed!']);\n",
       "            Plotly.purge(gd);\n",
       "            observer.disconnect();\n",
       "        }}\n",
       "}});\n",
       "\n",
       "// Listen for the removal of the full notebook cells\n",
       "var notebookContainer = gd.closest('#notebook-container');\n",
       "if (notebookContainer) {{\n",
       "    x.observe(notebookContainer, {childList: true});\n",
       "}}\n",
       "\n",
       "// Listen for the clearing of the current output cell\n",
       "var outputEl = gd.closest('.output');\n",
       "if (outputEl) {{\n",
       "    x.observe(outputEl, {childList: true});\n",
       "}}\n",
       "\n",
       "                        })\n",
       "                };\n",
       "                });\n",
       "            </script>\n",
       "        </div>"
      ]
     },
     "metadata": {},
     "output_type": "display_data"
    }
   ],
   "source": [
    "df[['A','B']].iplot(kind='spread')"
   ]
  },
  {
   "cell_type": "markdown",
   "metadata": {},
   "source": [
    "## histogram"
   ]
  },
  {
   "cell_type": "code",
   "execution_count": 33,
   "metadata": {},
   "outputs": [
    {
     "data": {
      "application/vnd.plotly.v1+json": {
       "config": {
        "linkText": "Export to plot.ly",
        "plotlyServerURL": "https://plot.ly",
        "showLink": true
       },
       "data": [
        {
         "histfunc": "count",
         "histnorm": "",
         "marker": {
          "color": "rgba(255, 153, 51, 1.0)",
          "line": {
           "color": "#4D5663",
           "width": 1.3
          }
         },
         "name": "A",
         "nbinsx": 25,
         "opacity": 0.8,
         "orientation": "v",
         "type": "histogram",
         "x": [
          1.573328711227588,
          -0.37852617950749295,
          0.1768154975319591,
          -0.5991281059388813,
          1.1755060314126213,
          0.24964246226697667,
          0.5956165871109731,
          0.5612011071792405,
          0.9180885799809175,
          0.7571694210998187,
          0.24715045119972137,
          -1.5270465043997787,
          -0.875374507933993,
          1.2025748375755545,
          0.6337638775037999,
          1.4678420619686383,
          0.45673265663204543,
          -0.26569229827179003,
          1.1244514300144637,
          -0.3169066781827368,
          2.3326670259694984,
          1.1805682968753102,
          -0.41405314324567183,
          0.3122201777837888,
          -1.4052653628429845,
          0.31430633602741875,
          -0.20578869630339477,
          -0.60390031944842,
          1.96339494742064,
          1.6693550129021753,
          -1.334598303785486,
          -0.37781853819873823,
          -0.8894928657177164,
          -0.7543929174901841,
          -0.23210840072281078,
          -1.6901960833990382,
          0.4512098555532659,
          -1.6840584805291572,
          1.0458784516037567,
          1.6664676824073386,
          -1.4401332275578733,
          1.7114714420535877,
          -0.45865548617687163,
          0.9505872085183176,
          -1.9421953084933026,
          0.042733014352603314,
          -0.15414531364007927,
          0.32915907886279877,
          -2.194460922754973,
          0.015125890780444818,
          0.2845835884595226,
          -0.3754901070103968,
          0.2844539210618317,
          -0.12817785900037726,
          0.2260420020459213,
          0.10436446169541978,
          -1.945586652139439,
          -0.36503865639939936,
          -0.22404622351044057,
          -0.2153410058721476,
          0.06278284613069145,
          0.8788465708891683,
          -0.7227927973318916,
          0.3973910025307887,
          -0.23934321011928952,
          0.7710770602966287,
          1.2068887478696722,
          0.21170919633969837,
          0.059892170735103015,
          -1.612452124677236,
          -0.8112259655549127,
          -1.370414490272464,
          -1.653881269326432,
          1.4336987722728656,
          0.3424580647461767,
          -0.47227829298318325,
          -1.6371862002778288,
          0.1178252873274814,
          0.6555856265155513,
          0.5430554758356879,
          -0.10956656996215498,
          1.0202118759670051,
          -0.24457257437156738,
          0.6398275256663398,
          0.35899461667070703,
          0.9615922999069186,
          -1.8575346554006276,
          -0.8698442370442436,
          0.6613226554534137,
          -1.9610775745970301,
          -1.7518253054808146,
          -0.4180919006194288,
          0.7778364527179996,
          -0.44990921899945696,
          0.9931689954464562,
          1.297712985928407,
          -0.5451756655006744,
          -0.1959375376838416,
          0.6051166858612246,
          -0.8677354795742439
         ]
        }
       ],
       "layout": {
        "barmode": "overlay",
        "legend": {
         "bgcolor": "#F5F6F9",
         "font": {
          "color": "#4D5663"
         }
        },
        "paper_bgcolor": "#F5F6F9",
        "plot_bgcolor": "#F5F6F9",
        "template": {
         "data": {
          "bar": [
           {
            "error_x": {
             "color": "#2a3f5f"
            },
            "error_y": {
             "color": "#2a3f5f"
            },
            "marker": {
             "line": {
              "color": "#E5ECF6",
              "width": 0.5
             }
            },
            "type": "bar"
           }
          ],
          "barpolar": [
           {
            "marker": {
             "line": {
              "color": "#E5ECF6",
              "width": 0.5
             }
            },
            "type": "barpolar"
           }
          ],
          "carpet": [
           {
            "aaxis": {
             "endlinecolor": "#2a3f5f",
             "gridcolor": "white",
             "linecolor": "white",
             "minorgridcolor": "white",
             "startlinecolor": "#2a3f5f"
            },
            "baxis": {
             "endlinecolor": "#2a3f5f",
             "gridcolor": "white",
             "linecolor": "white",
             "minorgridcolor": "white",
             "startlinecolor": "#2a3f5f"
            },
            "type": "carpet"
           }
          ],
          "choropleth": [
           {
            "colorbar": {
             "outlinewidth": 0,
             "ticks": ""
            },
            "type": "choropleth"
           }
          ],
          "contour": [
           {
            "colorbar": {
             "outlinewidth": 0,
             "ticks": ""
            },
            "colorscale": [
             [
              0,
              "#0d0887"
             ],
             [
              0.1111111111111111,
              "#46039f"
             ],
             [
              0.2222222222222222,
              "#7201a8"
             ],
             [
              0.3333333333333333,
              "#9c179e"
             ],
             [
              0.4444444444444444,
              "#bd3786"
             ],
             [
              0.5555555555555556,
              "#d8576b"
             ],
             [
              0.6666666666666666,
              "#ed7953"
             ],
             [
              0.7777777777777778,
              "#fb9f3a"
             ],
             [
              0.8888888888888888,
              "#fdca26"
             ],
             [
              1,
              "#f0f921"
             ]
            ],
            "type": "contour"
           }
          ],
          "contourcarpet": [
           {
            "colorbar": {
             "outlinewidth": 0,
             "ticks": ""
            },
            "type": "contourcarpet"
           }
          ],
          "heatmap": [
           {
            "colorbar": {
             "outlinewidth": 0,
             "ticks": ""
            },
            "colorscale": [
             [
              0,
              "#0d0887"
             ],
             [
              0.1111111111111111,
              "#46039f"
             ],
             [
              0.2222222222222222,
              "#7201a8"
             ],
             [
              0.3333333333333333,
              "#9c179e"
             ],
             [
              0.4444444444444444,
              "#bd3786"
             ],
             [
              0.5555555555555556,
              "#d8576b"
             ],
             [
              0.6666666666666666,
              "#ed7953"
             ],
             [
              0.7777777777777778,
              "#fb9f3a"
             ],
             [
              0.8888888888888888,
              "#fdca26"
             ],
             [
              1,
              "#f0f921"
             ]
            ],
            "type": "heatmap"
           }
          ],
          "heatmapgl": [
           {
            "colorbar": {
             "outlinewidth": 0,
             "ticks": ""
            },
            "colorscale": [
             [
              0,
              "#0d0887"
             ],
             [
              0.1111111111111111,
              "#46039f"
             ],
             [
              0.2222222222222222,
              "#7201a8"
             ],
             [
              0.3333333333333333,
              "#9c179e"
             ],
             [
              0.4444444444444444,
              "#bd3786"
             ],
             [
              0.5555555555555556,
              "#d8576b"
             ],
             [
              0.6666666666666666,
              "#ed7953"
             ],
             [
              0.7777777777777778,
              "#fb9f3a"
             ],
             [
              0.8888888888888888,
              "#fdca26"
             ],
             [
              1,
              "#f0f921"
             ]
            ],
            "type": "heatmapgl"
           }
          ],
          "histogram": [
           {
            "marker": {
             "colorbar": {
              "outlinewidth": 0,
              "ticks": ""
             }
            },
            "type": "histogram"
           }
          ],
          "histogram2d": [
           {
            "colorbar": {
             "outlinewidth": 0,
             "ticks": ""
            },
            "colorscale": [
             [
              0,
              "#0d0887"
             ],
             [
              0.1111111111111111,
              "#46039f"
             ],
             [
              0.2222222222222222,
              "#7201a8"
             ],
             [
              0.3333333333333333,
              "#9c179e"
             ],
             [
              0.4444444444444444,
              "#bd3786"
             ],
             [
              0.5555555555555556,
              "#d8576b"
             ],
             [
              0.6666666666666666,
              "#ed7953"
             ],
             [
              0.7777777777777778,
              "#fb9f3a"
             ],
             [
              0.8888888888888888,
              "#fdca26"
             ],
             [
              1,
              "#f0f921"
             ]
            ],
            "type": "histogram2d"
           }
          ],
          "histogram2dcontour": [
           {
            "colorbar": {
             "outlinewidth": 0,
             "ticks": ""
            },
            "colorscale": [
             [
              0,
              "#0d0887"
             ],
             [
              0.1111111111111111,
              "#46039f"
             ],
             [
              0.2222222222222222,
              "#7201a8"
             ],
             [
              0.3333333333333333,
              "#9c179e"
             ],
             [
              0.4444444444444444,
              "#bd3786"
             ],
             [
              0.5555555555555556,
              "#d8576b"
             ],
             [
              0.6666666666666666,
              "#ed7953"
             ],
             [
              0.7777777777777778,
              "#fb9f3a"
             ],
             [
              0.8888888888888888,
              "#fdca26"
             ],
             [
              1,
              "#f0f921"
             ]
            ],
            "type": "histogram2dcontour"
           }
          ],
          "mesh3d": [
           {
            "colorbar": {
             "outlinewidth": 0,
             "ticks": ""
            },
            "type": "mesh3d"
           }
          ],
          "parcoords": [
           {
            "line": {
             "colorbar": {
              "outlinewidth": 0,
              "ticks": ""
             }
            },
            "type": "parcoords"
           }
          ],
          "pie": [
           {
            "automargin": true,
            "type": "pie"
           }
          ],
          "scatter": [
           {
            "marker": {
             "colorbar": {
              "outlinewidth": 0,
              "ticks": ""
             }
            },
            "type": "scatter"
           }
          ],
          "scatter3d": [
           {
            "line": {
             "colorbar": {
              "outlinewidth": 0,
              "ticks": ""
             }
            },
            "marker": {
             "colorbar": {
              "outlinewidth": 0,
              "ticks": ""
             }
            },
            "type": "scatter3d"
           }
          ],
          "scattercarpet": [
           {
            "marker": {
             "colorbar": {
              "outlinewidth": 0,
              "ticks": ""
             }
            },
            "type": "scattercarpet"
           }
          ],
          "scattergeo": [
           {
            "marker": {
             "colorbar": {
              "outlinewidth": 0,
              "ticks": ""
             }
            },
            "type": "scattergeo"
           }
          ],
          "scattergl": [
           {
            "marker": {
             "colorbar": {
              "outlinewidth": 0,
              "ticks": ""
             }
            },
            "type": "scattergl"
           }
          ],
          "scattermapbox": [
           {
            "marker": {
             "colorbar": {
              "outlinewidth": 0,
              "ticks": ""
             }
            },
            "type": "scattermapbox"
           }
          ],
          "scatterpolar": [
           {
            "marker": {
             "colorbar": {
              "outlinewidth": 0,
              "ticks": ""
             }
            },
            "type": "scatterpolar"
           }
          ],
          "scatterpolargl": [
           {
            "marker": {
             "colorbar": {
              "outlinewidth": 0,
              "ticks": ""
             }
            },
            "type": "scatterpolargl"
           }
          ],
          "scatterternary": [
           {
            "marker": {
             "colorbar": {
              "outlinewidth": 0,
              "ticks": ""
             }
            },
            "type": "scatterternary"
           }
          ],
          "surface": [
           {
            "colorbar": {
             "outlinewidth": 0,
             "ticks": ""
            },
            "colorscale": [
             [
              0,
              "#0d0887"
             ],
             [
              0.1111111111111111,
              "#46039f"
             ],
             [
              0.2222222222222222,
              "#7201a8"
             ],
             [
              0.3333333333333333,
              "#9c179e"
             ],
             [
              0.4444444444444444,
              "#bd3786"
             ],
             [
              0.5555555555555556,
              "#d8576b"
             ],
             [
              0.6666666666666666,
              "#ed7953"
             ],
             [
              0.7777777777777778,
              "#fb9f3a"
             ],
             [
              0.8888888888888888,
              "#fdca26"
             ],
             [
              1,
              "#f0f921"
             ]
            ],
            "type": "surface"
           }
          ],
          "table": [
           {
            "cells": {
             "fill": {
              "color": "#EBF0F8"
             },
             "line": {
              "color": "white"
             }
            },
            "header": {
             "fill": {
              "color": "#C8D4E3"
             },
             "line": {
              "color": "white"
             }
            },
            "type": "table"
           }
          ]
         },
         "layout": {
          "annotationdefaults": {
           "arrowcolor": "#2a3f5f",
           "arrowhead": 0,
           "arrowwidth": 1
          },
          "coloraxis": {
           "colorbar": {
            "outlinewidth": 0,
            "ticks": ""
           }
          },
          "colorscale": {
           "diverging": [
            [
             0,
             "#8e0152"
            ],
            [
             0.1,
             "#c51b7d"
            ],
            [
             0.2,
             "#de77ae"
            ],
            [
             0.3,
             "#f1b6da"
            ],
            [
             0.4,
             "#fde0ef"
            ],
            [
             0.5,
             "#f7f7f7"
            ],
            [
             0.6,
             "#e6f5d0"
            ],
            [
             0.7,
             "#b8e186"
            ],
            [
             0.8,
             "#7fbc41"
            ],
            [
             0.9,
             "#4d9221"
            ],
            [
             1,
             "#276419"
            ]
           ],
           "sequential": [
            [
             0,
             "#0d0887"
            ],
            [
             0.1111111111111111,
             "#46039f"
            ],
            [
             0.2222222222222222,
             "#7201a8"
            ],
            [
             0.3333333333333333,
             "#9c179e"
            ],
            [
             0.4444444444444444,
             "#bd3786"
            ],
            [
             0.5555555555555556,
             "#d8576b"
            ],
            [
             0.6666666666666666,
             "#ed7953"
            ],
            [
             0.7777777777777778,
             "#fb9f3a"
            ],
            [
             0.8888888888888888,
             "#fdca26"
            ],
            [
             1,
             "#f0f921"
            ]
           ],
           "sequentialminus": [
            [
             0,
             "#0d0887"
            ],
            [
             0.1111111111111111,
             "#46039f"
            ],
            [
             0.2222222222222222,
             "#7201a8"
            ],
            [
             0.3333333333333333,
             "#9c179e"
            ],
            [
             0.4444444444444444,
             "#bd3786"
            ],
            [
             0.5555555555555556,
             "#d8576b"
            ],
            [
             0.6666666666666666,
             "#ed7953"
            ],
            [
             0.7777777777777778,
             "#fb9f3a"
            ],
            [
             0.8888888888888888,
             "#fdca26"
            ],
            [
             1,
             "#f0f921"
            ]
           ]
          },
          "colorway": [
           "#636efa",
           "#EF553B",
           "#00cc96",
           "#ab63fa",
           "#FFA15A",
           "#19d3f3",
           "#FF6692",
           "#B6E880",
           "#FF97FF",
           "#FECB52"
          ],
          "font": {
           "color": "#2a3f5f"
          },
          "geo": {
           "bgcolor": "white",
           "lakecolor": "white",
           "landcolor": "#E5ECF6",
           "showlakes": true,
           "showland": true,
           "subunitcolor": "white"
          },
          "hoverlabel": {
           "align": "left"
          },
          "hovermode": "closest",
          "mapbox": {
           "style": "light"
          },
          "paper_bgcolor": "white",
          "plot_bgcolor": "#E5ECF6",
          "polar": {
           "angularaxis": {
            "gridcolor": "white",
            "linecolor": "white",
            "ticks": ""
           },
           "bgcolor": "#E5ECF6",
           "radialaxis": {
            "gridcolor": "white",
            "linecolor": "white",
            "ticks": ""
           }
          },
          "scene": {
           "xaxis": {
            "backgroundcolor": "#E5ECF6",
            "gridcolor": "white",
            "gridwidth": 2,
            "linecolor": "white",
            "showbackground": true,
            "ticks": "",
            "zerolinecolor": "white"
           },
           "yaxis": {
            "backgroundcolor": "#E5ECF6",
            "gridcolor": "white",
            "gridwidth": 2,
            "linecolor": "white",
            "showbackground": true,
            "ticks": "",
            "zerolinecolor": "white"
           },
           "zaxis": {
            "backgroundcolor": "#E5ECF6",
            "gridcolor": "white",
            "gridwidth": 2,
            "linecolor": "white",
            "showbackground": true,
            "ticks": "",
            "zerolinecolor": "white"
           }
          },
          "shapedefaults": {
           "line": {
            "color": "#2a3f5f"
           }
          },
          "ternary": {
           "aaxis": {
            "gridcolor": "white",
            "linecolor": "white",
            "ticks": ""
           },
           "baxis": {
            "gridcolor": "white",
            "linecolor": "white",
            "ticks": ""
           },
           "bgcolor": "#E5ECF6",
           "caxis": {
            "gridcolor": "white",
            "linecolor": "white",
            "ticks": ""
           }
          },
          "title": {
           "x": 0.05
          },
          "xaxis": {
           "automargin": true,
           "gridcolor": "white",
           "linecolor": "white",
           "ticks": "",
           "title": {
            "standoff": 15
           },
           "zerolinecolor": "white",
           "zerolinewidth": 2
          },
          "yaxis": {
           "automargin": true,
           "gridcolor": "white",
           "linecolor": "white",
           "ticks": "",
           "title": {
            "standoff": 15
           },
           "zerolinecolor": "white",
           "zerolinewidth": 2
          }
         }
        },
        "title": {
         "font": {
          "color": "#4D5663"
         }
        },
        "xaxis": {
         "gridcolor": "#E1E5ED",
         "showgrid": true,
         "tickfont": {
          "color": "#4D5663"
         },
         "title": {
          "font": {
           "color": "#4D5663"
          },
          "text": ""
         },
         "zerolinecolor": "#E1E5ED"
        },
        "yaxis": {
         "gridcolor": "#E1E5ED",
         "showgrid": true,
         "tickfont": {
          "color": "#4D5663"
         },
         "title": {
          "font": {
           "color": "#4D5663"
          },
          "text": ""
         },
         "zerolinecolor": "#E1E5ED"
        }
       }
      },
      "text/html": [
       "<div>\n",
       "        \n",
       "        \n",
       "            <div id=\"69b2d5fc-a2e7-4a1d-8490-612815377148\" class=\"plotly-graph-div\" style=\"height:525px; width:100%;\"></div>\n",
       "            <script type=\"text/javascript\">\n",
       "                require([\"plotly\"], function(Plotly) {\n",
       "                    window.PLOTLYENV=window.PLOTLYENV || {};\n",
       "                    window.PLOTLYENV.BASE_URL='https://plot.ly';\n",
       "                    \n",
       "                if (document.getElementById(\"69b2d5fc-a2e7-4a1d-8490-612815377148\")) {\n",
       "                    Plotly.newPlot(\n",
       "                        '69b2d5fc-a2e7-4a1d-8490-612815377148',\n",
       "                        [{\"histfunc\": \"count\", \"histnorm\": \"\", \"marker\": {\"color\": \"rgba(255, 153, 51, 1.0)\", \"line\": {\"color\": \"#4D5663\", \"width\": 1.3}}, \"name\": \"A\", \"nbinsx\": 25, \"opacity\": 0.8, \"orientation\": \"v\", \"type\": \"histogram\", \"x\": [1.573328711227588, -0.37852617950749295, 0.1768154975319591, -0.5991281059388813, 1.1755060314126213, 0.24964246226697667, 0.5956165871109731, 0.5612011071792405, 0.9180885799809175, 0.7571694210998187, 0.24715045119972137, -1.5270465043997787, -0.875374507933993, 1.2025748375755545, 0.6337638775037999, 1.4678420619686383, 0.45673265663204543, -0.26569229827179003, 1.1244514300144637, -0.3169066781827368, 2.3326670259694984, 1.1805682968753102, -0.41405314324567183, 0.3122201777837888, -1.4052653628429845, 0.31430633602741875, -0.20578869630339477, -0.60390031944842, 1.96339494742064, 1.6693550129021753, -1.334598303785486, -0.37781853819873823, -0.8894928657177164, -0.7543929174901841, -0.23210840072281078, -1.6901960833990382, 0.4512098555532659, -1.6840584805291572, 1.0458784516037567, 1.6664676824073386, -1.4401332275578733, 1.7114714420535877, -0.45865548617687163, 0.9505872085183176, -1.9421953084933026, 0.042733014352603314, -0.15414531364007927, 0.32915907886279877, -2.194460922754973, 0.015125890780444818, 0.2845835884595226, -0.3754901070103968, 0.2844539210618317, -0.12817785900037726, 0.2260420020459213, 0.10436446169541978, -1.945586652139439, -0.36503865639939936, -0.22404622351044057, -0.2153410058721476, 0.06278284613069145, 0.8788465708891683, -0.7227927973318916, 0.3973910025307887, -0.23934321011928952, 0.7710770602966287, 1.2068887478696722, 0.21170919633969837, 0.059892170735103015, -1.612452124677236, -0.8112259655549127, -1.370414490272464, -1.653881269326432, 1.4336987722728656, 0.3424580647461767, -0.47227829298318325, -1.6371862002778288, 0.1178252873274814, 0.6555856265155513, 0.5430554758356879, -0.10956656996215498, 1.0202118759670051, -0.24457257437156738, 0.6398275256663398, 0.35899461667070703, 0.9615922999069186, -1.8575346554006276, -0.8698442370442436, 0.6613226554534137, -1.9610775745970301, -1.7518253054808146, -0.4180919006194288, 0.7778364527179996, -0.44990921899945696, 0.9931689954464562, 1.297712985928407, -0.5451756655006744, -0.1959375376838416, 0.6051166858612246, -0.8677354795742439]}],\n",
       "                        {\"barmode\": \"overlay\", \"legend\": {\"bgcolor\": \"#F5F6F9\", \"font\": {\"color\": \"#4D5663\"}}, \"paper_bgcolor\": \"#F5F6F9\", \"plot_bgcolor\": \"#F5F6F9\", \"template\": {\"data\": {\"bar\": [{\"error_x\": {\"color\": \"#2a3f5f\"}, \"error_y\": {\"color\": \"#2a3f5f\"}, \"marker\": {\"line\": {\"color\": \"#E5ECF6\", \"width\": 0.5}}, \"type\": \"bar\"}], \"barpolar\": [{\"marker\": {\"line\": {\"color\": \"#E5ECF6\", \"width\": 0.5}}, \"type\": \"barpolar\"}], \"carpet\": [{\"aaxis\": {\"endlinecolor\": \"#2a3f5f\", \"gridcolor\": \"white\", \"linecolor\": \"white\", \"minorgridcolor\": \"white\", \"startlinecolor\": \"#2a3f5f\"}, \"baxis\": {\"endlinecolor\": \"#2a3f5f\", \"gridcolor\": \"white\", \"linecolor\": \"white\", \"minorgridcolor\": \"white\", \"startlinecolor\": \"#2a3f5f\"}, \"type\": \"carpet\"}], \"choropleth\": [{\"colorbar\": {\"outlinewidth\": 0, \"ticks\": \"\"}, \"type\": \"choropleth\"}], \"contour\": [{\"colorbar\": {\"outlinewidth\": 0, \"ticks\": \"\"}, \"colorscale\": [[0.0, \"#0d0887\"], [0.1111111111111111, \"#46039f\"], [0.2222222222222222, \"#7201a8\"], [0.3333333333333333, \"#9c179e\"], [0.4444444444444444, \"#bd3786\"], [0.5555555555555556, \"#d8576b\"], [0.6666666666666666, \"#ed7953\"], [0.7777777777777778, \"#fb9f3a\"], [0.8888888888888888, \"#fdca26\"], [1.0, \"#f0f921\"]], \"type\": \"contour\"}], \"contourcarpet\": [{\"colorbar\": {\"outlinewidth\": 0, \"ticks\": \"\"}, \"type\": \"contourcarpet\"}], \"heatmap\": [{\"colorbar\": {\"outlinewidth\": 0, \"ticks\": \"\"}, \"colorscale\": [[0.0, \"#0d0887\"], [0.1111111111111111, \"#46039f\"], [0.2222222222222222, \"#7201a8\"], [0.3333333333333333, \"#9c179e\"], [0.4444444444444444, \"#bd3786\"], [0.5555555555555556, \"#d8576b\"], [0.6666666666666666, \"#ed7953\"], [0.7777777777777778, \"#fb9f3a\"], [0.8888888888888888, \"#fdca26\"], [1.0, \"#f0f921\"]], \"type\": \"heatmap\"}], \"heatmapgl\": [{\"colorbar\": {\"outlinewidth\": 0, \"ticks\": \"\"}, \"colorscale\": [[0.0, \"#0d0887\"], [0.1111111111111111, \"#46039f\"], [0.2222222222222222, \"#7201a8\"], [0.3333333333333333, \"#9c179e\"], [0.4444444444444444, \"#bd3786\"], [0.5555555555555556, \"#d8576b\"], [0.6666666666666666, \"#ed7953\"], [0.7777777777777778, \"#fb9f3a\"], [0.8888888888888888, \"#fdca26\"], [1.0, \"#f0f921\"]], \"type\": \"heatmapgl\"}], \"histogram\": [{\"marker\": {\"colorbar\": {\"outlinewidth\": 0, \"ticks\": \"\"}}, \"type\": \"histogram\"}], \"histogram2d\": [{\"colorbar\": {\"outlinewidth\": 0, \"ticks\": \"\"}, \"colorscale\": [[0.0, \"#0d0887\"], [0.1111111111111111, \"#46039f\"], [0.2222222222222222, \"#7201a8\"], [0.3333333333333333, \"#9c179e\"], [0.4444444444444444, \"#bd3786\"], [0.5555555555555556, \"#d8576b\"], [0.6666666666666666, \"#ed7953\"], [0.7777777777777778, \"#fb9f3a\"], [0.8888888888888888, \"#fdca26\"], [1.0, \"#f0f921\"]], \"type\": \"histogram2d\"}], \"histogram2dcontour\": [{\"colorbar\": {\"outlinewidth\": 0, \"ticks\": \"\"}, \"colorscale\": [[0.0, \"#0d0887\"], [0.1111111111111111, \"#46039f\"], [0.2222222222222222, \"#7201a8\"], [0.3333333333333333, \"#9c179e\"], [0.4444444444444444, \"#bd3786\"], [0.5555555555555556, \"#d8576b\"], [0.6666666666666666, \"#ed7953\"], [0.7777777777777778, \"#fb9f3a\"], [0.8888888888888888, \"#fdca26\"], [1.0, \"#f0f921\"]], \"type\": \"histogram2dcontour\"}], \"mesh3d\": [{\"colorbar\": {\"outlinewidth\": 0, \"ticks\": \"\"}, \"type\": \"mesh3d\"}], \"parcoords\": [{\"line\": {\"colorbar\": {\"outlinewidth\": 0, \"ticks\": \"\"}}, \"type\": \"parcoords\"}], \"pie\": [{\"automargin\": true, \"type\": \"pie\"}], \"scatter\": [{\"marker\": {\"colorbar\": {\"outlinewidth\": 0, \"ticks\": \"\"}}, \"type\": \"scatter\"}], \"scatter3d\": [{\"line\": {\"colorbar\": {\"outlinewidth\": 0, \"ticks\": \"\"}}, \"marker\": {\"colorbar\": {\"outlinewidth\": 0, \"ticks\": \"\"}}, \"type\": \"scatter3d\"}], \"scattercarpet\": [{\"marker\": {\"colorbar\": {\"outlinewidth\": 0, \"ticks\": \"\"}}, \"type\": \"scattercarpet\"}], \"scattergeo\": [{\"marker\": {\"colorbar\": {\"outlinewidth\": 0, \"ticks\": \"\"}}, \"type\": \"scattergeo\"}], \"scattergl\": [{\"marker\": {\"colorbar\": {\"outlinewidth\": 0, \"ticks\": \"\"}}, \"type\": \"scattergl\"}], \"scattermapbox\": [{\"marker\": {\"colorbar\": {\"outlinewidth\": 0, \"ticks\": \"\"}}, \"type\": \"scattermapbox\"}], \"scatterpolar\": [{\"marker\": {\"colorbar\": {\"outlinewidth\": 0, \"ticks\": \"\"}}, \"type\": \"scatterpolar\"}], \"scatterpolargl\": [{\"marker\": {\"colorbar\": {\"outlinewidth\": 0, \"ticks\": \"\"}}, \"type\": \"scatterpolargl\"}], \"scatterternary\": [{\"marker\": {\"colorbar\": {\"outlinewidth\": 0, \"ticks\": \"\"}}, \"type\": \"scatterternary\"}], \"surface\": [{\"colorbar\": {\"outlinewidth\": 0, \"ticks\": \"\"}, \"colorscale\": [[0.0, \"#0d0887\"], [0.1111111111111111, \"#46039f\"], [0.2222222222222222, \"#7201a8\"], [0.3333333333333333, \"#9c179e\"], [0.4444444444444444, \"#bd3786\"], [0.5555555555555556, \"#d8576b\"], [0.6666666666666666, \"#ed7953\"], [0.7777777777777778, \"#fb9f3a\"], [0.8888888888888888, \"#fdca26\"], [1.0, \"#f0f921\"]], \"type\": \"surface\"}], \"table\": [{\"cells\": {\"fill\": {\"color\": \"#EBF0F8\"}, \"line\": {\"color\": \"white\"}}, \"header\": {\"fill\": {\"color\": \"#C8D4E3\"}, \"line\": {\"color\": \"white\"}}, \"type\": \"table\"}]}, \"layout\": {\"annotationdefaults\": {\"arrowcolor\": \"#2a3f5f\", \"arrowhead\": 0, \"arrowwidth\": 1}, \"coloraxis\": {\"colorbar\": {\"outlinewidth\": 0, \"ticks\": \"\"}}, \"colorscale\": {\"diverging\": [[0, \"#8e0152\"], [0.1, \"#c51b7d\"], [0.2, \"#de77ae\"], [0.3, \"#f1b6da\"], [0.4, \"#fde0ef\"], [0.5, \"#f7f7f7\"], [0.6, \"#e6f5d0\"], [0.7, \"#b8e186\"], [0.8, \"#7fbc41\"], [0.9, \"#4d9221\"], [1, \"#276419\"]], \"sequential\": [[0.0, \"#0d0887\"], [0.1111111111111111, \"#46039f\"], [0.2222222222222222, \"#7201a8\"], [0.3333333333333333, \"#9c179e\"], [0.4444444444444444, \"#bd3786\"], [0.5555555555555556, \"#d8576b\"], [0.6666666666666666, \"#ed7953\"], [0.7777777777777778, \"#fb9f3a\"], [0.8888888888888888, \"#fdca26\"], [1.0, \"#f0f921\"]], \"sequentialminus\": [[0.0, \"#0d0887\"], [0.1111111111111111, \"#46039f\"], [0.2222222222222222, \"#7201a8\"], [0.3333333333333333, \"#9c179e\"], [0.4444444444444444, \"#bd3786\"], [0.5555555555555556, \"#d8576b\"], [0.6666666666666666, \"#ed7953\"], [0.7777777777777778, \"#fb9f3a\"], [0.8888888888888888, \"#fdca26\"], [1.0, \"#f0f921\"]]}, \"colorway\": [\"#636efa\", \"#EF553B\", \"#00cc96\", \"#ab63fa\", \"#FFA15A\", \"#19d3f3\", \"#FF6692\", \"#B6E880\", \"#FF97FF\", \"#FECB52\"], \"font\": {\"color\": \"#2a3f5f\"}, \"geo\": {\"bgcolor\": \"white\", \"lakecolor\": \"white\", \"landcolor\": \"#E5ECF6\", \"showlakes\": true, \"showland\": true, \"subunitcolor\": \"white\"}, \"hoverlabel\": {\"align\": \"left\"}, \"hovermode\": \"closest\", \"mapbox\": {\"style\": \"light\"}, \"paper_bgcolor\": \"white\", \"plot_bgcolor\": \"#E5ECF6\", \"polar\": {\"angularaxis\": {\"gridcolor\": \"white\", \"linecolor\": \"white\", \"ticks\": \"\"}, \"bgcolor\": \"#E5ECF6\", \"radialaxis\": {\"gridcolor\": \"white\", \"linecolor\": \"white\", \"ticks\": \"\"}}, \"scene\": {\"xaxis\": {\"backgroundcolor\": \"#E5ECF6\", \"gridcolor\": \"white\", \"gridwidth\": 2, \"linecolor\": \"white\", \"showbackground\": true, \"ticks\": \"\", \"zerolinecolor\": \"white\"}, \"yaxis\": {\"backgroundcolor\": \"#E5ECF6\", \"gridcolor\": \"white\", \"gridwidth\": 2, \"linecolor\": \"white\", \"showbackground\": true, \"ticks\": \"\", \"zerolinecolor\": \"white\"}, \"zaxis\": {\"backgroundcolor\": \"#E5ECF6\", \"gridcolor\": \"white\", \"gridwidth\": 2, \"linecolor\": \"white\", \"showbackground\": true, \"ticks\": \"\", \"zerolinecolor\": \"white\"}}, \"shapedefaults\": {\"line\": {\"color\": \"#2a3f5f\"}}, \"ternary\": {\"aaxis\": {\"gridcolor\": \"white\", \"linecolor\": \"white\", \"ticks\": \"\"}, \"baxis\": {\"gridcolor\": \"white\", \"linecolor\": \"white\", \"ticks\": \"\"}, \"bgcolor\": \"#E5ECF6\", \"caxis\": {\"gridcolor\": \"white\", \"linecolor\": \"white\", \"ticks\": \"\"}}, \"title\": {\"x\": 0.05}, \"xaxis\": {\"automargin\": true, \"gridcolor\": \"white\", \"linecolor\": \"white\", \"ticks\": \"\", \"title\": {\"standoff\": 15}, \"zerolinecolor\": \"white\", \"zerolinewidth\": 2}, \"yaxis\": {\"automargin\": true, \"gridcolor\": \"white\", \"linecolor\": \"white\", \"ticks\": \"\", \"title\": {\"standoff\": 15}, \"zerolinecolor\": \"white\", \"zerolinewidth\": 2}}}, \"title\": {\"font\": {\"color\": \"#4D5663\"}}, \"xaxis\": {\"gridcolor\": \"#E1E5ED\", \"showgrid\": true, \"tickfont\": {\"color\": \"#4D5663\"}, \"title\": {\"font\": {\"color\": \"#4D5663\"}, \"text\": \"\"}, \"zerolinecolor\": \"#E1E5ED\"}, \"yaxis\": {\"gridcolor\": \"#E1E5ED\", \"showgrid\": true, \"tickfont\": {\"color\": \"#4D5663\"}, \"title\": {\"font\": {\"color\": \"#4D5663\"}, \"text\": \"\"}, \"zerolinecolor\": \"#E1E5ED\"}},\n",
       "                        {\"showLink\": true, \"linkText\": \"Export to plot.ly\", \"plotlyServerURL\": \"https://plot.ly\", \"responsive\": true}\n",
       "                    ).then(function(){\n",
       "                            \n",
       "var gd = document.getElementById('69b2d5fc-a2e7-4a1d-8490-612815377148');\n",
       "var x = new MutationObserver(function (mutations, observer) {{\n",
       "        var display = window.getComputedStyle(gd).display;\n",
       "        if (!display || display === 'none') {{\n",
       "            console.log([gd, 'removed!']);\n",
       "            Plotly.purge(gd);\n",
       "            observer.disconnect();\n",
       "        }}\n",
       "}});\n",
       "\n",
       "// Listen for the removal of the full notebook cells\n",
       "var notebookContainer = gd.closest('#notebook-container');\n",
       "if (notebookContainer) {{\n",
       "    x.observe(notebookContainer, {childList: true});\n",
       "}}\n",
       "\n",
       "// Listen for the clearing of the current output cell\n",
       "var outputEl = gd.closest('.output');\n",
       "if (outputEl) {{\n",
       "    x.observe(outputEl, {childList: true});\n",
       "}}\n",
       "\n",
       "                        })\n",
       "                };\n",
       "                });\n",
       "            </script>\n",
       "        </div>"
      ]
     },
     "metadata": {},
     "output_type": "display_data"
    }
   ],
   "source": [
    "df['A'].iplot(kind='hist',bins=25)"
   ]
  },
  {
   "cell_type": "code",
   "execution_count": 36,
   "metadata": {},
   "outputs": [
    {
     "data": {
      "application/vnd.plotly.v1+json": {
       "config": {
        "linkText": "Export to plot.ly",
        "plotlyServerURL": "https://plot.ly",
        "showLink": true
       },
       "data": [
        {
         "marker": {
          "color": [
           "rgb(255, 153, 51)",
           "rgb(55, 128, 191)",
           "rgb(50, 171, 96)",
           "rgb(128, 0, 128)",
           "rgb(219, 64, 82)",
           "rgb(0, 128, 128)",
           "rgb(255, 255, 51)",
           "rgb(128, 128, 0)",
           "rgb(251, 128, 114)",
           "rgb(128, 177, 211)"
          ],
          "line": {
           "width": 1.3
          },
          "size": [
           29,
           31,
           70,
           100,
           73,
           69,
           104,
           65,
           105,
           81,
           62,
           90,
           72,
           33,
           58,
           84,
           57,
           86,
           76,
           77,
           51,
           65,
           64,
           53,
           72,
           73,
           91,
           72,
           61,
           86,
           112,
           78,
           69,
           46,
           67,
           12,
           87,
           93,
           49,
           71,
           81,
           82,
           15,
           74,
           45,
           38,
           57,
           87,
           72,
           83,
           70,
           95,
           68,
           55,
           54,
           75,
           53,
           45,
           67,
           85,
           62,
           66,
           31,
           39,
           75,
           65,
           23,
           95,
           61,
           59,
           78,
           83,
           82,
           27,
           54,
           68,
           81,
           54,
           68,
           82,
           93,
           40,
           70,
           61,
           72,
           83,
           32,
           96,
           24,
           54,
           56,
           78,
           66,
           51,
           103,
           109,
           100,
           46,
           64,
           102
          ],
          "symbol": "circle"
         },
         "mode": "markers",
         "text": "",
         "type": "scatter",
         "x": [
          1.573328711227588,
          -0.37852617950749295,
          0.1768154975319591,
          -0.5991281059388813,
          1.1755060314126213,
          0.24964246226697667,
          0.5956165871109731,
          0.5612011071792405,
          0.9180885799809175,
          0.7571694210998187,
          0.24715045119972137,
          -1.5270465043997787,
          -0.875374507933993,
          1.2025748375755545,
          0.6337638775037999,
          1.4678420619686383,
          0.45673265663204543,
          -0.26569229827179003,
          1.1244514300144637,
          -0.3169066781827368,
          2.3326670259694984,
          1.1805682968753102,
          -0.41405314324567183,
          0.3122201777837888,
          -1.4052653628429845,
          0.31430633602741875,
          -0.20578869630339477,
          -0.60390031944842,
          1.96339494742064,
          1.6693550129021753,
          -1.334598303785486,
          -0.37781853819873823,
          -0.8894928657177164,
          -0.7543929174901841,
          -0.23210840072281078,
          -1.6901960833990382,
          0.4512098555532659,
          -1.6840584805291572,
          1.0458784516037567,
          1.6664676824073386,
          -1.4401332275578733,
          1.7114714420535877,
          -0.45865548617687163,
          0.9505872085183176,
          -1.9421953084933026,
          0.042733014352603314,
          -0.15414531364007927,
          0.32915907886279877,
          -2.194460922754973,
          0.015125890780444818,
          0.2845835884595226,
          -0.3754901070103968,
          0.2844539210618317,
          -0.12817785900037726,
          0.2260420020459213,
          0.10436446169541978,
          -1.945586652139439,
          -0.36503865639939936,
          -0.22404622351044057,
          -0.2153410058721476,
          0.06278284613069145,
          0.8788465708891683,
          -0.7227927973318916,
          0.3973910025307887,
          -0.23934321011928952,
          0.7710770602966287,
          1.2068887478696722,
          0.21170919633969837,
          0.059892170735103015,
          -1.612452124677236,
          -0.8112259655549127,
          -1.370414490272464,
          -1.653881269326432,
          1.4336987722728656,
          0.3424580647461767,
          -0.47227829298318325,
          -1.6371862002778288,
          0.1178252873274814,
          0.6555856265155513,
          0.5430554758356879,
          -0.10956656996215498,
          1.0202118759670051,
          -0.24457257437156738,
          0.6398275256663398,
          0.35899461667070703,
          0.9615922999069186,
          -1.8575346554006276,
          -0.8698442370442436,
          0.6613226554534137,
          -1.9610775745970301,
          -1.7518253054808146,
          -0.4180919006194288,
          0.7778364527179996,
          -0.44990921899945696,
          0.9931689954464562,
          1.297712985928407,
          -0.5451756655006744,
          -0.1959375376838416,
          0.6051166858612246,
          -0.8677354795742439
         ],
         "y": [
          -0.2394652779549122,
          0.8512345364937773,
          0.41484812193021964,
          1.5370959350367674,
          -0.4927408965374319,
          -0.22100901165166023,
          -0.43193040335765653,
          -0.49336201857205314,
          0.5555084384448081,
          -0.5107093147117601,
          -0.3526308817252644,
          0.007489800734434926,
          -0.6003649263215223,
          -0.01278324946277747,
          0.2274406995260329,
          -1.0187156546487115,
          -0.4433447642506894,
          -0.3060049886332904,
          -0.11377838153924977,
          -0.08407790197866014,
          1.0464551062117906,
          -0.9799341186049836,
          -1.8537395580117801,
          0.6617221210672103,
          -0.683415999037852,
          -0.39479143980500403,
          -2.196804691822171,
          0.9829199829668247,
          -2.179151330999028,
          1.1392018545116072,
          -1.8420019494800435,
          -0.30038149675268744,
          0.008963551020868049,
          -0.06618101867302661,
          1.0674281027274761,
          0.7173822431325227,
          -1.9086449146501494,
          1.0205583203650004,
          2.23498872747899,
          -0.45259495728000726,
          0.574969471677332,
          0.6944603816242416,
          -0.12498725051976357,
          -1.8958418732899174,
          -0.6421631673722423,
          -0.38673076375729404,
          -0.3357083832660241,
          0.8998219397665486,
          -0.015392086889089685,
          -0.5026542206416671,
          -1.6951761221844877,
          1.6796828066716862,
          0.36604466437520533,
          -1.9183417290547082,
          0.4701078450355624,
          -0.19291943661795397,
          -0.7593893664030056,
          -0.6749441066899211,
          0.7479337658901685,
          1.1274218457436842,
          -0.43875091042622516,
          -1.8105231808183324,
          0.48444909587401636,
          -0.5055844310124634,
          -0.46194253142129044,
          0.52721385333185,
          0.33716747766588245,
          0.01697510334850516,
          -1.4034883679745767,
          0.29498065138194346,
          -1.641260866859968,
          -0.3542296235869637,
          -0.19241761771803673,
          -0.7587260159600041,
          0.37451144525510227,
          -1.2258116079566619,
          0.2842602520008746,
          -1.908327868761162,
          -0.8557696298768518,
          1.118002270580774,
          -1.4701377021951572,
          1.2765397042431867,
          0.3253134283901319,
          -0.6814381081251094,
          1.2397551256542891,
          0.5926331740445077,
          1.7231767023146967,
          0.18409964154272745,
          -0.5450931058141981,
          -0.17358078103870087,
          0.6888684372015913,
          1.281410412125775,
          0.49575937971724,
          0.0975145793536695,
          0.9673828187279973,
          2.168738376862383,
          -1.5611560382058942,
          3.352263014883978,
          -0.3147424815649832,
          1.0391922023113067
         ]
        }
       ],
       "layout": {
        "legend": {
         "bgcolor": "#F5F6F9",
         "font": {
          "color": "#4D5663"
         }
        },
        "paper_bgcolor": "#F5F6F9",
        "plot_bgcolor": "#F5F6F9",
        "template": {
         "data": {
          "bar": [
           {
            "error_x": {
             "color": "#2a3f5f"
            },
            "error_y": {
             "color": "#2a3f5f"
            },
            "marker": {
             "line": {
              "color": "#E5ECF6",
              "width": 0.5
             }
            },
            "type": "bar"
           }
          ],
          "barpolar": [
           {
            "marker": {
             "line": {
              "color": "#E5ECF6",
              "width": 0.5
             }
            },
            "type": "barpolar"
           }
          ],
          "carpet": [
           {
            "aaxis": {
             "endlinecolor": "#2a3f5f",
             "gridcolor": "white",
             "linecolor": "white",
             "minorgridcolor": "white",
             "startlinecolor": "#2a3f5f"
            },
            "baxis": {
             "endlinecolor": "#2a3f5f",
             "gridcolor": "white",
             "linecolor": "white",
             "minorgridcolor": "white",
             "startlinecolor": "#2a3f5f"
            },
            "type": "carpet"
           }
          ],
          "choropleth": [
           {
            "colorbar": {
             "outlinewidth": 0,
             "ticks": ""
            },
            "type": "choropleth"
           }
          ],
          "contour": [
           {
            "colorbar": {
             "outlinewidth": 0,
             "ticks": ""
            },
            "colorscale": [
             [
              0,
              "#0d0887"
             ],
             [
              0.1111111111111111,
              "#46039f"
             ],
             [
              0.2222222222222222,
              "#7201a8"
             ],
             [
              0.3333333333333333,
              "#9c179e"
             ],
             [
              0.4444444444444444,
              "#bd3786"
             ],
             [
              0.5555555555555556,
              "#d8576b"
             ],
             [
              0.6666666666666666,
              "#ed7953"
             ],
             [
              0.7777777777777778,
              "#fb9f3a"
             ],
             [
              0.8888888888888888,
              "#fdca26"
             ],
             [
              1,
              "#f0f921"
             ]
            ],
            "type": "contour"
           }
          ],
          "contourcarpet": [
           {
            "colorbar": {
             "outlinewidth": 0,
             "ticks": ""
            },
            "type": "contourcarpet"
           }
          ],
          "heatmap": [
           {
            "colorbar": {
             "outlinewidth": 0,
             "ticks": ""
            },
            "colorscale": [
             [
              0,
              "#0d0887"
             ],
             [
              0.1111111111111111,
              "#46039f"
             ],
             [
              0.2222222222222222,
              "#7201a8"
             ],
             [
              0.3333333333333333,
              "#9c179e"
             ],
             [
              0.4444444444444444,
              "#bd3786"
             ],
             [
              0.5555555555555556,
              "#d8576b"
             ],
             [
              0.6666666666666666,
              "#ed7953"
             ],
             [
              0.7777777777777778,
              "#fb9f3a"
             ],
             [
              0.8888888888888888,
              "#fdca26"
             ],
             [
              1,
              "#f0f921"
             ]
            ],
            "type": "heatmap"
           }
          ],
          "heatmapgl": [
           {
            "colorbar": {
             "outlinewidth": 0,
             "ticks": ""
            },
            "colorscale": [
             [
              0,
              "#0d0887"
             ],
             [
              0.1111111111111111,
              "#46039f"
             ],
             [
              0.2222222222222222,
              "#7201a8"
             ],
             [
              0.3333333333333333,
              "#9c179e"
             ],
             [
              0.4444444444444444,
              "#bd3786"
             ],
             [
              0.5555555555555556,
              "#d8576b"
             ],
             [
              0.6666666666666666,
              "#ed7953"
             ],
             [
              0.7777777777777778,
              "#fb9f3a"
             ],
             [
              0.8888888888888888,
              "#fdca26"
             ],
             [
              1,
              "#f0f921"
             ]
            ],
            "type": "heatmapgl"
           }
          ],
          "histogram": [
           {
            "marker": {
             "colorbar": {
              "outlinewidth": 0,
              "ticks": ""
             }
            },
            "type": "histogram"
           }
          ],
          "histogram2d": [
           {
            "colorbar": {
             "outlinewidth": 0,
             "ticks": ""
            },
            "colorscale": [
             [
              0,
              "#0d0887"
             ],
             [
              0.1111111111111111,
              "#46039f"
             ],
             [
              0.2222222222222222,
              "#7201a8"
             ],
             [
              0.3333333333333333,
              "#9c179e"
             ],
             [
              0.4444444444444444,
              "#bd3786"
             ],
             [
              0.5555555555555556,
              "#d8576b"
             ],
             [
              0.6666666666666666,
              "#ed7953"
             ],
             [
              0.7777777777777778,
              "#fb9f3a"
             ],
             [
              0.8888888888888888,
              "#fdca26"
             ],
             [
              1,
              "#f0f921"
             ]
            ],
            "type": "histogram2d"
           }
          ],
          "histogram2dcontour": [
           {
            "colorbar": {
             "outlinewidth": 0,
             "ticks": ""
            },
            "colorscale": [
             [
              0,
              "#0d0887"
             ],
             [
              0.1111111111111111,
              "#46039f"
             ],
             [
              0.2222222222222222,
              "#7201a8"
             ],
             [
              0.3333333333333333,
              "#9c179e"
             ],
             [
              0.4444444444444444,
              "#bd3786"
             ],
             [
              0.5555555555555556,
              "#d8576b"
             ],
             [
              0.6666666666666666,
              "#ed7953"
             ],
             [
              0.7777777777777778,
              "#fb9f3a"
             ],
             [
              0.8888888888888888,
              "#fdca26"
             ],
             [
              1,
              "#f0f921"
             ]
            ],
            "type": "histogram2dcontour"
           }
          ],
          "mesh3d": [
           {
            "colorbar": {
             "outlinewidth": 0,
             "ticks": ""
            },
            "type": "mesh3d"
           }
          ],
          "parcoords": [
           {
            "line": {
             "colorbar": {
              "outlinewidth": 0,
              "ticks": ""
             }
            },
            "type": "parcoords"
           }
          ],
          "pie": [
           {
            "automargin": true,
            "type": "pie"
           }
          ],
          "scatter": [
           {
            "marker": {
             "colorbar": {
              "outlinewidth": 0,
              "ticks": ""
             }
            },
            "type": "scatter"
           }
          ],
          "scatter3d": [
           {
            "line": {
             "colorbar": {
              "outlinewidth": 0,
              "ticks": ""
             }
            },
            "marker": {
             "colorbar": {
              "outlinewidth": 0,
              "ticks": ""
             }
            },
            "type": "scatter3d"
           }
          ],
          "scattercarpet": [
           {
            "marker": {
             "colorbar": {
              "outlinewidth": 0,
              "ticks": ""
             }
            },
            "type": "scattercarpet"
           }
          ],
          "scattergeo": [
           {
            "marker": {
             "colorbar": {
              "outlinewidth": 0,
              "ticks": ""
             }
            },
            "type": "scattergeo"
           }
          ],
          "scattergl": [
           {
            "marker": {
             "colorbar": {
              "outlinewidth": 0,
              "ticks": ""
             }
            },
            "type": "scattergl"
           }
          ],
          "scattermapbox": [
           {
            "marker": {
             "colorbar": {
              "outlinewidth": 0,
              "ticks": ""
             }
            },
            "type": "scattermapbox"
           }
          ],
          "scatterpolar": [
           {
            "marker": {
             "colorbar": {
              "outlinewidth": 0,
              "ticks": ""
             }
            },
            "type": "scatterpolar"
           }
          ],
          "scatterpolargl": [
           {
            "marker": {
             "colorbar": {
              "outlinewidth": 0,
              "ticks": ""
             }
            },
            "type": "scatterpolargl"
           }
          ],
          "scatterternary": [
           {
            "marker": {
             "colorbar": {
              "outlinewidth": 0,
              "ticks": ""
             }
            },
            "type": "scatterternary"
           }
          ],
          "surface": [
           {
            "colorbar": {
             "outlinewidth": 0,
             "ticks": ""
            },
            "colorscale": [
             [
              0,
              "#0d0887"
             ],
             [
              0.1111111111111111,
              "#46039f"
             ],
             [
              0.2222222222222222,
              "#7201a8"
             ],
             [
              0.3333333333333333,
              "#9c179e"
             ],
             [
              0.4444444444444444,
              "#bd3786"
             ],
             [
              0.5555555555555556,
              "#d8576b"
             ],
             [
              0.6666666666666666,
              "#ed7953"
             ],
             [
              0.7777777777777778,
              "#fb9f3a"
             ],
             [
              0.8888888888888888,
              "#fdca26"
             ],
             [
              1,
              "#f0f921"
             ]
            ],
            "type": "surface"
           }
          ],
          "table": [
           {
            "cells": {
             "fill": {
              "color": "#EBF0F8"
             },
             "line": {
              "color": "white"
             }
            },
            "header": {
             "fill": {
              "color": "#C8D4E3"
             },
             "line": {
              "color": "white"
             }
            },
            "type": "table"
           }
          ]
         },
         "layout": {
          "annotationdefaults": {
           "arrowcolor": "#2a3f5f",
           "arrowhead": 0,
           "arrowwidth": 1
          },
          "coloraxis": {
           "colorbar": {
            "outlinewidth": 0,
            "ticks": ""
           }
          },
          "colorscale": {
           "diverging": [
            [
             0,
             "#8e0152"
            ],
            [
             0.1,
             "#c51b7d"
            ],
            [
             0.2,
             "#de77ae"
            ],
            [
             0.3,
             "#f1b6da"
            ],
            [
             0.4,
             "#fde0ef"
            ],
            [
             0.5,
             "#f7f7f7"
            ],
            [
             0.6,
             "#e6f5d0"
            ],
            [
             0.7,
             "#b8e186"
            ],
            [
             0.8,
             "#7fbc41"
            ],
            [
             0.9,
             "#4d9221"
            ],
            [
             1,
             "#276419"
            ]
           ],
           "sequential": [
            [
             0,
             "#0d0887"
            ],
            [
             0.1111111111111111,
             "#46039f"
            ],
            [
             0.2222222222222222,
             "#7201a8"
            ],
            [
             0.3333333333333333,
             "#9c179e"
            ],
            [
             0.4444444444444444,
             "#bd3786"
            ],
            [
             0.5555555555555556,
             "#d8576b"
            ],
            [
             0.6666666666666666,
             "#ed7953"
            ],
            [
             0.7777777777777778,
             "#fb9f3a"
            ],
            [
             0.8888888888888888,
             "#fdca26"
            ],
            [
             1,
             "#f0f921"
            ]
           ],
           "sequentialminus": [
            [
             0,
             "#0d0887"
            ],
            [
             0.1111111111111111,
             "#46039f"
            ],
            [
             0.2222222222222222,
             "#7201a8"
            ],
            [
             0.3333333333333333,
             "#9c179e"
            ],
            [
             0.4444444444444444,
             "#bd3786"
            ],
            [
             0.5555555555555556,
             "#d8576b"
            ],
            [
             0.6666666666666666,
             "#ed7953"
            ],
            [
             0.7777777777777778,
             "#fb9f3a"
            ],
            [
             0.8888888888888888,
             "#fdca26"
            ],
            [
             1,
             "#f0f921"
            ]
           ]
          },
          "colorway": [
           "#636efa",
           "#EF553B",
           "#00cc96",
           "#ab63fa",
           "#FFA15A",
           "#19d3f3",
           "#FF6692",
           "#B6E880",
           "#FF97FF",
           "#FECB52"
          ],
          "font": {
           "color": "#2a3f5f"
          },
          "geo": {
           "bgcolor": "white",
           "lakecolor": "white",
           "landcolor": "#E5ECF6",
           "showlakes": true,
           "showland": true,
           "subunitcolor": "white"
          },
          "hoverlabel": {
           "align": "left"
          },
          "hovermode": "closest",
          "mapbox": {
           "style": "light"
          },
          "paper_bgcolor": "white",
          "plot_bgcolor": "#E5ECF6",
          "polar": {
           "angularaxis": {
            "gridcolor": "white",
            "linecolor": "white",
            "ticks": ""
           },
           "bgcolor": "#E5ECF6",
           "radialaxis": {
            "gridcolor": "white",
            "linecolor": "white",
            "ticks": ""
           }
          },
          "scene": {
           "xaxis": {
            "backgroundcolor": "#E5ECF6",
            "gridcolor": "white",
            "gridwidth": 2,
            "linecolor": "white",
            "showbackground": true,
            "ticks": "",
            "zerolinecolor": "white"
           },
           "yaxis": {
            "backgroundcolor": "#E5ECF6",
            "gridcolor": "white",
            "gridwidth": 2,
            "linecolor": "white",
            "showbackground": true,
            "ticks": "",
            "zerolinecolor": "white"
           },
           "zaxis": {
            "backgroundcolor": "#E5ECF6",
            "gridcolor": "white",
            "gridwidth": 2,
            "linecolor": "white",
            "showbackground": true,
            "ticks": "",
            "zerolinecolor": "white"
           }
          },
          "shapedefaults": {
           "line": {
            "color": "#2a3f5f"
           }
          },
          "ternary": {
           "aaxis": {
            "gridcolor": "white",
            "linecolor": "white",
            "ticks": ""
           },
           "baxis": {
            "gridcolor": "white",
            "linecolor": "white",
            "ticks": ""
           },
           "bgcolor": "#E5ECF6",
           "caxis": {
            "gridcolor": "white",
            "linecolor": "white",
            "ticks": ""
           }
          },
          "title": {
           "x": 0.05
          },
          "xaxis": {
           "automargin": true,
           "gridcolor": "white",
           "linecolor": "white",
           "ticks": "",
           "title": {
            "standoff": 15
           },
           "zerolinecolor": "white",
           "zerolinewidth": 2
          },
          "yaxis": {
           "automargin": true,
           "gridcolor": "white",
           "linecolor": "white",
           "ticks": "",
           "title": {
            "standoff": 15
           },
           "zerolinecolor": "white",
           "zerolinewidth": 2
          }
         }
        },
        "title": {
         "font": {
          "color": "#4D5663"
         }
        },
        "xaxis": {
         "gridcolor": "#E1E5ED",
         "showgrid": true,
         "tickfont": {
          "color": "#4D5663"
         },
         "title": {
          "font": {
           "color": "#4D5663"
          },
          "text": ""
         },
         "zerolinecolor": "#E1E5ED"
        },
        "yaxis": {
         "gridcolor": "#E1E5ED",
         "showgrid": true,
         "tickfont": {
          "color": "#4D5663"
         },
         "title": {
          "font": {
           "color": "#4D5663"
          },
          "text": ""
         },
         "zerolinecolor": "#E1E5ED"
        }
       }
      },
      "text/html": [
       "<div>\n",
       "        \n",
       "        \n",
       "            <div id=\"8c0918b5-38d6-4450-bf7e-9424700eebad\" class=\"plotly-graph-div\" style=\"height:525px; width:100%;\"></div>\n",
       "            <script type=\"text/javascript\">\n",
       "                require([\"plotly\"], function(Plotly) {\n",
       "                    window.PLOTLYENV=window.PLOTLYENV || {};\n",
       "                    window.PLOTLYENV.BASE_URL='https://plot.ly';\n",
       "                    \n",
       "                if (document.getElementById(\"8c0918b5-38d6-4450-bf7e-9424700eebad\")) {\n",
       "                    Plotly.newPlot(\n",
       "                        '8c0918b5-38d6-4450-bf7e-9424700eebad',\n",
       "                        [{\"marker\": {\"color\": [\"rgb(255, 153, 51)\", \"rgb(55, 128, 191)\", \"rgb(50, 171, 96)\", \"rgb(128, 0, 128)\", \"rgb(219, 64, 82)\", \"rgb(0, 128, 128)\", \"rgb(255, 255, 51)\", \"rgb(128, 128, 0)\", \"rgb(251, 128, 114)\", \"rgb(128, 177, 211)\"], \"line\": {\"width\": 1.3}, \"size\": [29, 31, 70, 100, 73, 69, 104, 65, 105, 81, 62, 90, 72, 33, 58, 84, 57, 86, 76, 77, 51, 65, 64, 53, 72, 73, 91, 72, 61, 86, 112, 78, 69, 46, 67, 12, 87, 93, 49, 71, 81, 82, 15, 74, 45, 38, 57, 87, 72, 83, 70, 95, 68, 55, 54, 75, 53, 45, 67, 85, 62, 66, 31, 39, 75, 65, 23, 95, 61, 59, 78, 83, 82, 27, 54, 68, 81, 54, 68, 82, 93, 40, 70, 61, 72, 83, 32, 96, 24, 54, 56, 78, 66, 51, 103, 109, 100, 46, 64, 102], \"symbol\": \"circle\"}, \"mode\": \"markers\", \"text\": \"\", \"type\": \"scatter\", \"x\": [1.573328711227588, -0.37852617950749295, 0.1768154975319591, -0.5991281059388813, 1.1755060314126213, 0.24964246226697667, 0.5956165871109731, 0.5612011071792405, 0.9180885799809175, 0.7571694210998187, 0.24715045119972137, -1.5270465043997787, -0.875374507933993, 1.2025748375755545, 0.6337638775037999, 1.4678420619686383, 0.45673265663204543, -0.26569229827179003, 1.1244514300144637, -0.3169066781827368, 2.3326670259694984, 1.1805682968753102, -0.41405314324567183, 0.3122201777837888, -1.4052653628429845, 0.31430633602741875, -0.20578869630339477, -0.60390031944842, 1.96339494742064, 1.6693550129021753, -1.334598303785486, -0.37781853819873823, -0.8894928657177164, -0.7543929174901841, -0.23210840072281078, -1.6901960833990382, 0.4512098555532659, -1.6840584805291572, 1.0458784516037567, 1.6664676824073386, -1.4401332275578733, 1.7114714420535877, -0.45865548617687163, 0.9505872085183176, -1.9421953084933026, 0.042733014352603314, -0.15414531364007927, 0.32915907886279877, -2.194460922754973, 0.015125890780444818, 0.2845835884595226, -0.3754901070103968, 0.2844539210618317, -0.12817785900037726, 0.2260420020459213, 0.10436446169541978, -1.945586652139439, -0.36503865639939936, -0.22404622351044057, -0.2153410058721476, 0.06278284613069145, 0.8788465708891683, -0.7227927973318916, 0.3973910025307887, -0.23934321011928952, 0.7710770602966287, 1.2068887478696722, 0.21170919633969837, 0.059892170735103015, -1.612452124677236, -0.8112259655549127, -1.370414490272464, -1.653881269326432, 1.4336987722728656, 0.3424580647461767, -0.47227829298318325, -1.6371862002778288, 0.1178252873274814, 0.6555856265155513, 0.5430554758356879, -0.10956656996215498, 1.0202118759670051, -0.24457257437156738, 0.6398275256663398, 0.35899461667070703, 0.9615922999069186, -1.8575346554006276, -0.8698442370442436, 0.6613226554534137, -1.9610775745970301, -1.7518253054808146, -0.4180919006194288, 0.7778364527179996, -0.44990921899945696, 0.9931689954464562, 1.297712985928407, -0.5451756655006744, -0.1959375376838416, 0.6051166858612246, -0.8677354795742439], \"y\": [-0.2394652779549122, 0.8512345364937773, 0.41484812193021964, 1.5370959350367674, -0.4927408965374319, -0.22100901165166023, -0.43193040335765653, -0.49336201857205314, 0.5555084384448081, -0.5107093147117601, -0.3526308817252644, 0.007489800734434926, -0.6003649263215223, -0.01278324946277747, 0.2274406995260329, -1.0187156546487115, -0.4433447642506894, -0.3060049886332904, -0.11377838153924977, -0.08407790197866014, 1.0464551062117906, -0.9799341186049836, -1.8537395580117801, 0.6617221210672103, -0.683415999037852, -0.39479143980500403, -2.196804691822171, 0.9829199829668247, -2.179151330999028, 1.1392018545116072, -1.8420019494800435, -0.30038149675268744, 0.008963551020868049, -0.06618101867302661, 1.0674281027274761, 0.7173822431325227, -1.9086449146501494, 1.0205583203650004, 2.23498872747899, -0.45259495728000726, 0.574969471677332, 0.6944603816242416, -0.12498725051976357, -1.8958418732899174, -0.6421631673722423, -0.38673076375729404, -0.3357083832660241, 0.8998219397665486, -0.015392086889089685, -0.5026542206416671, -1.6951761221844877, 1.6796828066716862, 0.36604466437520533, -1.9183417290547082, 0.4701078450355624, -0.19291943661795397, -0.7593893664030056, -0.6749441066899211, 0.7479337658901685, 1.1274218457436842, -0.43875091042622516, -1.8105231808183324, 0.48444909587401636, -0.5055844310124634, -0.46194253142129044, 0.52721385333185, 0.33716747766588245, 0.01697510334850516, -1.4034883679745767, 0.29498065138194346, -1.641260866859968, -0.3542296235869637, -0.19241761771803673, -0.7587260159600041, 0.37451144525510227, -1.2258116079566619, 0.2842602520008746, -1.908327868761162, -0.8557696298768518, 1.118002270580774, -1.4701377021951572, 1.2765397042431867, 0.3253134283901319, -0.6814381081251094, 1.2397551256542891, 0.5926331740445077, 1.7231767023146967, 0.18409964154272745, -0.5450931058141981, -0.17358078103870087, 0.6888684372015913, 1.281410412125775, 0.49575937971724, 0.0975145793536695, 0.9673828187279973, 2.168738376862383, -1.5611560382058942, 3.352263014883978, -0.3147424815649832, 1.0391922023113067]}],\n",
       "                        {\"legend\": {\"bgcolor\": \"#F5F6F9\", \"font\": {\"color\": \"#4D5663\"}}, \"paper_bgcolor\": \"#F5F6F9\", \"plot_bgcolor\": \"#F5F6F9\", \"template\": {\"data\": {\"bar\": [{\"error_x\": {\"color\": \"#2a3f5f\"}, \"error_y\": {\"color\": \"#2a3f5f\"}, \"marker\": {\"line\": {\"color\": \"#E5ECF6\", \"width\": 0.5}}, \"type\": \"bar\"}], \"barpolar\": [{\"marker\": {\"line\": {\"color\": \"#E5ECF6\", \"width\": 0.5}}, \"type\": \"barpolar\"}], \"carpet\": [{\"aaxis\": {\"endlinecolor\": \"#2a3f5f\", \"gridcolor\": \"white\", \"linecolor\": \"white\", \"minorgridcolor\": \"white\", \"startlinecolor\": \"#2a3f5f\"}, \"baxis\": {\"endlinecolor\": \"#2a3f5f\", \"gridcolor\": \"white\", \"linecolor\": \"white\", \"minorgridcolor\": \"white\", \"startlinecolor\": \"#2a3f5f\"}, \"type\": \"carpet\"}], \"choropleth\": [{\"colorbar\": {\"outlinewidth\": 0, \"ticks\": \"\"}, \"type\": \"choropleth\"}], \"contour\": [{\"colorbar\": {\"outlinewidth\": 0, \"ticks\": \"\"}, \"colorscale\": [[0.0, \"#0d0887\"], [0.1111111111111111, \"#46039f\"], [0.2222222222222222, \"#7201a8\"], [0.3333333333333333, \"#9c179e\"], [0.4444444444444444, \"#bd3786\"], [0.5555555555555556, \"#d8576b\"], [0.6666666666666666, \"#ed7953\"], [0.7777777777777778, \"#fb9f3a\"], [0.8888888888888888, \"#fdca26\"], [1.0, \"#f0f921\"]], \"type\": \"contour\"}], \"contourcarpet\": [{\"colorbar\": {\"outlinewidth\": 0, \"ticks\": \"\"}, \"type\": \"contourcarpet\"}], \"heatmap\": [{\"colorbar\": {\"outlinewidth\": 0, \"ticks\": \"\"}, \"colorscale\": [[0.0, \"#0d0887\"], [0.1111111111111111, \"#46039f\"], [0.2222222222222222, \"#7201a8\"], [0.3333333333333333, \"#9c179e\"], [0.4444444444444444, \"#bd3786\"], [0.5555555555555556, \"#d8576b\"], [0.6666666666666666, \"#ed7953\"], [0.7777777777777778, \"#fb9f3a\"], [0.8888888888888888, \"#fdca26\"], [1.0, \"#f0f921\"]], \"type\": \"heatmap\"}], \"heatmapgl\": [{\"colorbar\": {\"outlinewidth\": 0, \"ticks\": \"\"}, \"colorscale\": [[0.0, \"#0d0887\"], [0.1111111111111111, \"#46039f\"], [0.2222222222222222, \"#7201a8\"], [0.3333333333333333, \"#9c179e\"], [0.4444444444444444, \"#bd3786\"], [0.5555555555555556, \"#d8576b\"], [0.6666666666666666, \"#ed7953\"], [0.7777777777777778, \"#fb9f3a\"], [0.8888888888888888, \"#fdca26\"], [1.0, \"#f0f921\"]], \"type\": \"heatmapgl\"}], \"histogram\": [{\"marker\": {\"colorbar\": {\"outlinewidth\": 0, \"ticks\": \"\"}}, \"type\": \"histogram\"}], \"histogram2d\": [{\"colorbar\": {\"outlinewidth\": 0, \"ticks\": \"\"}, \"colorscale\": [[0.0, \"#0d0887\"], [0.1111111111111111, \"#46039f\"], [0.2222222222222222, \"#7201a8\"], [0.3333333333333333, \"#9c179e\"], [0.4444444444444444, \"#bd3786\"], [0.5555555555555556, \"#d8576b\"], [0.6666666666666666, \"#ed7953\"], [0.7777777777777778, \"#fb9f3a\"], [0.8888888888888888, \"#fdca26\"], [1.0, \"#f0f921\"]], \"type\": \"histogram2d\"}], \"histogram2dcontour\": [{\"colorbar\": {\"outlinewidth\": 0, \"ticks\": \"\"}, \"colorscale\": [[0.0, \"#0d0887\"], [0.1111111111111111, \"#46039f\"], [0.2222222222222222, \"#7201a8\"], [0.3333333333333333, \"#9c179e\"], [0.4444444444444444, \"#bd3786\"], [0.5555555555555556, \"#d8576b\"], [0.6666666666666666, \"#ed7953\"], [0.7777777777777778, \"#fb9f3a\"], [0.8888888888888888, \"#fdca26\"], [1.0, \"#f0f921\"]], \"type\": \"histogram2dcontour\"}], \"mesh3d\": [{\"colorbar\": {\"outlinewidth\": 0, \"ticks\": \"\"}, \"type\": \"mesh3d\"}], \"parcoords\": [{\"line\": {\"colorbar\": {\"outlinewidth\": 0, \"ticks\": \"\"}}, \"type\": \"parcoords\"}], \"pie\": [{\"automargin\": true, \"type\": \"pie\"}], \"scatter\": [{\"marker\": {\"colorbar\": {\"outlinewidth\": 0, \"ticks\": \"\"}}, \"type\": \"scatter\"}], \"scatter3d\": [{\"line\": {\"colorbar\": {\"outlinewidth\": 0, \"ticks\": \"\"}}, \"marker\": {\"colorbar\": {\"outlinewidth\": 0, \"ticks\": \"\"}}, \"type\": \"scatter3d\"}], \"scattercarpet\": [{\"marker\": {\"colorbar\": {\"outlinewidth\": 0, \"ticks\": \"\"}}, \"type\": \"scattercarpet\"}], \"scattergeo\": [{\"marker\": {\"colorbar\": {\"outlinewidth\": 0, \"ticks\": \"\"}}, \"type\": \"scattergeo\"}], \"scattergl\": [{\"marker\": {\"colorbar\": {\"outlinewidth\": 0, \"ticks\": \"\"}}, \"type\": \"scattergl\"}], \"scattermapbox\": [{\"marker\": {\"colorbar\": {\"outlinewidth\": 0, \"ticks\": \"\"}}, \"type\": \"scattermapbox\"}], \"scatterpolar\": [{\"marker\": {\"colorbar\": {\"outlinewidth\": 0, \"ticks\": \"\"}}, \"type\": \"scatterpolar\"}], \"scatterpolargl\": [{\"marker\": {\"colorbar\": {\"outlinewidth\": 0, \"ticks\": \"\"}}, \"type\": \"scatterpolargl\"}], \"scatterternary\": [{\"marker\": {\"colorbar\": {\"outlinewidth\": 0, \"ticks\": \"\"}}, \"type\": \"scatterternary\"}], \"surface\": [{\"colorbar\": {\"outlinewidth\": 0, \"ticks\": \"\"}, \"colorscale\": [[0.0, \"#0d0887\"], [0.1111111111111111, \"#46039f\"], [0.2222222222222222, \"#7201a8\"], [0.3333333333333333, \"#9c179e\"], [0.4444444444444444, \"#bd3786\"], [0.5555555555555556, \"#d8576b\"], [0.6666666666666666, \"#ed7953\"], [0.7777777777777778, \"#fb9f3a\"], [0.8888888888888888, \"#fdca26\"], [1.0, \"#f0f921\"]], \"type\": \"surface\"}], \"table\": [{\"cells\": {\"fill\": {\"color\": \"#EBF0F8\"}, \"line\": {\"color\": \"white\"}}, \"header\": {\"fill\": {\"color\": \"#C8D4E3\"}, \"line\": {\"color\": \"white\"}}, \"type\": \"table\"}]}, \"layout\": {\"annotationdefaults\": {\"arrowcolor\": \"#2a3f5f\", \"arrowhead\": 0, \"arrowwidth\": 1}, \"coloraxis\": {\"colorbar\": {\"outlinewidth\": 0, \"ticks\": \"\"}}, \"colorscale\": {\"diverging\": [[0, \"#8e0152\"], [0.1, \"#c51b7d\"], [0.2, \"#de77ae\"], [0.3, \"#f1b6da\"], [0.4, \"#fde0ef\"], [0.5, \"#f7f7f7\"], [0.6, \"#e6f5d0\"], [0.7, \"#b8e186\"], [0.8, \"#7fbc41\"], [0.9, \"#4d9221\"], [1, \"#276419\"]], \"sequential\": [[0.0, \"#0d0887\"], [0.1111111111111111, \"#46039f\"], [0.2222222222222222, \"#7201a8\"], [0.3333333333333333, \"#9c179e\"], [0.4444444444444444, \"#bd3786\"], [0.5555555555555556, \"#d8576b\"], [0.6666666666666666, \"#ed7953\"], [0.7777777777777778, \"#fb9f3a\"], [0.8888888888888888, \"#fdca26\"], [1.0, \"#f0f921\"]], \"sequentialminus\": [[0.0, \"#0d0887\"], [0.1111111111111111, \"#46039f\"], [0.2222222222222222, \"#7201a8\"], [0.3333333333333333, \"#9c179e\"], [0.4444444444444444, \"#bd3786\"], [0.5555555555555556, \"#d8576b\"], [0.6666666666666666, \"#ed7953\"], [0.7777777777777778, \"#fb9f3a\"], [0.8888888888888888, \"#fdca26\"], [1.0, \"#f0f921\"]]}, \"colorway\": [\"#636efa\", \"#EF553B\", \"#00cc96\", \"#ab63fa\", \"#FFA15A\", \"#19d3f3\", \"#FF6692\", \"#B6E880\", \"#FF97FF\", \"#FECB52\"], \"font\": {\"color\": \"#2a3f5f\"}, \"geo\": {\"bgcolor\": \"white\", \"lakecolor\": \"white\", \"landcolor\": \"#E5ECF6\", \"showlakes\": true, \"showland\": true, \"subunitcolor\": \"white\"}, \"hoverlabel\": {\"align\": \"left\"}, \"hovermode\": \"closest\", \"mapbox\": {\"style\": \"light\"}, \"paper_bgcolor\": \"white\", \"plot_bgcolor\": \"#E5ECF6\", \"polar\": {\"angularaxis\": {\"gridcolor\": \"white\", \"linecolor\": \"white\", \"ticks\": \"\"}, \"bgcolor\": \"#E5ECF6\", \"radialaxis\": {\"gridcolor\": \"white\", \"linecolor\": \"white\", \"ticks\": \"\"}}, \"scene\": {\"xaxis\": {\"backgroundcolor\": \"#E5ECF6\", \"gridcolor\": \"white\", \"gridwidth\": 2, \"linecolor\": \"white\", \"showbackground\": true, \"ticks\": \"\", \"zerolinecolor\": \"white\"}, \"yaxis\": {\"backgroundcolor\": \"#E5ECF6\", \"gridcolor\": \"white\", \"gridwidth\": 2, \"linecolor\": \"white\", \"showbackground\": true, \"ticks\": \"\", \"zerolinecolor\": \"white\"}, \"zaxis\": {\"backgroundcolor\": \"#E5ECF6\", \"gridcolor\": \"white\", \"gridwidth\": 2, \"linecolor\": \"white\", \"showbackground\": true, \"ticks\": \"\", \"zerolinecolor\": \"white\"}}, \"shapedefaults\": {\"line\": {\"color\": \"#2a3f5f\"}}, \"ternary\": {\"aaxis\": {\"gridcolor\": \"white\", \"linecolor\": \"white\", \"ticks\": \"\"}, \"baxis\": {\"gridcolor\": \"white\", \"linecolor\": \"white\", \"ticks\": \"\"}, \"bgcolor\": \"#E5ECF6\", \"caxis\": {\"gridcolor\": \"white\", \"linecolor\": \"white\", \"ticks\": \"\"}}, \"title\": {\"x\": 0.05}, \"xaxis\": {\"automargin\": true, \"gridcolor\": \"white\", \"linecolor\": \"white\", \"ticks\": \"\", \"title\": {\"standoff\": 15}, \"zerolinecolor\": \"white\", \"zerolinewidth\": 2}, \"yaxis\": {\"automargin\": true, \"gridcolor\": \"white\", \"linecolor\": \"white\", \"ticks\": \"\", \"title\": {\"standoff\": 15}, \"zerolinecolor\": \"white\", \"zerolinewidth\": 2}}}, \"title\": {\"font\": {\"color\": \"#4D5663\"}}, \"xaxis\": {\"gridcolor\": \"#E1E5ED\", \"showgrid\": true, \"tickfont\": {\"color\": \"#4D5663\"}, \"title\": {\"font\": {\"color\": \"#4D5663\"}, \"text\": \"\"}, \"zerolinecolor\": \"#E1E5ED\"}, \"yaxis\": {\"gridcolor\": \"#E1E5ED\", \"showgrid\": true, \"tickfont\": {\"color\": \"#4D5663\"}, \"title\": {\"font\": {\"color\": \"#4D5663\"}, \"text\": \"\"}, \"zerolinecolor\": \"#E1E5ED\"}},\n",
       "                        {\"showLink\": true, \"linkText\": \"Export to plot.ly\", \"plotlyServerURL\": \"https://plot.ly\", \"responsive\": true}\n",
       "                    ).then(function(){\n",
       "                            \n",
       "var gd = document.getElementById('8c0918b5-38d6-4450-bf7e-9424700eebad');\n",
       "var x = new MutationObserver(function (mutations, observer) {{\n",
       "        var display = window.getComputedStyle(gd).display;\n",
       "        if (!display || display === 'none') {{\n",
       "            console.log([gd, 'removed!']);\n",
       "            Plotly.purge(gd);\n",
       "            observer.disconnect();\n",
       "        }}\n",
       "}});\n",
       "\n",
       "// Listen for the removal of the full notebook cells\n",
       "var notebookContainer = gd.closest('#notebook-container');\n",
       "if (notebookContainer) {{\n",
       "    x.observe(notebookContainer, {childList: true});\n",
       "}}\n",
       "\n",
       "// Listen for the clearing of the current output cell\n",
       "var outputEl = gd.closest('.output');\n",
       "if (outputEl) {{\n",
       "    x.observe(outputEl, {childList: true});\n",
       "}}\n",
       "\n",
       "                        })\n",
       "                };\n",
       "                });\n",
       "            </script>\n",
       "        </div>"
      ]
     },
     "metadata": {},
     "output_type": "display_data"
    }
   ],
   "source": [
    "df.iplot(kind='bubble',x='A',y='B',size='C')"
   ]
  },
  {
   "cell_type": "markdown",
   "metadata": {},
   "source": [
    "## scatter_matrix()\n",
    "\n",
    "Similar to sns.pairplot()"
   ]
  },
  {
   "cell_type": "code",
   "execution_count": 37,
   "metadata": {},
   "outputs": [
    {
     "data": {
      "application/vnd.plotly.v1+json": {
       "config": {
        "linkText": "Export to plot.ly",
        "plotlyServerURL": "https://plot.ly",
        "showLink": true
       },
       "data": [
        {
         "histfunc": "count",
         "histnorm": "",
         "marker": {
          "color": "rgba(255, 153, 51, 1.0)",
          "line": {
           "color": "#4D5663",
           "width": 1.3
          }
         },
         "name": "A",
         "nbinsx": 10,
         "opacity": 0.8,
         "orientation": "v",
         "type": "histogram",
         "x": [
          1.573328711227588,
          -0.37852617950749295,
          0.1768154975319591,
          -0.5991281059388813,
          1.1755060314126213,
          0.24964246226697667,
          0.5956165871109731,
          0.5612011071792405,
          0.9180885799809175,
          0.7571694210998187,
          0.24715045119972137,
          -1.5270465043997787,
          -0.875374507933993,
          1.2025748375755545,
          0.6337638775037999,
          1.4678420619686383,
          0.45673265663204543,
          -0.26569229827179003,
          1.1244514300144637,
          -0.3169066781827368,
          2.3326670259694984,
          1.1805682968753102,
          -0.41405314324567183,
          0.3122201777837888,
          -1.4052653628429845,
          0.31430633602741875,
          -0.20578869630339477,
          -0.60390031944842,
          1.96339494742064,
          1.6693550129021753,
          -1.334598303785486,
          -0.37781853819873823,
          -0.8894928657177164,
          -0.7543929174901841,
          -0.23210840072281078,
          -1.6901960833990382,
          0.4512098555532659,
          -1.6840584805291572,
          1.0458784516037567,
          1.6664676824073386,
          -1.4401332275578733,
          1.7114714420535877,
          -0.45865548617687163,
          0.9505872085183176,
          -1.9421953084933026,
          0.042733014352603314,
          -0.15414531364007927,
          0.32915907886279877,
          -2.194460922754973,
          0.015125890780444818,
          0.2845835884595226,
          -0.3754901070103968,
          0.2844539210618317,
          -0.12817785900037726,
          0.2260420020459213,
          0.10436446169541978,
          -1.945586652139439,
          -0.36503865639939936,
          -0.22404622351044057,
          -0.2153410058721476,
          0.06278284613069145,
          0.8788465708891683,
          -0.7227927973318916,
          0.3973910025307887,
          -0.23934321011928952,
          0.7710770602966287,
          1.2068887478696722,
          0.21170919633969837,
          0.059892170735103015,
          -1.612452124677236,
          -0.8112259655549127,
          -1.370414490272464,
          -1.653881269326432,
          1.4336987722728656,
          0.3424580647461767,
          -0.47227829298318325,
          -1.6371862002778288,
          0.1178252873274814,
          0.6555856265155513,
          0.5430554758356879,
          -0.10956656996215498,
          1.0202118759670051,
          -0.24457257437156738,
          0.6398275256663398,
          0.35899461667070703,
          0.9615922999069186,
          -1.8575346554006276,
          -0.8698442370442436,
          0.6613226554534137,
          -1.9610775745970301,
          -1.7518253054808146,
          -0.4180919006194288,
          0.7778364527179996,
          -0.44990921899945696,
          0.9931689954464562,
          1.297712985928407,
          -0.5451756655006744,
          -0.1959375376838416,
          0.6051166858612246,
          -0.8677354795742439
         ],
         "xaxis": "x",
         "yaxis": "y"
        },
        {
         "line": {
          "color": "rgba(128, 128, 128, 1.0)",
          "dash": "solid",
          "shape": "linear",
          "width": 1.3
         },
         "marker": {
          "size": 2,
          "symbol": "circle"
         },
         "mode": "markers",
         "name": "A",
         "text": "",
         "type": "scatter",
         "x": [
          -0.2394652779549122,
          0.8512345364937773,
          0.41484812193021964,
          1.5370959350367674,
          -0.4927408965374319,
          -0.22100901165166023,
          -0.43193040335765653,
          -0.49336201857205314,
          0.5555084384448081,
          -0.5107093147117601,
          -0.3526308817252644,
          0.007489800734434926,
          -0.6003649263215223,
          -0.01278324946277747,
          0.2274406995260329,
          -1.0187156546487115,
          -0.4433447642506894,
          -0.3060049886332904,
          -0.11377838153924977,
          -0.08407790197866014,
          1.0464551062117906,
          -0.9799341186049836,
          -1.8537395580117801,
          0.6617221210672103,
          -0.683415999037852,
          -0.39479143980500403,
          -2.196804691822171,
          0.9829199829668247,
          -2.179151330999028,
          1.1392018545116072,
          -1.8420019494800435,
          -0.30038149675268744,
          0.008963551020868049,
          -0.06618101867302661,
          1.0674281027274761,
          0.7173822431325227,
          -1.9086449146501494,
          1.0205583203650004,
          2.23498872747899,
          -0.45259495728000726,
          0.574969471677332,
          0.6944603816242416,
          -0.12498725051976357,
          -1.8958418732899174,
          -0.6421631673722423,
          -0.38673076375729404,
          -0.3357083832660241,
          0.8998219397665486,
          -0.015392086889089685,
          -0.5026542206416671,
          -1.6951761221844877,
          1.6796828066716862,
          0.36604466437520533,
          -1.9183417290547082,
          0.4701078450355624,
          -0.19291943661795397,
          -0.7593893664030056,
          -0.6749441066899211,
          0.7479337658901685,
          1.1274218457436842,
          -0.43875091042622516,
          -1.8105231808183324,
          0.48444909587401636,
          -0.5055844310124634,
          -0.46194253142129044,
          0.52721385333185,
          0.33716747766588245,
          0.01697510334850516,
          -1.4034883679745767,
          0.29498065138194346,
          -1.641260866859968,
          -0.3542296235869637,
          -0.19241761771803673,
          -0.7587260159600041,
          0.37451144525510227,
          -1.2258116079566619,
          0.2842602520008746,
          -1.908327868761162,
          -0.8557696298768518,
          1.118002270580774,
          -1.4701377021951572,
          1.2765397042431867,
          0.3253134283901319,
          -0.6814381081251094,
          1.2397551256542891,
          0.5926331740445077,
          1.7231767023146967,
          0.18409964154272745,
          -0.5450931058141981,
          -0.17358078103870087,
          0.6888684372015913,
          1.281410412125775,
          0.49575937971724,
          0.0975145793536695,
          0.9673828187279973,
          2.168738376862383,
          -1.5611560382058942,
          3.352263014883978,
          -0.3147424815649832,
          1.0391922023113067
         ],
         "xaxis": "x2",
         "y": [
          1.573328711227588,
          -0.37852617950749295,
          0.1768154975319591,
          -0.5991281059388813,
          1.1755060314126213,
          0.24964246226697667,
          0.5956165871109731,
          0.5612011071792405,
          0.9180885799809175,
          0.7571694210998187,
          0.24715045119972137,
          -1.5270465043997787,
          -0.875374507933993,
          1.2025748375755545,
          0.6337638775037999,
          1.4678420619686383,
          0.45673265663204543,
          -0.26569229827179003,
          1.1244514300144637,
          -0.3169066781827368,
          2.3326670259694984,
          1.1805682968753102,
          -0.41405314324567183,
          0.3122201777837888,
          -1.4052653628429845,
          0.31430633602741875,
          -0.20578869630339477,
          -0.60390031944842,
          1.96339494742064,
          1.6693550129021753,
          -1.334598303785486,
          -0.37781853819873823,
          -0.8894928657177164,
          -0.7543929174901841,
          -0.23210840072281078,
          -1.6901960833990382,
          0.4512098555532659,
          -1.6840584805291572,
          1.0458784516037567,
          1.6664676824073386,
          -1.4401332275578733,
          1.7114714420535877,
          -0.45865548617687163,
          0.9505872085183176,
          -1.9421953084933026,
          0.042733014352603314,
          -0.15414531364007927,
          0.32915907886279877,
          -2.194460922754973,
          0.015125890780444818,
          0.2845835884595226,
          -0.3754901070103968,
          0.2844539210618317,
          -0.12817785900037726,
          0.2260420020459213,
          0.10436446169541978,
          -1.945586652139439,
          -0.36503865639939936,
          -0.22404622351044057,
          -0.2153410058721476,
          0.06278284613069145,
          0.8788465708891683,
          -0.7227927973318916,
          0.3973910025307887,
          -0.23934321011928952,
          0.7710770602966287,
          1.2068887478696722,
          0.21170919633969837,
          0.059892170735103015,
          -1.612452124677236,
          -0.8112259655549127,
          -1.370414490272464,
          -1.653881269326432,
          1.4336987722728656,
          0.3424580647461767,
          -0.47227829298318325,
          -1.6371862002778288,
          0.1178252873274814,
          0.6555856265155513,
          0.5430554758356879,
          -0.10956656996215498,
          1.0202118759670051,
          -0.24457257437156738,
          0.6398275256663398,
          0.35899461667070703,
          0.9615922999069186,
          -1.8575346554006276,
          -0.8698442370442436,
          0.6613226554534137,
          -1.9610775745970301,
          -1.7518253054808146,
          -0.4180919006194288,
          0.7778364527179996,
          -0.44990921899945696,
          0.9931689954464562,
          1.297712985928407,
          -0.5451756655006744,
          -0.1959375376838416,
          0.6051166858612246,
          -0.8677354795742439
         ],
         "yaxis": "y2"
        },
        {
         "line": {
          "color": "rgba(128, 128, 128, 1.0)",
          "dash": "solid",
          "shape": "linear",
          "width": 1.3
         },
         "marker": {
          "size": 2,
          "symbol": "circle"
         },
         "mode": "markers",
         "name": "A",
         "text": "",
         "type": "scatter",
         "x": [
          -1.8046358364834871,
          -1.7016081650865085,
          0.08588916010165494,
          1.4415246720834345,
          0.23707338397424654,
          0.04760113564180864,
          1.6494187102451814,
          -0.1335394569238713,
          1.673178815748656,
          0.587716238374656,
          -0.270167317688856,
          1.0108343021498616,
          0.18168666648433796,
          -1.593263523974709,
          -0.44708682377928705,
          0.7347384333261755,
          -0.5206862632044673,
          0.8058201487174185,
          0.33575543870730523,
          0.3998153028522259,
          -0.7779263211845607,
          -0.15069385638055013,
          -0.19814298388031,
          -0.6695039491784086,
          0.18719335143312335,
          0.2432000491944703,
          1.0239835419533434,
          0.17737331616854837,
          -0.31251283114193357,
          0.8092010218572524,
          1.9760784044324962,
          0.4507360550481009,
          0.019859889581720434,
          -1.0308529484770719,
          -0.041523138115277886,
          -2.583024529609364,
          0.8775446742538857,
          1.131147284523329,
          -0.8860862807680845,
          0.13813524507089245,
          0.586975384522734,
          0.612158291548976,
          -2.4357252622049175,
          0.2709088196249994,
          -1.050300287939844,
          -1.3936541807154117,
          -0.522657537256016,
          0.8626800250742529,
          0.1724419225858869,
          0.693836096042868,
          0.09995165969384592,
          1.243447704659744,
          -0.025147101742636787,
          -0.5941152195120954,
          -0.6297810032837157,
          0.3184235114914604,
          -0.7027056834801207,
          -1.0608216030262902,
          -0.05087218332717387,
          0.7616002261982439,
          -0.258033654280085,
          -0.09488984717788189,
          -1.702420208848687,
          -1.345180568981205,
          0.31537539082752286,
          -0.1227927434578786,
          -2.04519880927543,
          1.2326652562905906,
          -0.3260483556791499,
          -0.41078820252553605,
          0.4534573741720663,
          0.6660642909777231,
          0.6096456778055162,
          -1.8843747005349487,
          -0.6280920968701095,
          0.013579573409322563,
          0.58444009796342,
          -0.6402794156561158,
          -0.01005186015976698,
          0.6281954553420765,
          1.1150685521916508,
          -1.2724228866295084,
          0.06763903336292446,
          -0.3385196406335298,
          0.19690377471139772,
          0.6624552723679175,
          -1.634197524361951,
          1.2795673993059826,
          -2.0108289866705764,
          -0.6617508456314672,
          -0.5628128537404228,
          0.4430700127227428,
          -0.10268341417994102,
          -0.7691342517181959,
          1.5871320662099035,
          1.8657131155923175,
          1.4366840526476878,
          -1.012345686468915,
          -0.17099028201472255,
          1.5214133076671315
         ],
         "xaxis": "x3",
         "y": [
          1.573328711227588,
          -0.37852617950749295,
          0.1768154975319591,
          -0.5991281059388813,
          1.1755060314126213,
          0.24964246226697667,
          0.5956165871109731,
          0.5612011071792405,
          0.9180885799809175,
          0.7571694210998187,
          0.24715045119972137,
          -1.5270465043997787,
          -0.875374507933993,
          1.2025748375755545,
          0.6337638775037999,
          1.4678420619686383,
          0.45673265663204543,
          -0.26569229827179003,
          1.1244514300144637,
          -0.3169066781827368,
          2.3326670259694984,
          1.1805682968753102,
          -0.41405314324567183,
          0.3122201777837888,
          -1.4052653628429845,
          0.31430633602741875,
          -0.20578869630339477,
          -0.60390031944842,
          1.96339494742064,
          1.6693550129021753,
          -1.334598303785486,
          -0.37781853819873823,
          -0.8894928657177164,
          -0.7543929174901841,
          -0.23210840072281078,
          -1.6901960833990382,
          0.4512098555532659,
          -1.6840584805291572,
          1.0458784516037567,
          1.6664676824073386,
          -1.4401332275578733,
          1.7114714420535877,
          -0.45865548617687163,
          0.9505872085183176,
          -1.9421953084933026,
          0.042733014352603314,
          -0.15414531364007927,
          0.32915907886279877,
          -2.194460922754973,
          0.015125890780444818,
          0.2845835884595226,
          -0.3754901070103968,
          0.2844539210618317,
          -0.12817785900037726,
          0.2260420020459213,
          0.10436446169541978,
          -1.945586652139439,
          -0.36503865639939936,
          -0.22404622351044057,
          -0.2153410058721476,
          0.06278284613069145,
          0.8788465708891683,
          -0.7227927973318916,
          0.3973910025307887,
          -0.23934321011928952,
          0.7710770602966287,
          1.2068887478696722,
          0.21170919633969837,
          0.059892170735103015,
          -1.612452124677236,
          -0.8112259655549127,
          -1.370414490272464,
          -1.653881269326432,
          1.4336987722728656,
          0.3424580647461767,
          -0.47227829298318325,
          -1.6371862002778288,
          0.1178252873274814,
          0.6555856265155513,
          0.5430554758356879,
          -0.10956656996215498,
          1.0202118759670051,
          -0.24457257437156738,
          0.6398275256663398,
          0.35899461667070703,
          0.9615922999069186,
          -1.8575346554006276,
          -0.8698442370442436,
          0.6613226554534137,
          -1.9610775745970301,
          -1.7518253054808146,
          -0.4180919006194288,
          0.7778364527179996,
          -0.44990921899945696,
          0.9931689954464562,
          1.297712985928407,
          -0.5451756655006744,
          -0.1959375376838416,
          0.6051166858612246,
          -0.8677354795742439
         ],
         "yaxis": "y3"
        },
        {
         "line": {
          "color": "rgba(128, 128, 128, 1.0)",
          "dash": "solid",
          "shape": "linear",
          "width": 1.3
         },
         "marker": {
          "size": 2,
          "symbol": "circle"
         },
         "mode": "markers",
         "name": "A",
         "text": "",
         "type": "scatter",
         "x": [
          0.13793858494096364,
          -1.0685110775796975,
          -0.997019024377318,
          1.3909456165642435,
          -0.38348155778987936,
          0.19761270911578754,
          -0.6127184229944498,
          0.676158383922949,
          0.061230254624065665,
          1.831582295066228,
          0.7531612748304229,
          1.063754260413047,
          2.5423817486925997,
          -2.3389720782980166,
          -0.5719145062360703,
          1.034895910559388,
          -0.04025943500023704,
          -0.622007918365505,
          -1.3832887065960247,
          -0.1464507019555157,
          0.9247804199945364,
          -0.3725322353703732,
          1.9981594602766175,
          0.43981689535317464,
          -0.49277781121389697,
          0.6772854544316099,
          1.486354300327282,
          -0.637420521683839,
          2.0568573753754307,
          -0.8868690056370306,
          1.5858432506726274,
          1.320623104130732,
          0.4563862801805943,
          -0.7102397984248783,
          0.6184619574620405,
          0.7169408325343001,
          -0.8785864374339943,
          1.1008994902518687,
          0.04182201713864145,
          -1.061803767564098,
          0.17636113921243388,
          1.623468332145554,
          -0.5809327701965264,
          -0.9931841950582492,
          0.7437729657637542,
          0.16632066588824268,
          -0.2942612240366475,
          0.29113087525227405,
          -1.5114689808848765,
          0.5879362559074357,
          0.1472628815600322,
          0.4022516961002296,
          0.7318732691465115,
          0.5152549992744864,
          0.6365767015643818,
          0.6482701169564956,
          -1.2754722872090638,
          -1.1955015396021562,
          0.5656886761913047,
          0.03939547434135855,
          0.7249662624343363,
          1.4947618906234466,
          -0.5321267151039222,
          -1.7377902997804684,
          0.7442783246564179,
          2.2184977031906263,
          -0.4614451485401377,
          -1.4993519893677123,
          -0.6785631146633332,
          0.8507169019485555,
          0.5902981111307382,
          0.2648210009946313,
          0.5407071903145758,
          -0.2281290528195115,
          0.7434357784239422,
          0.01143562141734591,
          1.751156917152561,
          1.7942190563021307,
          0.2666915659692473,
          -0.06092297712201784,
          0.19291489162901268,
          -1.1180836083856287,
          -0.025184307538168887,
          1.0610407835427111,
          -0.10003364181806242,
          0.8189558427754416,
          0.18025491882043004,
          0.6241358000901407,
          -0.9920627995444932,
          -0.05724065011843744,
          -1.2295962744218014,
          -0.8067234157458383,
          0.2945242858462882,
          0.8786490866801401,
          -0.09943871929716257,
          -0.17705312959165395,
          0.0024459226340188774,
          0.2961740380115884,
          0.9253350872111563,
          -1.1213105991697025
         ],
         "xaxis": "x4",
         "y": [
          1.573328711227588,
          -0.37852617950749295,
          0.1768154975319591,
          -0.5991281059388813,
          1.1755060314126213,
          0.24964246226697667,
          0.5956165871109731,
          0.5612011071792405,
          0.9180885799809175,
          0.7571694210998187,
          0.24715045119972137,
          -1.5270465043997787,
          -0.875374507933993,
          1.2025748375755545,
          0.6337638775037999,
          1.4678420619686383,
          0.45673265663204543,
          -0.26569229827179003,
          1.1244514300144637,
          -0.3169066781827368,
          2.3326670259694984,
          1.1805682968753102,
          -0.41405314324567183,
          0.3122201777837888,
          -1.4052653628429845,
          0.31430633602741875,
          -0.20578869630339477,
          -0.60390031944842,
          1.96339494742064,
          1.6693550129021753,
          -1.334598303785486,
          -0.37781853819873823,
          -0.8894928657177164,
          -0.7543929174901841,
          -0.23210840072281078,
          -1.6901960833990382,
          0.4512098555532659,
          -1.6840584805291572,
          1.0458784516037567,
          1.6664676824073386,
          -1.4401332275578733,
          1.7114714420535877,
          -0.45865548617687163,
          0.9505872085183176,
          -1.9421953084933026,
          0.042733014352603314,
          -0.15414531364007927,
          0.32915907886279877,
          -2.194460922754973,
          0.015125890780444818,
          0.2845835884595226,
          -0.3754901070103968,
          0.2844539210618317,
          -0.12817785900037726,
          0.2260420020459213,
          0.10436446169541978,
          -1.945586652139439,
          -0.36503865639939936,
          -0.22404622351044057,
          -0.2153410058721476,
          0.06278284613069145,
          0.8788465708891683,
          -0.7227927973318916,
          0.3973910025307887,
          -0.23934321011928952,
          0.7710770602966287,
          1.2068887478696722,
          0.21170919633969837,
          0.059892170735103015,
          -1.612452124677236,
          -0.8112259655549127,
          -1.370414490272464,
          -1.653881269326432,
          1.4336987722728656,
          0.3424580647461767,
          -0.47227829298318325,
          -1.6371862002778288,
          0.1178252873274814,
          0.6555856265155513,
          0.5430554758356879,
          -0.10956656996215498,
          1.0202118759670051,
          -0.24457257437156738,
          0.6398275256663398,
          0.35899461667070703,
          0.9615922999069186,
          -1.8575346554006276,
          -0.8698442370442436,
          0.6613226554534137,
          -1.9610775745970301,
          -1.7518253054808146,
          -0.4180919006194288,
          0.7778364527179996,
          -0.44990921899945696,
          0.9931689954464562,
          1.297712985928407,
          -0.5451756655006744,
          -0.1959375376838416,
          0.6051166858612246,
          -0.8677354795742439
         ],
         "yaxis": "y4"
        },
        {
         "line": {
          "color": "rgba(128, 128, 128, 1.0)",
          "dash": "solid",
          "shape": "linear",
          "width": 1.3
         },
         "marker": {
          "size": 2,
          "symbol": "circle"
         },
         "mode": "markers",
         "name": "B",
         "text": "",
         "type": "scatter",
         "x": [
          1.573328711227588,
          -0.37852617950749295,
          0.1768154975319591,
          -0.5991281059388813,
          1.1755060314126213,
          0.24964246226697667,
          0.5956165871109731,
          0.5612011071792405,
          0.9180885799809175,
          0.7571694210998187,
          0.24715045119972137,
          -1.5270465043997787,
          -0.875374507933993,
          1.2025748375755545,
          0.6337638775037999,
          1.4678420619686383,
          0.45673265663204543,
          -0.26569229827179003,
          1.1244514300144637,
          -0.3169066781827368,
          2.3326670259694984,
          1.1805682968753102,
          -0.41405314324567183,
          0.3122201777837888,
          -1.4052653628429845,
          0.31430633602741875,
          -0.20578869630339477,
          -0.60390031944842,
          1.96339494742064,
          1.6693550129021753,
          -1.334598303785486,
          -0.37781853819873823,
          -0.8894928657177164,
          -0.7543929174901841,
          -0.23210840072281078,
          -1.6901960833990382,
          0.4512098555532659,
          -1.6840584805291572,
          1.0458784516037567,
          1.6664676824073386,
          -1.4401332275578733,
          1.7114714420535877,
          -0.45865548617687163,
          0.9505872085183176,
          -1.9421953084933026,
          0.042733014352603314,
          -0.15414531364007927,
          0.32915907886279877,
          -2.194460922754973,
          0.015125890780444818,
          0.2845835884595226,
          -0.3754901070103968,
          0.2844539210618317,
          -0.12817785900037726,
          0.2260420020459213,
          0.10436446169541978,
          -1.945586652139439,
          -0.36503865639939936,
          -0.22404622351044057,
          -0.2153410058721476,
          0.06278284613069145,
          0.8788465708891683,
          -0.7227927973318916,
          0.3973910025307887,
          -0.23934321011928952,
          0.7710770602966287,
          1.2068887478696722,
          0.21170919633969837,
          0.059892170735103015,
          -1.612452124677236,
          -0.8112259655549127,
          -1.370414490272464,
          -1.653881269326432,
          1.4336987722728656,
          0.3424580647461767,
          -0.47227829298318325,
          -1.6371862002778288,
          0.1178252873274814,
          0.6555856265155513,
          0.5430554758356879,
          -0.10956656996215498,
          1.0202118759670051,
          -0.24457257437156738,
          0.6398275256663398,
          0.35899461667070703,
          0.9615922999069186,
          -1.8575346554006276,
          -0.8698442370442436,
          0.6613226554534137,
          -1.9610775745970301,
          -1.7518253054808146,
          -0.4180919006194288,
          0.7778364527179996,
          -0.44990921899945696,
          0.9931689954464562,
          1.297712985928407,
          -0.5451756655006744,
          -0.1959375376838416,
          0.6051166858612246,
          -0.8677354795742439
         ],
         "xaxis": "x5",
         "y": [
          -0.2394652779549122,
          0.8512345364937773,
          0.41484812193021964,
          1.5370959350367674,
          -0.4927408965374319,
          -0.22100901165166023,
          -0.43193040335765653,
          -0.49336201857205314,
          0.5555084384448081,
          -0.5107093147117601,
          -0.3526308817252644,
          0.007489800734434926,
          -0.6003649263215223,
          -0.01278324946277747,
          0.2274406995260329,
          -1.0187156546487115,
          -0.4433447642506894,
          -0.3060049886332904,
          -0.11377838153924977,
          -0.08407790197866014,
          1.0464551062117906,
          -0.9799341186049836,
          -1.8537395580117801,
          0.6617221210672103,
          -0.683415999037852,
          -0.39479143980500403,
          -2.196804691822171,
          0.9829199829668247,
          -2.179151330999028,
          1.1392018545116072,
          -1.8420019494800435,
          -0.30038149675268744,
          0.008963551020868049,
          -0.06618101867302661,
          1.0674281027274761,
          0.7173822431325227,
          -1.9086449146501494,
          1.0205583203650004,
          2.23498872747899,
          -0.45259495728000726,
          0.574969471677332,
          0.6944603816242416,
          -0.12498725051976357,
          -1.8958418732899174,
          -0.6421631673722423,
          -0.38673076375729404,
          -0.3357083832660241,
          0.8998219397665486,
          -0.015392086889089685,
          -0.5026542206416671,
          -1.6951761221844877,
          1.6796828066716862,
          0.36604466437520533,
          -1.9183417290547082,
          0.4701078450355624,
          -0.19291943661795397,
          -0.7593893664030056,
          -0.6749441066899211,
          0.7479337658901685,
          1.1274218457436842,
          -0.43875091042622516,
          -1.8105231808183324,
          0.48444909587401636,
          -0.5055844310124634,
          -0.46194253142129044,
          0.52721385333185,
          0.33716747766588245,
          0.01697510334850516,
          -1.4034883679745767,
          0.29498065138194346,
          -1.641260866859968,
          -0.3542296235869637,
          -0.19241761771803673,
          -0.7587260159600041,
          0.37451144525510227,
          -1.2258116079566619,
          0.2842602520008746,
          -1.908327868761162,
          -0.8557696298768518,
          1.118002270580774,
          -1.4701377021951572,
          1.2765397042431867,
          0.3253134283901319,
          -0.6814381081251094,
          1.2397551256542891,
          0.5926331740445077,
          1.7231767023146967,
          0.18409964154272745,
          -0.5450931058141981,
          -0.17358078103870087,
          0.6888684372015913,
          1.281410412125775,
          0.49575937971724,
          0.0975145793536695,
          0.9673828187279973,
          2.168738376862383,
          -1.5611560382058942,
          3.352263014883978,
          -0.3147424815649832,
          1.0391922023113067
         ],
         "yaxis": "y5"
        },
        {
         "histfunc": "count",
         "histnorm": "",
         "marker": {
          "color": "rgba(55, 128, 191, 1.0)",
          "line": {
           "color": "#4D5663",
           "width": 1.3
          }
         },
         "name": "B",
         "nbinsx": 10,
         "opacity": 0.8,
         "orientation": "v",
         "type": "histogram",
         "x": [
          -0.2394652779549122,
          0.8512345364937773,
          0.41484812193021964,
          1.5370959350367674,
          -0.4927408965374319,
          -0.22100901165166023,
          -0.43193040335765653,
          -0.49336201857205314,
          0.5555084384448081,
          -0.5107093147117601,
          -0.3526308817252644,
          0.007489800734434926,
          -0.6003649263215223,
          -0.01278324946277747,
          0.2274406995260329,
          -1.0187156546487115,
          -0.4433447642506894,
          -0.3060049886332904,
          -0.11377838153924977,
          -0.08407790197866014,
          1.0464551062117906,
          -0.9799341186049836,
          -1.8537395580117801,
          0.6617221210672103,
          -0.683415999037852,
          -0.39479143980500403,
          -2.196804691822171,
          0.9829199829668247,
          -2.179151330999028,
          1.1392018545116072,
          -1.8420019494800435,
          -0.30038149675268744,
          0.008963551020868049,
          -0.06618101867302661,
          1.0674281027274761,
          0.7173822431325227,
          -1.9086449146501494,
          1.0205583203650004,
          2.23498872747899,
          -0.45259495728000726,
          0.574969471677332,
          0.6944603816242416,
          -0.12498725051976357,
          -1.8958418732899174,
          -0.6421631673722423,
          -0.38673076375729404,
          -0.3357083832660241,
          0.8998219397665486,
          -0.015392086889089685,
          -0.5026542206416671,
          -1.6951761221844877,
          1.6796828066716862,
          0.36604466437520533,
          -1.9183417290547082,
          0.4701078450355624,
          -0.19291943661795397,
          -0.7593893664030056,
          -0.6749441066899211,
          0.7479337658901685,
          1.1274218457436842,
          -0.43875091042622516,
          -1.8105231808183324,
          0.48444909587401636,
          -0.5055844310124634,
          -0.46194253142129044,
          0.52721385333185,
          0.33716747766588245,
          0.01697510334850516,
          -1.4034883679745767,
          0.29498065138194346,
          -1.641260866859968,
          -0.3542296235869637,
          -0.19241761771803673,
          -0.7587260159600041,
          0.37451144525510227,
          -1.2258116079566619,
          0.2842602520008746,
          -1.908327868761162,
          -0.8557696298768518,
          1.118002270580774,
          -1.4701377021951572,
          1.2765397042431867,
          0.3253134283901319,
          -0.6814381081251094,
          1.2397551256542891,
          0.5926331740445077,
          1.7231767023146967,
          0.18409964154272745,
          -0.5450931058141981,
          -0.17358078103870087,
          0.6888684372015913,
          1.281410412125775,
          0.49575937971724,
          0.0975145793536695,
          0.9673828187279973,
          2.168738376862383,
          -1.5611560382058942,
          3.352263014883978,
          -0.3147424815649832,
          1.0391922023113067
         ],
         "xaxis": "x6",
         "yaxis": "y6"
        },
        {
         "line": {
          "color": "rgba(128, 128, 128, 1.0)",
          "dash": "solid",
          "shape": "linear",
          "width": 1.3
         },
         "marker": {
          "size": 2,
          "symbol": "circle"
         },
         "mode": "markers",
         "name": "B",
         "text": "",
         "type": "scatter",
         "x": [
          -1.8046358364834871,
          -1.7016081650865085,
          0.08588916010165494,
          1.4415246720834345,
          0.23707338397424654,
          0.04760113564180864,
          1.6494187102451814,
          -0.1335394569238713,
          1.673178815748656,
          0.587716238374656,
          -0.270167317688856,
          1.0108343021498616,
          0.18168666648433796,
          -1.593263523974709,
          -0.44708682377928705,
          0.7347384333261755,
          -0.5206862632044673,
          0.8058201487174185,
          0.33575543870730523,
          0.3998153028522259,
          -0.7779263211845607,
          -0.15069385638055013,
          -0.19814298388031,
          -0.6695039491784086,
          0.18719335143312335,
          0.2432000491944703,
          1.0239835419533434,
          0.17737331616854837,
          -0.31251283114193357,
          0.8092010218572524,
          1.9760784044324962,
          0.4507360550481009,
          0.019859889581720434,
          -1.0308529484770719,
          -0.041523138115277886,
          -2.583024529609364,
          0.8775446742538857,
          1.131147284523329,
          -0.8860862807680845,
          0.13813524507089245,
          0.586975384522734,
          0.612158291548976,
          -2.4357252622049175,
          0.2709088196249994,
          -1.050300287939844,
          -1.3936541807154117,
          -0.522657537256016,
          0.8626800250742529,
          0.1724419225858869,
          0.693836096042868,
          0.09995165969384592,
          1.243447704659744,
          -0.025147101742636787,
          -0.5941152195120954,
          -0.6297810032837157,
          0.3184235114914604,
          -0.7027056834801207,
          -1.0608216030262902,
          -0.05087218332717387,
          0.7616002261982439,
          -0.258033654280085,
          -0.09488984717788189,
          -1.702420208848687,
          -1.345180568981205,
          0.31537539082752286,
          -0.1227927434578786,
          -2.04519880927543,
          1.2326652562905906,
          -0.3260483556791499,
          -0.41078820252553605,
          0.4534573741720663,
          0.6660642909777231,
          0.6096456778055162,
          -1.8843747005349487,
          -0.6280920968701095,
          0.013579573409322563,
          0.58444009796342,
          -0.6402794156561158,
          -0.01005186015976698,
          0.6281954553420765,
          1.1150685521916508,
          -1.2724228866295084,
          0.06763903336292446,
          -0.3385196406335298,
          0.19690377471139772,
          0.6624552723679175,
          -1.634197524361951,
          1.2795673993059826,
          -2.0108289866705764,
          -0.6617508456314672,
          -0.5628128537404228,
          0.4430700127227428,
          -0.10268341417994102,
          -0.7691342517181959,
          1.5871320662099035,
          1.8657131155923175,
          1.4366840526476878,
          -1.012345686468915,
          -0.17099028201472255,
          1.5214133076671315
         ],
         "xaxis": "x7",
         "y": [
          -0.2394652779549122,
          0.8512345364937773,
          0.41484812193021964,
          1.5370959350367674,
          -0.4927408965374319,
          -0.22100901165166023,
          -0.43193040335765653,
          -0.49336201857205314,
          0.5555084384448081,
          -0.5107093147117601,
          -0.3526308817252644,
          0.007489800734434926,
          -0.6003649263215223,
          -0.01278324946277747,
          0.2274406995260329,
          -1.0187156546487115,
          -0.4433447642506894,
          -0.3060049886332904,
          -0.11377838153924977,
          -0.08407790197866014,
          1.0464551062117906,
          -0.9799341186049836,
          -1.8537395580117801,
          0.6617221210672103,
          -0.683415999037852,
          -0.39479143980500403,
          -2.196804691822171,
          0.9829199829668247,
          -2.179151330999028,
          1.1392018545116072,
          -1.8420019494800435,
          -0.30038149675268744,
          0.008963551020868049,
          -0.06618101867302661,
          1.0674281027274761,
          0.7173822431325227,
          -1.9086449146501494,
          1.0205583203650004,
          2.23498872747899,
          -0.45259495728000726,
          0.574969471677332,
          0.6944603816242416,
          -0.12498725051976357,
          -1.8958418732899174,
          -0.6421631673722423,
          -0.38673076375729404,
          -0.3357083832660241,
          0.8998219397665486,
          -0.015392086889089685,
          -0.5026542206416671,
          -1.6951761221844877,
          1.6796828066716862,
          0.36604466437520533,
          -1.9183417290547082,
          0.4701078450355624,
          -0.19291943661795397,
          -0.7593893664030056,
          -0.6749441066899211,
          0.7479337658901685,
          1.1274218457436842,
          -0.43875091042622516,
          -1.8105231808183324,
          0.48444909587401636,
          -0.5055844310124634,
          -0.46194253142129044,
          0.52721385333185,
          0.33716747766588245,
          0.01697510334850516,
          -1.4034883679745767,
          0.29498065138194346,
          -1.641260866859968,
          -0.3542296235869637,
          -0.19241761771803673,
          -0.7587260159600041,
          0.37451144525510227,
          -1.2258116079566619,
          0.2842602520008746,
          -1.908327868761162,
          -0.8557696298768518,
          1.118002270580774,
          -1.4701377021951572,
          1.2765397042431867,
          0.3253134283901319,
          -0.6814381081251094,
          1.2397551256542891,
          0.5926331740445077,
          1.7231767023146967,
          0.18409964154272745,
          -0.5450931058141981,
          -0.17358078103870087,
          0.6888684372015913,
          1.281410412125775,
          0.49575937971724,
          0.0975145793536695,
          0.9673828187279973,
          2.168738376862383,
          -1.5611560382058942,
          3.352263014883978,
          -0.3147424815649832,
          1.0391922023113067
         ],
         "yaxis": "y7"
        },
        {
         "line": {
          "color": "rgba(128, 128, 128, 1.0)",
          "dash": "solid",
          "shape": "linear",
          "width": 1.3
         },
         "marker": {
          "size": 2,
          "symbol": "circle"
         },
         "mode": "markers",
         "name": "B",
         "text": "",
         "type": "scatter",
         "x": [
          0.13793858494096364,
          -1.0685110775796975,
          -0.997019024377318,
          1.3909456165642435,
          -0.38348155778987936,
          0.19761270911578754,
          -0.6127184229944498,
          0.676158383922949,
          0.061230254624065665,
          1.831582295066228,
          0.7531612748304229,
          1.063754260413047,
          2.5423817486925997,
          -2.3389720782980166,
          -0.5719145062360703,
          1.034895910559388,
          -0.04025943500023704,
          -0.622007918365505,
          -1.3832887065960247,
          -0.1464507019555157,
          0.9247804199945364,
          -0.3725322353703732,
          1.9981594602766175,
          0.43981689535317464,
          -0.49277781121389697,
          0.6772854544316099,
          1.486354300327282,
          -0.637420521683839,
          2.0568573753754307,
          -0.8868690056370306,
          1.5858432506726274,
          1.320623104130732,
          0.4563862801805943,
          -0.7102397984248783,
          0.6184619574620405,
          0.7169408325343001,
          -0.8785864374339943,
          1.1008994902518687,
          0.04182201713864145,
          -1.061803767564098,
          0.17636113921243388,
          1.623468332145554,
          -0.5809327701965264,
          -0.9931841950582492,
          0.7437729657637542,
          0.16632066588824268,
          -0.2942612240366475,
          0.29113087525227405,
          -1.5114689808848765,
          0.5879362559074357,
          0.1472628815600322,
          0.4022516961002296,
          0.7318732691465115,
          0.5152549992744864,
          0.6365767015643818,
          0.6482701169564956,
          -1.2754722872090638,
          -1.1955015396021562,
          0.5656886761913047,
          0.03939547434135855,
          0.7249662624343363,
          1.4947618906234466,
          -0.5321267151039222,
          -1.7377902997804684,
          0.7442783246564179,
          2.2184977031906263,
          -0.4614451485401377,
          -1.4993519893677123,
          -0.6785631146633332,
          0.8507169019485555,
          0.5902981111307382,
          0.2648210009946313,
          0.5407071903145758,
          -0.2281290528195115,
          0.7434357784239422,
          0.01143562141734591,
          1.751156917152561,
          1.7942190563021307,
          0.2666915659692473,
          -0.06092297712201784,
          0.19291489162901268,
          -1.1180836083856287,
          -0.025184307538168887,
          1.0610407835427111,
          -0.10003364181806242,
          0.8189558427754416,
          0.18025491882043004,
          0.6241358000901407,
          -0.9920627995444932,
          -0.05724065011843744,
          -1.2295962744218014,
          -0.8067234157458383,
          0.2945242858462882,
          0.8786490866801401,
          -0.09943871929716257,
          -0.17705312959165395,
          0.0024459226340188774,
          0.2961740380115884,
          0.9253350872111563,
          -1.1213105991697025
         ],
         "xaxis": "x8",
         "y": [
          -0.2394652779549122,
          0.8512345364937773,
          0.41484812193021964,
          1.5370959350367674,
          -0.4927408965374319,
          -0.22100901165166023,
          -0.43193040335765653,
          -0.49336201857205314,
          0.5555084384448081,
          -0.5107093147117601,
          -0.3526308817252644,
          0.007489800734434926,
          -0.6003649263215223,
          -0.01278324946277747,
          0.2274406995260329,
          -1.0187156546487115,
          -0.4433447642506894,
          -0.3060049886332904,
          -0.11377838153924977,
          -0.08407790197866014,
          1.0464551062117906,
          -0.9799341186049836,
          -1.8537395580117801,
          0.6617221210672103,
          -0.683415999037852,
          -0.39479143980500403,
          -2.196804691822171,
          0.9829199829668247,
          -2.179151330999028,
          1.1392018545116072,
          -1.8420019494800435,
          -0.30038149675268744,
          0.008963551020868049,
          -0.06618101867302661,
          1.0674281027274761,
          0.7173822431325227,
          -1.9086449146501494,
          1.0205583203650004,
          2.23498872747899,
          -0.45259495728000726,
          0.574969471677332,
          0.6944603816242416,
          -0.12498725051976357,
          -1.8958418732899174,
          -0.6421631673722423,
          -0.38673076375729404,
          -0.3357083832660241,
          0.8998219397665486,
          -0.015392086889089685,
          -0.5026542206416671,
          -1.6951761221844877,
          1.6796828066716862,
          0.36604466437520533,
          -1.9183417290547082,
          0.4701078450355624,
          -0.19291943661795397,
          -0.7593893664030056,
          -0.6749441066899211,
          0.7479337658901685,
          1.1274218457436842,
          -0.43875091042622516,
          -1.8105231808183324,
          0.48444909587401636,
          -0.5055844310124634,
          -0.46194253142129044,
          0.52721385333185,
          0.33716747766588245,
          0.01697510334850516,
          -1.4034883679745767,
          0.29498065138194346,
          -1.641260866859968,
          -0.3542296235869637,
          -0.19241761771803673,
          -0.7587260159600041,
          0.37451144525510227,
          -1.2258116079566619,
          0.2842602520008746,
          -1.908327868761162,
          -0.8557696298768518,
          1.118002270580774,
          -1.4701377021951572,
          1.2765397042431867,
          0.3253134283901319,
          -0.6814381081251094,
          1.2397551256542891,
          0.5926331740445077,
          1.7231767023146967,
          0.18409964154272745,
          -0.5450931058141981,
          -0.17358078103870087,
          0.6888684372015913,
          1.281410412125775,
          0.49575937971724,
          0.0975145793536695,
          0.9673828187279973,
          2.168738376862383,
          -1.5611560382058942,
          3.352263014883978,
          -0.3147424815649832,
          1.0391922023113067
         ],
         "yaxis": "y8"
        },
        {
         "line": {
          "color": "rgba(128, 128, 128, 1.0)",
          "dash": "solid",
          "shape": "linear",
          "width": 1.3
         },
         "marker": {
          "size": 2,
          "symbol": "circle"
         },
         "mode": "markers",
         "name": "C",
         "text": "",
         "type": "scatter",
         "x": [
          1.573328711227588,
          -0.37852617950749295,
          0.1768154975319591,
          -0.5991281059388813,
          1.1755060314126213,
          0.24964246226697667,
          0.5956165871109731,
          0.5612011071792405,
          0.9180885799809175,
          0.7571694210998187,
          0.24715045119972137,
          -1.5270465043997787,
          -0.875374507933993,
          1.2025748375755545,
          0.6337638775037999,
          1.4678420619686383,
          0.45673265663204543,
          -0.26569229827179003,
          1.1244514300144637,
          -0.3169066781827368,
          2.3326670259694984,
          1.1805682968753102,
          -0.41405314324567183,
          0.3122201777837888,
          -1.4052653628429845,
          0.31430633602741875,
          -0.20578869630339477,
          -0.60390031944842,
          1.96339494742064,
          1.6693550129021753,
          -1.334598303785486,
          -0.37781853819873823,
          -0.8894928657177164,
          -0.7543929174901841,
          -0.23210840072281078,
          -1.6901960833990382,
          0.4512098555532659,
          -1.6840584805291572,
          1.0458784516037567,
          1.6664676824073386,
          -1.4401332275578733,
          1.7114714420535877,
          -0.45865548617687163,
          0.9505872085183176,
          -1.9421953084933026,
          0.042733014352603314,
          -0.15414531364007927,
          0.32915907886279877,
          -2.194460922754973,
          0.015125890780444818,
          0.2845835884595226,
          -0.3754901070103968,
          0.2844539210618317,
          -0.12817785900037726,
          0.2260420020459213,
          0.10436446169541978,
          -1.945586652139439,
          -0.36503865639939936,
          -0.22404622351044057,
          -0.2153410058721476,
          0.06278284613069145,
          0.8788465708891683,
          -0.7227927973318916,
          0.3973910025307887,
          -0.23934321011928952,
          0.7710770602966287,
          1.2068887478696722,
          0.21170919633969837,
          0.059892170735103015,
          -1.612452124677236,
          -0.8112259655549127,
          -1.370414490272464,
          -1.653881269326432,
          1.4336987722728656,
          0.3424580647461767,
          -0.47227829298318325,
          -1.6371862002778288,
          0.1178252873274814,
          0.6555856265155513,
          0.5430554758356879,
          -0.10956656996215498,
          1.0202118759670051,
          -0.24457257437156738,
          0.6398275256663398,
          0.35899461667070703,
          0.9615922999069186,
          -1.8575346554006276,
          -0.8698442370442436,
          0.6613226554534137,
          -1.9610775745970301,
          -1.7518253054808146,
          -0.4180919006194288,
          0.7778364527179996,
          -0.44990921899945696,
          0.9931689954464562,
          1.297712985928407,
          -0.5451756655006744,
          -0.1959375376838416,
          0.6051166858612246,
          -0.8677354795742439
         ],
         "xaxis": "x9",
         "y": [
          -1.8046358364834871,
          -1.7016081650865085,
          0.08588916010165494,
          1.4415246720834345,
          0.23707338397424654,
          0.04760113564180864,
          1.6494187102451814,
          -0.1335394569238713,
          1.673178815748656,
          0.587716238374656,
          -0.270167317688856,
          1.0108343021498616,
          0.18168666648433796,
          -1.593263523974709,
          -0.44708682377928705,
          0.7347384333261755,
          -0.5206862632044673,
          0.8058201487174185,
          0.33575543870730523,
          0.3998153028522259,
          -0.7779263211845607,
          -0.15069385638055013,
          -0.19814298388031,
          -0.6695039491784086,
          0.18719335143312335,
          0.2432000491944703,
          1.0239835419533434,
          0.17737331616854837,
          -0.31251283114193357,
          0.8092010218572524,
          1.9760784044324962,
          0.4507360550481009,
          0.019859889581720434,
          -1.0308529484770719,
          -0.041523138115277886,
          -2.583024529609364,
          0.8775446742538857,
          1.131147284523329,
          -0.8860862807680845,
          0.13813524507089245,
          0.586975384522734,
          0.612158291548976,
          -2.4357252622049175,
          0.2709088196249994,
          -1.050300287939844,
          -1.3936541807154117,
          -0.522657537256016,
          0.8626800250742529,
          0.1724419225858869,
          0.693836096042868,
          0.09995165969384592,
          1.243447704659744,
          -0.025147101742636787,
          -0.5941152195120954,
          -0.6297810032837157,
          0.3184235114914604,
          -0.7027056834801207,
          -1.0608216030262902,
          -0.05087218332717387,
          0.7616002261982439,
          -0.258033654280085,
          -0.09488984717788189,
          -1.702420208848687,
          -1.345180568981205,
          0.31537539082752286,
          -0.1227927434578786,
          -2.04519880927543,
          1.2326652562905906,
          -0.3260483556791499,
          -0.41078820252553605,
          0.4534573741720663,
          0.6660642909777231,
          0.6096456778055162,
          -1.8843747005349487,
          -0.6280920968701095,
          0.013579573409322563,
          0.58444009796342,
          -0.6402794156561158,
          -0.01005186015976698,
          0.6281954553420765,
          1.1150685521916508,
          -1.2724228866295084,
          0.06763903336292446,
          -0.3385196406335298,
          0.19690377471139772,
          0.6624552723679175,
          -1.634197524361951,
          1.2795673993059826,
          -2.0108289866705764,
          -0.6617508456314672,
          -0.5628128537404228,
          0.4430700127227428,
          -0.10268341417994102,
          -0.7691342517181959,
          1.5871320662099035,
          1.8657131155923175,
          1.4366840526476878,
          -1.012345686468915,
          -0.17099028201472255,
          1.5214133076671315
         ],
         "yaxis": "y9"
        },
        {
         "line": {
          "color": "rgba(128, 128, 128, 1.0)",
          "dash": "solid",
          "shape": "linear",
          "width": 1.3
         },
         "marker": {
          "size": 2,
          "symbol": "circle"
         },
         "mode": "markers",
         "name": "C",
         "text": "",
         "type": "scatter",
         "x": [
          -0.2394652779549122,
          0.8512345364937773,
          0.41484812193021964,
          1.5370959350367674,
          -0.4927408965374319,
          -0.22100901165166023,
          -0.43193040335765653,
          -0.49336201857205314,
          0.5555084384448081,
          -0.5107093147117601,
          -0.3526308817252644,
          0.007489800734434926,
          -0.6003649263215223,
          -0.01278324946277747,
          0.2274406995260329,
          -1.0187156546487115,
          -0.4433447642506894,
          -0.3060049886332904,
          -0.11377838153924977,
          -0.08407790197866014,
          1.0464551062117906,
          -0.9799341186049836,
          -1.8537395580117801,
          0.6617221210672103,
          -0.683415999037852,
          -0.39479143980500403,
          -2.196804691822171,
          0.9829199829668247,
          -2.179151330999028,
          1.1392018545116072,
          -1.8420019494800435,
          -0.30038149675268744,
          0.008963551020868049,
          -0.06618101867302661,
          1.0674281027274761,
          0.7173822431325227,
          -1.9086449146501494,
          1.0205583203650004,
          2.23498872747899,
          -0.45259495728000726,
          0.574969471677332,
          0.6944603816242416,
          -0.12498725051976357,
          -1.8958418732899174,
          -0.6421631673722423,
          -0.38673076375729404,
          -0.3357083832660241,
          0.8998219397665486,
          -0.015392086889089685,
          -0.5026542206416671,
          -1.6951761221844877,
          1.6796828066716862,
          0.36604466437520533,
          -1.9183417290547082,
          0.4701078450355624,
          -0.19291943661795397,
          -0.7593893664030056,
          -0.6749441066899211,
          0.7479337658901685,
          1.1274218457436842,
          -0.43875091042622516,
          -1.8105231808183324,
          0.48444909587401636,
          -0.5055844310124634,
          -0.46194253142129044,
          0.52721385333185,
          0.33716747766588245,
          0.01697510334850516,
          -1.4034883679745767,
          0.29498065138194346,
          -1.641260866859968,
          -0.3542296235869637,
          -0.19241761771803673,
          -0.7587260159600041,
          0.37451144525510227,
          -1.2258116079566619,
          0.2842602520008746,
          -1.908327868761162,
          -0.8557696298768518,
          1.118002270580774,
          -1.4701377021951572,
          1.2765397042431867,
          0.3253134283901319,
          -0.6814381081251094,
          1.2397551256542891,
          0.5926331740445077,
          1.7231767023146967,
          0.18409964154272745,
          -0.5450931058141981,
          -0.17358078103870087,
          0.6888684372015913,
          1.281410412125775,
          0.49575937971724,
          0.0975145793536695,
          0.9673828187279973,
          2.168738376862383,
          -1.5611560382058942,
          3.352263014883978,
          -0.3147424815649832,
          1.0391922023113067
         ],
         "xaxis": "x10",
         "y": [
          -1.8046358364834871,
          -1.7016081650865085,
          0.08588916010165494,
          1.4415246720834345,
          0.23707338397424654,
          0.04760113564180864,
          1.6494187102451814,
          -0.1335394569238713,
          1.673178815748656,
          0.587716238374656,
          -0.270167317688856,
          1.0108343021498616,
          0.18168666648433796,
          -1.593263523974709,
          -0.44708682377928705,
          0.7347384333261755,
          -0.5206862632044673,
          0.8058201487174185,
          0.33575543870730523,
          0.3998153028522259,
          -0.7779263211845607,
          -0.15069385638055013,
          -0.19814298388031,
          -0.6695039491784086,
          0.18719335143312335,
          0.2432000491944703,
          1.0239835419533434,
          0.17737331616854837,
          -0.31251283114193357,
          0.8092010218572524,
          1.9760784044324962,
          0.4507360550481009,
          0.019859889581720434,
          -1.0308529484770719,
          -0.041523138115277886,
          -2.583024529609364,
          0.8775446742538857,
          1.131147284523329,
          -0.8860862807680845,
          0.13813524507089245,
          0.586975384522734,
          0.612158291548976,
          -2.4357252622049175,
          0.2709088196249994,
          -1.050300287939844,
          -1.3936541807154117,
          -0.522657537256016,
          0.8626800250742529,
          0.1724419225858869,
          0.693836096042868,
          0.09995165969384592,
          1.243447704659744,
          -0.025147101742636787,
          -0.5941152195120954,
          -0.6297810032837157,
          0.3184235114914604,
          -0.7027056834801207,
          -1.0608216030262902,
          -0.05087218332717387,
          0.7616002261982439,
          -0.258033654280085,
          -0.09488984717788189,
          -1.702420208848687,
          -1.345180568981205,
          0.31537539082752286,
          -0.1227927434578786,
          -2.04519880927543,
          1.2326652562905906,
          -0.3260483556791499,
          -0.41078820252553605,
          0.4534573741720663,
          0.6660642909777231,
          0.6096456778055162,
          -1.8843747005349487,
          -0.6280920968701095,
          0.013579573409322563,
          0.58444009796342,
          -0.6402794156561158,
          -0.01005186015976698,
          0.6281954553420765,
          1.1150685521916508,
          -1.2724228866295084,
          0.06763903336292446,
          -0.3385196406335298,
          0.19690377471139772,
          0.6624552723679175,
          -1.634197524361951,
          1.2795673993059826,
          -2.0108289866705764,
          -0.6617508456314672,
          -0.5628128537404228,
          0.4430700127227428,
          -0.10268341417994102,
          -0.7691342517181959,
          1.5871320662099035,
          1.8657131155923175,
          1.4366840526476878,
          -1.012345686468915,
          -0.17099028201472255,
          1.5214133076671315
         ],
         "yaxis": "y10"
        },
        {
         "histfunc": "count",
         "histnorm": "",
         "marker": {
          "color": "rgba(50, 171, 96, 1.0)",
          "line": {
           "color": "#4D5663",
           "width": 1.3
          }
         },
         "name": "C",
         "nbinsx": 10,
         "opacity": 0.8,
         "orientation": "v",
         "type": "histogram",
         "x": [
          -1.8046358364834871,
          -1.7016081650865085,
          0.08588916010165494,
          1.4415246720834345,
          0.23707338397424654,
          0.04760113564180864,
          1.6494187102451814,
          -0.1335394569238713,
          1.673178815748656,
          0.587716238374656,
          -0.270167317688856,
          1.0108343021498616,
          0.18168666648433796,
          -1.593263523974709,
          -0.44708682377928705,
          0.7347384333261755,
          -0.5206862632044673,
          0.8058201487174185,
          0.33575543870730523,
          0.3998153028522259,
          -0.7779263211845607,
          -0.15069385638055013,
          -0.19814298388031,
          -0.6695039491784086,
          0.18719335143312335,
          0.2432000491944703,
          1.0239835419533434,
          0.17737331616854837,
          -0.31251283114193357,
          0.8092010218572524,
          1.9760784044324962,
          0.4507360550481009,
          0.019859889581720434,
          -1.0308529484770719,
          -0.041523138115277886,
          -2.583024529609364,
          0.8775446742538857,
          1.131147284523329,
          -0.8860862807680845,
          0.13813524507089245,
          0.586975384522734,
          0.612158291548976,
          -2.4357252622049175,
          0.2709088196249994,
          -1.050300287939844,
          -1.3936541807154117,
          -0.522657537256016,
          0.8626800250742529,
          0.1724419225858869,
          0.693836096042868,
          0.09995165969384592,
          1.243447704659744,
          -0.025147101742636787,
          -0.5941152195120954,
          -0.6297810032837157,
          0.3184235114914604,
          -0.7027056834801207,
          -1.0608216030262902,
          -0.05087218332717387,
          0.7616002261982439,
          -0.258033654280085,
          -0.09488984717788189,
          -1.702420208848687,
          -1.345180568981205,
          0.31537539082752286,
          -0.1227927434578786,
          -2.04519880927543,
          1.2326652562905906,
          -0.3260483556791499,
          -0.41078820252553605,
          0.4534573741720663,
          0.6660642909777231,
          0.6096456778055162,
          -1.8843747005349487,
          -0.6280920968701095,
          0.013579573409322563,
          0.58444009796342,
          -0.6402794156561158,
          -0.01005186015976698,
          0.6281954553420765,
          1.1150685521916508,
          -1.2724228866295084,
          0.06763903336292446,
          -0.3385196406335298,
          0.19690377471139772,
          0.6624552723679175,
          -1.634197524361951,
          1.2795673993059826,
          -2.0108289866705764,
          -0.6617508456314672,
          -0.5628128537404228,
          0.4430700127227428,
          -0.10268341417994102,
          -0.7691342517181959,
          1.5871320662099035,
          1.8657131155923175,
          1.4366840526476878,
          -1.012345686468915,
          -0.17099028201472255,
          1.5214133076671315
         ],
         "xaxis": "x11",
         "yaxis": "y11"
        },
        {
         "line": {
          "color": "rgba(128, 128, 128, 1.0)",
          "dash": "solid",
          "shape": "linear",
          "width": 1.3
         },
         "marker": {
          "size": 2,
          "symbol": "circle"
         },
         "mode": "markers",
         "name": "C",
         "text": "",
         "type": "scatter",
         "x": [
          0.13793858494096364,
          -1.0685110775796975,
          -0.997019024377318,
          1.3909456165642435,
          -0.38348155778987936,
          0.19761270911578754,
          -0.6127184229944498,
          0.676158383922949,
          0.061230254624065665,
          1.831582295066228,
          0.7531612748304229,
          1.063754260413047,
          2.5423817486925997,
          -2.3389720782980166,
          -0.5719145062360703,
          1.034895910559388,
          -0.04025943500023704,
          -0.622007918365505,
          -1.3832887065960247,
          -0.1464507019555157,
          0.9247804199945364,
          -0.3725322353703732,
          1.9981594602766175,
          0.43981689535317464,
          -0.49277781121389697,
          0.6772854544316099,
          1.486354300327282,
          -0.637420521683839,
          2.0568573753754307,
          -0.8868690056370306,
          1.5858432506726274,
          1.320623104130732,
          0.4563862801805943,
          -0.7102397984248783,
          0.6184619574620405,
          0.7169408325343001,
          -0.8785864374339943,
          1.1008994902518687,
          0.04182201713864145,
          -1.061803767564098,
          0.17636113921243388,
          1.623468332145554,
          -0.5809327701965264,
          -0.9931841950582492,
          0.7437729657637542,
          0.16632066588824268,
          -0.2942612240366475,
          0.29113087525227405,
          -1.5114689808848765,
          0.5879362559074357,
          0.1472628815600322,
          0.4022516961002296,
          0.7318732691465115,
          0.5152549992744864,
          0.6365767015643818,
          0.6482701169564956,
          -1.2754722872090638,
          -1.1955015396021562,
          0.5656886761913047,
          0.03939547434135855,
          0.7249662624343363,
          1.4947618906234466,
          -0.5321267151039222,
          -1.7377902997804684,
          0.7442783246564179,
          2.2184977031906263,
          -0.4614451485401377,
          -1.4993519893677123,
          -0.6785631146633332,
          0.8507169019485555,
          0.5902981111307382,
          0.2648210009946313,
          0.5407071903145758,
          -0.2281290528195115,
          0.7434357784239422,
          0.01143562141734591,
          1.751156917152561,
          1.7942190563021307,
          0.2666915659692473,
          -0.06092297712201784,
          0.19291489162901268,
          -1.1180836083856287,
          -0.025184307538168887,
          1.0610407835427111,
          -0.10003364181806242,
          0.8189558427754416,
          0.18025491882043004,
          0.6241358000901407,
          -0.9920627995444932,
          -0.05724065011843744,
          -1.2295962744218014,
          -0.8067234157458383,
          0.2945242858462882,
          0.8786490866801401,
          -0.09943871929716257,
          -0.17705312959165395,
          0.0024459226340188774,
          0.2961740380115884,
          0.9253350872111563,
          -1.1213105991697025
         ],
         "xaxis": "x12",
         "y": [
          -1.8046358364834871,
          -1.7016081650865085,
          0.08588916010165494,
          1.4415246720834345,
          0.23707338397424654,
          0.04760113564180864,
          1.6494187102451814,
          -0.1335394569238713,
          1.673178815748656,
          0.587716238374656,
          -0.270167317688856,
          1.0108343021498616,
          0.18168666648433796,
          -1.593263523974709,
          -0.44708682377928705,
          0.7347384333261755,
          -0.5206862632044673,
          0.8058201487174185,
          0.33575543870730523,
          0.3998153028522259,
          -0.7779263211845607,
          -0.15069385638055013,
          -0.19814298388031,
          -0.6695039491784086,
          0.18719335143312335,
          0.2432000491944703,
          1.0239835419533434,
          0.17737331616854837,
          -0.31251283114193357,
          0.8092010218572524,
          1.9760784044324962,
          0.4507360550481009,
          0.019859889581720434,
          -1.0308529484770719,
          -0.041523138115277886,
          -2.583024529609364,
          0.8775446742538857,
          1.131147284523329,
          -0.8860862807680845,
          0.13813524507089245,
          0.586975384522734,
          0.612158291548976,
          -2.4357252622049175,
          0.2709088196249994,
          -1.050300287939844,
          -1.3936541807154117,
          -0.522657537256016,
          0.8626800250742529,
          0.1724419225858869,
          0.693836096042868,
          0.09995165969384592,
          1.243447704659744,
          -0.025147101742636787,
          -0.5941152195120954,
          -0.6297810032837157,
          0.3184235114914604,
          -0.7027056834801207,
          -1.0608216030262902,
          -0.05087218332717387,
          0.7616002261982439,
          -0.258033654280085,
          -0.09488984717788189,
          -1.702420208848687,
          -1.345180568981205,
          0.31537539082752286,
          -0.1227927434578786,
          -2.04519880927543,
          1.2326652562905906,
          -0.3260483556791499,
          -0.41078820252553605,
          0.4534573741720663,
          0.6660642909777231,
          0.6096456778055162,
          -1.8843747005349487,
          -0.6280920968701095,
          0.013579573409322563,
          0.58444009796342,
          -0.6402794156561158,
          -0.01005186015976698,
          0.6281954553420765,
          1.1150685521916508,
          -1.2724228866295084,
          0.06763903336292446,
          -0.3385196406335298,
          0.19690377471139772,
          0.6624552723679175,
          -1.634197524361951,
          1.2795673993059826,
          -2.0108289866705764,
          -0.6617508456314672,
          -0.5628128537404228,
          0.4430700127227428,
          -0.10268341417994102,
          -0.7691342517181959,
          1.5871320662099035,
          1.8657131155923175,
          1.4366840526476878,
          -1.012345686468915,
          -0.17099028201472255,
          1.5214133076671315
         ],
         "yaxis": "y12"
        },
        {
         "line": {
          "color": "rgba(128, 128, 128, 1.0)",
          "dash": "solid",
          "shape": "linear",
          "width": 1.3
         },
         "marker": {
          "size": 2,
          "symbol": "circle"
         },
         "mode": "markers",
         "name": "D",
         "text": "",
         "type": "scatter",
         "x": [
          1.573328711227588,
          -0.37852617950749295,
          0.1768154975319591,
          -0.5991281059388813,
          1.1755060314126213,
          0.24964246226697667,
          0.5956165871109731,
          0.5612011071792405,
          0.9180885799809175,
          0.7571694210998187,
          0.24715045119972137,
          -1.5270465043997787,
          -0.875374507933993,
          1.2025748375755545,
          0.6337638775037999,
          1.4678420619686383,
          0.45673265663204543,
          -0.26569229827179003,
          1.1244514300144637,
          -0.3169066781827368,
          2.3326670259694984,
          1.1805682968753102,
          -0.41405314324567183,
          0.3122201777837888,
          -1.4052653628429845,
          0.31430633602741875,
          -0.20578869630339477,
          -0.60390031944842,
          1.96339494742064,
          1.6693550129021753,
          -1.334598303785486,
          -0.37781853819873823,
          -0.8894928657177164,
          -0.7543929174901841,
          -0.23210840072281078,
          -1.6901960833990382,
          0.4512098555532659,
          -1.6840584805291572,
          1.0458784516037567,
          1.6664676824073386,
          -1.4401332275578733,
          1.7114714420535877,
          -0.45865548617687163,
          0.9505872085183176,
          -1.9421953084933026,
          0.042733014352603314,
          -0.15414531364007927,
          0.32915907886279877,
          -2.194460922754973,
          0.015125890780444818,
          0.2845835884595226,
          -0.3754901070103968,
          0.2844539210618317,
          -0.12817785900037726,
          0.2260420020459213,
          0.10436446169541978,
          -1.945586652139439,
          -0.36503865639939936,
          -0.22404622351044057,
          -0.2153410058721476,
          0.06278284613069145,
          0.8788465708891683,
          -0.7227927973318916,
          0.3973910025307887,
          -0.23934321011928952,
          0.7710770602966287,
          1.2068887478696722,
          0.21170919633969837,
          0.059892170735103015,
          -1.612452124677236,
          -0.8112259655549127,
          -1.370414490272464,
          -1.653881269326432,
          1.4336987722728656,
          0.3424580647461767,
          -0.47227829298318325,
          -1.6371862002778288,
          0.1178252873274814,
          0.6555856265155513,
          0.5430554758356879,
          -0.10956656996215498,
          1.0202118759670051,
          -0.24457257437156738,
          0.6398275256663398,
          0.35899461667070703,
          0.9615922999069186,
          -1.8575346554006276,
          -0.8698442370442436,
          0.6613226554534137,
          -1.9610775745970301,
          -1.7518253054808146,
          -0.4180919006194288,
          0.7778364527179996,
          -0.44990921899945696,
          0.9931689954464562,
          1.297712985928407,
          -0.5451756655006744,
          -0.1959375376838416,
          0.6051166858612246,
          -0.8677354795742439
         ],
         "xaxis": "x13",
         "y": [
          0.13793858494096364,
          -1.0685110775796975,
          -0.997019024377318,
          1.3909456165642435,
          -0.38348155778987936,
          0.19761270911578754,
          -0.6127184229944498,
          0.676158383922949,
          0.061230254624065665,
          1.831582295066228,
          0.7531612748304229,
          1.063754260413047,
          2.5423817486925997,
          -2.3389720782980166,
          -0.5719145062360703,
          1.034895910559388,
          -0.04025943500023704,
          -0.622007918365505,
          -1.3832887065960247,
          -0.1464507019555157,
          0.9247804199945364,
          -0.3725322353703732,
          1.9981594602766175,
          0.43981689535317464,
          -0.49277781121389697,
          0.6772854544316099,
          1.486354300327282,
          -0.637420521683839,
          2.0568573753754307,
          -0.8868690056370306,
          1.5858432506726274,
          1.320623104130732,
          0.4563862801805943,
          -0.7102397984248783,
          0.6184619574620405,
          0.7169408325343001,
          -0.8785864374339943,
          1.1008994902518687,
          0.04182201713864145,
          -1.061803767564098,
          0.17636113921243388,
          1.623468332145554,
          -0.5809327701965264,
          -0.9931841950582492,
          0.7437729657637542,
          0.16632066588824268,
          -0.2942612240366475,
          0.29113087525227405,
          -1.5114689808848765,
          0.5879362559074357,
          0.1472628815600322,
          0.4022516961002296,
          0.7318732691465115,
          0.5152549992744864,
          0.6365767015643818,
          0.6482701169564956,
          -1.2754722872090638,
          -1.1955015396021562,
          0.5656886761913047,
          0.03939547434135855,
          0.7249662624343363,
          1.4947618906234466,
          -0.5321267151039222,
          -1.7377902997804684,
          0.7442783246564179,
          2.2184977031906263,
          -0.4614451485401377,
          -1.4993519893677123,
          -0.6785631146633332,
          0.8507169019485555,
          0.5902981111307382,
          0.2648210009946313,
          0.5407071903145758,
          -0.2281290528195115,
          0.7434357784239422,
          0.01143562141734591,
          1.751156917152561,
          1.7942190563021307,
          0.2666915659692473,
          -0.06092297712201784,
          0.19291489162901268,
          -1.1180836083856287,
          -0.025184307538168887,
          1.0610407835427111,
          -0.10003364181806242,
          0.8189558427754416,
          0.18025491882043004,
          0.6241358000901407,
          -0.9920627995444932,
          -0.05724065011843744,
          -1.2295962744218014,
          -0.8067234157458383,
          0.2945242858462882,
          0.8786490866801401,
          -0.09943871929716257,
          -0.17705312959165395,
          0.0024459226340188774,
          0.2961740380115884,
          0.9253350872111563,
          -1.1213105991697025
         ],
         "yaxis": "y13"
        },
        {
         "line": {
          "color": "rgba(128, 128, 128, 1.0)",
          "dash": "solid",
          "shape": "linear",
          "width": 1.3
         },
         "marker": {
          "size": 2,
          "symbol": "circle"
         },
         "mode": "markers",
         "name": "D",
         "text": "",
         "type": "scatter",
         "x": [
          -0.2394652779549122,
          0.8512345364937773,
          0.41484812193021964,
          1.5370959350367674,
          -0.4927408965374319,
          -0.22100901165166023,
          -0.43193040335765653,
          -0.49336201857205314,
          0.5555084384448081,
          -0.5107093147117601,
          -0.3526308817252644,
          0.007489800734434926,
          -0.6003649263215223,
          -0.01278324946277747,
          0.2274406995260329,
          -1.0187156546487115,
          -0.4433447642506894,
          -0.3060049886332904,
          -0.11377838153924977,
          -0.08407790197866014,
          1.0464551062117906,
          -0.9799341186049836,
          -1.8537395580117801,
          0.6617221210672103,
          -0.683415999037852,
          -0.39479143980500403,
          -2.196804691822171,
          0.9829199829668247,
          -2.179151330999028,
          1.1392018545116072,
          -1.8420019494800435,
          -0.30038149675268744,
          0.008963551020868049,
          -0.06618101867302661,
          1.0674281027274761,
          0.7173822431325227,
          -1.9086449146501494,
          1.0205583203650004,
          2.23498872747899,
          -0.45259495728000726,
          0.574969471677332,
          0.6944603816242416,
          -0.12498725051976357,
          -1.8958418732899174,
          -0.6421631673722423,
          -0.38673076375729404,
          -0.3357083832660241,
          0.8998219397665486,
          -0.015392086889089685,
          -0.5026542206416671,
          -1.6951761221844877,
          1.6796828066716862,
          0.36604466437520533,
          -1.9183417290547082,
          0.4701078450355624,
          -0.19291943661795397,
          -0.7593893664030056,
          -0.6749441066899211,
          0.7479337658901685,
          1.1274218457436842,
          -0.43875091042622516,
          -1.8105231808183324,
          0.48444909587401636,
          -0.5055844310124634,
          -0.46194253142129044,
          0.52721385333185,
          0.33716747766588245,
          0.01697510334850516,
          -1.4034883679745767,
          0.29498065138194346,
          -1.641260866859968,
          -0.3542296235869637,
          -0.19241761771803673,
          -0.7587260159600041,
          0.37451144525510227,
          -1.2258116079566619,
          0.2842602520008746,
          -1.908327868761162,
          -0.8557696298768518,
          1.118002270580774,
          -1.4701377021951572,
          1.2765397042431867,
          0.3253134283901319,
          -0.6814381081251094,
          1.2397551256542891,
          0.5926331740445077,
          1.7231767023146967,
          0.18409964154272745,
          -0.5450931058141981,
          -0.17358078103870087,
          0.6888684372015913,
          1.281410412125775,
          0.49575937971724,
          0.0975145793536695,
          0.9673828187279973,
          2.168738376862383,
          -1.5611560382058942,
          3.352263014883978,
          -0.3147424815649832,
          1.0391922023113067
         ],
         "xaxis": "x14",
         "y": [
          0.13793858494096364,
          -1.0685110775796975,
          -0.997019024377318,
          1.3909456165642435,
          -0.38348155778987936,
          0.19761270911578754,
          -0.6127184229944498,
          0.676158383922949,
          0.061230254624065665,
          1.831582295066228,
          0.7531612748304229,
          1.063754260413047,
          2.5423817486925997,
          -2.3389720782980166,
          -0.5719145062360703,
          1.034895910559388,
          -0.04025943500023704,
          -0.622007918365505,
          -1.3832887065960247,
          -0.1464507019555157,
          0.9247804199945364,
          -0.3725322353703732,
          1.9981594602766175,
          0.43981689535317464,
          -0.49277781121389697,
          0.6772854544316099,
          1.486354300327282,
          -0.637420521683839,
          2.0568573753754307,
          -0.8868690056370306,
          1.5858432506726274,
          1.320623104130732,
          0.4563862801805943,
          -0.7102397984248783,
          0.6184619574620405,
          0.7169408325343001,
          -0.8785864374339943,
          1.1008994902518687,
          0.04182201713864145,
          -1.061803767564098,
          0.17636113921243388,
          1.623468332145554,
          -0.5809327701965264,
          -0.9931841950582492,
          0.7437729657637542,
          0.16632066588824268,
          -0.2942612240366475,
          0.29113087525227405,
          -1.5114689808848765,
          0.5879362559074357,
          0.1472628815600322,
          0.4022516961002296,
          0.7318732691465115,
          0.5152549992744864,
          0.6365767015643818,
          0.6482701169564956,
          -1.2754722872090638,
          -1.1955015396021562,
          0.5656886761913047,
          0.03939547434135855,
          0.7249662624343363,
          1.4947618906234466,
          -0.5321267151039222,
          -1.7377902997804684,
          0.7442783246564179,
          2.2184977031906263,
          -0.4614451485401377,
          -1.4993519893677123,
          -0.6785631146633332,
          0.8507169019485555,
          0.5902981111307382,
          0.2648210009946313,
          0.5407071903145758,
          -0.2281290528195115,
          0.7434357784239422,
          0.01143562141734591,
          1.751156917152561,
          1.7942190563021307,
          0.2666915659692473,
          -0.06092297712201784,
          0.19291489162901268,
          -1.1180836083856287,
          -0.025184307538168887,
          1.0610407835427111,
          -0.10003364181806242,
          0.8189558427754416,
          0.18025491882043004,
          0.6241358000901407,
          -0.9920627995444932,
          -0.05724065011843744,
          -1.2295962744218014,
          -0.8067234157458383,
          0.2945242858462882,
          0.8786490866801401,
          -0.09943871929716257,
          -0.17705312959165395,
          0.0024459226340188774,
          0.2961740380115884,
          0.9253350872111563,
          -1.1213105991697025
         ],
         "yaxis": "y14"
        },
        {
         "line": {
          "color": "rgba(128, 128, 128, 1.0)",
          "dash": "solid",
          "shape": "linear",
          "width": 1.3
         },
         "marker": {
          "size": 2,
          "symbol": "circle"
         },
         "mode": "markers",
         "name": "D",
         "text": "",
         "type": "scatter",
         "x": [
          -1.8046358364834871,
          -1.7016081650865085,
          0.08588916010165494,
          1.4415246720834345,
          0.23707338397424654,
          0.04760113564180864,
          1.6494187102451814,
          -0.1335394569238713,
          1.673178815748656,
          0.587716238374656,
          -0.270167317688856,
          1.0108343021498616,
          0.18168666648433796,
          -1.593263523974709,
          -0.44708682377928705,
          0.7347384333261755,
          -0.5206862632044673,
          0.8058201487174185,
          0.33575543870730523,
          0.3998153028522259,
          -0.7779263211845607,
          -0.15069385638055013,
          -0.19814298388031,
          -0.6695039491784086,
          0.18719335143312335,
          0.2432000491944703,
          1.0239835419533434,
          0.17737331616854837,
          -0.31251283114193357,
          0.8092010218572524,
          1.9760784044324962,
          0.4507360550481009,
          0.019859889581720434,
          -1.0308529484770719,
          -0.041523138115277886,
          -2.583024529609364,
          0.8775446742538857,
          1.131147284523329,
          -0.8860862807680845,
          0.13813524507089245,
          0.586975384522734,
          0.612158291548976,
          -2.4357252622049175,
          0.2709088196249994,
          -1.050300287939844,
          -1.3936541807154117,
          -0.522657537256016,
          0.8626800250742529,
          0.1724419225858869,
          0.693836096042868,
          0.09995165969384592,
          1.243447704659744,
          -0.025147101742636787,
          -0.5941152195120954,
          -0.6297810032837157,
          0.3184235114914604,
          -0.7027056834801207,
          -1.0608216030262902,
          -0.05087218332717387,
          0.7616002261982439,
          -0.258033654280085,
          -0.09488984717788189,
          -1.702420208848687,
          -1.345180568981205,
          0.31537539082752286,
          -0.1227927434578786,
          -2.04519880927543,
          1.2326652562905906,
          -0.3260483556791499,
          -0.41078820252553605,
          0.4534573741720663,
          0.6660642909777231,
          0.6096456778055162,
          -1.8843747005349487,
          -0.6280920968701095,
          0.013579573409322563,
          0.58444009796342,
          -0.6402794156561158,
          -0.01005186015976698,
          0.6281954553420765,
          1.1150685521916508,
          -1.2724228866295084,
          0.06763903336292446,
          -0.3385196406335298,
          0.19690377471139772,
          0.6624552723679175,
          -1.634197524361951,
          1.2795673993059826,
          -2.0108289866705764,
          -0.6617508456314672,
          -0.5628128537404228,
          0.4430700127227428,
          -0.10268341417994102,
          -0.7691342517181959,
          1.5871320662099035,
          1.8657131155923175,
          1.4366840526476878,
          -1.012345686468915,
          -0.17099028201472255,
          1.5214133076671315
         ],
         "xaxis": "x15",
         "y": [
          0.13793858494096364,
          -1.0685110775796975,
          -0.997019024377318,
          1.3909456165642435,
          -0.38348155778987936,
          0.19761270911578754,
          -0.6127184229944498,
          0.676158383922949,
          0.061230254624065665,
          1.831582295066228,
          0.7531612748304229,
          1.063754260413047,
          2.5423817486925997,
          -2.3389720782980166,
          -0.5719145062360703,
          1.034895910559388,
          -0.04025943500023704,
          -0.622007918365505,
          -1.3832887065960247,
          -0.1464507019555157,
          0.9247804199945364,
          -0.3725322353703732,
          1.9981594602766175,
          0.43981689535317464,
          -0.49277781121389697,
          0.6772854544316099,
          1.486354300327282,
          -0.637420521683839,
          2.0568573753754307,
          -0.8868690056370306,
          1.5858432506726274,
          1.320623104130732,
          0.4563862801805943,
          -0.7102397984248783,
          0.6184619574620405,
          0.7169408325343001,
          -0.8785864374339943,
          1.1008994902518687,
          0.04182201713864145,
          -1.061803767564098,
          0.17636113921243388,
          1.623468332145554,
          -0.5809327701965264,
          -0.9931841950582492,
          0.7437729657637542,
          0.16632066588824268,
          -0.2942612240366475,
          0.29113087525227405,
          -1.5114689808848765,
          0.5879362559074357,
          0.1472628815600322,
          0.4022516961002296,
          0.7318732691465115,
          0.5152549992744864,
          0.6365767015643818,
          0.6482701169564956,
          -1.2754722872090638,
          -1.1955015396021562,
          0.5656886761913047,
          0.03939547434135855,
          0.7249662624343363,
          1.4947618906234466,
          -0.5321267151039222,
          -1.7377902997804684,
          0.7442783246564179,
          2.2184977031906263,
          -0.4614451485401377,
          -1.4993519893677123,
          -0.6785631146633332,
          0.8507169019485555,
          0.5902981111307382,
          0.2648210009946313,
          0.5407071903145758,
          -0.2281290528195115,
          0.7434357784239422,
          0.01143562141734591,
          1.751156917152561,
          1.7942190563021307,
          0.2666915659692473,
          -0.06092297712201784,
          0.19291489162901268,
          -1.1180836083856287,
          -0.025184307538168887,
          1.0610407835427111,
          -0.10003364181806242,
          0.8189558427754416,
          0.18025491882043004,
          0.6241358000901407,
          -0.9920627995444932,
          -0.05724065011843744,
          -1.2295962744218014,
          -0.8067234157458383,
          0.2945242858462882,
          0.8786490866801401,
          -0.09943871929716257,
          -0.17705312959165395,
          0.0024459226340188774,
          0.2961740380115884,
          0.9253350872111563,
          -1.1213105991697025
         ],
         "yaxis": "y15"
        },
        {
         "histfunc": "count",
         "histnorm": "",
         "marker": {
          "color": "rgba(128, 0, 128, 1.0)",
          "line": {
           "color": "#4D5663",
           "width": 1.3
          }
         },
         "name": "D",
         "nbinsx": 10,
         "opacity": 0.8,
         "orientation": "v",
         "type": "histogram",
         "x": [
          0.13793858494096364,
          -1.0685110775796975,
          -0.997019024377318,
          1.3909456165642435,
          -0.38348155778987936,
          0.19761270911578754,
          -0.6127184229944498,
          0.676158383922949,
          0.061230254624065665,
          1.831582295066228,
          0.7531612748304229,
          1.063754260413047,
          2.5423817486925997,
          -2.3389720782980166,
          -0.5719145062360703,
          1.034895910559388,
          -0.04025943500023704,
          -0.622007918365505,
          -1.3832887065960247,
          -0.1464507019555157,
          0.9247804199945364,
          -0.3725322353703732,
          1.9981594602766175,
          0.43981689535317464,
          -0.49277781121389697,
          0.6772854544316099,
          1.486354300327282,
          -0.637420521683839,
          2.0568573753754307,
          -0.8868690056370306,
          1.5858432506726274,
          1.320623104130732,
          0.4563862801805943,
          -0.7102397984248783,
          0.6184619574620405,
          0.7169408325343001,
          -0.8785864374339943,
          1.1008994902518687,
          0.04182201713864145,
          -1.061803767564098,
          0.17636113921243388,
          1.623468332145554,
          -0.5809327701965264,
          -0.9931841950582492,
          0.7437729657637542,
          0.16632066588824268,
          -0.2942612240366475,
          0.29113087525227405,
          -1.5114689808848765,
          0.5879362559074357,
          0.1472628815600322,
          0.4022516961002296,
          0.7318732691465115,
          0.5152549992744864,
          0.6365767015643818,
          0.6482701169564956,
          -1.2754722872090638,
          -1.1955015396021562,
          0.5656886761913047,
          0.03939547434135855,
          0.7249662624343363,
          1.4947618906234466,
          -0.5321267151039222,
          -1.7377902997804684,
          0.7442783246564179,
          2.2184977031906263,
          -0.4614451485401377,
          -1.4993519893677123,
          -0.6785631146633332,
          0.8507169019485555,
          0.5902981111307382,
          0.2648210009946313,
          0.5407071903145758,
          -0.2281290528195115,
          0.7434357784239422,
          0.01143562141734591,
          1.751156917152561,
          1.7942190563021307,
          0.2666915659692473,
          -0.06092297712201784,
          0.19291489162901268,
          -1.1180836083856287,
          -0.025184307538168887,
          1.0610407835427111,
          -0.10003364181806242,
          0.8189558427754416,
          0.18025491882043004,
          0.6241358000901407,
          -0.9920627995444932,
          -0.05724065011843744,
          -1.2295962744218014,
          -0.8067234157458383,
          0.2945242858462882,
          0.8786490866801401,
          -0.09943871929716257,
          -0.17705312959165395,
          0.0024459226340188774,
          0.2961740380115884,
          0.9253350872111563,
          -1.1213105991697025
         ],
         "xaxis": "x16",
         "yaxis": "y16"
        }
       ],
       "layout": {
        "bargap": 0.02,
        "legend": {
         "bgcolor": "#F5F6F9",
         "font": {
          "color": "#4D5663"
         }
        },
        "paper_bgcolor": "#F5F6F9",
        "plot_bgcolor": "#F5F6F9",
        "showlegend": false,
        "template": {
         "data": {
          "bar": [
           {
            "error_x": {
             "color": "#2a3f5f"
            },
            "error_y": {
             "color": "#2a3f5f"
            },
            "marker": {
             "line": {
              "color": "#E5ECF6",
              "width": 0.5
             }
            },
            "type": "bar"
           }
          ],
          "barpolar": [
           {
            "marker": {
             "line": {
              "color": "#E5ECF6",
              "width": 0.5
             }
            },
            "type": "barpolar"
           }
          ],
          "carpet": [
           {
            "aaxis": {
             "endlinecolor": "#2a3f5f",
             "gridcolor": "white",
             "linecolor": "white",
             "minorgridcolor": "white",
             "startlinecolor": "#2a3f5f"
            },
            "baxis": {
             "endlinecolor": "#2a3f5f",
             "gridcolor": "white",
             "linecolor": "white",
             "minorgridcolor": "white",
             "startlinecolor": "#2a3f5f"
            },
            "type": "carpet"
           }
          ],
          "choropleth": [
           {
            "colorbar": {
             "outlinewidth": 0,
             "ticks": ""
            },
            "type": "choropleth"
           }
          ],
          "contour": [
           {
            "colorbar": {
             "outlinewidth": 0,
             "ticks": ""
            },
            "colorscale": [
             [
              0,
              "#0d0887"
             ],
             [
              0.1111111111111111,
              "#46039f"
             ],
             [
              0.2222222222222222,
              "#7201a8"
             ],
             [
              0.3333333333333333,
              "#9c179e"
             ],
             [
              0.4444444444444444,
              "#bd3786"
             ],
             [
              0.5555555555555556,
              "#d8576b"
             ],
             [
              0.6666666666666666,
              "#ed7953"
             ],
             [
              0.7777777777777778,
              "#fb9f3a"
             ],
             [
              0.8888888888888888,
              "#fdca26"
             ],
             [
              1,
              "#f0f921"
             ]
            ],
            "type": "contour"
           }
          ],
          "contourcarpet": [
           {
            "colorbar": {
             "outlinewidth": 0,
             "ticks": ""
            },
            "type": "contourcarpet"
           }
          ],
          "heatmap": [
           {
            "colorbar": {
             "outlinewidth": 0,
             "ticks": ""
            },
            "colorscale": [
             [
              0,
              "#0d0887"
             ],
             [
              0.1111111111111111,
              "#46039f"
             ],
             [
              0.2222222222222222,
              "#7201a8"
             ],
             [
              0.3333333333333333,
              "#9c179e"
             ],
             [
              0.4444444444444444,
              "#bd3786"
             ],
             [
              0.5555555555555556,
              "#d8576b"
             ],
             [
              0.6666666666666666,
              "#ed7953"
             ],
             [
              0.7777777777777778,
              "#fb9f3a"
             ],
             [
              0.8888888888888888,
              "#fdca26"
             ],
             [
              1,
              "#f0f921"
             ]
            ],
            "type": "heatmap"
           }
          ],
          "heatmapgl": [
           {
            "colorbar": {
             "outlinewidth": 0,
             "ticks": ""
            },
            "colorscale": [
             [
              0,
              "#0d0887"
             ],
             [
              0.1111111111111111,
              "#46039f"
             ],
             [
              0.2222222222222222,
              "#7201a8"
             ],
             [
              0.3333333333333333,
              "#9c179e"
             ],
             [
              0.4444444444444444,
              "#bd3786"
             ],
             [
              0.5555555555555556,
              "#d8576b"
             ],
             [
              0.6666666666666666,
              "#ed7953"
             ],
             [
              0.7777777777777778,
              "#fb9f3a"
             ],
             [
              0.8888888888888888,
              "#fdca26"
             ],
             [
              1,
              "#f0f921"
             ]
            ],
            "type": "heatmapgl"
           }
          ],
          "histogram": [
           {
            "marker": {
             "colorbar": {
              "outlinewidth": 0,
              "ticks": ""
             }
            },
            "type": "histogram"
           }
          ],
          "histogram2d": [
           {
            "colorbar": {
             "outlinewidth": 0,
             "ticks": ""
            },
            "colorscale": [
             [
              0,
              "#0d0887"
             ],
             [
              0.1111111111111111,
              "#46039f"
             ],
             [
              0.2222222222222222,
              "#7201a8"
             ],
             [
              0.3333333333333333,
              "#9c179e"
             ],
             [
              0.4444444444444444,
              "#bd3786"
             ],
             [
              0.5555555555555556,
              "#d8576b"
             ],
             [
              0.6666666666666666,
              "#ed7953"
             ],
             [
              0.7777777777777778,
              "#fb9f3a"
             ],
             [
              0.8888888888888888,
              "#fdca26"
             ],
             [
              1,
              "#f0f921"
             ]
            ],
            "type": "histogram2d"
           }
          ],
          "histogram2dcontour": [
           {
            "colorbar": {
             "outlinewidth": 0,
             "ticks": ""
            },
            "colorscale": [
             [
              0,
              "#0d0887"
             ],
             [
              0.1111111111111111,
              "#46039f"
             ],
             [
              0.2222222222222222,
              "#7201a8"
             ],
             [
              0.3333333333333333,
              "#9c179e"
             ],
             [
              0.4444444444444444,
              "#bd3786"
             ],
             [
              0.5555555555555556,
              "#d8576b"
             ],
             [
              0.6666666666666666,
              "#ed7953"
             ],
             [
              0.7777777777777778,
              "#fb9f3a"
             ],
             [
              0.8888888888888888,
              "#fdca26"
             ],
             [
              1,
              "#f0f921"
             ]
            ],
            "type": "histogram2dcontour"
           }
          ],
          "mesh3d": [
           {
            "colorbar": {
             "outlinewidth": 0,
             "ticks": ""
            },
            "type": "mesh3d"
           }
          ],
          "parcoords": [
           {
            "line": {
             "colorbar": {
              "outlinewidth": 0,
              "ticks": ""
             }
            },
            "type": "parcoords"
           }
          ],
          "pie": [
           {
            "automargin": true,
            "type": "pie"
           }
          ],
          "scatter": [
           {
            "marker": {
             "colorbar": {
              "outlinewidth": 0,
              "ticks": ""
             }
            },
            "type": "scatter"
           }
          ],
          "scatter3d": [
           {
            "line": {
             "colorbar": {
              "outlinewidth": 0,
              "ticks": ""
             }
            },
            "marker": {
             "colorbar": {
              "outlinewidth": 0,
              "ticks": ""
             }
            },
            "type": "scatter3d"
           }
          ],
          "scattercarpet": [
           {
            "marker": {
             "colorbar": {
              "outlinewidth": 0,
              "ticks": ""
             }
            },
            "type": "scattercarpet"
           }
          ],
          "scattergeo": [
           {
            "marker": {
             "colorbar": {
              "outlinewidth": 0,
              "ticks": ""
             }
            },
            "type": "scattergeo"
           }
          ],
          "scattergl": [
           {
            "marker": {
             "colorbar": {
              "outlinewidth": 0,
              "ticks": ""
             }
            },
            "type": "scattergl"
           }
          ],
          "scattermapbox": [
           {
            "marker": {
             "colorbar": {
              "outlinewidth": 0,
              "ticks": ""
             }
            },
            "type": "scattermapbox"
           }
          ],
          "scatterpolar": [
           {
            "marker": {
             "colorbar": {
              "outlinewidth": 0,
              "ticks": ""
             }
            },
            "type": "scatterpolar"
           }
          ],
          "scatterpolargl": [
           {
            "marker": {
             "colorbar": {
              "outlinewidth": 0,
              "ticks": ""
             }
            },
            "type": "scatterpolargl"
           }
          ],
          "scatterternary": [
           {
            "marker": {
             "colorbar": {
              "outlinewidth": 0,
              "ticks": ""
             }
            },
            "type": "scatterternary"
           }
          ],
          "surface": [
           {
            "colorbar": {
             "outlinewidth": 0,
             "ticks": ""
            },
            "colorscale": [
             [
              0,
              "#0d0887"
             ],
             [
              0.1111111111111111,
              "#46039f"
             ],
             [
              0.2222222222222222,
              "#7201a8"
             ],
             [
              0.3333333333333333,
              "#9c179e"
             ],
             [
              0.4444444444444444,
              "#bd3786"
             ],
             [
              0.5555555555555556,
              "#d8576b"
             ],
             [
              0.6666666666666666,
              "#ed7953"
             ],
             [
              0.7777777777777778,
              "#fb9f3a"
             ],
             [
              0.8888888888888888,
              "#fdca26"
             ],
             [
              1,
              "#f0f921"
             ]
            ],
            "type": "surface"
           }
          ],
          "table": [
           {
            "cells": {
             "fill": {
              "color": "#EBF0F8"
             },
             "line": {
              "color": "white"
             }
            },
            "header": {
             "fill": {
              "color": "#C8D4E3"
             },
             "line": {
              "color": "white"
             }
            },
            "type": "table"
           }
          ]
         },
         "layout": {
          "annotationdefaults": {
           "arrowcolor": "#2a3f5f",
           "arrowhead": 0,
           "arrowwidth": 1
          },
          "coloraxis": {
           "colorbar": {
            "outlinewidth": 0,
            "ticks": ""
           }
          },
          "colorscale": {
           "diverging": [
            [
             0,
             "#8e0152"
            ],
            [
             0.1,
             "#c51b7d"
            ],
            [
             0.2,
             "#de77ae"
            ],
            [
             0.3,
             "#f1b6da"
            ],
            [
             0.4,
             "#fde0ef"
            ],
            [
             0.5,
             "#f7f7f7"
            ],
            [
             0.6,
             "#e6f5d0"
            ],
            [
             0.7,
             "#b8e186"
            ],
            [
             0.8,
             "#7fbc41"
            ],
            [
             0.9,
             "#4d9221"
            ],
            [
             1,
             "#276419"
            ]
           ],
           "sequential": [
            [
             0,
             "#0d0887"
            ],
            [
             0.1111111111111111,
             "#46039f"
            ],
            [
             0.2222222222222222,
             "#7201a8"
            ],
            [
             0.3333333333333333,
             "#9c179e"
            ],
            [
             0.4444444444444444,
             "#bd3786"
            ],
            [
             0.5555555555555556,
             "#d8576b"
            ],
            [
             0.6666666666666666,
             "#ed7953"
            ],
            [
             0.7777777777777778,
             "#fb9f3a"
            ],
            [
             0.8888888888888888,
             "#fdca26"
            ],
            [
             1,
             "#f0f921"
            ]
           ],
           "sequentialminus": [
            [
             0,
             "#0d0887"
            ],
            [
             0.1111111111111111,
             "#46039f"
            ],
            [
             0.2222222222222222,
             "#7201a8"
            ],
            [
             0.3333333333333333,
             "#9c179e"
            ],
            [
             0.4444444444444444,
             "#bd3786"
            ],
            [
             0.5555555555555556,
             "#d8576b"
            ],
            [
             0.6666666666666666,
             "#ed7953"
            ],
            [
             0.7777777777777778,
             "#fb9f3a"
            ],
            [
             0.8888888888888888,
             "#fdca26"
            ],
            [
             1,
             "#f0f921"
            ]
           ]
          },
          "colorway": [
           "#636efa",
           "#EF553B",
           "#00cc96",
           "#ab63fa",
           "#FFA15A",
           "#19d3f3",
           "#FF6692",
           "#B6E880",
           "#FF97FF",
           "#FECB52"
          ],
          "font": {
           "color": "#2a3f5f"
          },
          "geo": {
           "bgcolor": "white",
           "lakecolor": "white",
           "landcolor": "#E5ECF6",
           "showlakes": true,
           "showland": true,
           "subunitcolor": "white"
          },
          "hoverlabel": {
           "align": "left"
          },
          "hovermode": "closest",
          "mapbox": {
           "style": "light"
          },
          "paper_bgcolor": "white",
          "plot_bgcolor": "#E5ECF6",
          "polar": {
           "angularaxis": {
            "gridcolor": "white",
            "linecolor": "white",
            "ticks": ""
           },
           "bgcolor": "#E5ECF6",
           "radialaxis": {
            "gridcolor": "white",
            "linecolor": "white",
            "ticks": ""
           }
          },
          "scene": {
           "xaxis": {
            "backgroundcolor": "#E5ECF6",
            "gridcolor": "white",
            "gridwidth": 2,
            "linecolor": "white",
            "showbackground": true,
            "ticks": "",
            "zerolinecolor": "white"
           },
           "yaxis": {
            "backgroundcolor": "#E5ECF6",
            "gridcolor": "white",
            "gridwidth": 2,
            "linecolor": "white",
            "showbackground": true,
            "ticks": "",
            "zerolinecolor": "white"
           },
           "zaxis": {
            "backgroundcolor": "#E5ECF6",
            "gridcolor": "white",
            "gridwidth": 2,
            "linecolor": "white",
            "showbackground": true,
            "ticks": "",
            "zerolinecolor": "white"
           }
          },
          "shapedefaults": {
           "line": {
            "color": "#2a3f5f"
           }
          },
          "ternary": {
           "aaxis": {
            "gridcolor": "white",
            "linecolor": "white",
            "ticks": ""
           },
           "baxis": {
            "gridcolor": "white",
            "linecolor": "white",
            "ticks": ""
           },
           "bgcolor": "#E5ECF6",
           "caxis": {
            "gridcolor": "white",
            "linecolor": "white",
            "ticks": ""
           }
          },
          "title": {
           "x": 0.05
          },
          "xaxis": {
           "automargin": true,
           "gridcolor": "white",
           "linecolor": "white",
           "ticks": "",
           "title": {
            "standoff": 15
           },
           "zerolinecolor": "white",
           "zerolinewidth": 2
          },
          "yaxis": {
           "automargin": true,
           "gridcolor": "white",
           "linecolor": "white",
           "ticks": "",
           "title": {
            "standoff": 15
           },
           "zerolinecolor": "white",
           "zerolinewidth": 2
          }
         }
        },
        "title": {
         "font": {
          "color": "#4D5663"
         }
        },
        "xaxis": {
         "anchor": "y",
         "domain": [
          0,
          0.2125
         ],
         "gridcolor": "#E1E5ED",
         "showgrid": false,
         "tickfont": {
          "color": "#4D5663"
         },
         "title": {
          "font": {
           "color": "#4D5663"
          },
          "text": ""
         },
         "zerolinecolor": "#E1E5ED"
        },
        "xaxis10": {
         "anchor": "y10",
         "domain": [
          0.2625,
          0.475
         ],
         "gridcolor": "#E1E5ED",
         "showgrid": false,
         "tickfont": {
          "color": "#4D5663"
         },
         "title": {
          "font": {
           "color": "#4D5663"
          },
          "text": ""
         },
         "zerolinecolor": "#E1E5ED"
        },
        "xaxis11": {
         "anchor": "y11",
         "domain": [
          0.525,
          0.7375
         ],
         "gridcolor": "#E1E5ED",
         "showgrid": false,
         "tickfont": {
          "color": "#4D5663"
         },
         "title": {
          "font": {
           "color": "#4D5663"
          },
          "text": ""
         },
         "zerolinecolor": "#E1E5ED"
        },
        "xaxis12": {
         "anchor": "y12",
         "domain": [
          0.7875,
          1
         ],
         "gridcolor": "#E1E5ED",
         "showgrid": false,
         "tickfont": {
          "color": "#4D5663"
         },
         "title": {
          "font": {
           "color": "#4D5663"
          },
          "text": ""
         },
         "zerolinecolor": "#E1E5ED"
        },
        "xaxis13": {
         "anchor": "y13",
         "domain": [
          0,
          0.2125
         ],
         "gridcolor": "#E1E5ED",
         "showgrid": false,
         "tickfont": {
          "color": "#4D5663"
         },
         "title": {
          "font": {
           "color": "#4D5663"
          },
          "text": ""
         },
         "zerolinecolor": "#E1E5ED"
        },
        "xaxis14": {
         "anchor": "y14",
         "domain": [
          0.2625,
          0.475
         ],
         "gridcolor": "#E1E5ED",
         "showgrid": false,
         "tickfont": {
          "color": "#4D5663"
         },
         "title": {
          "font": {
           "color": "#4D5663"
          },
          "text": ""
         },
         "zerolinecolor": "#E1E5ED"
        },
        "xaxis15": {
         "anchor": "y15",
         "domain": [
          0.525,
          0.7375
         ],
         "gridcolor": "#E1E5ED",
         "showgrid": false,
         "tickfont": {
          "color": "#4D5663"
         },
         "title": {
          "font": {
           "color": "#4D5663"
          },
          "text": ""
         },
         "zerolinecolor": "#E1E5ED"
        },
        "xaxis16": {
         "anchor": "y16",
         "domain": [
          0.7875,
          1
         ],
         "gridcolor": "#E1E5ED",
         "showgrid": false,
         "tickfont": {
          "color": "#4D5663"
         },
         "title": {
          "font": {
           "color": "#4D5663"
          },
          "text": ""
         },
         "zerolinecolor": "#E1E5ED"
        },
        "xaxis2": {
         "anchor": "y2",
         "domain": [
          0.2625,
          0.475
         ],
         "gridcolor": "#E1E5ED",
         "showgrid": false,
         "tickfont": {
          "color": "#4D5663"
         },
         "title": {
          "font": {
           "color": "#4D5663"
          },
          "text": ""
         },
         "zerolinecolor": "#E1E5ED"
        },
        "xaxis3": {
         "anchor": "y3",
         "domain": [
          0.525,
          0.7375
         ],
         "gridcolor": "#E1E5ED",
         "showgrid": false,
         "tickfont": {
          "color": "#4D5663"
         },
         "title": {
          "font": {
           "color": "#4D5663"
          },
          "text": ""
         },
         "zerolinecolor": "#E1E5ED"
        },
        "xaxis4": {
         "anchor": "y4",
         "domain": [
          0.7875,
          1
         ],
         "gridcolor": "#E1E5ED",
         "showgrid": false,
         "tickfont": {
          "color": "#4D5663"
         },
         "title": {
          "font": {
           "color": "#4D5663"
          },
          "text": ""
         },
         "zerolinecolor": "#E1E5ED"
        },
        "xaxis5": {
         "anchor": "y5",
         "domain": [
          0,
          0.2125
         ],
         "gridcolor": "#E1E5ED",
         "showgrid": false,
         "tickfont": {
          "color": "#4D5663"
         },
         "title": {
          "font": {
           "color": "#4D5663"
          },
          "text": ""
         },
         "zerolinecolor": "#E1E5ED"
        },
        "xaxis6": {
         "anchor": "y6",
         "domain": [
          0.2625,
          0.475
         ],
         "gridcolor": "#E1E5ED",
         "showgrid": false,
         "tickfont": {
          "color": "#4D5663"
         },
         "title": {
          "font": {
           "color": "#4D5663"
          },
          "text": ""
         },
         "zerolinecolor": "#E1E5ED"
        },
        "xaxis7": {
         "anchor": "y7",
         "domain": [
          0.525,
          0.7375
         ],
         "gridcolor": "#E1E5ED",
         "showgrid": false,
         "tickfont": {
          "color": "#4D5663"
         },
         "title": {
          "font": {
           "color": "#4D5663"
          },
          "text": ""
         },
         "zerolinecolor": "#E1E5ED"
        },
        "xaxis8": {
         "anchor": "y8",
         "domain": [
          0.7875,
          1
         ],
         "gridcolor": "#E1E5ED",
         "showgrid": false,
         "tickfont": {
          "color": "#4D5663"
         },
         "title": {
          "font": {
           "color": "#4D5663"
          },
          "text": ""
         },
         "zerolinecolor": "#E1E5ED"
        },
        "xaxis9": {
         "anchor": "y9",
         "domain": [
          0,
          0.2125
         ],
         "gridcolor": "#E1E5ED",
         "showgrid": false,
         "tickfont": {
          "color": "#4D5663"
         },
         "title": {
          "font": {
           "color": "#4D5663"
          },
          "text": ""
         },
         "zerolinecolor": "#E1E5ED"
        },
        "yaxis": {
         "anchor": "x",
         "domain": [
          0.8025,
          1
         ],
         "gridcolor": "#E1E5ED",
         "showgrid": false,
         "tickfont": {
          "color": "#4D5663"
         },
         "title": {
          "font": {
           "color": "#4D5663"
          },
          "text": ""
         },
         "zerolinecolor": "#E1E5ED"
        },
        "yaxis10": {
         "anchor": "x10",
         "domain": [
          0.2675,
          0.465
         ],
         "gridcolor": "#E1E5ED",
         "showgrid": false,
         "tickfont": {
          "color": "#4D5663"
         },
         "title": {
          "font": {
           "color": "#4D5663"
          },
          "text": ""
         },
         "zerolinecolor": "#E1E5ED"
        },
        "yaxis11": {
         "anchor": "x11",
         "domain": [
          0.2675,
          0.465
         ],
         "gridcolor": "#E1E5ED",
         "showgrid": false,
         "tickfont": {
          "color": "#4D5663"
         },
         "title": {
          "font": {
           "color": "#4D5663"
          },
          "text": ""
         },
         "zerolinecolor": "#E1E5ED"
        },
        "yaxis12": {
         "anchor": "x12",
         "domain": [
          0.2675,
          0.465
         ],
         "gridcolor": "#E1E5ED",
         "showgrid": false,
         "tickfont": {
          "color": "#4D5663"
         },
         "title": {
          "font": {
           "color": "#4D5663"
          },
          "text": ""
         },
         "zerolinecolor": "#E1E5ED"
        },
        "yaxis13": {
         "anchor": "x13",
         "domain": [
          0,
          0.1975
         ],
         "gridcolor": "#E1E5ED",
         "showgrid": false,
         "tickfont": {
          "color": "#4D5663"
         },
         "title": {
          "font": {
           "color": "#4D5663"
          },
          "text": ""
         },
         "zerolinecolor": "#E1E5ED"
        },
        "yaxis14": {
         "anchor": "x14",
         "domain": [
          0,
          0.1975
         ],
         "gridcolor": "#E1E5ED",
         "showgrid": false,
         "tickfont": {
          "color": "#4D5663"
         },
         "title": {
          "font": {
           "color": "#4D5663"
          },
          "text": ""
         },
         "zerolinecolor": "#E1E5ED"
        },
        "yaxis15": {
         "anchor": "x15",
         "domain": [
          0,
          0.1975
         ],
         "gridcolor": "#E1E5ED",
         "showgrid": false,
         "tickfont": {
          "color": "#4D5663"
         },
         "title": {
          "font": {
           "color": "#4D5663"
          },
          "text": ""
         },
         "zerolinecolor": "#E1E5ED"
        },
        "yaxis16": {
         "anchor": "x16",
         "domain": [
          0,
          0.1975
         ],
         "gridcolor": "#E1E5ED",
         "showgrid": false,
         "tickfont": {
          "color": "#4D5663"
         },
         "title": {
          "font": {
           "color": "#4D5663"
          },
          "text": ""
         },
         "zerolinecolor": "#E1E5ED"
        },
        "yaxis2": {
         "anchor": "x2",
         "domain": [
          0.8025,
          1
         ],
         "gridcolor": "#E1E5ED",
         "showgrid": false,
         "tickfont": {
          "color": "#4D5663"
         },
         "title": {
          "font": {
           "color": "#4D5663"
          },
          "text": ""
         },
         "zerolinecolor": "#E1E5ED"
        },
        "yaxis3": {
         "anchor": "x3",
         "domain": [
          0.8025,
          1
         ],
         "gridcolor": "#E1E5ED",
         "showgrid": false,
         "tickfont": {
          "color": "#4D5663"
         },
         "title": {
          "font": {
           "color": "#4D5663"
          },
          "text": ""
         },
         "zerolinecolor": "#E1E5ED"
        },
        "yaxis4": {
         "anchor": "x4",
         "domain": [
          0.8025,
          1
         ],
         "gridcolor": "#E1E5ED",
         "showgrid": false,
         "tickfont": {
          "color": "#4D5663"
         },
         "title": {
          "font": {
           "color": "#4D5663"
          },
          "text": ""
         },
         "zerolinecolor": "#E1E5ED"
        },
        "yaxis5": {
         "anchor": "x5",
         "domain": [
          0.535,
          0.7325
         ],
         "gridcolor": "#E1E5ED",
         "showgrid": false,
         "tickfont": {
          "color": "#4D5663"
         },
         "title": {
          "font": {
           "color": "#4D5663"
          },
          "text": ""
         },
         "zerolinecolor": "#E1E5ED"
        },
        "yaxis6": {
         "anchor": "x6",
         "domain": [
          0.535,
          0.7325
         ],
         "gridcolor": "#E1E5ED",
         "showgrid": false,
         "tickfont": {
          "color": "#4D5663"
         },
         "title": {
          "font": {
           "color": "#4D5663"
          },
          "text": ""
         },
         "zerolinecolor": "#E1E5ED"
        },
        "yaxis7": {
         "anchor": "x7",
         "domain": [
          0.535,
          0.7325
         ],
         "gridcolor": "#E1E5ED",
         "showgrid": false,
         "tickfont": {
          "color": "#4D5663"
         },
         "title": {
          "font": {
           "color": "#4D5663"
          },
          "text": ""
         },
         "zerolinecolor": "#E1E5ED"
        },
        "yaxis8": {
         "anchor": "x8",
         "domain": [
          0.535,
          0.7325
         ],
         "gridcolor": "#E1E5ED",
         "showgrid": false,
         "tickfont": {
          "color": "#4D5663"
         },
         "title": {
          "font": {
           "color": "#4D5663"
          },
          "text": ""
         },
         "zerolinecolor": "#E1E5ED"
        },
        "yaxis9": {
         "anchor": "x9",
         "domain": [
          0.2675,
          0.465
         ],
         "gridcolor": "#E1E5ED",
         "showgrid": false,
         "tickfont": {
          "color": "#4D5663"
         },
         "title": {
          "font": {
           "color": "#4D5663"
          },
          "text": ""
         },
         "zerolinecolor": "#E1E5ED"
        }
       }
      },
      "text/html": [
       "<div>\n",
       "        \n",
       "        \n",
       "            <div id=\"efd478dd-6903-49df-b732-17183f133194\" class=\"plotly-graph-div\" style=\"height:525px; width:100%;\"></div>\n",
       "            <script type=\"text/javascript\">\n",
       "                require([\"plotly\"], function(Plotly) {\n",
       "                    window.PLOTLYENV=window.PLOTLYENV || {};\n",
       "                    window.PLOTLYENV.BASE_URL='https://plot.ly';\n",
       "                    \n",
       "                if (document.getElementById(\"efd478dd-6903-49df-b732-17183f133194\")) {\n",
       "                    Plotly.newPlot(\n",
       "                        'efd478dd-6903-49df-b732-17183f133194',\n",
       "                        [{\"histfunc\": \"count\", \"histnorm\": \"\", \"marker\": {\"color\": \"rgba(255, 153, 51, 1.0)\", \"line\": {\"color\": \"#4D5663\", \"width\": 1.3}}, \"name\": \"A\", \"nbinsx\": 10, \"opacity\": 0.8, \"orientation\": \"v\", \"type\": \"histogram\", \"x\": [1.573328711227588, -0.37852617950749295, 0.1768154975319591, -0.5991281059388813, 1.1755060314126213, 0.24964246226697667, 0.5956165871109731, 0.5612011071792405, 0.9180885799809175, 0.7571694210998187, 0.24715045119972137, -1.5270465043997787, -0.875374507933993, 1.2025748375755545, 0.6337638775037999, 1.4678420619686383, 0.45673265663204543, -0.26569229827179003, 1.1244514300144637, -0.3169066781827368, 2.3326670259694984, 1.1805682968753102, -0.41405314324567183, 0.3122201777837888, -1.4052653628429845, 0.31430633602741875, -0.20578869630339477, -0.60390031944842, 1.96339494742064, 1.6693550129021753, -1.334598303785486, -0.37781853819873823, -0.8894928657177164, -0.7543929174901841, -0.23210840072281078, -1.6901960833990382, 0.4512098555532659, -1.6840584805291572, 1.0458784516037567, 1.6664676824073386, -1.4401332275578733, 1.7114714420535877, -0.45865548617687163, 0.9505872085183176, -1.9421953084933026, 0.042733014352603314, -0.15414531364007927, 0.32915907886279877, -2.194460922754973, 0.015125890780444818, 0.2845835884595226, -0.3754901070103968, 0.2844539210618317, -0.12817785900037726, 0.2260420020459213, 0.10436446169541978, -1.945586652139439, -0.36503865639939936, -0.22404622351044057, -0.2153410058721476, 0.06278284613069145, 0.8788465708891683, -0.7227927973318916, 0.3973910025307887, -0.23934321011928952, 0.7710770602966287, 1.2068887478696722, 0.21170919633969837, 0.059892170735103015, -1.612452124677236, -0.8112259655549127, -1.370414490272464, -1.653881269326432, 1.4336987722728656, 0.3424580647461767, -0.47227829298318325, -1.6371862002778288, 0.1178252873274814, 0.6555856265155513, 0.5430554758356879, -0.10956656996215498, 1.0202118759670051, -0.24457257437156738, 0.6398275256663398, 0.35899461667070703, 0.9615922999069186, -1.8575346554006276, -0.8698442370442436, 0.6613226554534137, -1.9610775745970301, -1.7518253054808146, -0.4180919006194288, 0.7778364527179996, -0.44990921899945696, 0.9931689954464562, 1.297712985928407, -0.5451756655006744, -0.1959375376838416, 0.6051166858612246, -0.8677354795742439], \"xaxis\": \"x\", \"yaxis\": \"y\"}, {\"line\": {\"color\": \"rgba(128, 128, 128, 1.0)\", \"dash\": \"solid\", \"shape\": \"linear\", \"width\": 1.3}, \"marker\": {\"size\": 2, \"symbol\": \"circle\"}, \"mode\": \"markers\", \"name\": \"A\", \"text\": \"\", \"type\": \"scatter\", \"x\": [-0.2394652779549122, 0.8512345364937773, 0.41484812193021964, 1.5370959350367674, -0.4927408965374319, -0.22100901165166023, -0.43193040335765653, -0.49336201857205314, 0.5555084384448081, -0.5107093147117601, -0.3526308817252644, 0.007489800734434926, -0.6003649263215223, -0.01278324946277747, 0.2274406995260329, -1.0187156546487115, -0.4433447642506894, -0.3060049886332904, -0.11377838153924977, -0.08407790197866014, 1.0464551062117906, -0.9799341186049836, -1.8537395580117801, 0.6617221210672103, -0.683415999037852, -0.39479143980500403, -2.196804691822171, 0.9829199829668247, -2.179151330999028, 1.1392018545116072, -1.8420019494800435, -0.30038149675268744, 0.008963551020868049, -0.06618101867302661, 1.0674281027274761, 0.7173822431325227, -1.9086449146501494, 1.0205583203650004, 2.23498872747899, -0.45259495728000726, 0.574969471677332, 0.6944603816242416, -0.12498725051976357, -1.8958418732899174, -0.6421631673722423, -0.38673076375729404, -0.3357083832660241, 0.8998219397665486, -0.015392086889089685, -0.5026542206416671, -1.6951761221844877, 1.6796828066716862, 0.36604466437520533, -1.9183417290547082, 0.4701078450355624, -0.19291943661795397, -0.7593893664030056, -0.6749441066899211, 0.7479337658901685, 1.1274218457436842, -0.43875091042622516, -1.8105231808183324, 0.48444909587401636, -0.5055844310124634, -0.46194253142129044, 0.52721385333185, 0.33716747766588245, 0.01697510334850516, -1.4034883679745767, 0.29498065138194346, -1.641260866859968, -0.3542296235869637, -0.19241761771803673, -0.7587260159600041, 0.37451144525510227, -1.2258116079566619, 0.2842602520008746, -1.908327868761162, -0.8557696298768518, 1.118002270580774, -1.4701377021951572, 1.2765397042431867, 0.3253134283901319, -0.6814381081251094, 1.2397551256542891, 0.5926331740445077, 1.7231767023146967, 0.18409964154272745, -0.5450931058141981, -0.17358078103870087, 0.6888684372015913, 1.281410412125775, 0.49575937971724, 0.0975145793536695, 0.9673828187279973, 2.168738376862383, -1.5611560382058942, 3.352263014883978, -0.3147424815649832, 1.0391922023113067], \"xaxis\": \"x2\", \"y\": [1.573328711227588, -0.37852617950749295, 0.1768154975319591, -0.5991281059388813, 1.1755060314126213, 0.24964246226697667, 0.5956165871109731, 0.5612011071792405, 0.9180885799809175, 0.7571694210998187, 0.24715045119972137, -1.5270465043997787, -0.875374507933993, 1.2025748375755545, 0.6337638775037999, 1.4678420619686383, 0.45673265663204543, -0.26569229827179003, 1.1244514300144637, -0.3169066781827368, 2.3326670259694984, 1.1805682968753102, -0.41405314324567183, 0.3122201777837888, -1.4052653628429845, 0.31430633602741875, -0.20578869630339477, -0.60390031944842, 1.96339494742064, 1.6693550129021753, -1.334598303785486, -0.37781853819873823, -0.8894928657177164, -0.7543929174901841, -0.23210840072281078, -1.6901960833990382, 0.4512098555532659, -1.6840584805291572, 1.0458784516037567, 1.6664676824073386, -1.4401332275578733, 1.7114714420535877, -0.45865548617687163, 0.9505872085183176, -1.9421953084933026, 0.042733014352603314, -0.15414531364007927, 0.32915907886279877, -2.194460922754973, 0.015125890780444818, 0.2845835884595226, -0.3754901070103968, 0.2844539210618317, -0.12817785900037726, 0.2260420020459213, 0.10436446169541978, -1.945586652139439, -0.36503865639939936, -0.22404622351044057, -0.2153410058721476, 0.06278284613069145, 0.8788465708891683, -0.7227927973318916, 0.3973910025307887, -0.23934321011928952, 0.7710770602966287, 1.2068887478696722, 0.21170919633969837, 0.059892170735103015, -1.612452124677236, -0.8112259655549127, -1.370414490272464, -1.653881269326432, 1.4336987722728656, 0.3424580647461767, -0.47227829298318325, -1.6371862002778288, 0.1178252873274814, 0.6555856265155513, 0.5430554758356879, -0.10956656996215498, 1.0202118759670051, -0.24457257437156738, 0.6398275256663398, 0.35899461667070703, 0.9615922999069186, -1.8575346554006276, -0.8698442370442436, 0.6613226554534137, -1.9610775745970301, -1.7518253054808146, -0.4180919006194288, 0.7778364527179996, -0.44990921899945696, 0.9931689954464562, 1.297712985928407, -0.5451756655006744, -0.1959375376838416, 0.6051166858612246, -0.8677354795742439], \"yaxis\": \"y2\"}, {\"line\": {\"color\": \"rgba(128, 128, 128, 1.0)\", \"dash\": \"solid\", \"shape\": \"linear\", \"width\": 1.3}, \"marker\": {\"size\": 2, \"symbol\": \"circle\"}, \"mode\": \"markers\", \"name\": \"A\", \"text\": \"\", \"type\": \"scatter\", \"x\": [-1.8046358364834871, -1.7016081650865085, 0.08588916010165494, 1.4415246720834345, 0.23707338397424654, 0.04760113564180864, 1.6494187102451814, -0.1335394569238713, 1.673178815748656, 0.587716238374656, -0.270167317688856, 1.0108343021498616, 0.18168666648433796, -1.593263523974709, -0.44708682377928705, 0.7347384333261755, -0.5206862632044673, 0.8058201487174185, 0.33575543870730523, 0.3998153028522259, -0.7779263211845607, -0.15069385638055013, -0.19814298388031, -0.6695039491784086, 0.18719335143312335, 0.2432000491944703, 1.0239835419533434, 0.17737331616854837, -0.31251283114193357, 0.8092010218572524, 1.9760784044324962, 0.4507360550481009, 0.019859889581720434, -1.0308529484770719, -0.041523138115277886, -2.583024529609364, 0.8775446742538857, 1.131147284523329, -0.8860862807680845, 0.13813524507089245, 0.586975384522734, 0.612158291548976, -2.4357252622049175, 0.2709088196249994, -1.050300287939844, -1.3936541807154117, -0.522657537256016, 0.8626800250742529, 0.1724419225858869, 0.693836096042868, 0.09995165969384592, 1.243447704659744, -0.025147101742636787, -0.5941152195120954, -0.6297810032837157, 0.3184235114914604, -0.7027056834801207, -1.0608216030262902, -0.05087218332717387, 0.7616002261982439, -0.258033654280085, -0.09488984717788189, -1.702420208848687, -1.345180568981205, 0.31537539082752286, -0.1227927434578786, -2.04519880927543, 1.2326652562905906, -0.3260483556791499, -0.41078820252553605, 0.4534573741720663, 0.6660642909777231, 0.6096456778055162, -1.8843747005349487, -0.6280920968701095, 0.013579573409322563, 0.58444009796342, -0.6402794156561158, -0.01005186015976698, 0.6281954553420765, 1.1150685521916508, -1.2724228866295084, 0.06763903336292446, -0.3385196406335298, 0.19690377471139772, 0.6624552723679175, -1.634197524361951, 1.2795673993059826, -2.0108289866705764, -0.6617508456314672, -0.5628128537404228, 0.4430700127227428, -0.10268341417994102, -0.7691342517181959, 1.5871320662099035, 1.8657131155923175, 1.4366840526476878, -1.012345686468915, -0.17099028201472255, 1.5214133076671315], \"xaxis\": \"x3\", \"y\": [1.573328711227588, -0.37852617950749295, 0.1768154975319591, -0.5991281059388813, 1.1755060314126213, 0.24964246226697667, 0.5956165871109731, 0.5612011071792405, 0.9180885799809175, 0.7571694210998187, 0.24715045119972137, -1.5270465043997787, -0.875374507933993, 1.2025748375755545, 0.6337638775037999, 1.4678420619686383, 0.45673265663204543, -0.26569229827179003, 1.1244514300144637, -0.3169066781827368, 2.3326670259694984, 1.1805682968753102, -0.41405314324567183, 0.3122201777837888, -1.4052653628429845, 0.31430633602741875, -0.20578869630339477, -0.60390031944842, 1.96339494742064, 1.6693550129021753, -1.334598303785486, -0.37781853819873823, -0.8894928657177164, -0.7543929174901841, -0.23210840072281078, -1.6901960833990382, 0.4512098555532659, -1.6840584805291572, 1.0458784516037567, 1.6664676824073386, -1.4401332275578733, 1.7114714420535877, -0.45865548617687163, 0.9505872085183176, -1.9421953084933026, 0.042733014352603314, -0.15414531364007927, 0.32915907886279877, -2.194460922754973, 0.015125890780444818, 0.2845835884595226, -0.3754901070103968, 0.2844539210618317, -0.12817785900037726, 0.2260420020459213, 0.10436446169541978, -1.945586652139439, -0.36503865639939936, -0.22404622351044057, -0.2153410058721476, 0.06278284613069145, 0.8788465708891683, -0.7227927973318916, 0.3973910025307887, -0.23934321011928952, 0.7710770602966287, 1.2068887478696722, 0.21170919633969837, 0.059892170735103015, -1.612452124677236, -0.8112259655549127, -1.370414490272464, -1.653881269326432, 1.4336987722728656, 0.3424580647461767, -0.47227829298318325, -1.6371862002778288, 0.1178252873274814, 0.6555856265155513, 0.5430554758356879, -0.10956656996215498, 1.0202118759670051, -0.24457257437156738, 0.6398275256663398, 0.35899461667070703, 0.9615922999069186, -1.8575346554006276, -0.8698442370442436, 0.6613226554534137, -1.9610775745970301, -1.7518253054808146, -0.4180919006194288, 0.7778364527179996, -0.44990921899945696, 0.9931689954464562, 1.297712985928407, -0.5451756655006744, -0.1959375376838416, 0.6051166858612246, -0.8677354795742439], \"yaxis\": \"y3\"}, {\"line\": {\"color\": \"rgba(128, 128, 128, 1.0)\", \"dash\": \"solid\", \"shape\": \"linear\", \"width\": 1.3}, \"marker\": {\"size\": 2, \"symbol\": \"circle\"}, \"mode\": \"markers\", \"name\": \"A\", \"text\": \"\", \"type\": \"scatter\", \"x\": [0.13793858494096364, -1.0685110775796975, -0.997019024377318, 1.3909456165642435, -0.38348155778987936, 0.19761270911578754, -0.6127184229944498, 0.676158383922949, 0.061230254624065665, 1.831582295066228, 0.7531612748304229, 1.063754260413047, 2.5423817486925997, -2.3389720782980166, -0.5719145062360703, 1.034895910559388, -0.04025943500023704, -0.622007918365505, -1.3832887065960247, -0.1464507019555157, 0.9247804199945364, -0.3725322353703732, 1.9981594602766175, 0.43981689535317464, -0.49277781121389697, 0.6772854544316099, 1.486354300327282, -0.637420521683839, 2.0568573753754307, -0.8868690056370306, 1.5858432506726274, 1.320623104130732, 0.4563862801805943, -0.7102397984248783, 0.6184619574620405, 0.7169408325343001, -0.8785864374339943, 1.1008994902518687, 0.04182201713864145, -1.061803767564098, 0.17636113921243388, 1.623468332145554, -0.5809327701965264, -0.9931841950582492, 0.7437729657637542, 0.16632066588824268, -0.2942612240366475, 0.29113087525227405, -1.5114689808848765, 0.5879362559074357, 0.1472628815600322, 0.4022516961002296, 0.7318732691465115, 0.5152549992744864, 0.6365767015643818, 0.6482701169564956, -1.2754722872090638, -1.1955015396021562, 0.5656886761913047, 0.03939547434135855, 0.7249662624343363, 1.4947618906234466, -0.5321267151039222, -1.7377902997804684, 0.7442783246564179, 2.2184977031906263, -0.4614451485401377, -1.4993519893677123, -0.6785631146633332, 0.8507169019485555, 0.5902981111307382, 0.2648210009946313, 0.5407071903145758, -0.2281290528195115, 0.7434357784239422, 0.01143562141734591, 1.751156917152561, 1.7942190563021307, 0.2666915659692473, -0.06092297712201784, 0.19291489162901268, -1.1180836083856287, -0.025184307538168887, 1.0610407835427111, -0.10003364181806242, 0.8189558427754416, 0.18025491882043004, 0.6241358000901407, -0.9920627995444932, -0.05724065011843744, -1.2295962744218014, -0.8067234157458383, 0.2945242858462882, 0.8786490866801401, -0.09943871929716257, -0.17705312959165395, 0.0024459226340188774, 0.2961740380115884, 0.9253350872111563, -1.1213105991697025], \"xaxis\": \"x4\", \"y\": [1.573328711227588, -0.37852617950749295, 0.1768154975319591, -0.5991281059388813, 1.1755060314126213, 0.24964246226697667, 0.5956165871109731, 0.5612011071792405, 0.9180885799809175, 0.7571694210998187, 0.24715045119972137, -1.5270465043997787, -0.875374507933993, 1.2025748375755545, 0.6337638775037999, 1.4678420619686383, 0.45673265663204543, -0.26569229827179003, 1.1244514300144637, -0.3169066781827368, 2.3326670259694984, 1.1805682968753102, -0.41405314324567183, 0.3122201777837888, -1.4052653628429845, 0.31430633602741875, -0.20578869630339477, -0.60390031944842, 1.96339494742064, 1.6693550129021753, -1.334598303785486, -0.37781853819873823, -0.8894928657177164, -0.7543929174901841, -0.23210840072281078, -1.6901960833990382, 0.4512098555532659, -1.6840584805291572, 1.0458784516037567, 1.6664676824073386, -1.4401332275578733, 1.7114714420535877, -0.45865548617687163, 0.9505872085183176, -1.9421953084933026, 0.042733014352603314, -0.15414531364007927, 0.32915907886279877, -2.194460922754973, 0.015125890780444818, 0.2845835884595226, -0.3754901070103968, 0.2844539210618317, -0.12817785900037726, 0.2260420020459213, 0.10436446169541978, -1.945586652139439, -0.36503865639939936, -0.22404622351044057, -0.2153410058721476, 0.06278284613069145, 0.8788465708891683, -0.7227927973318916, 0.3973910025307887, -0.23934321011928952, 0.7710770602966287, 1.2068887478696722, 0.21170919633969837, 0.059892170735103015, -1.612452124677236, -0.8112259655549127, -1.370414490272464, -1.653881269326432, 1.4336987722728656, 0.3424580647461767, -0.47227829298318325, -1.6371862002778288, 0.1178252873274814, 0.6555856265155513, 0.5430554758356879, -0.10956656996215498, 1.0202118759670051, -0.24457257437156738, 0.6398275256663398, 0.35899461667070703, 0.9615922999069186, -1.8575346554006276, -0.8698442370442436, 0.6613226554534137, -1.9610775745970301, -1.7518253054808146, -0.4180919006194288, 0.7778364527179996, -0.44990921899945696, 0.9931689954464562, 1.297712985928407, -0.5451756655006744, -0.1959375376838416, 0.6051166858612246, -0.8677354795742439], \"yaxis\": \"y4\"}, {\"line\": {\"color\": \"rgba(128, 128, 128, 1.0)\", \"dash\": \"solid\", \"shape\": \"linear\", \"width\": 1.3}, \"marker\": {\"size\": 2, \"symbol\": \"circle\"}, \"mode\": \"markers\", \"name\": \"B\", \"text\": \"\", \"type\": \"scatter\", \"x\": [1.573328711227588, -0.37852617950749295, 0.1768154975319591, -0.5991281059388813, 1.1755060314126213, 0.24964246226697667, 0.5956165871109731, 0.5612011071792405, 0.9180885799809175, 0.7571694210998187, 0.24715045119972137, -1.5270465043997787, -0.875374507933993, 1.2025748375755545, 0.6337638775037999, 1.4678420619686383, 0.45673265663204543, -0.26569229827179003, 1.1244514300144637, -0.3169066781827368, 2.3326670259694984, 1.1805682968753102, -0.41405314324567183, 0.3122201777837888, -1.4052653628429845, 0.31430633602741875, -0.20578869630339477, -0.60390031944842, 1.96339494742064, 1.6693550129021753, -1.334598303785486, -0.37781853819873823, -0.8894928657177164, -0.7543929174901841, -0.23210840072281078, -1.6901960833990382, 0.4512098555532659, -1.6840584805291572, 1.0458784516037567, 1.6664676824073386, -1.4401332275578733, 1.7114714420535877, -0.45865548617687163, 0.9505872085183176, -1.9421953084933026, 0.042733014352603314, -0.15414531364007927, 0.32915907886279877, -2.194460922754973, 0.015125890780444818, 0.2845835884595226, -0.3754901070103968, 0.2844539210618317, -0.12817785900037726, 0.2260420020459213, 0.10436446169541978, -1.945586652139439, -0.36503865639939936, -0.22404622351044057, -0.2153410058721476, 0.06278284613069145, 0.8788465708891683, -0.7227927973318916, 0.3973910025307887, -0.23934321011928952, 0.7710770602966287, 1.2068887478696722, 0.21170919633969837, 0.059892170735103015, -1.612452124677236, -0.8112259655549127, -1.370414490272464, -1.653881269326432, 1.4336987722728656, 0.3424580647461767, -0.47227829298318325, -1.6371862002778288, 0.1178252873274814, 0.6555856265155513, 0.5430554758356879, -0.10956656996215498, 1.0202118759670051, -0.24457257437156738, 0.6398275256663398, 0.35899461667070703, 0.9615922999069186, -1.8575346554006276, -0.8698442370442436, 0.6613226554534137, -1.9610775745970301, -1.7518253054808146, -0.4180919006194288, 0.7778364527179996, -0.44990921899945696, 0.9931689954464562, 1.297712985928407, -0.5451756655006744, -0.1959375376838416, 0.6051166858612246, -0.8677354795742439], \"xaxis\": \"x5\", \"y\": [-0.2394652779549122, 0.8512345364937773, 0.41484812193021964, 1.5370959350367674, -0.4927408965374319, -0.22100901165166023, -0.43193040335765653, -0.49336201857205314, 0.5555084384448081, -0.5107093147117601, -0.3526308817252644, 0.007489800734434926, -0.6003649263215223, -0.01278324946277747, 0.2274406995260329, -1.0187156546487115, -0.4433447642506894, -0.3060049886332904, -0.11377838153924977, -0.08407790197866014, 1.0464551062117906, -0.9799341186049836, -1.8537395580117801, 0.6617221210672103, -0.683415999037852, -0.39479143980500403, -2.196804691822171, 0.9829199829668247, -2.179151330999028, 1.1392018545116072, -1.8420019494800435, -0.30038149675268744, 0.008963551020868049, -0.06618101867302661, 1.0674281027274761, 0.7173822431325227, -1.9086449146501494, 1.0205583203650004, 2.23498872747899, -0.45259495728000726, 0.574969471677332, 0.6944603816242416, -0.12498725051976357, -1.8958418732899174, -0.6421631673722423, -0.38673076375729404, -0.3357083832660241, 0.8998219397665486, -0.015392086889089685, -0.5026542206416671, -1.6951761221844877, 1.6796828066716862, 0.36604466437520533, -1.9183417290547082, 0.4701078450355624, -0.19291943661795397, -0.7593893664030056, -0.6749441066899211, 0.7479337658901685, 1.1274218457436842, -0.43875091042622516, -1.8105231808183324, 0.48444909587401636, -0.5055844310124634, -0.46194253142129044, 0.52721385333185, 0.33716747766588245, 0.01697510334850516, -1.4034883679745767, 0.29498065138194346, -1.641260866859968, -0.3542296235869637, -0.19241761771803673, -0.7587260159600041, 0.37451144525510227, -1.2258116079566619, 0.2842602520008746, -1.908327868761162, -0.8557696298768518, 1.118002270580774, -1.4701377021951572, 1.2765397042431867, 0.3253134283901319, -0.6814381081251094, 1.2397551256542891, 0.5926331740445077, 1.7231767023146967, 0.18409964154272745, -0.5450931058141981, -0.17358078103870087, 0.6888684372015913, 1.281410412125775, 0.49575937971724, 0.0975145793536695, 0.9673828187279973, 2.168738376862383, -1.5611560382058942, 3.352263014883978, -0.3147424815649832, 1.0391922023113067], \"yaxis\": \"y5\"}, {\"histfunc\": \"count\", \"histnorm\": \"\", \"marker\": {\"color\": \"rgba(55, 128, 191, 1.0)\", \"line\": {\"color\": \"#4D5663\", \"width\": 1.3}}, \"name\": \"B\", \"nbinsx\": 10, \"opacity\": 0.8, \"orientation\": \"v\", \"type\": \"histogram\", \"x\": [-0.2394652779549122, 0.8512345364937773, 0.41484812193021964, 1.5370959350367674, -0.4927408965374319, -0.22100901165166023, -0.43193040335765653, -0.49336201857205314, 0.5555084384448081, -0.5107093147117601, -0.3526308817252644, 0.007489800734434926, -0.6003649263215223, -0.01278324946277747, 0.2274406995260329, -1.0187156546487115, -0.4433447642506894, -0.3060049886332904, -0.11377838153924977, -0.08407790197866014, 1.0464551062117906, -0.9799341186049836, -1.8537395580117801, 0.6617221210672103, -0.683415999037852, -0.39479143980500403, -2.196804691822171, 0.9829199829668247, -2.179151330999028, 1.1392018545116072, -1.8420019494800435, -0.30038149675268744, 0.008963551020868049, -0.06618101867302661, 1.0674281027274761, 0.7173822431325227, -1.9086449146501494, 1.0205583203650004, 2.23498872747899, -0.45259495728000726, 0.574969471677332, 0.6944603816242416, -0.12498725051976357, -1.8958418732899174, -0.6421631673722423, -0.38673076375729404, -0.3357083832660241, 0.8998219397665486, -0.015392086889089685, -0.5026542206416671, -1.6951761221844877, 1.6796828066716862, 0.36604466437520533, -1.9183417290547082, 0.4701078450355624, -0.19291943661795397, -0.7593893664030056, -0.6749441066899211, 0.7479337658901685, 1.1274218457436842, -0.43875091042622516, -1.8105231808183324, 0.48444909587401636, -0.5055844310124634, -0.46194253142129044, 0.52721385333185, 0.33716747766588245, 0.01697510334850516, -1.4034883679745767, 0.29498065138194346, -1.641260866859968, -0.3542296235869637, -0.19241761771803673, -0.7587260159600041, 0.37451144525510227, -1.2258116079566619, 0.2842602520008746, -1.908327868761162, -0.8557696298768518, 1.118002270580774, -1.4701377021951572, 1.2765397042431867, 0.3253134283901319, -0.6814381081251094, 1.2397551256542891, 0.5926331740445077, 1.7231767023146967, 0.18409964154272745, -0.5450931058141981, -0.17358078103870087, 0.6888684372015913, 1.281410412125775, 0.49575937971724, 0.0975145793536695, 0.9673828187279973, 2.168738376862383, -1.5611560382058942, 3.352263014883978, -0.3147424815649832, 1.0391922023113067], \"xaxis\": \"x6\", \"yaxis\": \"y6\"}, {\"line\": {\"color\": \"rgba(128, 128, 128, 1.0)\", \"dash\": \"solid\", \"shape\": \"linear\", \"width\": 1.3}, \"marker\": {\"size\": 2, \"symbol\": \"circle\"}, \"mode\": \"markers\", \"name\": \"B\", \"text\": \"\", \"type\": \"scatter\", \"x\": [-1.8046358364834871, -1.7016081650865085, 0.08588916010165494, 1.4415246720834345, 0.23707338397424654, 0.04760113564180864, 1.6494187102451814, -0.1335394569238713, 1.673178815748656, 0.587716238374656, -0.270167317688856, 1.0108343021498616, 0.18168666648433796, -1.593263523974709, -0.44708682377928705, 0.7347384333261755, -0.5206862632044673, 0.8058201487174185, 0.33575543870730523, 0.3998153028522259, -0.7779263211845607, -0.15069385638055013, -0.19814298388031, -0.6695039491784086, 0.18719335143312335, 0.2432000491944703, 1.0239835419533434, 0.17737331616854837, -0.31251283114193357, 0.8092010218572524, 1.9760784044324962, 0.4507360550481009, 0.019859889581720434, -1.0308529484770719, -0.041523138115277886, -2.583024529609364, 0.8775446742538857, 1.131147284523329, -0.8860862807680845, 0.13813524507089245, 0.586975384522734, 0.612158291548976, -2.4357252622049175, 0.2709088196249994, -1.050300287939844, -1.3936541807154117, -0.522657537256016, 0.8626800250742529, 0.1724419225858869, 0.693836096042868, 0.09995165969384592, 1.243447704659744, -0.025147101742636787, -0.5941152195120954, -0.6297810032837157, 0.3184235114914604, -0.7027056834801207, -1.0608216030262902, -0.05087218332717387, 0.7616002261982439, -0.258033654280085, -0.09488984717788189, -1.702420208848687, -1.345180568981205, 0.31537539082752286, -0.1227927434578786, -2.04519880927543, 1.2326652562905906, -0.3260483556791499, -0.41078820252553605, 0.4534573741720663, 0.6660642909777231, 0.6096456778055162, -1.8843747005349487, -0.6280920968701095, 0.013579573409322563, 0.58444009796342, -0.6402794156561158, -0.01005186015976698, 0.6281954553420765, 1.1150685521916508, -1.2724228866295084, 0.06763903336292446, -0.3385196406335298, 0.19690377471139772, 0.6624552723679175, -1.634197524361951, 1.2795673993059826, -2.0108289866705764, -0.6617508456314672, -0.5628128537404228, 0.4430700127227428, -0.10268341417994102, -0.7691342517181959, 1.5871320662099035, 1.8657131155923175, 1.4366840526476878, -1.012345686468915, -0.17099028201472255, 1.5214133076671315], \"xaxis\": \"x7\", \"y\": [-0.2394652779549122, 0.8512345364937773, 0.41484812193021964, 1.5370959350367674, -0.4927408965374319, -0.22100901165166023, -0.43193040335765653, -0.49336201857205314, 0.5555084384448081, -0.5107093147117601, -0.3526308817252644, 0.007489800734434926, -0.6003649263215223, -0.01278324946277747, 0.2274406995260329, -1.0187156546487115, -0.4433447642506894, -0.3060049886332904, -0.11377838153924977, -0.08407790197866014, 1.0464551062117906, -0.9799341186049836, -1.8537395580117801, 0.6617221210672103, -0.683415999037852, -0.39479143980500403, -2.196804691822171, 0.9829199829668247, -2.179151330999028, 1.1392018545116072, -1.8420019494800435, -0.30038149675268744, 0.008963551020868049, -0.06618101867302661, 1.0674281027274761, 0.7173822431325227, -1.9086449146501494, 1.0205583203650004, 2.23498872747899, -0.45259495728000726, 0.574969471677332, 0.6944603816242416, -0.12498725051976357, -1.8958418732899174, -0.6421631673722423, -0.38673076375729404, -0.3357083832660241, 0.8998219397665486, -0.015392086889089685, -0.5026542206416671, -1.6951761221844877, 1.6796828066716862, 0.36604466437520533, -1.9183417290547082, 0.4701078450355624, -0.19291943661795397, -0.7593893664030056, -0.6749441066899211, 0.7479337658901685, 1.1274218457436842, -0.43875091042622516, -1.8105231808183324, 0.48444909587401636, -0.5055844310124634, -0.46194253142129044, 0.52721385333185, 0.33716747766588245, 0.01697510334850516, -1.4034883679745767, 0.29498065138194346, -1.641260866859968, -0.3542296235869637, -0.19241761771803673, -0.7587260159600041, 0.37451144525510227, -1.2258116079566619, 0.2842602520008746, -1.908327868761162, -0.8557696298768518, 1.118002270580774, -1.4701377021951572, 1.2765397042431867, 0.3253134283901319, -0.6814381081251094, 1.2397551256542891, 0.5926331740445077, 1.7231767023146967, 0.18409964154272745, -0.5450931058141981, -0.17358078103870087, 0.6888684372015913, 1.281410412125775, 0.49575937971724, 0.0975145793536695, 0.9673828187279973, 2.168738376862383, -1.5611560382058942, 3.352263014883978, -0.3147424815649832, 1.0391922023113067], \"yaxis\": \"y7\"}, {\"line\": {\"color\": \"rgba(128, 128, 128, 1.0)\", \"dash\": \"solid\", \"shape\": \"linear\", \"width\": 1.3}, \"marker\": {\"size\": 2, \"symbol\": \"circle\"}, \"mode\": \"markers\", \"name\": \"B\", \"text\": \"\", \"type\": \"scatter\", \"x\": [0.13793858494096364, -1.0685110775796975, -0.997019024377318, 1.3909456165642435, -0.38348155778987936, 0.19761270911578754, -0.6127184229944498, 0.676158383922949, 0.061230254624065665, 1.831582295066228, 0.7531612748304229, 1.063754260413047, 2.5423817486925997, -2.3389720782980166, -0.5719145062360703, 1.034895910559388, -0.04025943500023704, -0.622007918365505, -1.3832887065960247, -0.1464507019555157, 0.9247804199945364, -0.3725322353703732, 1.9981594602766175, 0.43981689535317464, -0.49277781121389697, 0.6772854544316099, 1.486354300327282, -0.637420521683839, 2.0568573753754307, -0.8868690056370306, 1.5858432506726274, 1.320623104130732, 0.4563862801805943, -0.7102397984248783, 0.6184619574620405, 0.7169408325343001, -0.8785864374339943, 1.1008994902518687, 0.04182201713864145, -1.061803767564098, 0.17636113921243388, 1.623468332145554, -0.5809327701965264, -0.9931841950582492, 0.7437729657637542, 0.16632066588824268, -0.2942612240366475, 0.29113087525227405, -1.5114689808848765, 0.5879362559074357, 0.1472628815600322, 0.4022516961002296, 0.7318732691465115, 0.5152549992744864, 0.6365767015643818, 0.6482701169564956, -1.2754722872090638, -1.1955015396021562, 0.5656886761913047, 0.03939547434135855, 0.7249662624343363, 1.4947618906234466, -0.5321267151039222, -1.7377902997804684, 0.7442783246564179, 2.2184977031906263, -0.4614451485401377, -1.4993519893677123, -0.6785631146633332, 0.8507169019485555, 0.5902981111307382, 0.2648210009946313, 0.5407071903145758, -0.2281290528195115, 0.7434357784239422, 0.01143562141734591, 1.751156917152561, 1.7942190563021307, 0.2666915659692473, -0.06092297712201784, 0.19291489162901268, -1.1180836083856287, -0.025184307538168887, 1.0610407835427111, -0.10003364181806242, 0.8189558427754416, 0.18025491882043004, 0.6241358000901407, -0.9920627995444932, -0.05724065011843744, -1.2295962744218014, -0.8067234157458383, 0.2945242858462882, 0.8786490866801401, -0.09943871929716257, -0.17705312959165395, 0.0024459226340188774, 0.2961740380115884, 0.9253350872111563, -1.1213105991697025], \"xaxis\": \"x8\", \"y\": [-0.2394652779549122, 0.8512345364937773, 0.41484812193021964, 1.5370959350367674, -0.4927408965374319, -0.22100901165166023, -0.43193040335765653, -0.49336201857205314, 0.5555084384448081, -0.5107093147117601, -0.3526308817252644, 0.007489800734434926, -0.6003649263215223, -0.01278324946277747, 0.2274406995260329, -1.0187156546487115, -0.4433447642506894, -0.3060049886332904, -0.11377838153924977, -0.08407790197866014, 1.0464551062117906, -0.9799341186049836, -1.8537395580117801, 0.6617221210672103, -0.683415999037852, -0.39479143980500403, -2.196804691822171, 0.9829199829668247, -2.179151330999028, 1.1392018545116072, -1.8420019494800435, -0.30038149675268744, 0.008963551020868049, -0.06618101867302661, 1.0674281027274761, 0.7173822431325227, -1.9086449146501494, 1.0205583203650004, 2.23498872747899, -0.45259495728000726, 0.574969471677332, 0.6944603816242416, -0.12498725051976357, -1.8958418732899174, -0.6421631673722423, -0.38673076375729404, -0.3357083832660241, 0.8998219397665486, -0.015392086889089685, -0.5026542206416671, -1.6951761221844877, 1.6796828066716862, 0.36604466437520533, -1.9183417290547082, 0.4701078450355624, -0.19291943661795397, -0.7593893664030056, -0.6749441066899211, 0.7479337658901685, 1.1274218457436842, -0.43875091042622516, -1.8105231808183324, 0.48444909587401636, -0.5055844310124634, -0.46194253142129044, 0.52721385333185, 0.33716747766588245, 0.01697510334850516, -1.4034883679745767, 0.29498065138194346, -1.641260866859968, -0.3542296235869637, -0.19241761771803673, -0.7587260159600041, 0.37451144525510227, -1.2258116079566619, 0.2842602520008746, -1.908327868761162, -0.8557696298768518, 1.118002270580774, -1.4701377021951572, 1.2765397042431867, 0.3253134283901319, -0.6814381081251094, 1.2397551256542891, 0.5926331740445077, 1.7231767023146967, 0.18409964154272745, -0.5450931058141981, -0.17358078103870087, 0.6888684372015913, 1.281410412125775, 0.49575937971724, 0.0975145793536695, 0.9673828187279973, 2.168738376862383, -1.5611560382058942, 3.352263014883978, -0.3147424815649832, 1.0391922023113067], \"yaxis\": \"y8\"}, {\"line\": {\"color\": \"rgba(128, 128, 128, 1.0)\", \"dash\": \"solid\", \"shape\": \"linear\", \"width\": 1.3}, \"marker\": {\"size\": 2, \"symbol\": \"circle\"}, \"mode\": \"markers\", \"name\": \"C\", \"text\": \"\", \"type\": \"scatter\", \"x\": [1.573328711227588, -0.37852617950749295, 0.1768154975319591, -0.5991281059388813, 1.1755060314126213, 0.24964246226697667, 0.5956165871109731, 0.5612011071792405, 0.9180885799809175, 0.7571694210998187, 0.24715045119972137, -1.5270465043997787, -0.875374507933993, 1.2025748375755545, 0.6337638775037999, 1.4678420619686383, 0.45673265663204543, -0.26569229827179003, 1.1244514300144637, -0.3169066781827368, 2.3326670259694984, 1.1805682968753102, -0.41405314324567183, 0.3122201777837888, -1.4052653628429845, 0.31430633602741875, -0.20578869630339477, -0.60390031944842, 1.96339494742064, 1.6693550129021753, -1.334598303785486, -0.37781853819873823, -0.8894928657177164, -0.7543929174901841, -0.23210840072281078, -1.6901960833990382, 0.4512098555532659, -1.6840584805291572, 1.0458784516037567, 1.6664676824073386, -1.4401332275578733, 1.7114714420535877, -0.45865548617687163, 0.9505872085183176, -1.9421953084933026, 0.042733014352603314, -0.15414531364007927, 0.32915907886279877, -2.194460922754973, 0.015125890780444818, 0.2845835884595226, -0.3754901070103968, 0.2844539210618317, -0.12817785900037726, 0.2260420020459213, 0.10436446169541978, -1.945586652139439, -0.36503865639939936, -0.22404622351044057, -0.2153410058721476, 0.06278284613069145, 0.8788465708891683, -0.7227927973318916, 0.3973910025307887, -0.23934321011928952, 0.7710770602966287, 1.2068887478696722, 0.21170919633969837, 0.059892170735103015, -1.612452124677236, -0.8112259655549127, -1.370414490272464, -1.653881269326432, 1.4336987722728656, 0.3424580647461767, -0.47227829298318325, -1.6371862002778288, 0.1178252873274814, 0.6555856265155513, 0.5430554758356879, -0.10956656996215498, 1.0202118759670051, -0.24457257437156738, 0.6398275256663398, 0.35899461667070703, 0.9615922999069186, -1.8575346554006276, -0.8698442370442436, 0.6613226554534137, -1.9610775745970301, -1.7518253054808146, -0.4180919006194288, 0.7778364527179996, -0.44990921899945696, 0.9931689954464562, 1.297712985928407, -0.5451756655006744, -0.1959375376838416, 0.6051166858612246, -0.8677354795742439], \"xaxis\": \"x9\", \"y\": [-1.8046358364834871, -1.7016081650865085, 0.08588916010165494, 1.4415246720834345, 0.23707338397424654, 0.04760113564180864, 1.6494187102451814, -0.1335394569238713, 1.673178815748656, 0.587716238374656, -0.270167317688856, 1.0108343021498616, 0.18168666648433796, -1.593263523974709, -0.44708682377928705, 0.7347384333261755, -0.5206862632044673, 0.8058201487174185, 0.33575543870730523, 0.3998153028522259, -0.7779263211845607, -0.15069385638055013, -0.19814298388031, -0.6695039491784086, 0.18719335143312335, 0.2432000491944703, 1.0239835419533434, 0.17737331616854837, -0.31251283114193357, 0.8092010218572524, 1.9760784044324962, 0.4507360550481009, 0.019859889581720434, -1.0308529484770719, -0.041523138115277886, -2.583024529609364, 0.8775446742538857, 1.131147284523329, -0.8860862807680845, 0.13813524507089245, 0.586975384522734, 0.612158291548976, -2.4357252622049175, 0.2709088196249994, -1.050300287939844, -1.3936541807154117, -0.522657537256016, 0.8626800250742529, 0.1724419225858869, 0.693836096042868, 0.09995165969384592, 1.243447704659744, -0.025147101742636787, -0.5941152195120954, -0.6297810032837157, 0.3184235114914604, -0.7027056834801207, -1.0608216030262902, -0.05087218332717387, 0.7616002261982439, -0.258033654280085, -0.09488984717788189, -1.702420208848687, -1.345180568981205, 0.31537539082752286, -0.1227927434578786, -2.04519880927543, 1.2326652562905906, -0.3260483556791499, -0.41078820252553605, 0.4534573741720663, 0.6660642909777231, 0.6096456778055162, -1.8843747005349487, -0.6280920968701095, 0.013579573409322563, 0.58444009796342, -0.6402794156561158, -0.01005186015976698, 0.6281954553420765, 1.1150685521916508, -1.2724228866295084, 0.06763903336292446, -0.3385196406335298, 0.19690377471139772, 0.6624552723679175, -1.634197524361951, 1.2795673993059826, -2.0108289866705764, -0.6617508456314672, -0.5628128537404228, 0.4430700127227428, -0.10268341417994102, -0.7691342517181959, 1.5871320662099035, 1.8657131155923175, 1.4366840526476878, -1.012345686468915, -0.17099028201472255, 1.5214133076671315], \"yaxis\": \"y9\"}, {\"line\": {\"color\": \"rgba(128, 128, 128, 1.0)\", \"dash\": \"solid\", \"shape\": \"linear\", \"width\": 1.3}, \"marker\": {\"size\": 2, \"symbol\": \"circle\"}, \"mode\": \"markers\", \"name\": \"C\", \"text\": \"\", \"type\": \"scatter\", \"x\": [-0.2394652779549122, 0.8512345364937773, 0.41484812193021964, 1.5370959350367674, -0.4927408965374319, -0.22100901165166023, -0.43193040335765653, -0.49336201857205314, 0.5555084384448081, -0.5107093147117601, -0.3526308817252644, 0.007489800734434926, -0.6003649263215223, -0.01278324946277747, 0.2274406995260329, -1.0187156546487115, -0.4433447642506894, -0.3060049886332904, -0.11377838153924977, -0.08407790197866014, 1.0464551062117906, -0.9799341186049836, -1.8537395580117801, 0.6617221210672103, -0.683415999037852, -0.39479143980500403, -2.196804691822171, 0.9829199829668247, -2.179151330999028, 1.1392018545116072, -1.8420019494800435, -0.30038149675268744, 0.008963551020868049, -0.06618101867302661, 1.0674281027274761, 0.7173822431325227, -1.9086449146501494, 1.0205583203650004, 2.23498872747899, -0.45259495728000726, 0.574969471677332, 0.6944603816242416, -0.12498725051976357, -1.8958418732899174, -0.6421631673722423, -0.38673076375729404, -0.3357083832660241, 0.8998219397665486, -0.015392086889089685, -0.5026542206416671, -1.6951761221844877, 1.6796828066716862, 0.36604466437520533, -1.9183417290547082, 0.4701078450355624, -0.19291943661795397, -0.7593893664030056, -0.6749441066899211, 0.7479337658901685, 1.1274218457436842, -0.43875091042622516, -1.8105231808183324, 0.48444909587401636, -0.5055844310124634, -0.46194253142129044, 0.52721385333185, 0.33716747766588245, 0.01697510334850516, -1.4034883679745767, 0.29498065138194346, -1.641260866859968, -0.3542296235869637, -0.19241761771803673, -0.7587260159600041, 0.37451144525510227, -1.2258116079566619, 0.2842602520008746, -1.908327868761162, -0.8557696298768518, 1.118002270580774, -1.4701377021951572, 1.2765397042431867, 0.3253134283901319, -0.6814381081251094, 1.2397551256542891, 0.5926331740445077, 1.7231767023146967, 0.18409964154272745, -0.5450931058141981, -0.17358078103870087, 0.6888684372015913, 1.281410412125775, 0.49575937971724, 0.0975145793536695, 0.9673828187279973, 2.168738376862383, -1.5611560382058942, 3.352263014883978, -0.3147424815649832, 1.0391922023113067], \"xaxis\": \"x10\", \"y\": [-1.8046358364834871, -1.7016081650865085, 0.08588916010165494, 1.4415246720834345, 0.23707338397424654, 0.04760113564180864, 1.6494187102451814, -0.1335394569238713, 1.673178815748656, 0.587716238374656, -0.270167317688856, 1.0108343021498616, 0.18168666648433796, -1.593263523974709, -0.44708682377928705, 0.7347384333261755, -0.5206862632044673, 0.8058201487174185, 0.33575543870730523, 0.3998153028522259, -0.7779263211845607, -0.15069385638055013, -0.19814298388031, -0.6695039491784086, 0.18719335143312335, 0.2432000491944703, 1.0239835419533434, 0.17737331616854837, -0.31251283114193357, 0.8092010218572524, 1.9760784044324962, 0.4507360550481009, 0.019859889581720434, -1.0308529484770719, -0.041523138115277886, -2.583024529609364, 0.8775446742538857, 1.131147284523329, -0.8860862807680845, 0.13813524507089245, 0.586975384522734, 0.612158291548976, -2.4357252622049175, 0.2709088196249994, -1.050300287939844, -1.3936541807154117, -0.522657537256016, 0.8626800250742529, 0.1724419225858869, 0.693836096042868, 0.09995165969384592, 1.243447704659744, -0.025147101742636787, -0.5941152195120954, -0.6297810032837157, 0.3184235114914604, -0.7027056834801207, -1.0608216030262902, -0.05087218332717387, 0.7616002261982439, -0.258033654280085, -0.09488984717788189, -1.702420208848687, -1.345180568981205, 0.31537539082752286, -0.1227927434578786, -2.04519880927543, 1.2326652562905906, -0.3260483556791499, -0.41078820252553605, 0.4534573741720663, 0.6660642909777231, 0.6096456778055162, -1.8843747005349487, -0.6280920968701095, 0.013579573409322563, 0.58444009796342, -0.6402794156561158, -0.01005186015976698, 0.6281954553420765, 1.1150685521916508, -1.2724228866295084, 0.06763903336292446, -0.3385196406335298, 0.19690377471139772, 0.6624552723679175, -1.634197524361951, 1.2795673993059826, -2.0108289866705764, -0.6617508456314672, -0.5628128537404228, 0.4430700127227428, -0.10268341417994102, -0.7691342517181959, 1.5871320662099035, 1.8657131155923175, 1.4366840526476878, -1.012345686468915, -0.17099028201472255, 1.5214133076671315], \"yaxis\": \"y10\"}, {\"histfunc\": \"count\", \"histnorm\": \"\", \"marker\": {\"color\": \"rgba(50, 171, 96, 1.0)\", \"line\": {\"color\": \"#4D5663\", \"width\": 1.3}}, \"name\": \"C\", \"nbinsx\": 10, \"opacity\": 0.8, \"orientation\": \"v\", \"type\": \"histogram\", \"x\": [-1.8046358364834871, -1.7016081650865085, 0.08588916010165494, 1.4415246720834345, 0.23707338397424654, 0.04760113564180864, 1.6494187102451814, -0.1335394569238713, 1.673178815748656, 0.587716238374656, -0.270167317688856, 1.0108343021498616, 0.18168666648433796, -1.593263523974709, -0.44708682377928705, 0.7347384333261755, -0.5206862632044673, 0.8058201487174185, 0.33575543870730523, 0.3998153028522259, -0.7779263211845607, -0.15069385638055013, -0.19814298388031, -0.6695039491784086, 0.18719335143312335, 0.2432000491944703, 1.0239835419533434, 0.17737331616854837, -0.31251283114193357, 0.8092010218572524, 1.9760784044324962, 0.4507360550481009, 0.019859889581720434, -1.0308529484770719, -0.041523138115277886, -2.583024529609364, 0.8775446742538857, 1.131147284523329, -0.8860862807680845, 0.13813524507089245, 0.586975384522734, 0.612158291548976, -2.4357252622049175, 0.2709088196249994, -1.050300287939844, -1.3936541807154117, -0.522657537256016, 0.8626800250742529, 0.1724419225858869, 0.693836096042868, 0.09995165969384592, 1.243447704659744, -0.025147101742636787, -0.5941152195120954, -0.6297810032837157, 0.3184235114914604, -0.7027056834801207, -1.0608216030262902, -0.05087218332717387, 0.7616002261982439, -0.258033654280085, -0.09488984717788189, -1.702420208848687, -1.345180568981205, 0.31537539082752286, -0.1227927434578786, -2.04519880927543, 1.2326652562905906, -0.3260483556791499, -0.41078820252553605, 0.4534573741720663, 0.6660642909777231, 0.6096456778055162, -1.8843747005349487, -0.6280920968701095, 0.013579573409322563, 0.58444009796342, -0.6402794156561158, -0.01005186015976698, 0.6281954553420765, 1.1150685521916508, -1.2724228866295084, 0.06763903336292446, -0.3385196406335298, 0.19690377471139772, 0.6624552723679175, -1.634197524361951, 1.2795673993059826, -2.0108289866705764, -0.6617508456314672, -0.5628128537404228, 0.4430700127227428, -0.10268341417994102, -0.7691342517181959, 1.5871320662099035, 1.8657131155923175, 1.4366840526476878, -1.012345686468915, -0.17099028201472255, 1.5214133076671315], \"xaxis\": \"x11\", \"yaxis\": \"y11\"}, {\"line\": {\"color\": \"rgba(128, 128, 128, 1.0)\", \"dash\": \"solid\", \"shape\": \"linear\", \"width\": 1.3}, \"marker\": {\"size\": 2, \"symbol\": \"circle\"}, \"mode\": \"markers\", \"name\": \"C\", \"text\": \"\", \"type\": \"scatter\", \"x\": [0.13793858494096364, -1.0685110775796975, -0.997019024377318, 1.3909456165642435, -0.38348155778987936, 0.19761270911578754, -0.6127184229944498, 0.676158383922949, 0.061230254624065665, 1.831582295066228, 0.7531612748304229, 1.063754260413047, 2.5423817486925997, -2.3389720782980166, -0.5719145062360703, 1.034895910559388, -0.04025943500023704, -0.622007918365505, -1.3832887065960247, -0.1464507019555157, 0.9247804199945364, -0.3725322353703732, 1.9981594602766175, 0.43981689535317464, -0.49277781121389697, 0.6772854544316099, 1.486354300327282, -0.637420521683839, 2.0568573753754307, -0.8868690056370306, 1.5858432506726274, 1.320623104130732, 0.4563862801805943, -0.7102397984248783, 0.6184619574620405, 0.7169408325343001, -0.8785864374339943, 1.1008994902518687, 0.04182201713864145, -1.061803767564098, 0.17636113921243388, 1.623468332145554, -0.5809327701965264, -0.9931841950582492, 0.7437729657637542, 0.16632066588824268, -0.2942612240366475, 0.29113087525227405, -1.5114689808848765, 0.5879362559074357, 0.1472628815600322, 0.4022516961002296, 0.7318732691465115, 0.5152549992744864, 0.6365767015643818, 0.6482701169564956, -1.2754722872090638, -1.1955015396021562, 0.5656886761913047, 0.03939547434135855, 0.7249662624343363, 1.4947618906234466, -0.5321267151039222, -1.7377902997804684, 0.7442783246564179, 2.2184977031906263, -0.4614451485401377, -1.4993519893677123, -0.6785631146633332, 0.8507169019485555, 0.5902981111307382, 0.2648210009946313, 0.5407071903145758, -0.2281290528195115, 0.7434357784239422, 0.01143562141734591, 1.751156917152561, 1.7942190563021307, 0.2666915659692473, -0.06092297712201784, 0.19291489162901268, -1.1180836083856287, -0.025184307538168887, 1.0610407835427111, -0.10003364181806242, 0.8189558427754416, 0.18025491882043004, 0.6241358000901407, -0.9920627995444932, -0.05724065011843744, -1.2295962744218014, -0.8067234157458383, 0.2945242858462882, 0.8786490866801401, -0.09943871929716257, -0.17705312959165395, 0.0024459226340188774, 0.2961740380115884, 0.9253350872111563, -1.1213105991697025], \"xaxis\": \"x12\", \"y\": [-1.8046358364834871, -1.7016081650865085, 0.08588916010165494, 1.4415246720834345, 0.23707338397424654, 0.04760113564180864, 1.6494187102451814, -0.1335394569238713, 1.673178815748656, 0.587716238374656, -0.270167317688856, 1.0108343021498616, 0.18168666648433796, -1.593263523974709, -0.44708682377928705, 0.7347384333261755, -0.5206862632044673, 0.8058201487174185, 0.33575543870730523, 0.3998153028522259, -0.7779263211845607, -0.15069385638055013, -0.19814298388031, -0.6695039491784086, 0.18719335143312335, 0.2432000491944703, 1.0239835419533434, 0.17737331616854837, -0.31251283114193357, 0.8092010218572524, 1.9760784044324962, 0.4507360550481009, 0.019859889581720434, -1.0308529484770719, -0.041523138115277886, -2.583024529609364, 0.8775446742538857, 1.131147284523329, -0.8860862807680845, 0.13813524507089245, 0.586975384522734, 0.612158291548976, -2.4357252622049175, 0.2709088196249994, -1.050300287939844, -1.3936541807154117, -0.522657537256016, 0.8626800250742529, 0.1724419225858869, 0.693836096042868, 0.09995165969384592, 1.243447704659744, -0.025147101742636787, -0.5941152195120954, -0.6297810032837157, 0.3184235114914604, -0.7027056834801207, -1.0608216030262902, -0.05087218332717387, 0.7616002261982439, -0.258033654280085, -0.09488984717788189, -1.702420208848687, -1.345180568981205, 0.31537539082752286, -0.1227927434578786, -2.04519880927543, 1.2326652562905906, -0.3260483556791499, -0.41078820252553605, 0.4534573741720663, 0.6660642909777231, 0.6096456778055162, -1.8843747005349487, -0.6280920968701095, 0.013579573409322563, 0.58444009796342, -0.6402794156561158, -0.01005186015976698, 0.6281954553420765, 1.1150685521916508, -1.2724228866295084, 0.06763903336292446, -0.3385196406335298, 0.19690377471139772, 0.6624552723679175, -1.634197524361951, 1.2795673993059826, -2.0108289866705764, -0.6617508456314672, -0.5628128537404228, 0.4430700127227428, -0.10268341417994102, -0.7691342517181959, 1.5871320662099035, 1.8657131155923175, 1.4366840526476878, -1.012345686468915, -0.17099028201472255, 1.5214133076671315], \"yaxis\": \"y12\"}, {\"line\": {\"color\": \"rgba(128, 128, 128, 1.0)\", \"dash\": \"solid\", \"shape\": \"linear\", \"width\": 1.3}, \"marker\": {\"size\": 2, \"symbol\": \"circle\"}, \"mode\": \"markers\", \"name\": \"D\", \"text\": \"\", \"type\": \"scatter\", \"x\": [1.573328711227588, -0.37852617950749295, 0.1768154975319591, -0.5991281059388813, 1.1755060314126213, 0.24964246226697667, 0.5956165871109731, 0.5612011071792405, 0.9180885799809175, 0.7571694210998187, 0.24715045119972137, -1.5270465043997787, -0.875374507933993, 1.2025748375755545, 0.6337638775037999, 1.4678420619686383, 0.45673265663204543, -0.26569229827179003, 1.1244514300144637, -0.3169066781827368, 2.3326670259694984, 1.1805682968753102, -0.41405314324567183, 0.3122201777837888, -1.4052653628429845, 0.31430633602741875, -0.20578869630339477, -0.60390031944842, 1.96339494742064, 1.6693550129021753, -1.334598303785486, -0.37781853819873823, -0.8894928657177164, -0.7543929174901841, -0.23210840072281078, -1.6901960833990382, 0.4512098555532659, -1.6840584805291572, 1.0458784516037567, 1.6664676824073386, -1.4401332275578733, 1.7114714420535877, -0.45865548617687163, 0.9505872085183176, -1.9421953084933026, 0.042733014352603314, -0.15414531364007927, 0.32915907886279877, -2.194460922754973, 0.015125890780444818, 0.2845835884595226, -0.3754901070103968, 0.2844539210618317, -0.12817785900037726, 0.2260420020459213, 0.10436446169541978, -1.945586652139439, -0.36503865639939936, -0.22404622351044057, -0.2153410058721476, 0.06278284613069145, 0.8788465708891683, -0.7227927973318916, 0.3973910025307887, -0.23934321011928952, 0.7710770602966287, 1.2068887478696722, 0.21170919633969837, 0.059892170735103015, -1.612452124677236, -0.8112259655549127, -1.370414490272464, -1.653881269326432, 1.4336987722728656, 0.3424580647461767, -0.47227829298318325, -1.6371862002778288, 0.1178252873274814, 0.6555856265155513, 0.5430554758356879, -0.10956656996215498, 1.0202118759670051, -0.24457257437156738, 0.6398275256663398, 0.35899461667070703, 0.9615922999069186, -1.8575346554006276, -0.8698442370442436, 0.6613226554534137, -1.9610775745970301, -1.7518253054808146, -0.4180919006194288, 0.7778364527179996, -0.44990921899945696, 0.9931689954464562, 1.297712985928407, -0.5451756655006744, -0.1959375376838416, 0.6051166858612246, -0.8677354795742439], \"xaxis\": \"x13\", \"y\": [0.13793858494096364, -1.0685110775796975, -0.997019024377318, 1.3909456165642435, -0.38348155778987936, 0.19761270911578754, -0.6127184229944498, 0.676158383922949, 0.061230254624065665, 1.831582295066228, 0.7531612748304229, 1.063754260413047, 2.5423817486925997, -2.3389720782980166, -0.5719145062360703, 1.034895910559388, -0.04025943500023704, -0.622007918365505, -1.3832887065960247, -0.1464507019555157, 0.9247804199945364, -0.3725322353703732, 1.9981594602766175, 0.43981689535317464, -0.49277781121389697, 0.6772854544316099, 1.486354300327282, -0.637420521683839, 2.0568573753754307, -0.8868690056370306, 1.5858432506726274, 1.320623104130732, 0.4563862801805943, -0.7102397984248783, 0.6184619574620405, 0.7169408325343001, -0.8785864374339943, 1.1008994902518687, 0.04182201713864145, -1.061803767564098, 0.17636113921243388, 1.623468332145554, -0.5809327701965264, -0.9931841950582492, 0.7437729657637542, 0.16632066588824268, -0.2942612240366475, 0.29113087525227405, -1.5114689808848765, 0.5879362559074357, 0.1472628815600322, 0.4022516961002296, 0.7318732691465115, 0.5152549992744864, 0.6365767015643818, 0.6482701169564956, -1.2754722872090638, -1.1955015396021562, 0.5656886761913047, 0.03939547434135855, 0.7249662624343363, 1.4947618906234466, -0.5321267151039222, -1.7377902997804684, 0.7442783246564179, 2.2184977031906263, -0.4614451485401377, -1.4993519893677123, -0.6785631146633332, 0.8507169019485555, 0.5902981111307382, 0.2648210009946313, 0.5407071903145758, -0.2281290528195115, 0.7434357784239422, 0.01143562141734591, 1.751156917152561, 1.7942190563021307, 0.2666915659692473, -0.06092297712201784, 0.19291489162901268, -1.1180836083856287, -0.025184307538168887, 1.0610407835427111, -0.10003364181806242, 0.8189558427754416, 0.18025491882043004, 0.6241358000901407, -0.9920627995444932, -0.05724065011843744, -1.2295962744218014, -0.8067234157458383, 0.2945242858462882, 0.8786490866801401, -0.09943871929716257, -0.17705312959165395, 0.0024459226340188774, 0.2961740380115884, 0.9253350872111563, -1.1213105991697025], \"yaxis\": \"y13\"}, {\"line\": {\"color\": \"rgba(128, 128, 128, 1.0)\", \"dash\": \"solid\", \"shape\": \"linear\", \"width\": 1.3}, \"marker\": {\"size\": 2, \"symbol\": \"circle\"}, \"mode\": \"markers\", \"name\": \"D\", \"text\": \"\", \"type\": \"scatter\", \"x\": [-0.2394652779549122, 0.8512345364937773, 0.41484812193021964, 1.5370959350367674, -0.4927408965374319, -0.22100901165166023, -0.43193040335765653, -0.49336201857205314, 0.5555084384448081, -0.5107093147117601, -0.3526308817252644, 0.007489800734434926, -0.6003649263215223, -0.01278324946277747, 0.2274406995260329, -1.0187156546487115, -0.4433447642506894, -0.3060049886332904, -0.11377838153924977, -0.08407790197866014, 1.0464551062117906, -0.9799341186049836, -1.8537395580117801, 0.6617221210672103, -0.683415999037852, -0.39479143980500403, -2.196804691822171, 0.9829199829668247, -2.179151330999028, 1.1392018545116072, -1.8420019494800435, -0.30038149675268744, 0.008963551020868049, -0.06618101867302661, 1.0674281027274761, 0.7173822431325227, -1.9086449146501494, 1.0205583203650004, 2.23498872747899, -0.45259495728000726, 0.574969471677332, 0.6944603816242416, -0.12498725051976357, -1.8958418732899174, -0.6421631673722423, -0.38673076375729404, -0.3357083832660241, 0.8998219397665486, -0.015392086889089685, -0.5026542206416671, -1.6951761221844877, 1.6796828066716862, 0.36604466437520533, -1.9183417290547082, 0.4701078450355624, -0.19291943661795397, -0.7593893664030056, -0.6749441066899211, 0.7479337658901685, 1.1274218457436842, -0.43875091042622516, -1.8105231808183324, 0.48444909587401636, -0.5055844310124634, -0.46194253142129044, 0.52721385333185, 0.33716747766588245, 0.01697510334850516, -1.4034883679745767, 0.29498065138194346, -1.641260866859968, -0.3542296235869637, -0.19241761771803673, -0.7587260159600041, 0.37451144525510227, -1.2258116079566619, 0.2842602520008746, -1.908327868761162, -0.8557696298768518, 1.118002270580774, -1.4701377021951572, 1.2765397042431867, 0.3253134283901319, -0.6814381081251094, 1.2397551256542891, 0.5926331740445077, 1.7231767023146967, 0.18409964154272745, -0.5450931058141981, -0.17358078103870087, 0.6888684372015913, 1.281410412125775, 0.49575937971724, 0.0975145793536695, 0.9673828187279973, 2.168738376862383, -1.5611560382058942, 3.352263014883978, -0.3147424815649832, 1.0391922023113067], \"xaxis\": \"x14\", \"y\": [0.13793858494096364, -1.0685110775796975, -0.997019024377318, 1.3909456165642435, -0.38348155778987936, 0.19761270911578754, -0.6127184229944498, 0.676158383922949, 0.061230254624065665, 1.831582295066228, 0.7531612748304229, 1.063754260413047, 2.5423817486925997, -2.3389720782980166, -0.5719145062360703, 1.034895910559388, -0.04025943500023704, -0.622007918365505, -1.3832887065960247, -0.1464507019555157, 0.9247804199945364, -0.3725322353703732, 1.9981594602766175, 0.43981689535317464, -0.49277781121389697, 0.6772854544316099, 1.486354300327282, -0.637420521683839, 2.0568573753754307, -0.8868690056370306, 1.5858432506726274, 1.320623104130732, 0.4563862801805943, -0.7102397984248783, 0.6184619574620405, 0.7169408325343001, -0.8785864374339943, 1.1008994902518687, 0.04182201713864145, -1.061803767564098, 0.17636113921243388, 1.623468332145554, -0.5809327701965264, -0.9931841950582492, 0.7437729657637542, 0.16632066588824268, -0.2942612240366475, 0.29113087525227405, -1.5114689808848765, 0.5879362559074357, 0.1472628815600322, 0.4022516961002296, 0.7318732691465115, 0.5152549992744864, 0.6365767015643818, 0.6482701169564956, -1.2754722872090638, -1.1955015396021562, 0.5656886761913047, 0.03939547434135855, 0.7249662624343363, 1.4947618906234466, -0.5321267151039222, -1.7377902997804684, 0.7442783246564179, 2.2184977031906263, -0.4614451485401377, -1.4993519893677123, -0.6785631146633332, 0.8507169019485555, 0.5902981111307382, 0.2648210009946313, 0.5407071903145758, -0.2281290528195115, 0.7434357784239422, 0.01143562141734591, 1.751156917152561, 1.7942190563021307, 0.2666915659692473, -0.06092297712201784, 0.19291489162901268, -1.1180836083856287, -0.025184307538168887, 1.0610407835427111, -0.10003364181806242, 0.8189558427754416, 0.18025491882043004, 0.6241358000901407, -0.9920627995444932, -0.05724065011843744, -1.2295962744218014, -0.8067234157458383, 0.2945242858462882, 0.8786490866801401, -0.09943871929716257, -0.17705312959165395, 0.0024459226340188774, 0.2961740380115884, 0.9253350872111563, -1.1213105991697025], \"yaxis\": \"y14\"}, {\"line\": {\"color\": \"rgba(128, 128, 128, 1.0)\", \"dash\": \"solid\", \"shape\": \"linear\", \"width\": 1.3}, \"marker\": {\"size\": 2, \"symbol\": \"circle\"}, \"mode\": \"markers\", \"name\": \"D\", \"text\": \"\", \"type\": \"scatter\", \"x\": [-1.8046358364834871, -1.7016081650865085, 0.08588916010165494, 1.4415246720834345, 0.23707338397424654, 0.04760113564180864, 1.6494187102451814, -0.1335394569238713, 1.673178815748656, 0.587716238374656, -0.270167317688856, 1.0108343021498616, 0.18168666648433796, -1.593263523974709, -0.44708682377928705, 0.7347384333261755, -0.5206862632044673, 0.8058201487174185, 0.33575543870730523, 0.3998153028522259, -0.7779263211845607, -0.15069385638055013, -0.19814298388031, -0.6695039491784086, 0.18719335143312335, 0.2432000491944703, 1.0239835419533434, 0.17737331616854837, -0.31251283114193357, 0.8092010218572524, 1.9760784044324962, 0.4507360550481009, 0.019859889581720434, -1.0308529484770719, -0.041523138115277886, -2.583024529609364, 0.8775446742538857, 1.131147284523329, -0.8860862807680845, 0.13813524507089245, 0.586975384522734, 0.612158291548976, -2.4357252622049175, 0.2709088196249994, -1.050300287939844, -1.3936541807154117, -0.522657537256016, 0.8626800250742529, 0.1724419225858869, 0.693836096042868, 0.09995165969384592, 1.243447704659744, -0.025147101742636787, -0.5941152195120954, -0.6297810032837157, 0.3184235114914604, -0.7027056834801207, -1.0608216030262902, -0.05087218332717387, 0.7616002261982439, -0.258033654280085, -0.09488984717788189, -1.702420208848687, -1.345180568981205, 0.31537539082752286, -0.1227927434578786, -2.04519880927543, 1.2326652562905906, -0.3260483556791499, -0.41078820252553605, 0.4534573741720663, 0.6660642909777231, 0.6096456778055162, -1.8843747005349487, -0.6280920968701095, 0.013579573409322563, 0.58444009796342, -0.6402794156561158, -0.01005186015976698, 0.6281954553420765, 1.1150685521916508, -1.2724228866295084, 0.06763903336292446, -0.3385196406335298, 0.19690377471139772, 0.6624552723679175, -1.634197524361951, 1.2795673993059826, -2.0108289866705764, -0.6617508456314672, -0.5628128537404228, 0.4430700127227428, -0.10268341417994102, -0.7691342517181959, 1.5871320662099035, 1.8657131155923175, 1.4366840526476878, -1.012345686468915, -0.17099028201472255, 1.5214133076671315], \"xaxis\": \"x15\", \"y\": [0.13793858494096364, -1.0685110775796975, -0.997019024377318, 1.3909456165642435, -0.38348155778987936, 0.19761270911578754, -0.6127184229944498, 0.676158383922949, 0.061230254624065665, 1.831582295066228, 0.7531612748304229, 1.063754260413047, 2.5423817486925997, -2.3389720782980166, -0.5719145062360703, 1.034895910559388, -0.04025943500023704, -0.622007918365505, -1.3832887065960247, -0.1464507019555157, 0.9247804199945364, -0.3725322353703732, 1.9981594602766175, 0.43981689535317464, -0.49277781121389697, 0.6772854544316099, 1.486354300327282, -0.637420521683839, 2.0568573753754307, -0.8868690056370306, 1.5858432506726274, 1.320623104130732, 0.4563862801805943, -0.7102397984248783, 0.6184619574620405, 0.7169408325343001, -0.8785864374339943, 1.1008994902518687, 0.04182201713864145, -1.061803767564098, 0.17636113921243388, 1.623468332145554, -0.5809327701965264, -0.9931841950582492, 0.7437729657637542, 0.16632066588824268, -0.2942612240366475, 0.29113087525227405, -1.5114689808848765, 0.5879362559074357, 0.1472628815600322, 0.4022516961002296, 0.7318732691465115, 0.5152549992744864, 0.6365767015643818, 0.6482701169564956, -1.2754722872090638, -1.1955015396021562, 0.5656886761913047, 0.03939547434135855, 0.7249662624343363, 1.4947618906234466, -0.5321267151039222, -1.7377902997804684, 0.7442783246564179, 2.2184977031906263, -0.4614451485401377, -1.4993519893677123, -0.6785631146633332, 0.8507169019485555, 0.5902981111307382, 0.2648210009946313, 0.5407071903145758, -0.2281290528195115, 0.7434357784239422, 0.01143562141734591, 1.751156917152561, 1.7942190563021307, 0.2666915659692473, -0.06092297712201784, 0.19291489162901268, -1.1180836083856287, -0.025184307538168887, 1.0610407835427111, -0.10003364181806242, 0.8189558427754416, 0.18025491882043004, 0.6241358000901407, -0.9920627995444932, -0.05724065011843744, -1.2295962744218014, -0.8067234157458383, 0.2945242858462882, 0.8786490866801401, -0.09943871929716257, -0.17705312959165395, 0.0024459226340188774, 0.2961740380115884, 0.9253350872111563, -1.1213105991697025], \"yaxis\": \"y15\"}, {\"histfunc\": \"count\", \"histnorm\": \"\", \"marker\": {\"color\": \"rgba(128, 0, 128, 1.0)\", \"line\": {\"color\": \"#4D5663\", \"width\": 1.3}}, \"name\": \"D\", \"nbinsx\": 10, \"opacity\": 0.8, \"orientation\": \"v\", \"type\": \"histogram\", \"x\": [0.13793858494096364, -1.0685110775796975, -0.997019024377318, 1.3909456165642435, -0.38348155778987936, 0.19761270911578754, -0.6127184229944498, 0.676158383922949, 0.061230254624065665, 1.831582295066228, 0.7531612748304229, 1.063754260413047, 2.5423817486925997, -2.3389720782980166, -0.5719145062360703, 1.034895910559388, -0.04025943500023704, -0.622007918365505, -1.3832887065960247, -0.1464507019555157, 0.9247804199945364, -0.3725322353703732, 1.9981594602766175, 0.43981689535317464, -0.49277781121389697, 0.6772854544316099, 1.486354300327282, -0.637420521683839, 2.0568573753754307, -0.8868690056370306, 1.5858432506726274, 1.320623104130732, 0.4563862801805943, -0.7102397984248783, 0.6184619574620405, 0.7169408325343001, -0.8785864374339943, 1.1008994902518687, 0.04182201713864145, -1.061803767564098, 0.17636113921243388, 1.623468332145554, -0.5809327701965264, -0.9931841950582492, 0.7437729657637542, 0.16632066588824268, -0.2942612240366475, 0.29113087525227405, -1.5114689808848765, 0.5879362559074357, 0.1472628815600322, 0.4022516961002296, 0.7318732691465115, 0.5152549992744864, 0.6365767015643818, 0.6482701169564956, -1.2754722872090638, -1.1955015396021562, 0.5656886761913047, 0.03939547434135855, 0.7249662624343363, 1.4947618906234466, -0.5321267151039222, -1.7377902997804684, 0.7442783246564179, 2.2184977031906263, -0.4614451485401377, -1.4993519893677123, -0.6785631146633332, 0.8507169019485555, 0.5902981111307382, 0.2648210009946313, 0.5407071903145758, -0.2281290528195115, 0.7434357784239422, 0.01143562141734591, 1.751156917152561, 1.7942190563021307, 0.2666915659692473, -0.06092297712201784, 0.19291489162901268, -1.1180836083856287, -0.025184307538168887, 1.0610407835427111, -0.10003364181806242, 0.8189558427754416, 0.18025491882043004, 0.6241358000901407, -0.9920627995444932, -0.05724065011843744, -1.2295962744218014, -0.8067234157458383, 0.2945242858462882, 0.8786490866801401, -0.09943871929716257, -0.17705312959165395, 0.0024459226340188774, 0.2961740380115884, 0.9253350872111563, -1.1213105991697025], \"xaxis\": \"x16\", \"yaxis\": \"y16\"}],\n",
       "                        {\"bargap\": 0.02, \"legend\": {\"bgcolor\": \"#F5F6F9\", \"font\": {\"color\": \"#4D5663\"}}, \"paper_bgcolor\": \"#F5F6F9\", \"plot_bgcolor\": \"#F5F6F9\", \"showlegend\": false, \"template\": {\"data\": {\"bar\": [{\"error_x\": {\"color\": \"#2a3f5f\"}, \"error_y\": {\"color\": \"#2a3f5f\"}, \"marker\": {\"line\": {\"color\": \"#E5ECF6\", \"width\": 0.5}}, \"type\": \"bar\"}], \"barpolar\": [{\"marker\": {\"line\": {\"color\": \"#E5ECF6\", \"width\": 0.5}}, \"type\": \"barpolar\"}], \"carpet\": [{\"aaxis\": {\"endlinecolor\": \"#2a3f5f\", \"gridcolor\": \"white\", \"linecolor\": \"white\", \"minorgridcolor\": \"white\", \"startlinecolor\": \"#2a3f5f\"}, \"baxis\": {\"endlinecolor\": \"#2a3f5f\", \"gridcolor\": \"white\", \"linecolor\": \"white\", \"minorgridcolor\": \"white\", \"startlinecolor\": \"#2a3f5f\"}, \"type\": \"carpet\"}], \"choropleth\": [{\"colorbar\": {\"outlinewidth\": 0, \"ticks\": \"\"}, \"type\": \"choropleth\"}], \"contour\": [{\"colorbar\": {\"outlinewidth\": 0, \"ticks\": \"\"}, \"colorscale\": [[0.0, \"#0d0887\"], [0.1111111111111111, \"#46039f\"], [0.2222222222222222, \"#7201a8\"], [0.3333333333333333, \"#9c179e\"], [0.4444444444444444, \"#bd3786\"], [0.5555555555555556, \"#d8576b\"], [0.6666666666666666, \"#ed7953\"], [0.7777777777777778, \"#fb9f3a\"], [0.8888888888888888, \"#fdca26\"], [1.0, \"#f0f921\"]], \"type\": \"contour\"}], \"contourcarpet\": [{\"colorbar\": {\"outlinewidth\": 0, \"ticks\": \"\"}, \"type\": \"contourcarpet\"}], \"heatmap\": [{\"colorbar\": {\"outlinewidth\": 0, \"ticks\": \"\"}, \"colorscale\": [[0.0, \"#0d0887\"], [0.1111111111111111, \"#46039f\"], [0.2222222222222222, \"#7201a8\"], [0.3333333333333333, \"#9c179e\"], [0.4444444444444444, \"#bd3786\"], [0.5555555555555556, \"#d8576b\"], [0.6666666666666666, \"#ed7953\"], [0.7777777777777778, \"#fb9f3a\"], [0.8888888888888888, \"#fdca26\"], [1.0, \"#f0f921\"]], \"type\": \"heatmap\"}], \"heatmapgl\": [{\"colorbar\": {\"outlinewidth\": 0, \"ticks\": \"\"}, \"colorscale\": [[0.0, \"#0d0887\"], [0.1111111111111111, \"#46039f\"], [0.2222222222222222, \"#7201a8\"], [0.3333333333333333, \"#9c179e\"], [0.4444444444444444, \"#bd3786\"], [0.5555555555555556, \"#d8576b\"], [0.6666666666666666, \"#ed7953\"], [0.7777777777777778, \"#fb9f3a\"], [0.8888888888888888, \"#fdca26\"], [1.0, \"#f0f921\"]], \"type\": \"heatmapgl\"}], \"histogram\": [{\"marker\": {\"colorbar\": {\"outlinewidth\": 0, \"ticks\": \"\"}}, \"type\": \"histogram\"}], \"histogram2d\": [{\"colorbar\": {\"outlinewidth\": 0, \"ticks\": \"\"}, \"colorscale\": [[0.0, \"#0d0887\"], [0.1111111111111111, \"#46039f\"], [0.2222222222222222, \"#7201a8\"], [0.3333333333333333, \"#9c179e\"], [0.4444444444444444, \"#bd3786\"], [0.5555555555555556, \"#d8576b\"], [0.6666666666666666, \"#ed7953\"], [0.7777777777777778, \"#fb9f3a\"], [0.8888888888888888, \"#fdca26\"], [1.0, \"#f0f921\"]], \"type\": \"histogram2d\"}], \"histogram2dcontour\": [{\"colorbar\": {\"outlinewidth\": 0, \"ticks\": \"\"}, \"colorscale\": [[0.0, \"#0d0887\"], [0.1111111111111111, \"#46039f\"], [0.2222222222222222, \"#7201a8\"], [0.3333333333333333, \"#9c179e\"], [0.4444444444444444, \"#bd3786\"], [0.5555555555555556, \"#d8576b\"], [0.6666666666666666, \"#ed7953\"], [0.7777777777777778, \"#fb9f3a\"], [0.8888888888888888, \"#fdca26\"], [1.0, \"#f0f921\"]], \"type\": \"histogram2dcontour\"}], \"mesh3d\": [{\"colorbar\": {\"outlinewidth\": 0, \"ticks\": \"\"}, \"type\": \"mesh3d\"}], \"parcoords\": [{\"line\": {\"colorbar\": {\"outlinewidth\": 0, \"ticks\": \"\"}}, \"type\": \"parcoords\"}], \"pie\": [{\"automargin\": true, \"type\": \"pie\"}], \"scatter\": [{\"marker\": {\"colorbar\": {\"outlinewidth\": 0, \"ticks\": \"\"}}, \"type\": \"scatter\"}], \"scatter3d\": [{\"line\": {\"colorbar\": {\"outlinewidth\": 0, \"ticks\": \"\"}}, \"marker\": {\"colorbar\": {\"outlinewidth\": 0, \"ticks\": \"\"}}, \"type\": \"scatter3d\"}], \"scattercarpet\": [{\"marker\": {\"colorbar\": {\"outlinewidth\": 0, \"ticks\": \"\"}}, \"type\": \"scattercarpet\"}], \"scattergeo\": [{\"marker\": {\"colorbar\": {\"outlinewidth\": 0, \"ticks\": \"\"}}, \"type\": \"scattergeo\"}], \"scattergl\": [{\"marker\": {\"colorbar\": {\"outlinewidth\": 0, \"ticks\": \"\"}}, \"type\": \"scattergl\"}], \"scattermapbox\": [{\"marker\": {\"colorbar\": {\"outlinewidth\": 0, \"ticks\": \"\"}}, \"type\": \"scattermapbox\"}], \"scatterpolar\": [{\"marker\": {\"colorbar\": {\"outlinewidth\": 0, \"ticks\": \"\"}}, \"type\": \"scatterpolar\"}], \"scatterpolargl\": [{\"marker\": {\"colorbar\": {\"outlinewidth\": 0, \"ticks\": \"\"}}, \"type\": \"scatterpolargl\"}], \"scatterternary\": [{\"marker\": {\"colorbar\": {\"outlinewidth\": 0, \"ticks\": \"\"}}, \"type\": \"scatterternary\"}], \"surface\": [{\"colorbar\": {\"outlinewidth\": 0, \"ticks\": \"\"}, \"colorscale\": [[0.0, \"#0d0887\"], [0.1111111111111111, \"#46039f\"], [0.2222222222222222, \"#7201a8\"], [0.3333333333333333, \"#9c179e\"], [0.4444444444444444, \"#bd3786\"], [0.5555555555555556, \"#d8576b\"], [0.6666666666666666, \"#ed7953\"], [0.7777777777777778, \"#fb9f3a\"], [0.8888888888888888, \"#fdca26\"], [1.0, \"#f0f921\"]], \"type\": \"surface\"}], \"table\": [{\"cells\": {\"fill\": {\"color\": \"#EBF0F8\"}, \"line\": {\"color\": \"white\"}}, \"header\": {\"fill\": {\"color\": \"#C8D4E3\"}, \"line\": {\"color\": \"white\"}}, \"type\": \"table\"}]}, \"layout\": {\"annotationdefaults\": {\"arrowcolor\": \"#2a3f5f\", \"arrowhead\": 0, \"arrowwidth\": 1}, \"coloraxis\": {\"colorbar\": {\"outlinewidth\": 0, \"ticks\": \"\"}}, \"colorscale\": {\"diverging\": [[0, \"#8e0152\"], [0.1, \"#c51b7d\"], [0.2, \"#de77ae\"], [0.3, \"#f1b6da\"], [0.4, \"#fde0ef\"], [0.5, \"#f7f7f7\"], [0.6, \"#e6f5d0\"], [0.7, \"#b8e186\"], [0.8, \"#7fbc41\"], [0.9, \"#4d9221\"], [1, \"#276419\"]], \"sequential\": [[0.0, \"#0d0887\"], [0.1111111111111111, \"#46039f\"], [0.2222222222222222, \"#7201a8\"], [0.3333333333333333, \"#9c179e\"], [0.4444444444444444, \"#bd3786\"], [0.5555555555555556, \"#d8576b\"], [0.6666666666666666, \"#ed7953\"], [0.7777777777777778, \"#fb9f3a\"], [0.8888888888888888, \"#fdca26\"], [1.0, \"#f0f921\"]], \"sequentialminus\": [[0.0, \"#0d0887\"], [0.1111111111111111, \"#46039f\"], [0.2222222222222222, \"#7201a8\"], [0.3333333333333333, \"#9c179e\"], [0.4444444444444444, \"#bd3786\"], [0.5555555555555556, \"#d8576b\"], [0.6666666666666666, \"#ed7953\"], [0.7777777777777778, \"#fb9f3a\"], [0.8888888888888888, \"#fdca26\"], [1.0, \"#f0f921\"]]}, \"colorway\": [\"#636efa\", \"#EF553B\", \"#00cc96\", \"#ab63fa\", \"#FFA15A\", \"#19d3f3\", \"#FF6692\", \"#B6E880\", \"#FF97FF\", \"#FECB52\"], \"font\": {\"color\": \"#2a3f5f\"}, \"geo\": {\"bgcolor\": \"white\", \"lakecolor\": \"white\", \"landcolor\": \"#E5ECF6\", \"showlakes\": true, \"showland\": true, \"subunitcolor\": \"white\"}, \"hoverlabel\": {\"align\": \"left\"}, \"hovermode\": \"closest\", \"mapbox\": {\"style\": \"light\"}, \"paper_bgcolor\": \"white\", \"plot_bgcolor\": \"#E5ECF6\", \"polar\": {\"angularaxis\": {\"gridcolor\": \"white\", \"linecolor\": \"white\", \"ticks\": \"\"}, \"bgcolor\": \"#E5ECF6\", \"radialaxis\": {\"gridcolor\": \"white\", \"linecolor\": \"white\", \"ticks\": \"\"}}, \"scene\": {\"xaxis\": {\"backgroundcolor\": \"#E5ECF6\", \"gridcolor\": \"white\", \"gridwidth\": 2, \"linecolor\": \"white\", \"showbackground\": true, \"ticks\": \"\", \"zerolinecolor\": \"white\"}, \"yaxis\": {\"backgroundcolor\": \"#E5ECF6\", \"gridcolor\": \"white\", \"gridwidth\": 2, \"linecolor\": \"white\", \"showbackground\": true, \"ticks\": \"\", \"zerolinecolor\": \"white\"}, \"zaxis\": {\"backgroundcolor\": \"#E5ECF6\", \"gridcolor\": \"white\", \"gridwidth\": 2, \"linecolor\": \"white\", \"showbackground\": true, \"ticks\": \"\", \"zerolinecolor\": \"white\"}}, \"shapedefaults\": {\"line\": {\"color\": \"#2a3f5f\"}}, \"ternary\": {\"aaxis\": {\"gridcolor\": \"white\", \"linecolor\": \"white\", \"ticks\": \"\"}, \"baxis\": {\"gridcolor\": \"white\", \"linecolor\": \"white\", \"ticks\": \"\"}, \"bgcolor\": \"#E5ECF6\", \"caxis\": {\"gridcolor\": \"white\", \"linecolor\": \"white\", \"ticks\": \"\"}}, \"title\": {\"x\": 0.05}, \"xaxis\": {\"automargin\": true, \"gridcolor\": \"white\", \"linecolor\": \"white\", \"ticks\": \"\", \"title\": {\"standoff\": 15}, \"zerolinecolor\": \"white\", \"zerolinewidth\": 2}, \"yaxis\": {\"automargin\": true, \"gridcolor\": \"white\", \"linecolor\": \"white\", \"ticks\": \"\", \"title\": {\"standoff\": 15}, \"zerolinecolor\": \"white\", \"zerolinewidth\": 2}}}, \"title\": {\"font\": {\"color\": \"#4D5663\"}}, \"xaxis\": {\"anchor\": \"y\", \"domain\": [0.0, 0.2125], \"gridcolor\": \"#E1E5ED\", \"showgrid\": false, \"tickfont\": {\"color\": \"#4D5663\"}, \"title\": {\"font\": {\"color\": \"#4D5663\"}, \"text\": \"\"}, \"zerolinecolor\": \"#E1E5ED\"}, \"xaxis10\": {\"anchor\": \"y10\", \"domain\": [0.2625, 0.475], \"gridcolor\": \"#E1E5ED\", \"showgrid\": false, \"tickfont\": {\"color\": \"#4D5663\"}, \"title\": {\"font\": {\"color\": \"#4D5663\"}, \"text\": \"\"}, \"zerolinecolor\": \"#E1E5ED\"}, \"xaxis11\": {\"anchor\": \"y11\", \"domain\": [0.525, 0.7375], \"gridcolor\": \"#E1E5ED\", \"showgrid\": false, \"tickfont\": {\"color\": \"#4D5663\"}, \"title\": {\"font\": {\"color\": \"#4D5663\"}, \"text\": \"\"}, \"zerolinecolor\": \"#E1E5ED\"}, \"xaxis12\": {\"anchor\": \"y12\", \"domain\": [0.7875, 1.0], \"gridcolor\": \"#E1E5ED\", \"showgrid\": false, \"tickfont\": {\"color\": \"#4D5663\"}, \"title\": {\"font\": {\"color\": \"#4D5663\"}, \"text\": \"\"}, \"zerolinecolor\": \"#E1E5ED\"}, \"xaxis13\": {\"anchor\": \"y13\", \"domain\": [0.0, 0.2125], \"gridcolor\": \"#E1E5ED\", \"showgrid\": false, \"tickfont\": {\"color\": \"#4D5663\"}, \"title\": {\"font\": {\"color\": \"#4D5663\"}, \"text\": \"\"}, \"zerolinecolor\": \"#E1E5ED\"}, \"xaxis14\": {\"anchor\": \"y14\", \"domain\": [0.2625, 0.475], \"gridcolor\": \"#E1E5ED\", \"showgrid\": false, \"tickfont\": {\"color\": \"#4D5663\"}, \"title\": {\"font\": {\"color\": \"#4D5663\"}, \"text\": \"\"}, \"zerolinecolor\": \"#E1E5ED\"}, \"xaxis15\": {\"anchor\": \"y15\", \"domain\": [0.525, 0.7375], \"gridcolor\": \"#E1E5ED\", \"showgrid\": false, \"tickfont\": {\"color\": \"#4D5663\"}, \"title\": {\"font\": {\"color\": \"#4D5663\"}, \"text\": \"\"}, \"zerolinecolor\": \"#E1E5ED\"}, \"xaxis16\": {\"anchor\": \"y16\", \"domain\": [0.7875, 1.0], \"gridcolor\": \"#E1E5ED\", \"showgrid\": false, \"tickfont\": {\"color\": \"#4D5663\"}, \"title\": {\"font\": {\"color\": \"#4D5663\"}, \"text\": \"\"}, \"zerolinecolor\": \"#E1E5ED\"}, \"xaxis2\": {\"anchor\": \"y2\", \"domain\": [0.2625, 0.475], \"gridcolor\": \"#E1E5ED\", \"showgrid\": false, \"tickfont\": {\"color\": \"#4D5663\"}, \"title\": {\"font\": {\"color\": \"#4D5663\"}, \"text\": \"\"}, \"zerolinecolor\": \"#E1E5ED\"}, \"xaxis3\": {\"anchor\": \"y3\", \"domain\": [0.525, 0.7375], \"gridcolor\": \"#E1E5ED\", \"showgrid\": false, \"tickfont\": {\"color\": \"#4D5663\"}, \"title\": {\"font\": {\"color\": \"#4D5663\"}, \"text\": \"\"}, \"zerolinecolor\": \"#E1E5ED\"}, \"xaxis4\": {\"anchor\": \"y4\", \"domain\": [0.7875, 1.0], \"gridcolor\": \"#E1E5ED\", \"showgrid\": false, \"tickfont\": {\"color\": \"#4D5663\"}, \"title\": {\"font\": {\"color\": \"#4D5663\"}, \"text\": \"\"}, \"zerolinecolor\": \"#E1E5ED\"}, \"xaxis5\": {\"anchor\": \"y5\", \"domain\": [0.0, 0.2125], \"gridcolor\": \"#E1E5ED\", \"showgrid\": false, \"tickfont\": {\"color\": \"#4D5663\"}, \"title\": {\"font\": {\"color\": \"#4D5663\"}, \"text\": \"\"}, \"zerolinecolor\": \"#E1E5ED\"}, \"xaxis6\": {\"anchor\": \"y6\", \"domain\": [0.2625, 0.475], \"gridcolor\": \"#E1E5ED\", \"showgrid\": false, \"tickfont\": {\"color\": \"#4D5663\"}, \"title\": {\"font\": {\"color\": \"#4D5663\"}, \"text\": \"\"}, \"zerolinecolor\": \"#E1E5ED\"}, \"xaxis7\": {\"anchor\": \"y7\", \"domain\": [0.525, 0.7375], \"gridcolor\": \"#E1E5ED\", \"showgrid\": false, \"tickfont\": {\"color\": \"#4D5663\"}, \"title\": {\"font\": {\"color\": \"#4D5663\"}, \"text\": \"\"}, \"zerolinecolor\": \"#E1E5ED\"}, \"xaxis8\": {\"anchor\": \"y8\", \"domain\": [0.7875, 1.0], \"gridcolor\": \"#E1E5ED\", \"showgrid\": false, \"tickfont\": {\"color\": \"#4D5663\"}, \"title\": {\"font\": {\"color\": \"#4D5663\"}, \"text\": \"\"}, \"zerolinecolor\": \"#E1E5ED\"}, \"xaxis9\": {\"anchor\": \"y9\", \"domain\": [0.0, 0.2125], \"gridcolor\": \"#E1E5ED\", \"showgrid\": false, \"tickfont\": {\"color\": \"#4D5663\"}, \"title\": {\"font\": {\"color\": \"#4D5663\"}, \"text\": \"\"}, \"zerolinecolor\": \"#E1E5ED\"}, \"yaxis\": {\"anchor\": \"x\", \"domain\": [0.8025, 1.0], \"gridcolor\": \"#E1E5ED\", \"showgrid\": false, \"tickfont\": {\"color\": \"#4D5663\"}, \"title\": {\"font\": {\"color\": \"#4D5663\"}, \"text\": \"\"}, \"zerolinecolor\": \"#E1E5ED\"}, \"yaxis10\": {\"anchor\": \"x10\", \"domain\": [0.2675, 0.465], \"gridcolor\": \"#E1E5ED\", \"showgrid\": false, \"tickfont\": {\"color\": \"#4D5663\"}, \"title\": {\"font\": {\"color\": \"#4D5663\"}, \"text\": \"\"}, \"zerolinecolor\": \"#E1E5ED\"}, \"yaxis11\": {\"anchor\": \"x11\", \"domain\": [0.2675, 0.465], \"gridcolor\": \"#E1E5ED\", \"showgrid\": false, \"tickfont\": {\"color\": \"#4D5663\"}, \"title\": {\"font\": {\"color\": \"#4D5663\"}, \"text\": \"\"}, \"zerolinecolor\": \"#E1E5ED\"}, \"yaxis12\": {\"anchor\": \"x12\", \"domain\": [0.2675, 0.465], \"gridcolor\": \"#E1E5ED\", \"showgrid\": false, \"tickfont\": {\"color\": \"#4D5663\"}, \"title\": {\"font\": {\"color\": \"#4D5663\"}, \"text\": \"\"}, \"zerolinecolor\": \"#E1E5ED\"}, \"yaxis13\": {\"anchor\": \"x13\", \"domain\": [0.0, 0.1975], \"gridcolor\": \"#E1E5ED\", \"showgrid\": false, \"tickfont\": {\"color\": \"#4D5663\"}, \"title\": {\"font\": {\"color\": \"#4D5663\"}, \"text\": \"\"}, \"zerolinecolor\": \"#E1E5ED\"}, \"yaxis14\": {\"anchor\": \"x14\", \"domain\": [0.0, 0.1975], \"gridcolor\": \"#E1E5ED\", \"showgrid\": false, \"tickfont\": {\"color\": \"#4D5663\"}, \"title\": {\"font\": {\"color\": \"#4D5663\"}, \"text\": \"\"}, \"zerolinecolor\": \"#E1E5ED\"}, \"yaxis15\": {\"anchor\": \"x15\", \"domain\": [0.0, 0.1975], \"gridcolor\": \"#E1E5ED\", \"showgrid\": false, \"tickfont\": {\"color\": \"#4D5663\"}, \"title\": {\"font\": {\"color\": \"#4D5663\"}, \"text\": \"\"}, \"zerolinecolor\": \"#E1E5ED\"}, \"yaxis16\": {\"anchor\": \"x16\", \"domain\": [0.0, 0.1975], \"gridcolor\": \"#E1E5ED\", \"showgrid\": false, \"tickfont\": {\"color\": \"#4D5663\"}, \"title\": {\"font\": {\"color\": \"#4D5663\"}, \"text\": \"\"}, \"zerolinecolor\": \"#E1E5ED\"}, \"yaxis2\": {\"anchor\": \"x2\", \"domain\": [0.8025, 1.0], \"gridcolor\": \"#E1E5ED\", \"showgrid\": false, \"tickfont\": {\"color\": \"#4D5663\"}, \"title\": {\"font\": {\"color\": \"#4D5663\"}, \"text\": \"\"}, \"zerolinecolor\": \"#E1E5ED\"}, \"yaxis3\": {\"anchor\": \"x3\", \"domain\": [0.8025, 1.0], \"gridcolor\": \"#E1E5ED\", \"showgrid\": false, \"tickfont\": {\"color\": \"#4D5663\"}, \"title\": {\"font\": {\"color\": \"#4D5663\"}, \"text\": \"\"}, \"zerolinecolor\": \"#E1E5ED\"}, \"yaxis4\": {\"anchor\": \"x4\", \"domain\": [0.8025, 1.0], \"gridcolor\": \"#E1E5ED\", \"showgrid\": false, \"tickfont\": {\"color\": \"#4D5663\"}, \"title\": {\"font\": {\"color\": \"#4D5663\"}, \"text\": \"\"}, \"zerolinecolor\": \"#E1E5ED\"}, \"yaxis5\": {\"anchor\": \"x5\", \"domain\": [0.535, 0.7325], \"gridcolor\": \"#E1E5ED\", \"showgrid\": false, \"tickfont\": {\"color\": \"#4D5663\"}, \"title\": {\"font\": {\"color\": \"#4D5663\"}, \"text\": \"\"}, \"zerolinecolor\": \"#E1E5ED\"}, \"yaxis6\": {\"anchor\": \"x6\", \"domain\": [0.535, 0.7325], \"gridcolor\": \"#E1E5ED\", \"showgrid\": false, \"tickfont\": {\"color\": \"#4D5663\"}, \"title\": {\"font\": {\"color\": \"#4D5663\"}, \"text\": \"\"}, \"zerolinecolor\": \"#E1E5ED\"}, \"yaxis7\": {\"anchor\": \"x7\", \"domain\": [0.535, 0.7325], \"gridcolor\": \"#E1E5ED\", \"showgrid\": false, \"tickfont\": {\"color\": \"#4D5663\"}, \"title\": {\"font\": {\"color\": \"#4D5663\"}, \"text\": \"\"}, \"zerolinecolor\": \"#E1E5ED\"}, \"yaxis8\": {\"anchor\": \"x8\", \"domain\": [0.535, 0.7325], \"gridcolor\": \"#E1E5ED\", \"showgrid\": false, \"tickfont\": {\"color\": \"#4D5663\"}, \"title\": {\"font\": {\"color\": \"#4D5663\"}, \"text\": \"\"}, \"zerolinecolor\": \"#E1E5ED\"}, \"yaxis9\": {\"anchor\": \"x9\", \"domain\": [0.2675, 0.465], \"gridcolor\": \"#E1E5ED\", \"showgrid\": false, \"tickfont\": {\"color\": \"#4D5663\"}, \"title\": {\"font\": {\"color\": \"#4D5663\"}, \"text\": \"\"}, \"zerolinecolor\": \"#E1E5ED\"}},\n",
       "                        {\"showLink\": true, \"linkText\": \"Export to plot.ly\", \"plotlyServerURL\": \"https://plot.ly\", \"responsive\": true}\n",
       "                    ).then(function(){\n",
       "                            \n",
       "var gd = document.getElementById('efd478dd-6903-49df-b732-17183f133194');\n",
       "var x = new MutationObserver(function (mutations, observer) {{\n",
       "        var display = window.getComputedStyle(gd).display;\n",
       "        if (!display || display === 'none') {{\n",
       "            console.log([gd, 'removed!']);\n",
       "            Plotly.purge(gd);\n",
       "            observer.disconnect();\n",
       "        }}\n",
       "}});\n",
       "\n",
       "// Listen for the removal of the full notebook cells\n",
       "var notebookContainer = gd.closest('#notebook-container');\n",
       "if (notebookContainer) {{\n",
       "    x.observe(notebookContainer, {childList: true});\n",
       "}}\n",
       "\n",
       "// Listen for the clearing of the current output cell\n",
       "var outputEl = gd.closest('.output');\n",
       "if (outputEl) {{\n",
       "    x.observe(outputEl, {childList: true});\n",
       "}}\n",
       "\n",
       "                        })\n",
       "                };\n",
       "                });\n",
       "            </script>\n",
       "        </div>"
      ]
     },
     "metadata": {},
     "output_type": "display_data"
    }
   ],
   "source": [
    "df.scatter_matrix()"
   ]
  },
  {
   "cell_type": "markdown",
   "metadata": {
    "collapsed": true
   },
   "source": [
    "# Great Job!"
   ]
  }
 ],
 "metadata": {
  "kernelspec": {
   "display_name": "Python 3",
   "language": "python",
   "name": "python3"
  },
  "language_info": {
   "codemirror_mode": {
    "name": "ipython",
    "version": 3
   },
   "file_extension": ".py",
   "mimetype": "text/x-python",
   "name": "python",
   "nbconvert_exporter": "python",
   "pygments_lexer": "ipython3",
   "version": "3.7.7"
  }
 },
 "nbformat": 4,
 "nbformat_minor": 1
}
